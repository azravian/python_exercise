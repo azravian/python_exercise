{
 "cells": [
  {
   "cell_type": "markdown",
   "metadata": {},
   "source": [
    "# Handling Error and Exceptions\n",
    "\n",
    "When an error appears during runtime, the executions stops and programs crashes. <br>\n",
    "In order to keep our program from crashing, we need to handle these errors and exceptions effectively in order to ensure that our program run smoothly and do noy crash during runtime. This method is only used when there is no *Syntax Error*. <br>\n",
    "In python We can do this by using ``try-except``. The syntax is as follow:\n",
    "```` python\n",
    "try:\n",
    "    some_code()\n",
    "except:\n",
    "    some_other_code()\n",
    "````\n",
    "<br>\n",
    "\n",
    "Python interpreter ``try`` to execute the ``some_code()``, if some there is some exception or error, the interpreter stop execution and jumps into ``except`` block, and execute ``some_other_code()``.  For Example "
   ]
  },
  {
   "cell_type": "code",
   "execution_count": 1,
   "metadata": {},
   "outputs": [
    {
     "ename": "ZeroDivisionError",
     "evalue": "division by zero",
     "output_type": "error",
     "traceback": [
      "\u001b[1;31m---------------------------------------------------------------------------\u001b[0m",
      "\u001b[1;31mZeroDivisionError\u001b[0m                         Traceback (most recent call last)",
      "\u001b[1;32m<ipython-input-1-d01c29b1264a>\u001b[0m in \u001b[0;36m<module>\u001b[1;34m\u001b[0m\n\u001b[1;32m----> 1\u001b[1;33m \u001b[0mc\u001b[0m \u001b[1;33m=\u001b[0m \u001b[1;36m10\u001b[0m\u001b[1;33m/\u001b[0m\u001b[1;36m0\u001b[0m\u001b[1;33m\u001b[0m\u001b[1;33m\u001b[0m\u001b[0m\n\u001b[0m\u001b[0;32m      2\u001b[0m \u001b[0mprint\u001b[0m\u001b[1;33m(\u001b[0m\u001b[0mc\u001b[0m\u001b[1;33m)\u001b[0m\u001b[1;33m\u001b[0m\u001b[1;33m\u001b[0m\u001b[0m\n",
      "\u001b[1;31mZeroDivisionError\u001b[0m: division by zero"
     ]
    }
   ],
   "source": [
    "c = 10/0\n",
    "print(c)"
   ]
  },
  {
   "cell_type": "markdown",
   "metadata": {},
   "source": [
    "Clearly we cannot do division by zero and hence an ``exception`` is generated. In order to ``Handle`` this effectively, we can use ``try-except`` block."
   ]
  },
  {
   "cell_type": "code",
   "execution_count": 2,
   "metadata": {},
   "outputs": [
    {
     "name": "stdout",
     "output_type": "stream",
     "text": [
      "Exception is Handled.\n"
     ]
    }
   ],
   "source": [
    "try:\n",
    "    c = 10/0\n",
    "    print(c)\n",
    "except:\n",
    "    print(\"Exception is Handled.\")"
   ]
  },
  {
   "cell_type": "markdown",
   "metadata": {},
   "source": [
    "Instead of getting an error. We have a message which we specified in our except block. <br>\n",
    "For a each ``try``, there must be an ``except`` block, even if we don't want to print or do anything, we can simply ``pass`` it. \n",
    "Commonly a exception is *thrown* and *caught*. Whenever there is an error or problem, an exception is *thrown* and it has to be *caught* by except block.<br>\n",
    "And Just like a cricket-fielder should be good enough to catch a ball, a code must be good enough to *catch* exception.\n",
    "<br>\n",
    "In example above, we had specified nothing with a ``except`` and therefore whatever error is it will be *caught* by this block. For example:"
   ]
  },
  {
   "cell_type": "code",
   "execution_count": 4,
   "metadata": {},
   "outputs": [
    {
     "name": "stdout",
     "output_type": "stream",
     "text": [
      "Enter Number 1: 10\n",
      "Enter Number 2: 0\n",
      "Exception is Handled.\n"
     ]
    }
   ],
   "source": [
    "try:\n",
    "    a = int(input(\"Enter Number 1: \"))\n",
    "    b = int(input(\"Enter Number 2: \"))\n",
    "    c = a/b\n",
    "    print(c)\n",
    "except:\n",
    "    print(\"Exception is Handled.\")"
   ]
  },
  {
   "cell_type": "markdown",
   "metadata": {},
   "source": [
    "Since we have entered number 2 as zero, so exception was *thrown* and was *caught* by except block. What if we enter a string instead of an int"
   ]
  },
  {
   "cell_type": "code",
   "execution_count": 6,
   "metadata": {},
   "outputs": [
    {
     "name": "stdout",
     "output_type": "stream",
     "text": [
      "Enter Number 1: 10\n",
      "Enter Number 2: a\n",
      "Exception is Handled.\n"
     ]
    }
   ],
   "source": [
    "try:\n",
    "    a = int(input(\"Enter Number 1: \"))\n",
    "    b = int(input(\"Enter Number 2: \"))\n",
    "    c = a/b\n",
    "    print(c)\n",
    "except:\n",
    "    print(\"Exception is Handled.\")"
   ]
  },
  {
   "cell_type": "markdown",
   "metadata": {},
   "source": [
    "# Keeping program from crashing and Handling exceptions effectively\n",
    "since int(\"a\") would *throw* an exception and it's *caught* by very same except block. But how this exception handling make sure that our program doesn't crash during ``runtime``. For the following code, the program should run as long as user won't enter a ``\"q\"`` \n"
   ]
  },
  {
   "cell_type": "code",
   "execution_count": 8,
   "metadata": {},
   "outputs": [
    {
     "name": "stdout",
     "output_type": "stream",
     "text": [
      "Enter the number or q to quit: 2\n",
      "Enter the number or q to quit: 4\n",
      "Enter the number or q to quit: 7s\n"
     ]
    },
    {
     "ename": "ValueError",
     "evalue": "invalid literal for int() with base 10: '7s'",
     "output_type": "error",
     "traceback": [
      "\u001b[1;31m---------------------------------------------------------------------------\u001b[0m",
      "\u001b[1;31mValueError\u001b[0m                                Traceback (most recent call last)",
      "\u001b[1;32m<ipython-input-8-794fb3ef7f7c>\u001b[0m in \u001b[0;36m<module>\u001b[1;34m\u001b[0m\n\u001b[0;32m      5\u001b[0m         \u001b[1;32mbreak\u001b[0m\u001b[1;33m\u001b[0m\u001b[1;33m\u001b[0m\u001b[0m\n\u001b[0;32m      6\u001b[0m     \u001b[1;32melse\u001b[0m\u001b[1;33m:\u001b[0m\u001b[1;33m\u001b[0m\u001b[1;33m\u001b[0m\u001b[0m\n\u001b[1;32m----> 7\u001b[1;33m         \u001b[0mnum\u001b[0m \u001b[1;33m=\u001b[0m \u001b[0mint\u001b[0m\u001b[1;33m(\u001b[0m\u001b[0m_input\u001b[0m\u001b[1;33m)\u001b[0m\u001b[1;33m\u001b[0m\u001b[1;33m\u001b[0m\u001b[0m\n\u001b[0m\u001b[0;32m      8\u001b[0m         \u001b[0mlist1\u001b[0m\u001b[1;33m.\u001b[0m\u001b[0mappend\u001b[0m\u001b[1;33m(\u001b[0m\u001b[0mnum\u001b[0m\u001b[1;33m)\u001b[0m\u001b[1;33m\u001b[0m\u001b[1;33m\u001b[0m\u001b[0m\n\u001b[0;32m      9\u001b[0m \u001b[1;33m\u001b[0m\u001b[0m\n",
      "\u001b[1;31mValueError\u001b[0m: invalid literal for int() with base 10: '7s'"
     ]
    }
   ],
   "source": [
    "list1 = [] \n",
    "while True:\n",
    "    _input = input(\"Enter the number or q to quit: \")\n",
    "    if _input == \"q\":\n",
    "        break\n",
    "    else:\n",
    "        num = int(_input)\n",
    "        list1.append(num)\n",
    "\n",
    "print(sum(list1))"
   ]
  },
  {
   "cell_type": "markdown",
   "metadata": {},
   "source": [
    "Now While enter number, user made a wrong input by mistake and our program crashed pre-maturely. Now we can ``Handle`` this problem by *catching* exception and making sure the continuity of program."
   ]
  },
  {
   "cell_type": "code",
   "execution_count": 12,
   "metadata": {},
   "outputs": [
    {
     "name": "stdout",
     "output_type": "stream",
     "text": [
      "Enter the number or q to quit: 1\n",
      "Enter the number or q to quit: 5\n",
      "Enter the number or q to quit: 4\n",
      "Enter the number or q to quit: 8\n",
      "Enter the number or q to quit: h\n",
      "Add only number.\n"
     ]
    }
   ],
   "source": [
    "list1 = [] \n",
    "try:\n",
    "    while True:\n",
    "        _input = input(\"Enter the number or q to quit: \")\n",
    "        if _input == \"q\":\n",
    "            break\n",
    "        else:\n",
    "            num = int(_input)\n",
    "            list1.append(num)\n",
    "\n",
    "    print(sum(list1))\n",
    "except:\n",
    "    print(\"Add only number.\")"
   ]
  },
  {
   "cell_type": "markdown",
   "metadata": {},
   "source": [
    "Now Even we could *catch* the exception, but where is our sum? the result of our code? Hence this is exception handling is not enough. So for exception handling, not only *catching* an exception is important but also how we logically use this exception keep our program from crashing. In order to do that we must be familiar with the code that might *thorw* these exception. For example, we may get a error whilw typecasting input to int"
   ]
  },
  {
   "cell_type": "code",
   "execution_count": 14,
   "metadata": {},
   "outputs": [
    {
     "name": "stdout",
     "output_type": "stream",
     "text": [
      "Enter the number or q to quit: 1\n",
      "Enter the number or q to quit: 5\n",
      "Enter the number or q to quit: 2\n",
      "Enter the number or q to quit: 4\n",
      "Enter the number or q to quit: 5\n",
      "Enter the number or q to quit: a\n",
      "Add Only Numbers\n",
      "Enter the number or q to quit: f\n",
      "Add Only Numbers\n",
      "Enter the number or q to quit: g\n",
      "Add Only Numbers\n",
      "Enter the number or q to quit: r\n",
      "Add Only Numbers\n",
      "Enter the number or q to quit: 1\n",
      "Enter the number or q to quit: q\n",
      "18\n"
     ]
    }
   ],
   "source": [
    "list1 = [] \n",
    "\n",
    "while True:\n",
    "    _input = input(\"Enter the number or q to quit: \")\n",
    "    if _input == \"q\":\n",
    "        break\n",
    "    else:\n",
    "        try:\n",
    "            num = int(_input)\n",
    "            list1.append(num)\n",
    "        except:\n",
    "            print(\"Add Only Numbers\")\n",
    "\n",
    "print(sum(list1))"
   ]
  },
  {
   "cell_type": "markdown",
   "metadata": {},
   "source": [
    "Now our code is working pretty much as we want it to be. No Crashes, Display Results properly"
   ]
  },
  {
   "cell_type": "markdown",
   "metadata": {},
   "source": [
    "# Catching a specific Exception\n",
    "\n",
    "until now we have seen examples where we have just put except and haven't specified error or exception type. Whenever there is an problem, a specific exception is thrown. For example, when divided by zero ``ErrorDivisionError`` exception is thrown, while trying to typecast a string into int a ``ValueError`` is generated."
   ]
  },
  {
   "cell_type": "code",
   "execution_count": 17,
   "metadata": {},
   "outputs": [
    {
     "ename": "ValueError",
     "evalue": "invalid literal for int() with base 10: 'a'",
     "output_type": "error",
     "traceback": [
      "\u001b[1;31m---------------------------------------------------------------------------\u001b[0m",
      "\u001b[1;31mValueError\u001b[0m                                Traceback (most recent call last)",
      "\u001b[1;32m<ipython-input-17-d9136db7b558>\u001b[0m in \u001b[0;36m<module>\u001b[1;34m\u001b[0m\n\u001b[1;32m----> 1\u001b[1;33m \u001b[0mint\u001b[0m\u001b[1;33m(\u001b[0m\u001b[1;34m\"a\"\u001b[0m\u001b[1;33m)\u001b[0m\u001b[1;33m\u001b[0m\u001b[1;33m\u001b[0m\u001b[0m\n\u001b[0m",
      "\u001b[1;31mValueError\u001b[0m: invalid literal for int() with base 10: 'a'"
     ]
    }
   ],
   "source": [
    "int(\"a\")"
   ]
  },
  {
   "cell_type": "markdown",
   "metadata": {},
   "source": [
    "In order to *catch* this very specific exception, while all other exception would not be handled and would result in crash. For example:\n"
   ]
  },
  {
   "cell_type": "code",
   "execution_count": 19,
   "metadata": {},
   "outputs": [
    {
     "name": "stdout",
     "output_type": "stream",
     "text": [
      "Enter number 1: 10\n",
      "Enter number 2: 5\n",
      "A number 2 is a factor of Number 1\n",
      "Enter number 1: 10\n",
      "Enter number 2: 3\n",
      "A number 2 is not a factor of Number 1\n",
      "Enter number 1: 7\n",
      "Enter number 2: l\n",
      "Enter Only A number.\n",
      "Enter number 1: 15\n",
      "Enter number 2: q\n"
     ]
    }
   ],
   "source": [
    "while True:\n",
    "    a = input(\"Enter number 1: \")\n",
    "    b = input(\"Enter number 2: \")\n",
    "    if a == \"q\" or b == \"q\":\n",
    "        break\n",
    "    else:\n",
    "        try:\n",
    "            a = int(a)\n",
    "            b = int(b)\n",
    "            if a % b == 0:\n",
    "                print(\"A number 2 is a factor of Number 1\")\n",
    "            else:\n",
    "                print(\"A number 2 is not a factor of Number 1\")\n",
    "        except ValueError:\n",
    "            print(\"Enter Only A number.\")\n",
    "            \n",
    "    "
   ]
  },
  {
   "cell_type": "markdown",
   "metadata": {},
   "source": [
    "Seems good, but what if I enter a zero for number2."
   ]
  },
  {
   "cell_type": "code",
   "execution_count": 20,
   "metadata": {},
   "outputs": [
    {
     "name": "stdout",
     "output_type": "stream",
     "text": [
      "Enter number 1: 2\n",
      "Enter number 2: 2\n",
      "A number 2 is a factor of Number 1\n",
      "Enter number 1: 10\n",
      "Enter number 2: 9\n",
      "A number 2 is not a factor of Number 1\n",
      "Enter number 1: 50\n",
      "Enter number 2: 0\n"
     ]
    },
    {
     "ename": "ZeroDivisionError",
     "evalue": "integer division or modulo by zero",
     "output_type": "error",
     "traceback": [
      "\u001b[1;31m---------------------------------------------------------------------------\u001b[0m",
      "\u001b[1;31mZeroDivisionError\u001b[0m                         Traceback (most recent call last)",
      "\u001b[1;32m<ipython-input-20-0d110ea09f0a>\u001b[0m in \u001b[0;36m<module>\u001b[1;34m\u001b[0m\n\u001b[0;32m      8\u001b[0m             \u001b[0ma\u001b[0m \u001b[1;33m=\u001b[0m \u001b[0mint\u001b[0m\u001b[1;33m(\u001b[0m\u001b[0ma\u001b[0m\u001b[1;33m)\u001b[0m\u001b[1;33m\u001b[0m\u001b[1;33m\u001b[0m\u001b[0m\n\u001b[0;32m      9\u001b[0m             \u001b[0mb\u001b[0m \u001b[1;33m=\u001b[0m \u001b[0mint\u001b[0m\u001b[1;33m(\u001b[0m\u001b[0mb\u001b[0m\u001b[1;33m)\u001b[0m\u001b[1;33m\u001b[0m\u001b[1;33m\u001b[0m\u001b[0m\n\u001b[1;32m---> 10\u001b[1;33m             \u001b[1;32mif\u001b[0m \u001b[0ma\u001b[0m \u001b[1;33m%\u001b[0m \u001b[0mb\u001b[0m \u001b[1;33m==\u001b[0m \u001b[1;36m0\u001b[0m\u001b[1;33m:\u001b[0m\u001b[1;33m\u001b[0m\u001b[1;33m\u001b[0m\u001b[0m\n\u001b[0m\u001b[0;32m     11\u001b[0m                 \u001b[0mprint\u001b[0m\u001b[1;33m(\u001b[0m\u001b[1;34m\"A number 2 is a factor of Number 1\"\u001b[0m\u001b[1;33m)\u001b[0m\u001b[1;33m\u001b[0m\u001b[1;33m\u001b[0m\u001b[0m\n\u001b[0;32m     12\u001b[0m             \u001b[1;32melse\u001b[0m\u001b[1;33m:\u001b[0m\u001b[1;33m\u001b[0m\u001b[1;33m\u001b[0m\u001b[0m\n",
      "\u001b[1;31mZeroDivisionError\u001b[0m: integer division or modulo by zero"
     ]
    }
   ],
   "source": [
    "while True:\n",
    "    a = input(\"Enter number 1: \")\n",
    "    b = input(\"Enter number 2: \")\n",
    "    if a == \"q\" or b == \"q\":\n",
    "        break\n",
    "    else:\n",
    "        try:\n",
    "            a = int(a)\n",
    "            b = int(b)\n",
    "            if a % b == 0:\n",
    "                print(\"A number 2 is a factor of Number 1\")\n",
    "            else:\n",
    "                print(\"A number 2 is not a factor of Number 1\")\n",
    "        except ValueError:\n",
    "            print(\"Enter Only A number.\")"
   ]
  },
  {
   "cell_type": "markdown",
   "metadata": {},
   "source": [
    "So it crashed again. Notice that 0 is a number, so ``ValueError`` will not be enough as user must know what specific error might have created a problem"
   ]
  },
  {
   "cell_type": "code",
   "execution_count": 22,
   "metadata": {},
   "outputs": [
    {
     "name": "stdout",
     "output_type": "stream",
     "text": [
      "Enter number 1: 10\n",
      "Enter number 2: 5\n",
      "A number 2 is a factor of Number 1\n",
      "Enter number 1: 9\n",
      "Enter number 2: 5\n",
      "A number 2 is not a factor of Number 1\n",
      "Enter number 1: 12\n",
      "Enter number 2: a\n",
      "Enter Only A number.\n",
      "Enter number 1: 15\n",
      "Enter number 2: 0\n",
      "Zero Not Allowed for number2\n",
      "Enter number 1: q\n",
      "Enter number 2: q\n"
     ]
    }
   ],
   "source": [
    "while True:\n",
    "    a = input(\"Enter number 1: \")\n",
    "    b = input(\"Enter number 2: \")\n",
    "    if a == \"q\" or b == \"q\":\n",
    "        break\n",
    "    else:\n",
    "        try:\n",
    "            a = int(a)\n",
    "            b = int(b)\n",
    "            if a % b == 0:\n",
    "                print(\"A number 2 is a factor of Number 1\")\n",
    "            else:\n",
    "                print(\"A number 2 is not a factor of Number 1\")\n",
    "        except ValueError:\n",
    "            print(\"Enter Only A number.\")\n",
    "        except ZeroDivisionError:\n",
    "            print(\"Zero Not Allowed for number2\")"
   ]
  },
  {
   "cell_type": "markdown",
   "metadata": {},
   "source": [
    "Now our code run smoothly. In order to make it more effective we can add another except without any specified ``Exception`` So any other exception would be caught by that except block:"
   ]
  },
  {
   "cell_type": "code",
   "execution_count": 23,
   "metadata": {},
   "outputs": [
    {
     "name": "stdout",
     "output_type": "stream",
     "text": [
      "Enter number 1: 10\n",
      "Enter number 2: 5\n",
      "A number 2 is a factor of Number 1\n",
      "Enter number 1: 8\n",
      "Enter number 2: 3\n",
      "A number 2 is not a factor of Number 1\n",
      "Enter number 1: 5\n",
      "Enter number 2: a\n",
      "Enter Only A number.\n",
      "Enter number 1: 50\n",
      "Enter number 2: 0\n",
      "Zero Not Allowed for number2\n",
      "Enter number 1: q\n",
      "Enter number 2: q\n"
     ]
    }
   ],
   "source": [
    "while True:\n",
    "    a = input(\"Enter number 1: \")\n",
    "    b = input(\"Enter number 2: \")\n",
    "    if a == \"q\" or b == \"q\":\n",
    "        break\n",
    "    else:\n",
    "        try:\n",
    "            a = int(a)\n",
    "            b = int(b)\n",
    "            if a % b == 0:\n",
    "                print(\"A number 2 is a factor of Number 1\")\n",
    "            else:\n",
    "                print(\"A number 2 is not a factor of Number 1\")\n",
    "        except ValueError:\n",
    "            print(\"Enter Only A number.\")\n",
    "        except ZeroDivisionError:\n",
    "            print(\"Zero Not Allowed for number2\")\n",
    "        except:\n",
    "            print(\"Oppss Something bad Happened, Please try again\")"
   ]
  },
  {
   "cell_type": "markdown",
   "metadata": {},
   "source": [
    "# ``else`` with ``try``-``except``\n",
    "\n",
    "An else block, when used with try-except, is excuted when try block have finished all instructions without *throwing* any exception. "
   ]
  },
  {
   "cell_type": "code",
   "execution_count": 2,
   "metadata": {},
   "outputs": [
    {
     "name": "stdout",
     "output_type": "stream",
     "text": [
      "Enter a Number: 5\n",
      "Number Entered is:  5\n"
     ]
    }
   ],
   "source": [
    "try:\n",
    "    Num = int(input(\"Enter a Number: \"))\n",
    "except ValueError:\n",
    "    print(\"You must enter only a number.\")\n",
    "else:\n",
    "    print(\"Number Entered is: \", Num)"
   ]
  },
  {
   "cell_type": "markdown",
   "metadata": {},
   "source": [
    "Line-2 takes inputs from user, and typecast it into an int. As a user has entered a number, this typecast haven't *thrown* any exception. Since ``try`` have completed it's execution successfully, ``else`` block will be executed. Now if we do enter something other than a number."
   ]
  },
  {
   "cell_type": "code",
   "execution_count": 3,
   "metadata": {},
   "outputs": [
    {
     "name": "stdout",
     "output_type": "stream",
     "text": [
      "Enter a Number: a\n",
      "You must enter only a number.\n"
     ]
    }
   ],
   "source": [
    "try:\n",
    "    Num = int(input(\"Enter a Number: \"))\n",
    "except ValueError:\n",
    "    print(\"You must enter only a number.\")\n",
    "else:\n",
    "    print(\"Number Entered is: \", Num)"
   ]
  },
  {
   "cell_type": "markdown",
   "metadata": {},
   "source": [
    "Now ``else`` is not executed."
   ]
  },
  {
   "cell_type": "markdown",
   "metadata": {},
   "source": [
    "# ``finally`` with ``try``-``except``\n",
    "\n",
    "``finally`` is executed everytime regardless of a fact if an exception is thrown or not. for example."
   ]
  },
  {
   "cell_type": "code",
   "execution_count": 7,
   "metadata": {},
   "outputs": [
    {
     "name": "stdout",
     "output_type": "stream",
     "text": [
      "Enter a Number: 3\n",
      "Number Entered is:  3\n",
      "Program execution is completed.\n"
     ]
    }
   ],
   "source": [
    "try:\n",
    "    Num = int(input(\"Enter a Number: \"))\n",
    "except ValueError:\n",
    "    print(\"You must enter only a number.\")\n",
    "else:\n",
    "    print(\"Number Entered is: \", Num)\n",
    "finally:\n",
    "    print(\"Program execution is completed.\")"
   ]
  },
  {
   "cell_type": "markdown",
   "metadata": {},
   "source": [
    "In above example, there was no exception thrown and both ``else`` and ``finally`` blocks were executed. Now in order to get an error enter a letter.\n"
   ]
  },
  {
   "cell_type": "code",
   "execution_count": 8,
   "metadata": {},
   "outputs": [
    {
     "name": "stdout",
     "output_type": "stream",
     "text": [
      "Enter a Number: d\n",
      "You must enter only a number.\n",
      "Program execution is completed.\n"
     ]
    }
   ],
   "source": [
    "try:\n",
    "    Num = int(input(\"Enter a Number: \"))\n",
    "except ValueError:\n",
    "    print(\"You must enter only a number.\")\n",
    "else:\n",
    "    print(\"Number Entered is: \", Num)\n",
    "finally:\n",
    "    print(\"Program execution is completed.\")"
   ]
  },
  {
   "cell_type": "markdown",
   "metadata": {},
   "source": [
    "# Using ``try``-``except``-``else``-``finally`` at the same time.\n",
    "\n",
    "This mehod is crucial and handy when we are dealing with file handling, specially without using ``with``. let us first write a code. "
   ]
  },
  {
   "cell_type": "code",
   "execution_count": 27,
   "metadata": {},
   "outputs": [
    {
     "name": "stdout",
     "output_type": "stream",
     "text": [
      "Data has been written\n",
      "Closing file now.\n"
     ]
    }
   ],
   "source": [
    "try:\n",
    "    f = open(\"mycsv.csv\", \"w\")\n",
    "    file_writer = csv.writer(f)\n",
    "    file_writer.writerow([1,2,3,4])\n",
    "except PermissionError:\n",
    "    print(\"Make Sure file is not opened.\")\n",
    "except:\n",
    "    print(\"Some other error occured\")\n",
    "else:\n",
    "    print(\"Data has been written\")\n",
    "finally:\n",
    "    print(\"Closing file now.\")\n",
    "    f.close()"
   ]
  },
  {
   "cell_type": "markdown",
   "metadata": {},
   "source": [
    "Now we are opening a file without a ``with``. Any exception thrown during opening and writing file will be caught, and once of such exception is specified whici is ``PermissionError``. <br> For now let us focus on ``finally``. This code is executed whether an exception is thrown on not. So if a file is opened but error occurred during writing file, ``finally`` block closes the file in the end.<br>\n",
    "if we wanna check such error, open csv file in excel and run the same code. Now file can't be written as it is opened in some another application i.e excel. "
   ]
  },
  {
   "cell_type": "code",
   "execution_count": 33,
   "metadata": {},
   "outputs": [
    {
     "name": "stdout",
     "output_type": "stream",
     "text": [
      "Make Sure file is not opened.\n",
      "Closing file now.\n"
     ]
    }
   ],
   "source": [
    "try:\n",
    "    f = open(\"mycsv.csv\", \"w\")\n",
    "    file_writer = csv.writer(f)\n",
    "    file_writer.writerow([1,2,3,4])\n",
    "except PermissionError:\n",
    "    print(\"Make Sure file is not opened.\")\n",
    "except:\n",
    "    print(\"Some other error occured\")\n",
    "else:\n",
    "    print(\"Data has been written\")\n",
    "finally:\n",
    "    print(\"Closing file now.\")\n",
    "    f.close()"
   ]
  },
  {
   "cell_type": "markdown",
   "metadata": {},
   "source": [
    "Now keeping that file opened in excel generated an exception, but still our file is being closed by ``finally``. "
   ]
  },
  {
   "cell_type": "markdown",
   "metadata": {},
   "source": [
    "# Raising an exception\n",
    "\n",
    "A programmer can ``raise`` an exception if and when required. In order to do that we use ``raise`` followed by exception name. For example, we need to make sure a user enters a positive number and if number is negative an exception be raised."
   ]
  },
  {
   "cell_type": "code",
   "execution_count": 35,
   "metadata": {},
   "outputs": [
    {
     "name": "stdout",
     "output_type": "stream",
     "text": [
      "Enter a positive number: 5\n",
      "User entered: 5\n"
     ]
    }
   ],
   "source": [
    "num = 0\n",
    "try:\n",
    "    num = int(input(\"Enter a positive number: \"))\n",
    "    if num < 0:\n",
    "        raise ValueError\n",
    "except ValueError:\n",
    "    print(\"Invalid entry\")\n",
    "else:\n",
    "    print(f\"User entered: {num}\")"
   ]
  },
  {
   "cell_type": "markdown",
   "metadata": {},
   "source": [
    "Now if we enter a letter, we'll get a exception"
   ]
  },
  {
   "cell_type": "code",
   "execution_count": 36,
   "metadata": {},
   "outputs": [
    {
     "name": "stdout",
     "output_type": "stream",
     "text": [
      "Enter a positive number: d\n",
      "Invalid entry\n"
     ]
    }
   ],
   "source": [
    "num = 0\n",
    "try:\n",
    "    num = int(input(\"Enter a positive number: \"))\n",
    "    if num < 0:\n",
    "        raise ValueError\n",
    "except ValueError:\n",
    "    print(\"Invalid entry\")\n",
    "else:\n",
    "    print(f\"User entered: {num}\")"
   ]
  },
  {
   "cell_type": "markdown",
   "metadata": {},
   "source": [
    "Until now it was all about the stuff we had seen previously. Now if we enter a negative number,the condition on line 4 is true, and statement on line-5 will be executed. The line 5 is:\n",
    "```` python\n",
    "raise ValueError\n",
    "````\n",
    "\n",
    "This statement *raises* ValueError exception and interpreter jumps to line 6, and ``except`` block is executed. "
   ]
  },
  {
   "cell_type": "code",
   "execution_count": 1,
   "metadata": {},
   "outputs": [
    {
     "name": "stdout",
     "output_type": "stream",
     "text": [
      "Enter a positive number: -5\n",
      "Invalid entry\n"
     ]
    }
   ],
   "source": [
    "num = 0\n",
    "try:\n",
    "    num = int(input(\"Enter a positive number: \"))\n",
    "    if num < 0:\n",
    "        raise ValueError\n",
    "except ValueError:\n",
    "    print(\"Invalid entry\")\n",
    "else:\n",
    "    print(f\"User entered: {num}\")"
   ]
  },
  {
   "cell_type": "markdown",
   "metadata": {},
   "source": [
    "# Getting exception message and type.\n",
    "\n",
    "Untill now we had been specifying exception type and giving a user specified message. We can extract from the exception. for example:"
   ]
  },
  {
   "cell_type": "code",
   "execution_count": 7,
   "metadata": {},
   "outputs": [
    {
     "name": "stdout",
     "output_type": "stream",
     "text": [
      "Enter a Number: a\n",
      "Error Occured \n",
      "invalid literal for int() with base 10: 'a'\n"
     ]
    }
   ],
   "source": [
    "try:\n",
    "    Num = int(input(\"Enter a Number: \"))\n",
    "except Exception as e:\n",
    "    print(f\"Error Occured \\n{e}\")\n",
    "else:\n",
    "    print(\"Number Entered is: \", Num)"
   ]
  },
  {
   "cell_type": "markdown",
   "metadata": {},
   "source": [
    "here we are getting message directly from exception instead of giving it our own message. Also we can get type of exception."
   ]
  },
  {
   "cell_type": "code",
   "execution_count": 12,
   "metadata": {},
   "outputs": [
    {
     "name": "stdout",
     "output_type": "stream",
     "text": [
      "Enter a Number: a\n",
      "Following Error Occured \n",
      "Type: ValueError \n",
      "Error Message: invalid literal for int() with base 10: 'a'\n"
     ]
    }
   ],
   "source": [
    "try:\n",
    "    Num = int(input(\"Enter a Number: \"))\n",
    "except Exception as e:\n",
    "    print(f\"Following Error Occured \\nType: {e.__class__.__name__} \\nError Message: {e}\")\n",
    "else:\n",
    "    print(\"Number Entered is: \", Num)"
   ]
  },
  {
   "cell_type": "markdown",
   "metadata": {},
   "source": [
    "``e.__class__.__name__`` returns the name of exception, and ``e`` would have a detailed messgae. Like this we can have many errors handled with single block. However we can also have single exception"
   ]
  },
  {
   "cell_type": "code",
   "execution_count": 13,
   "metadata": {},
   "outputs": [
    {
     "name": "stdout",
     "output_type": "stream",
     "text": [
      "Enter number 1: 6\n",
      "Enter number 2: 2\n",
      "A number 2 is a factor of Number 1\n",
      "Enter number 1: 1\n",
      "Enter number 2: a\n",
      "Following Error Occured \n",
      "Type: ValueError \n",
      "Error Message: invalid literal for int() with base 10: 'a'\n",
      "Enter number 1: 2\n",
      "Enter number 2: 0\n",
      "Following Error Occured \n",
      "Type: ZeroDivisionError \n",
      "Error Message: integer division or modulo by zero\n",
      "Enter number 1: q\n",
      "Enter number 2: q\n"
     ]
    }
   ],
   "source": [
    "while True:\n",
    "    a = input(\"Enter number 1: \")\n",
    "    b = input(\"Enter number 2: \")\n",
    "    if a == \"q\" or b == \"q\":\n",
    "        break\n",
    "    else:\n",
    "        try:\n",
    "            a = int(a)\n",
    "            b = int(b)\n",
    "            if a % b == 0:\n",
    "                print(\"A number 2 is a factor of Number 1\")\n",
    "            else:\n",
    "                print(\"A number 2 is not a factor of Number 1\")\n",
    "        except Exception as e:\n",
    "            print(f\"Following Error Occured \\nType: {e.__class__.__name__} \\nError Message: {e}\")\n",
    "        "
   ]
  },
  {
   "cell_type": "markdown",
   "metadata": {},
   "source": [
    "# Showing a user specified message with ``raise``\n",
    "when raising a exception we can give it a user specified message. For example."
   ]
  },
  {
   "cell_type": "code",
   "execution_count": 18,
   "metadata": {},
   "outputs": [
    {
     "name": "stdout",
     "output_type": "stream",
     "text": [
      "Enter a positive number: -9\n",
      "Error Occrured:  Negative number is not allowed\n"
     ]
    }
   ],
   "source": [
    "num = 0\n",
    "try:\n",
    "    num = int(input(\"Enter a positive number: \"))\n",
    "    if num < 0:\n",
    "        raise ValueError(\"Negative number is not allowed\")\n",
    "except ValueError as e:\n",
    "    print(\"Error Occrured: \", e)\n",
    "else:\n",
    "    print(f\"User entered: {num}\")"
   ]
  },
  {
   "cell_type": "markdown",
   "metadata": {},
   "source": [
    "Now we have a user specified message."
   ]
  },
  {
   "cell_type": "markdown",
   "metadata": {},
   "source": [
    "# Creating a user defined Exception.\n",
    "\n",
    "A custom exception can be created by a user if required. For this purpose we inherit from base class ``Exception``. For example."
   ]
  },
  {
   "cell_type": "code",
   "execution_count": 19,
   "metadata": {},
   "outputs": [],
   "source": [
    "class ValueTooLarge(Exception):\n",
    "    pass"
   ]
  },
  {
   "cell_type": "markdown",
   "metadata": {},
   "source": [
    "Now this ``ValueTooLarge`` is a user defined exception and we can ``raise`` it when required. "
   ]
  },
  {
   "cell_type": "code",
   "execution_count": 20,
   "metadata": {},
   "outputs": [
    {
     "name": "stdout",
     "output_type": "stream",
     "text": [
      "Enter a positive number: 500000\n",
      "Error Occured: Value is too large\n"
     ]
    }
   ],
   "source": [
    "num = 0\n",
    "try:\n",
    "    num = int(input(\"Enter a positive number: \"))\n",
    "    if num < 0:\n",
    "        raise ValueError(\"Negative number is not allowed\")\n",
    "    if num > 1000:\n",
    "        raise ValueTooLarge(\"Value is too large\")\n",
    "\n",
    "except ValueTooLarge as e:\n",
    "    print(\"Error Occured:\", e)\n",
    "except ValueError as e:\n",
    "    print(\"Error Occrured: \", e)\n",
    "except:\n",
    "    print(\"Some other error occured\")\n",
    "else:\n",
    "    print(f\"User entered: {num}\")"
   ]
  },
  {
   "cell_type": "markdown",
   "metadata": {},
   "source": [
    "## Customizing user defined exception.\n",
    "\n",
    "We can customize our exceptions by giving a default message, or can pass value into this exception for better representation of exceptiom.\n"
   ]
  },
  {
   "cell_type": "code",
   "execution_count": 29,
   "metadata": {},
   "outputs": [],
   "source": [
    "class ValueTooLarge(Exception):\n",
    "    def __init__(self, Value, message=\"Value is larger than 1000\"):\n",
    "        self.Value = Value\n",
    "        self.message = message\n",
    "        super().__init__(self.message)\n",
    "\n",
    "    def __str__(self):\n",
    "        return f'{self.Value} => {self.message}'\n",
    "\n"
   ]
  },
  {
   "cell_type": "code",
   "execution_count": 30,
   "metadata": {},
   "outputs": [
    {
     "name": "stdout",
     "output_type": "stream",
     "text": [
      "Enter a positive number: 234646\n",
      "Error Occured: 234646 => Value is larger than 1000\n"
     ]
    }
   ],
   "source": [
    "try:\n",
    "    num = int(input(\"Enter a positive number: \"))\n",
    "    if num < 0:\n",
    "        raise ValueError(\"Negative number is not allowed\")\n",
    "    if num > 1000:\n",
    "        raise ValueTooLarge(num)\n",
    "\n",
    "except ValueTooLarge as e:\n",
    "    print(\"Error Occured:\", e)\n",
    "except ValueError as e:\n",
    "    print(\"Error Occrured: \", e)\n",
    "else:\n",
    "    print(f\"User entered: {num}\")"
   ]
  },
  {
   "cell_type": "code",
   "execution_count": null,
   "metadata": {},
   "outputs": [],
   "source": []
  }
 ],
 "metadata": {
  "kernelspec": {
   "display_name": "Python 3",
   "language": "python",
   "name": "python3"
  },
  "language_info": {
   "codemirror_mode": {
    "name": "ipython",
    "version": 3
   },
   "file_extension": ".py",
   "mimetype": "text/x-python",
   "name": "python",
   "nbconvert_exporter": "python",
   "pygments_lexer": "ipython3",
   "version": "3.7.6"
  }
 },
 "nbformat": 4,
 "nbformat_minor": 4
}
