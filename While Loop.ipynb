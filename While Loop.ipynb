{
 "cells": [
  {
   "cell_type": "markdown",
   "metadata": {},
   "source": [
    "# While Loop:\n",
    "\n",
    "\n",
    "a for loop iterate over a sequence, which can be a list, tuple, range or any iterable.<br>\n",
    "a while loop on the other hand, iterate unitl a given condition is True.\n",
    "For example:"
   ]
  },
  {
   "cell_type": "code",
   "execution_count": 1,
   "metadata": {},
   "outputs": [
    {
     "name": "stdout",
     "output_type": "stream",
     "text": [
      "0 1 2 3 4 5 6 7 8 9 "
     ]
    }
   ],
   "source": [
    "n = 0\n",
    "while n < 10:\n",
    "    print(n, end = \" \")\n",
    "    n += 1"
   ]
  },
  {
   "cell_type": "markdown",
   "metadata": {},
   "source": [
    "in this example, we have initialized variable ``n`` as ``0`` . in line 2, a condition is given that is ``n < 10``, as long as this condition is true the while loop will keep iterating. \n",
    "the syntax of while loop can be summarized as:\n",
    "````\n",
    "while condition:\n",
    "    code()\n",
    "````"
   ]
  },
  {
   "cell_type": "markdown",
   "metadata": {},
   "source": [
    "while loop flowchat is shown below\n",
    "\n",
    "<img src=\"whileloop.jpg\" alt=\"image not found\" title=\"while loop flowchart\" />"
   ]
  },
  {
   "cell_type": "code",
   "execution_count": 2,
   "metadata": {},
   "outputs": [
    {
     "name": "stdout",
     "output_type": "stream",
     "text": [
      "10 9 8 7 6 5 4 3 2 1 "
     ]
    }
   ],
   "source": [
    "n = 10\n",
    "while n > 0:\n",
    "    print(n, end= \" \")\n",
    "    n -= 1"
   ]
  },
  {
   "cell_type": "markdown",
   "metadata": {},
   "source": [
    "## while loop must have a termination point.\n",
    "\n",
    "while loop must be coded such that condition in while loop must get to False value otherwise loop will run infinitely. for example, (*click kernel->interrupt if you run the cell below*)"
   ]
  },
  {
   "cell_type": "code",
   "execution_count": null,
   "metadata": {},
   "outputs": [],
   "source": [
    "n = 0\n",
    "while n < 10:\n",
    "    print(n)"
   ]
  },
  {
   "cell_type": "markdown",
   "metadata": {},
   "source": [
    "Even though a condition is given but n is not incremented and will always be ``0`` and hence the condition ``n < 10`` will be never be evaluated to be ``False`` so this while loop will keep running infinitely."
   ]
  },
  {
   "cell_type": "markdown",
   "metadata": {},
   "source": [
    "# While loop with user input\n",
    "\n",
    "while loop can be used with user input when we need to keep a task iterating until or unless user wants it stop. for example:\n"
   ]
  },
  {
   "cell_type": "code",
   "execution_count": 3,
   "metadata": {},
   "outputs": [
    {
     "name": "stdout",
     "output_type": "stream",
     "text": [
      "Enter the number you want to print, or q to terminate: 1\n",
      "user have entered: 1\n",
      "Enter the number you want to print, or q to terminate: 2\n",
      "user have entered: 2\n",
      "Enter the number you want to print, or q to terminate: 3\n",
      "user have entered: 3\n",
      "Enter the number you want to print, or q to terminate: 4\n",
      "user have entered: 4\n",
      "Enter the number you want to print, or q to terminate: q\n",
      "user have entered q and decided to terminate\n"
     ]
    }
   ],
   "source": [
    "user_input = \"\"\n",
    "while user_input != \"q\":\n",
    "    user_input = input(\"Enter the number you want to print, or q to terminate: \")\n",
    "    if user_input != \"q\":\n",
    "        print(f\"user have entered: {user_input}\")\n",
    "    else:\n",
    "        print(f\"user have entered q and decided to terminate\")\n"
   ]
  },
  {
   "cell_type": "markdown",
   "metadata": {},
   "source": [
    "Notice that as long as user doesn't enter a \"q\" the while loop keep iterating; asking user for input and printing it. the simple print statement can be replaced by any code.\n"
   ]
  },
  {
   "cell_type": "markdown",
   "metadata": {},
   "source": [
    "# Example from book:\n",
    "\n",
    "as we have taken simple examples for while loop, let's take a look at at example given in *Smarter way to learn python*, uses a list of cities."
   ]
  },
  {
   "cell_type": "code",
   "execution_count": null,
   "metadata": {},
   "outputs": [],
   "source": [
    "cleanest_cities = [\"Cheyenne\", \"Santa Fe\", \"Tucson\",\"Great Falls\", \"Honolulu\"]"
   ]
  },
  {
   "cell_type": "code",
   "execution_count": null,
   "metadata": {},
   "outputs": [],
   "source": [
    "city_to_check = input(\"Enter the name of a city: \")\n",
    "for a_clean_city in cleanest_cities:\n",
    "    if city_to_check == a_clean_city:\n",
    "        print(\"It's one of the cleanest cities\")\n",
    "        break"
   ]
  },
  {
   "cell_type": "markdown",
   "metadata": {},
   "source": [
    "The above takes one input from user, check in the list of ``cleanest_cities`` and then terminates. If we wish to keep checking multiple cities until a user want to stop checking we can use while loop."
   ]
  },
  {
   "cell_type": "code",
   "execution_count": null,
   "metadata": {},
   "outputs": [],
   "source": [
    "user_input = \"\"\n",
    "while user_input != \"q\":\n",
    "    user_input = input(\"Enter a city, or q to quit:\")\n",
    "    if user_input != \"q\":\n",
    "        for a_clean_city in cleanest_cities:\n",
    "            if user_input == a_clean_city:\n",
    "                print(\"It's one of the cleanest cities\")\n",
    "                break"
   ]
  },
  {
   "cell_type": "markdown",
   "metadata": {},
   "source": [
    "The flow of code can be described as:\n",
    "1. On line 1 the variable user_input is assigned an initial value of \"\"—an empty string, which will hold user input.\n",
    "2. Line 2 says, \"For as long as the user hasn't entered \"q,\" keep executing the code that follows:\"\n",
    "3. In Line 3 Python prompts for the user's input, and places it in the variable user_input.\n",
    "4. If the user has entered anything other than \"q\", Python loops through the list of cleanest cities, trying to find a match with the city that the user entered.\n",
    "5. The for loop either finds a match or it doesn't. \n",
    "6. Python goes back to line 2, checking to see if \"q\" has been entered.\n",
    "7. If \"q\" hasn't been entered, the prompt executes again. If \"q\" has been entered, the while loop ends."
   ]
  },
  {
   "cell_type": "markdown",
   "metadata": {},
   "source": [
    "### Things to remember:\n",
    "- You have to assign a value to the variable that the while loop depends on, in this case user_input, before you start the while loop. Otherwise, the first time through, before the user has entered anything, Python doesn't recognize the variable when you ask it to check its value in line 2. In this example, the value is an empty string.\n",
    "- As always, when a block of code is controlled by code above it, the dependent block is indented. All the statements below line 2 are controlled by line 2's while statement, so they're indented. All the statements below line 4 are controlled by line 4's if statement, so they're indented. All the statements below line 5 are controlled by line 5's for statement, so they're indented. All the statements below line 6 are controlled by line 6's if statement, so they're indented."
   ]
  },
  {
   "cell_type": "markdown",
   "metadata": {},
   "source": [
    "# Setting a ``Flag`` in while loop.\n",
    "\n",
    "instead of writing a condtion, we can set a flag and and change this flag within while loop body to control the flow and termination of while loop, for example:"
   ]
  },
  {
   "cell_type": "code",
   "execution_count": null,
   "metadata": {},
   "outputs": [],
   "source": [
    "flag = True\n",
    "while flag == True:\n",
    "    user_input = input(\"Enter the number you want to print, or q to terminate: \")\n",
    "    if user_input != \"q\":\n",
    "        print(f\"user have entered: {user_input}\")\n",
    "    else:\n",
    "        print(f\"user have entered q and decided to terminate\")\n",
    "        flag = False"
   ]
  },
  {
   "cell_type": "markdown",
   "metadata": {},
   "source": [
    "##### Explanation: \n",
    "1. On line 1, ``flag`` is initialized as ``True``\n",
    "2. Line-2 checks if ``flag`` is True, and since it is ``True`` while loop start execution.\n",
    "3. user is prompted for input.\n",
    "4. if input is not ``\"q\"`` user input is printed.\n",
    "5. flag is still True so it will go for another iteration, and prompt user for input.\n",
    "6. if input is ``q`` flag is assigned to ``False``.\n",
    "7. Now condition on line 2 is not satisified and while loop terminates."
   ]
  },
  {
   "cell_type": "markdown",
   "metadata": {},
   "source": [
    "The example of ``clean_cities`` can also be done using flag. the changed code is:"
   ]
  },
  {
   "cell_type": "code",
   "execution_count": null,
   "metadata": {},
   "outputs": [],
   "source": [
    "keep_looping = True\n",
    "while keep_looping == True:\n",
    "    user_input = input(\"Enter a city, or q to quit:\")\n",
    "    if user_input != \"q\":\n",
    "        for a_clean_city in cleanest_cities:\n",
    "            if user_input == a_clean_city:\n",
    "                print(\"It's one of the cleanest cities\")\n",
    "                break\n",
    "    else:\n",
    "        keep_looping = False"
   ]
  },
  {
   "cell_type": "markdown",
   "metadata": {},
   "source": [
    "in this example, ``keep_looking`` is flag.\n",
    "\n",
    "1. Line 1 assigns ``True`` to the variable named ``keep_looping``. \n",
    "2. Line 2 says, \"As long as the variable keep_looping stays True, keep looping.\"\n",
    "3. The code inside the loop is the same as it was in the previous example.\n",
    "4. Lines 9 and 10 say, \"If the user has entered 'q,' change the value of ``keep_looping`` to ``False``.\"\n",
    "5. Since the loop continues only as long as keep_looping has a value of True, the loop ends.\n"
   ]
  },
  {
   "cell_type": "markdown",
   "metadata": {},
   "source": [
    "### Things to remember:\n",
    "- True and False aren't enclosed in quotation marks. They aren't strings.\n",
    "- They must be capitalized."
   ]
  },
  {
   "cell_type": "markdown",
   "metadata": {},
   "source": [
    "## Using ``break`` with while loop:\n",
    "\n",
    "just like a for loop, ``break`` would terminates a while loop, however since we are already using a condition to terminate our while loop ``break`` would be rarely used to terminate a while loop.\n",
    "\n"
   ]
  },
  {
   "cell_type": "code",
   "execution_count": null,
   "metadata": {},
   "outputs": [],
   "source": [
    "n = 0\n",
    "while n < 10:\n",
    "    if n == 5:\n",
    "        break\n",
    "    else:\n",
    "        print(n, end= \" \")\n",
    "        n += 1"
   ]
  },
  {
   "cell_type": "markdown",
   "metadata": {},
   "source": [
    "The above code is similar to:\n"
   ]
  },
  {
   "cell_type": "code",
   "execution_count": null,
   "metadata": {},
   "outputs": [],
   "source": [
    "n = 0\n",
    "while n < 5:\n",
    "    print(n, end= \" \")\n",
    "    n += 1"
   ]
  },
  {
   "cell_type": "markdown",
   "metadata": {},
   "source": [
    "However, we might need a situation, where we need to use ``break`` statement with while loop."
   ]
  },
  {
   "cell_type": "markdown",
   "metadata": {},
   "source": [
    "## ``continue`` with while loop\n",
    "\n",
    "a ``continue`` keyword will have same task as it does in for loop. for example:"
   ]
  },
  {
   "cell_type": "code",
   "execution_count": null,
   "metadata": {},
   "outputs": [],
   "source": [
    "n = 0\n",
    "while n < 10:\n",
    "    if n%2 == 0:\n",
    "        n += 1\n",
    "        continue\n",
    "    else:\n",
    "        print(n, end = \" \")\n",
    "        n += 1"
   ]
  },
  {
   "cell_type": "markdown",
   "metadata": {},
   "source": [
    "# while loop with an ``else`` Block:\n",
    "\n",
    "while loop can also have an else block which will be executed after the complete execution of while loop, for example:\n"
   ]
  },
  {
   "cell_type": "code",
   "execution_count": null,
   "metadata": {},
   "outputs": [],
   "source": [
    "n = 0\n",
    "while n < 10:\n",
    "    print(n, end = \" \")\n",
    "    n += 1\n",
    "else:\n",
    "    print(\"while loop is finished\")"
   ]
  },
  {
   "cell_type": "markdown",
   "metadata": {},
   "source": [
    "However if while loop is terminated by ``break`` else block will not be excuted.\n",
    "for example:"
   ]
  },
  {
   "cell_type": "code",
   "execution_count": null,
   "metadata": {},
   "outputs": [],
   "source": [
    "n = 0\n",
    "while n < 10:\n",
    "    if n == 5:\n",
    "        break\n",
    "    else:\n",
    "        print(n, end = \" \")\n",
    "        n += 1\n",
    "else:\n",
    "    print(\"while loop is finished\")"
   ]
  },
  {
   "cell_type": "markdown",
   "metadata": {},
   "source": [
    "# nested while loop:\n",
    "\n",
    "it is also possible to have nested while loops. for example:\n"
   ]
  },
  {
   "cell_type": "code",
   "execution_count": null,
   "metadata": {},
   "outputs": [],
   "source": [
    "n = 0\n",
    "## Outer while loop\n",
    "while n < 3:\n",
    "    m = 0\n",
    "    # inner while loop\n",
    "    while m < 5:\n",
    "        print(f\"inner while loop iteration: {m} for outer loop: {n}\")\n",
    "        m+=1\n",
    "    print()\n",
    "    n+=1\n"
   ]
  },
  {
   "cell_type": "code",
   "execution_count": null,
   "metadata": {},
   "outputs": [],
   "source": []
  }
 ],
 "metadata": {
  "kernelspec": {
   "display_name": "Python 3",
   "language": "python",
   "name": "python3"
  },
  "language_info": {
   "codemirror_mode": {
    "name": "ipython",
    "version": 3
   },
   "file_extension": ".py",
   "mimetype": "text/x-python",
   "name": "python",
   "nbconvert_exporter": "python",
   "pygments_lexer": "ipython3",
   "version": "3.7.6"
  }
 },
 "nbformat": 4,
 "nbformat_minor": 4
}
