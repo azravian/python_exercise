{
 "cells": [
  {
   "cell_type": "markdown",
   "metadata": {},
   "source": [
    "# Testing Code\n",
    "\n",
    "Once a code is written is supposed to be tested for all cases in order to check the proper functionality. One approach is to call function and check the behavior manually.<br>\n",
    "One may also write a code to automate this process. It can be done by using a built in module ``unittest``.\n",
    "\n",
    "# Using ``assert``\n",
    "\n",
    "we can use assert method to check if a function, or method working correctly. it has following syntax.\n",
    "```` python\n",
    "assert fucntion_call condition check_value, failMessage\n",
    "````\n",
    "for example"
   ]
  },
  {
   "cell_type": "code",
   "execution_count": 24,
   "metadata": {},
   "outputs": [],
   "source": [
    "assert sum([1,2,3]) == 6, \"Test Failed!!! Sum should be 6\""
   ]
  },
  {
   "cell_type": "markdown",
   "metadata": {},
   "source": [
    "above code checks if ``sum([1,2,3])`` is equal to 6, if so no message or error is generated, as we have seen in this example. but if we change the value, and error with the given message will be generated."
   ]
  },
  {
   "cell_type": "code",
   "execution_count": 25,
   "metadata": {},
   "outputs": [
    {
     "ename": "AssertionError",
     "evalue": "TestFailed Sum should be 6",
     "output_type": "error",
     "traceback": [
      "\u001b[1;31m---------------------------------------------------------------------------\u001b[0m",
      "\u001b[1;31mAssertionError\u001b[0m                            Traceback (most recent call last)",
      "\u001b[1;32m<ipython-input-25-827db9e65afa>\u001b[0m in \u001b[0;36m<module>\u001b[1;34m\u001b[0m\n\u001b[1;32m----> 1\u001b[1;33m \u001b[1;32massert\u001b[0m \u001b[0msum\u001b[0m\u001b[1;33m(\u001b[0m\u001b[1;33m[\u001b[0m\u001b[1;36m1\u001b[0m\u001b[1;33m,\u001b[0m\u001b[1;36m2\u001b[0m\u001b[1;33m,\u001b[0m\u001b[1;36m3\u001b[0m\u001b[1;33m]\u001b[0m\u001b[1;33m)\u001b[0m \u001b[1;33m==\u001b[0m \u001b[1;36m5\u001b[0m\u001b[1;33m,\u001b[0m \u001b[1;34m\"TestFailed Sum should be 6\"\u001b[0m\u001b[1;33m\u001b[0m\u001b[1;33m\u001b[0m\u001b[0m\n\u001b[0m",
      "\u001b[1;31mAssertionError\u001b[0m: TestFailed Sum should be 6"
     ]
    }
   ],
   "source": [
    "assert sum([1,2,3]) == 5, \"TestFailed Sum should be 6\""
   ]
  },
  {
   "cell_type": "markdown",
   "metadata": {},
   "source": [
    "we can write a file with code and multiple function for testing. For example: "
   ]
  },
  {
   "cell_type": "code",
   "execution_count": 26,
   "metadata": {},
   "outputs": [
    {
     "name": "stdout",
     "output_type": "stream",
     "text": [
      "all tests passed\n"
     ]
    }
   ],
   "source": [
    "def avg(*argv):\n",
    "    return sum(argv) / len(argv)\n",
    "\n",
    "def _test_avg(): # _ used inorder to keep these methods being imported\n",
    "    assert avg(1,2,3) == 2, \"Avg Test Failed.\"\n",
    "    \n",
    "def _test_sum():\n",
    "    assert sum([1,2,3]) == 6\n",
    "    \n",
    "if __name__==\"__main__\":\n",
    "    _test_avg()\n",
    "    _test_sum()\n",
    "    print(\"all tests passed\")"
   ]
  },
  {
   "cell_type": "markdown",
   "metadata": {},
   "source": [
    "Since all tests are passed no error was generated. but in case a test would fail, we'll get an error:"
   ]
  },
  {
   "cell_type": "code",
   "execution_count": 27,
   "metadata": {},
   "outputs": [
    {
     "ename": "AssertionError",
     "evalue": "Avg Test Failed.",
     "output_type": "error",
     "traceback": [
      "\u001b[1;31m---------------------------------------------------------------------------\u001b[0m",
      "\u001b[1;31mAssertionError\u001b[0m                            Traceback (most recent call last)",
      "\u001b[1;32m<ipython-input-27-d7019e67f784>\u001b[0m in \u001b[0;36m<module>\u001b[1;34m\u001b[0m\n\u001b[0;32m      9\u001b[0m \u001b[1;33m\u001b[0m\u001b[0m\n\u001b[0;32m     10\u001b[0m \u001b[1;32mif\u001b[0m \u001b[0m__name__\u001b[0m\u001b[1;33m==\u001b[0m\u001b[1;34m\"__main__\"\u001b[0m\u001b[1;33m:\u001b[0m\u001b[1;33m\u001b[0m\u001b[1;33m\u001b[0m\u001b[0m\n\u001b[1;32m---> 11\u001b[1;33m     \u001b[0m_test_avg\u001b[0m\u001b[1;33m(\u001b[0m\u001b[1;33m)\u001b[0m\u001b[1;33m\u001b[0m\u001b[1;33m\u001b[0m\u001b[0m\n\u001b[0m\u001b[0;32m     12\u001b[0m     \u001b[0m_test_sum\u001b[0m\u001b[1;33m(\u001b[0m\u001b[1;33m)\u001b[0m\u001b[1;33m\u001b[0m\u001b[1;33m\u001b[0m\u001b[0m\n\u001b[0;32m     13\u001b[0m     \u001b[0mprint\u001b[0m\u001b[1;33m(\u001b[0m\u001b[1;34m\"all tests passed\"\u001b[0m\u001b[1;33m)\u001b[0m\u001b[1;33m\u001b[0m\u001b[1;33m\u001b[0m\u001b[0m\n",
      "\u001b[1;32m<ipython-input-27-d7019e67f784>\u001b[0m in \u001b[0;36m_test_avg\u001b[1;34m()\u001b[0m\n\u001b[0;32m      3\u001b[0m \u001b[1;33m\u001b[0m\u001b[0m\n\u001b[0;32m      4\u001b[0m \u001b[1;32mdef\u001b[0m \u001b[0m_test_avg\u001b[0m\u001b[1;33m(\u001b[0m\u001b[1;33m)\u001b[0m\u001b[1;33m:\u001b[0m \u001b[1;31m# _ used inorder to keep these methods being imported\u001b[0m\u001b[1;33m\u001b[0m\u001b[1;33m\u001b[0m\u001b[0m\n\u001b[1;32m----> 5\u001b[1;33m     \u001b[1;32massert\u001b[0m \u001b[0mavg\u001b[0m\u001b[1;33m(\u001b[0m\u001b[1;36m1\u001b[0m\u001b[1;33m,\u001b[0m\u001b[1;36m2\u001b[0m\u001b[1;33m,\u001b[0m\u001b[1;36m3\u001b[0m\u001b[1;33m)\u001b[0m \u001b[1;33m==\u001b[0m \u001b[1;36m5\u001b[0m\u001b[1;33m,\u001b[0m \u001b[1;34m\"Avg Test Failed.\"\u001b[0m\u001b[1;33m\u001b[0m\u001b[1;33m\u001b[0m\u001b[0m\n\u001b[0m\u001b[0;32m      6\u001b[0m \u001b[1;33m\u001b[0m\u001b[0m\n\u001b[0;32m      7\u001b[0m \u001b[1;32mdef\u001b[0m \u001b[0m_test_sum\u001b[0m\u001b[1;33m(\u001b[0m\u001b[1;33m)\u001b[0m\u001b[1;33m:\u001b[0m\u001b[1;33m\u001b[0m\u001b[1;33m\u001b[0m\u001b[0m\n",
      "\u001b[1;31mAssertionError\u001b[0m: Avg Test Failed."
     ]
    }
   ],
   "source": [
    "def avg(*argv):\n",
    "    return sum(argv) / len(argv)\n",
    "\n",
    "def _test_avg(): # _ used inorder to keep these methods being imported\n",
    "    assert avg(1,2,3) == 5, \"Avg Test Failed.\"\n",
    "    \n",
    "def _test_sum():\n",
    "    assert sum([1,2,3]) == 6, \"Sum Test Failed\"\n",
    "    \n",
    "if __name__==\"__main__\":\n",
    "    _test_avg()\n",
    "    _test_sum()\n",
    "    print(\"all tests passed\")"
   ]
  },
  {
   "cell_type": "markdown",
   "metadata": {},
   "source": [
    "as avg shouldn't be 5, we have an error with message that *Avg test failed*"
   ]
  },
  {
   "cell_type": "markdown",
   "metadata": {},
   "source": [
    "# ``unittest``\n",
    "\n",
    "\n",
    "This module is used to create test cases to check the code. For example, let us write a function and create a module out of it. However we cannot run this unittest code in IPython Jupyter cell, as it is valid for a python script only. we therefore create a *.py* script file and then *run* it using magic commands:"
   ]
  },
  {
   "cell_type": "code",
   "execution_count": 35,
   "metadata": {},
   "outputs": [
    {
     "name": "stdout",
     "output_type": "stream",
     "text": [
      "Overwriting sum_test.py\n"
     ]
    }
   ],
   "source": [
    "%%writefile sum_test.py\n",
    "\n",
    "import unittest\n",
    "class TestSum(unittest.TestCase):\n",
    "    def test_sum(self):\n",
    "        self.assertEqual(sum([1, 2, 3]), 6, \"list sum failed\")\n",
    "\n",
    "    def test_sum_tuple(self):\n",
    "        self.assertEqual(sum((1, 2, 3)), 6, \"tuple sum failed\")\n",
    "        \n",
    "if __name__ == '__main__':\n",
    "    unittest.main()"
   ]
  },
  {
   "cell_type": "code",
   "execution_count": 36,
   "metadata": {},
   "outputs": [
    {
     "name": "stderr",
     "output_type": "stream",
     "text": [
      "..\n",
      "----------------------------------------------------------------------\n",
      "Ran 2 tests in 0.002s\n",
      "\n",
      "OK\n"
     ]
    }
   ],
   "source": [
    "%run sum_test.py"
   ]
  },
  {
   "cell_type": "markdown",
   "metadata": {},
   "source": [
    "For Now we have used builtin functions ``sum``. The explanation of code is as below:\n",
    "\n",
    "###### Line 3:\n",
    "imports unittest module.\n",
    "###### Line 4:\n",
    "create a class which inherits from unittest.TestCase\n",
    "###### Line 5:\n",
    "define method which contains a test case. This method must start with *test_*\n",
    "###### Line 6:\n",
    "assertEqual evaluate the method in first arguments and then compares the value provided in second argument, if same test is passed, otherwise failed.\n",
    "###### Line 11:\n",
    "Checks if file is being run as *main* script.\n",
    "###### Line 12:\n",
    "unittest.main(): when executed, this intsruction calls all method in test class whose name start with *test_*\n",
    "\n",
    "<br><br>\n",
    "For Our test passed, now let's create a condition which will make our test fail."
   ]
  },
  {
   "cell_type": "code",
   "execution_count": 42,
   "metadata": {},
   "outputs": [
    {
     "name": "stdout",
     "output_type": "stream",
     "text": [
      "Overwriting sum_test.py\n"
     ]
    }
   ],
   "source": [
    "%%writefile sum_test.py\n",
    "\n",
    "import unittest\n",
    "class TestSum(unittest.TestCase):\n",
    "    def test_sum(self):\n",
    "        self.assertEqual(sum([1, 2, 3]), 6)\n",
    "\n",
    "    def test_sum_tuple(self):\n",
    "        self.assertEqual(sum((5, 2, 3)), 6)\n",
    "        \n",
    "if __name__ == '__main__':\n",
    "    unittest.main()"
   ]
  },
  {
   "cell_type": "code",
   "execution_count": 43,
   "metadata": {},
   "outputs": [
    {
     "name": "stderr",
     "output_type": "stream",
     "text": [
      ".F\n",
      "======================================================================\n",
      "FAIL: test_sum_tuple (__main__.TestSum)\n",
      "----------------------------------------------------------------------\n",
      "Traceback (most recent call last):\n",
      "  File \"C:\\Users\\azrav\\sum_test.py\", line 8, in test_sum_tuple\n",
      "    self.assertEqual(sum((5, 2, 3)), 6)\n",
      "AssertionError: 10 != 6\n",
      "\n",
      "----------------------------------------------------------------------\n",
      "Ran 2 tests in 0.002s\n",
      "\n",
      "FAILED (failures=1)\n"
     ]
    },
    {
     "ename": "SystemExit",
     "evalue": "True",
     "output_type": "error",
     "traceback": [
      "An exception has occurred, use %tb to see the full traceback.\n",
      "\u001b[1;31mSystemExit\u001b[0m\u001b[1;31m:\u001b[0m True\n"
     ]
    }
   ],
   "source": [
    "%run sum_test.py"
   ]
  },
  {
   "cell_type": "markdown",
   "metadata": {},
   "source": [
    "Now our second test case have failed and we have got a message that 2 tests were run and One of this have failed. And it shows which test case have failed.\n",
    "\n",
    "## With user defined functions\n",
    "\n",
    "Now let's test it with user defined function"
   ]
  },
  {
   "cell_type": "code",
   "execution_count": 40,
   "metadata": {},
   "outputs": [
    {
     "name": "stdout",
     "output_type": "stream",
     "text": [
      "Overwriting Names.py\n"
     ]
    }
   ],
   "source": [
    "%%writefile Names.py\n",
    "\n",
    "def get_name(FirstName, LastName, MiddleName = None, Prefix = \"Mr\"):\n",
    "    if MiddleName == None:\n",
    "            return f\"{Prefix.title()}. {FirstName.title()} {LastName.title()}\"\n",
    "    else:\n",
    "        return f\"{Prefix.title()}. {FirstName.title()} {MiddleName.title()} {LastName.title()}\""
   ]
  },
  {
   "cell_type": "markdown",
   "metadata": {},
   "source": [
    "Now import this file along with unittest"
   ]
  },
  {
   "cell_type": "code",
   "execution_count": 52,
   "metadata": {},
   "outputs": [
    {
     "name": "stdout",
     "output_type": "stream",
     "text": [
      "Overwriting test_name_function.py\n"
     ]
    }
   ],
   "source": [
    "%%writefile test_name_function.py\n",
    "\n",
    "from Names import get_name\n",
    "import unittest\n",
    "\n",
    "class TestName(unittest.TestCase):\n",
    "    \n",
    "    def test_last_First_Name(self):\n",
    "        got_name = get_name(\"harry\", \"potter\")\n",
    "        self.assertEqual(got_name,\"Mr. Harry Potter\")\n",
    "    \n",
    "    def test_first_middle_last_name(self):\n",
    "        got_Name = get_name(\"Harry\",\"poTter\",MiddleName = \"jameS\")\n",
    "        self.assertEqual(got_Name, \"Mr. Harry James Potter\")\n",
    "    def test_prefix_first_middle_last_name(self):\n",
    "        got_Name = get_name(\"Remus\",\"Lupin\",MiddleName = \"John\", Prefix = \"Prof\")\n",
    "        self.assertEqual(got_Name, \"Prof. Remus John Lupin\")\n",
    "    \n",
    "if __name__ == '__main__':\n",
    "    unittest.main()"
   ]
  },
  {
   "cell_type": "code",
   "execution_count": 54,
   "metadata": {},
   "outputs": [
    {
     "name": "stderr",
     "output_type": "stream",
     "text": [
      "...\n",
      "----------------------------------------------------------------------\n",
      "Ran 3 tests in 0.002s\n",
      "\n",
      "OK\n"
     ]
    }
   ],
   "source": [
    "%run test_name_function.py"
   ]
  },
  {
   "cell_type": "markdown",
   "metadata": {},
   "source": [
    "In order to make our fail."
   ]
  },
  {
   "cell_type": "code",
   "execution_count": 58,
   "metadata": {},
   "outputs": [
    {
     "name": "stdout",
     "output_type": "stream",
     "text": [
      "Overwriting test_name_function.py\n"
     ]
    }
   ],
   "source": [
    "%%writefile test_name_function.py\n",
    "\n",
    "from Names import get_name\n",
    "import unittest\n",
    "\n",
    "class TestName(unittest.TestCase):\n",
    "    \n",
    "    def test_last_First_Name(self):\n",
    "        got_name = get_name(\"harry\", \"potter\")\n",
    "        self.assertEqual(got_name,\"Mr. Harry Potter\")\n",
    "    \n",
    "    def test_first_middle_last_name(self):\n",
    "        got_Name = get_name(\"Harry\",\"poTter\",MiddleName = \"jameS\")\n",
    "        self.assertEqual(got_Name, \"Mr. James Harry Potter\")\n",
    "    \n",
    "    def test_prefix_first_middle_last_name(self):\n",
    "        got_Name = get_name(\"Remus\",\"Lupin\",MiddleName = \"John\", Prefix = \"Prof\")\n",
    "        self.assertEqual(got_Name, \"Prof. Remus John Lupin\")\n",
    "    \n",
    "if __name__ == '__main__':\n",
    "    unittest.main()"
   ]
  },
  {
   "cell_type": "code",
   "execution_count": 59,
   "metadata": {},
   "outputs": [
    {
     "name": "stderr",
     "output_type": "stream",
     "text": [
      "F..\n",
      "======================================================================\n",
      "FAIL: test_first_middle_last_name (__main__.TestName)\n",
      "----------------------------------------------------------------------\n",
      "Traceback (most recent call last):\n",
      "  File \"C:\\Users\\azrav\\test_name_function.py\", line 13, in test_first_middle_last_name\n",
      "    self.assertEqual(got_Name, \"Mr. James Harry Potter\")\n",
      "AssertionError: 'Mr. Harry James Potter' != 'Mr. James Harry Potter'\n",
      "- Mr. Harry James Potter\n",
      "+ Mr. James Harry Potter\n",
      "\n",
      "\n",
      "----------------------------------------------------------------------\n",
      "Ran 3 tests in 0.003s\n",
      "\n",
      "FAILED (failures=1)\n"
     ]
    },
    {
     "ename": "SystemExit",
     "evalue": "True",
     "output_type": "error",
     "traceback": [
      "An exception has occurred, use %tb to see the full traceback.\n",
      "\u001b[1;31mSystemExit\u001b[0m\u001b[1;31m:\u001b[0m True\n"
     ]
    }
   ],
   "source": [
    "%run test_name_function.py"
   ]
  },
  {
   "cell_type": "markdown",
   "metadata": {},
   "source": [
    "this unittest module have following methods, which can be used for assertion:\n",
    "\n",
    "|Method|Use|\n",
    "|:-----|:--|\n",
    "|assertEqual(a, b)| Verify that a == b|\n",
    "|assertNotEqual(a, b)| Verify that a != b|\n",
    "|assertTrue(x)| Verify that x is True|\n",
    "|assertFalse(x)| Verify that x is False|\n",
    "|assertIn(item, list)| Verify that item is in list|\n",
    "|assertNotIn(item, list)| Verify that item is not in list|"
   ]
  },
  {
   "cell_type": "markdown",
   "metadata": {},
   "source": [
    "# Testing a Class using ``unittest``\n",
    "\n",
    "let us test our a class for complex number we wrote. This class is:\n"
   ]
  },
  {
   "cell_type": "code",
   "execution_count": null,
   "metadata": {},
   "outputs": [],
   "source": [
    "# %load ComplexNumModule.py\n",
    "\n",
    "class ComplexNum:\n",
    "    \n",
    "    def __init__(self, real = 0, img = 0):\n",
    "        self._real = real\n",
    "        self._img = img\n",
    "        \n",
    "    @property #set the following method as getter for real\n",
    "    def real(self):\n",
    "        return self._real\n",
    "    \n",
    "    @real.setter #sets the following methods as setter for real\n",
    "    def real(self, newreal):\n",
    "        self._real = newreal\n",
    "        \n",
    "    @real.deleter #sets the following method for attr. deletion for real\n",
    "    def real(self):\n",
    "        del self._real\n",
    "    \n",
    "    @property #set the following method as getter for img\n",
    "    def img(self):\n",
    "        return self._img\n",
    "    \n",
    "    @img.setter #sets the following methods as setter for img\n",
    "    def img(self, newImg):\n",
    "        self._img = newImg\n",
    "        \n",
    "    @img.deleter #sets the following method for attr. deletion for img\n",
    "    def img(self):\n",
    "        del self._img\n",
    "    \n",
    "    def modulus(self):\n",
    "        return (self.real**2 + self.img**2)**0.5\n",
    "    \n",
    "    def Conjugate(self):\n",
    "        #returns conjugate of complex number.\n",
    "        return ComplexNum(self.real, -self.img)\n",
    "    \n",
    "    # Overloading string\n",
    "    def __str__(self):\n",
    "        return f\"{self.real}+{self.img}j\"\n",
    "    \n",
    "    def __repr__(self):\n",
    "        return f\"{self.real}+{self.img}j\"\n",
    "    \n",
    "    # Overloading + operator\n",
    "    def __add__(self, other):\n",
    "        NewReal = self.real + other.real\n",
    "        NewImg = self.img + other.img\n",
    "        SumCompNum = ComplexNum(NewReal, NewImg)\n",
    "        return SumCompNum\n",
    "    \n",
    "    # Overloading - operator\n",
    "    def __sub__(self, other):\n",
    "        NewReal = self.real - other.real\n",
    "        NewImg = self.img - other.img\n",
    "        SubCompNum = ComplexNum(NewReal, NewImg)\n",
    "        return SubCompNum\n",
    "    \n",
    "    # Overloading * operator \n",
    "    def __mul__(self, other):\n",
    "        # (a+bj) * (x+yj) = (a*x - b*y) + (a*y + b*x)j\n",
    "        NewReal = (self.real * other.real) - (self.img * other.img)\n",
    "        NewImg = (self.real * other.img) + (self.img * other.real)\n",
    "        return ComplexNum(NewReal, NewImg)\n",
    "    \n",
    "    # Overloading div / operator\n",
    "    def __truediv__(self, other):\n",
    "        NewReal = ((self.real * other.real) + (self.img * other.img)) / (other.real**2 + other.img**2)\n",
    "        NewImg = ((other.real * self.img) - (self.real * other.img)) / (other.real**2 + other.img**2)\n",
    "        return ComplexNum(NewReal, NewImg)\n",
    "    \n",
    "    # Overloading // operator for modulus division\n",
    "    def __floordiv__(self, other):\n",
    "        return self.modulus() / other.modulus()\n",
    "    \n",
    "    # Overload == operator\n",
    "    def __eq__(self, other):\n",
    "        if self.real == other.real and self.img == other.img:\n",
    "            return True\n",
    "        else:\n",
    "            return False\n",
    "    \n",
    "    #overload != Operator\n",
    "    def __ne__(self, other):\n",
    "        if self.real != other.real or self.img != other.img:\n",
    "            return True\n",
    "        else:\n",
    "            return False\n",
    "    \n",
    "    #Overload > Operator\n",
    "    def __gt__(self, other):\n",
    "        if self.modulus() > other.modulus():\n",
    "            return True\n",
    "        else:\n",
    "            return False\n",
    "    \n",
    "    #Overloads < operator\n",
    "    def __lt__(self, other):\n",
    "        if self.modulus() < other.modulus():\n",
    "            return True\n",
    "        else:\n",
    "            return False\n",
    "        \n",
    "    #Overload >= Operator\n",
    "    def __ge__(self, other):\n",
    "        # At this point we can use ==, !=, >, and < operators as thy are already defined above\n",
    "        if self > other and self == other:\n",
    "            return True\n",
    "        else:\n",
    "            return False\n",
    "    \n",
    "    #Overloads <= Operator\n",
    "    def __le__(self, other):\n",
    "        if self < other and self == other:\n",
    "            return True\n",
    "        else:\n",
    "            return False\n"
   ]
  },
  {
   "cell_type": "markdown",
   "metadata": {},
   "source": [
    "Now say we wanna test this class of our. Again we need to create unit test class:"
   ]
  },
  {
   "cell_type": "code",
   "execution_count": 86,
   "metadata": {},
   "outputs": [
    {
     "name": "stdout",
     "output_type": "stream",
     "text": [
      "Overwriting ComplexNumTest.py\n"
     ]
    }
   ],
   "source": [
    "%%writefile ComplexNumTest.py\n",
    "import unittest\n",
    "from ComplexNumModule import ComplexNum \n",
    "\n",
    "class TestComplexNum(unittest.TestCase):\n",
    "    \n",
    "    def setUp(self):\n",
    "        self.CompNum1 = ComplexNum(4, 3)\n",
    "        self.CompNum2 = ComplexNum(12, 5)\n",
    "        self.CompNum3 = ComplexNum(4, 3)\n",
    "        \n",
    "    def test_modulus(self):\n",
    "        self.assertEqual(self.CompNum1.modulus(), 5)\n",
    "        self.assertNotEqual(self.CompNum2.modulus(), 5)\n",
    "    \n",
    "    def test_equal(self):\n",
    "        self.assertEqual(self.CompNum1, self.CompNum3)\n",
    "    \n",
    "    def test_NotEqual(self):\n",
    "        self.assertNotEqual(self.CompNum1, self.CompNum2)\n",
    "    \n",
    "    def test_string(self):\n",
    "        self.assertEqual(self.CompNum1.__str__(), \"4+3j\")\n",
    "    \n",
    "    def test_add(self):\n",
    "        self.assertEqual(self.CompNum1 + self.CompNum2 , ComplexNum(16, 8))\n",
    "    \n",
    "    def test_conjugate(self):\n",
    "        self.assertEqual(self.CompNum1.Conjugate(), ComplexNum(4, -3))\n",
    "        \n",
    "if __name__ == \"__main__\":\n",
    "    unittest.main()"
   ]
  },
  {
   "cell_type": "code",
   "execution_count": 87,
   "metadata": {},
   "outputs": [
    {
     "name": "stderr",
     "output_type": "stream",
     "text": [
      "......\n",
      "----------------------------------------------------------------------\n",
      "Ran 6 tests in 0.004s\n",
      "\n",
      "OK\n"
     ]
    }
   ],
   "source": [
    "%run ComplexNumTest.py"
   ]
  },
  {
   "cell_type": "markdown",
   "metadata": {},
   "source": [
    "Testing a class is similar to testing a function, except that we created another method ``setUp()`` and created objects from our class ``ComplexNum``.<br>\n",
    "This method makes our objects accessbible to other test methods. Notice that we only created our objects in ``setUp()`` method and accessed them in different methods of our test class."
   ]
  },
  {
   "cell_type": "code",
   "execution_count": null,
   "metadata": {},
   "outputs": [],
   "source": []
  }
 ],
 "metadata": {
  "kernelspec": {
   "display_name": "Python 3",
   "language": "python",
   "name": "python3"
  },
  "language_info": {
   "codemirror_mode": {
    "name": "ipython",
    "version": 3
   },
   "file_extension": ".py",
   "mimetype": "text/x-python",
   "name": "python",
   "nbconvert_exporter": "python",
   "pygments_lexer": "ipython3",
   "version": "3.7.6"
  }
 },
 "nbformat": 4,
 "nbformat_minor": 4
}
