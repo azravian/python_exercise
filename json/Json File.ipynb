{
 "cells": [
  {
   "cell_type": "markdown",
   "metadata": {},
   "source": [
    "# JSON\n",
    "\n",
    "JSON: JavaScript Object Notation. This module is used to create json files, and not only that, this module use to create  json objects. These json files are used for data exchange between web application and servers. simialr to CSVs we need to import json module."
   ]
  },
  {
   "cell_type": "code",
   "execution_count": 1,
   "metadata": {},
   "outputs": [],
   "source": [
    "import json"
   ]
  },
  {
   "cell_type": "markdown",
   "metadata": {},
   "source": [
    "# Python objects vs JSON Object \n",
    "\n",
    "when a pyhton object is converted into json convert, an equivalent object is created. Such relation is given in table below:\n",
    "\n",
    "|Python|JSON|\n",
    "|:----:|:--:|\n",
    "|dict|Object|\n",
    "|list|Array|\n",
    "|tuple|Array|\n",
    "|str|String|\n",
    "|int|Number|\n",
    "|float|Number|\n",
    "|True|true|\n",
    "|False|false|\n",
    "|None|null|"
   ]
  },
  {
   "cell_type": "markdown",
   "metadata": {},
   "source": [
    "# Writing a json file:\n",
    "\n",
    "When writing to a json file json, we need to open a file same as we open csv or txt file. When writing, if file doesn't exist already, it will be created. In order to write to a json file, ``json.dump()`` is used. "
   ]
  },
  {
   "cell_type": "code",
   "execution_count": 7,
   "metadata": {},
   "outputs": [
    {
     "name": "stdout",
     "output_type": "stream",
     "text": [
      "Help on function dump in module json:\n",
      "\n",
      "dump(obj, fp, *, skipkeys=False, ensure_ascii=True, check_circular=True, allow_nan=True, cls=None, indent=None, separators=None, default=None, sort_keys=False, **kw)\n",
      "    Serialize ``obj`` as a JSON formatted stream to ``fp`` (a\n",
      "    ``.write()``-supporting file-like object).\n",
      "    \n",
      "    If ``skipkeys`` is true then ``dict`` keys that are not basic types\n",
      "    (``str``, ``int``, ``float``, ``bool``, ``None``) will be skipped\n",
      "    instead of raising a ``TypeError``.\n",
      "    \n",
      "    If ``ensure_ascii`` is false, then the strings written to ``fp`` can\n",
      "    contain non-ASCII characters if they appear in strings contained in\n",
      "    ``obj``. Otherwise, all such characters are escaped in JSON strings.\n",
      "    \n",
      "    If ``check_circular`` is false, then the circular reference check\n",
      "    for container types will be skipped and a circular reference will\n",
      "    result in an ``OverflowError`` (or worse).\n",
      "    \n",
      "    If ``allow_nan`` is false, then it will be a ``ValueError`` to\n",
      "    serialize out of range ``float`` values (``nan``, ``inf``, ``-inf``)\n",
      "    in strict compliance of the JSON specification, instead of using the\n",
      "    JavaScript equivalents (``NaN``, ``Infinity``, ``-Infinity``).\n",
      "    \n",
      "    If ``indent`` is a non-negative integer, then JSON array elements and\n",
      "    object members will be pretty-printed with that indent level. An indent\n",
      "    level of 0 will only insert newlines. ``None`` is the most compact\n",
      "    representation.\n",
      "    \n",
      "    If specified, ``separators`` should be an ``(item_separator, key_separator)``\n",
      "    tuple.  The default is ``(', ', ': ')`` if *indent* is ``None`` and\n",
      "    ``(',', ': ')`` otherwise.  To get the most compact JSON representation,\n",
      "    you should specify ``(',', ':')`` to eliminate whitespace.\n",
      "    \n",
      "    ``default(obj)`` is a function that should return a serializable version\n",
      "    of obj or raise TypeError. The default simply raises TypeError.\n",
      "    \n",
      "    If *sort_keys* is true (default: ``False``), then the output of\n",
      "    dictionaries will be sorted by key.\n",
      "    \n",
      "    To use a custom ``JSONEncoder`` subclass (e.g. one that overrides the\n",
      "    ``.default()`` method to serialize additional types), specify it with\n",
      "    the ``cls`` kwarg; otherwise ``JSONEncoder`` is used.\n",
      "\n"
     ]
    }
   ],
   "source": [
    "help(json.dump)"
   ]
  },
  {
   "cell_type": "markdown",
   "metadata": {},
   "source": [
    "For our usage the syntax is:\n",
    "```` python\n",
    "json.dump(Data, FileObj)\n",
    "````\n",
    "\n",
    "Now let's write a string into json file."
   ]
  },
  {
   "cell_type": "code",
   "execution_count": 8,
   "metadata": {},
   "outputs": [],
   "source": [
    "DataToJSON = \"Let's write this string\"\n",
    "with open(\"DataFile.json\", \"w\") as FileHandler:\n",
    "    json.dump(DataToJSON, FileHandler)"
   ]
  },
  {
   "cell_type": "markdown",
   "metadata": {},
   "source": [
    "The given string is saved into json file.\n",
    "\n",
    "<img src=\"Json1.png\" alt=\"File not found\" title=\".py file created\" />\n",
    "\n",
    "Now in order to write a list"
   ]
  },
  {
   "cell_type": "code",
   "execution_count": 9,
   "metadata": {},
   "outputs": [],
   "source": [
    "DataToJSON = \"Let's write this string\"\n",
    "with open(\"DataFile.json\", \"w\") as FileHandler:\n",
    "    json.dump([1,2,3,4,5], FileHandler)"
   ]
  },
  {
   "cell_type": "markdown",
   "metadata": {},
   "source": [
    "The given list is saved into json file.\n",
    "\n",
    "<img src=\"json2.png\" alt=\"File not found\" title=\".py file created\" />\n",
    "\n",
    "Notice that a list is just saved as an array, while the string was saved as string. This coversion is done by json module."
   ]
  },
  {
   "cell_type": "markdown",
   "metadata": {},
   "source": [
    "# Reading from JSON file:\n",
    "\n",
    "In order to read from a json file we need to use ``load()`` method with following simplified syntax:\n",
    "````python\n",
    "json.load(FileHandler)\n",
    "````\n",
    "and we need to open a file in edit mode. let us read a file which we created previously with list."
   ]
  },
  {
   "cell_type": "code",
   "execution_count": 10,
   "metadata": {},
   "outputs": [
    {
     "name": "stdout",
     "output_type": "stream",
     "text": [
      "[1, 2, 3, 4, 5]\n"
     ]
    }
   ],
   "source": [
    "with open(\"DataFile.json\") as FileHandler:\n",
    "    DataFromJSON = json.load(FileHandler)\n",
    "\n",
    "print(DataFromJSON)"
   ]
  },
  {
   "cell_type": "markdown",
   "metadata": {},
   "source": [
    "Now since we have read back our list, one might think that this list is read as an *array* because it was saved as array object. but"
   ]
  },
  {
   "cell_type": "code",
   "execution_count": 11,
   "metadata": {},
   "outputs": [
    {
     "data": {
      "text/plain": [
       "list"
      ]
     },
     "execution_count": 11,
     "metadata": {},
     "output_type": "execute_result"
    }
   ],
   "source": [
    "type(DataFromJSON)"
   ]
  },
  {
   "cell_type": "markdown",
   "metadata": {},
   "source": [
    "Hence when we read back from a json file using ``json.load()``, one doesn't need to typecast it explicitly. Now let's write a dictionary and then read it back."
   ]
  },
  {
   "cell_type": "code",
   "execution_count": 12,
   "metadata": {},
   "outputs": [],
   "source": [
    "HeadMaster = {\n",
    "    \"FName\":\"Albus\", \n",
    "    \"MName\": \"Wulfric Percival Brian\", \n",
    "    \"LName\":\"Dumbledore\", \n",
    "    \"AKA\" : \"\", \n",
    "    \"House\": \"Gryffindor\",\n",
    "    \"Spouse\": \"\",\n",
    "    \"Children\": \"\"\n",
    "}"
   ]
  },
  {
   "cell_type": "code",
   "execution_count": 13,
   "metadata": {},
   "outputs": [],
   "source": [
    "with open(\"DataFile.json\", \"w\") as FileHandler:\n",
    "    json.dump(HeadMaster, FileHandler)"
   ]
  },
  {
   "cell_type": "markdown",
   "metadata": {},
   "source": [
    "Now reading it back, we'll get a dictionary.\n"
   ]
  },
  {
   "cell_type": "code",
   "execution_count": 14,
   "metadata": {},
   "outputs": [
    {
     "name": "stdout",
     "output_type": "stream",
     "text": [
      "{'FName': 'Albus', 'MName': 'Wulfric Percival Brian', 'LName': 'Dumbledore', 'AKA': '', 'House': 'Gryffindor', 'Spouse': '', 'Children': ''}\n"
     ]
    }
   ],
   "source": [
    "with open(\"DataFile.json\") as FileHandler:\n",
    "    DataFromJSON = json.load(FileHandler)\n",
    "\n",
    "print(DataFromJSON)"
   ]
  },
  {
   "cell_type": "markdown",
   "metadata": {},
   "source": [
    "Now see that we have got back a dictionary."
   ]
  },
  {
   "cell_type": "markdown",
   "metadata": {},
   "source": [
    "# Appending a json file.\n",
    "\n",
    "Appending a json is bit different. Since everytime we write some data, it's written as multiple object. While we are appending we create multiple objects to json file, but when we try to read it back we get an error. In order to append we need to open file in *append mode*. For Example, first let's write to our file."
   ]
  },
  {
   "cell_type": "code",
   "execution_count": 19,
   "metadata": {},
   "outputs": [],
   "source": [
    "with open(\"DataFile.json\", \"w\") as FileHandler:\n",
    "    json.dump([1,2,3,4,5], FileHandler)"
   ]
  },
  {
   "cell_type": "code",
   "execution_count": 20,
   "metadata": {},
   "outputs": [],
   "source": [
    "with open(\"DataFile.json\", \"a\") as FileHandler:\n",
    "    json.dump([6,7,8,9,10], FileHandler)"
   ]
  },
  {
   "cell_type": "markdown",
   "metadata": {},
   "source": [
    "Appending to file gave no error. when we look at our json file, we get:\n",
    "\n",
    "<img src=\"json3.png\" alt=\"File not found\" title=\".py file created\" />\n",
    "\n",
    "But we try reading it back."
   ]
  },
  {
   "cell_type": "code",
   "execution_count": 21,
   "metadata": {},
   "outputs": [
    {
     "ename": "JSONDecodeError",
     "evalue": "Extra data: line 1 column 16 (char 15)",
     "output_type": "error",
     "traceback": [
      "\u001b[1;31m---------------------------------------------------------------------------\u001b[0m",
      "\u001b[1;31mJSONDecodeError\u001b[0m                           Traceback (most recent call last)",
      "\u001b[1;32m<ipython-input-21-c7be2d79f227>\u001b[0m in \u001b[0;36m<module>\u001b[1;34m\u001b[0m\n\u001b[0;32m      1\u001b[0m \u001b[1;32mwith\u001b[0m \u001b[0mopen\u001b[0m\u001b[1;33m(\u001b[0m\u001b[1;34m\"DataFile.json\"\u001b[0m\u001b[1;33m)\u001b[0m \u001b[1;32mas\u001b[0m \u001b[0mFileHandler\u001b[0m\u001b[1;33m:\u001b[0m\u001b[1;33m\u001b[0m\u001b[1;33m\u001b[0m\u001b[0m\n\u001b[1;32m----> 2\u001b[1;33m     \u001b[0mdata\u001b[0m \u001b[1;33m=\u001b[0m \u001b[0mjson\u001b[0m\u001b[1;33m.\u001b[0m\u001b[0mload\u001b[0m\u001b[1;33m(\u001b[0m\u001b[0mFileHandler\u001b[0m\u001b[1;33m)\u001b[0m\u001b[1;33m\u001b[0m\u001b[1;33m\u001b[0m\u001b[0m\n\u001b[0m\u001b[0;32m      3\u001b[0m     \u001b[0mprint\u001b[0m\u001b[1;33m(\u001b[0m\u001b[0mdata\u001b[0m\u001b[1;33m)\u001b[0m\u001b[1;33m\u001b[0m\u001b[1;33m\u001b[0m\u001b[0m\n",
      "\u001b[1;32mC:\\ProgramData\\Anaconda3\\lib\\json\\__init__.py\u001b[0m in \u001b[0;36mload\u001b[1;34m(fp, cls, object_hook, parse_float, parse_int, parse_constant, object_pairs_hook, **kw)\u001b[0m\n\u001b[0;32m    294\u001b[0m         \u001b[0mcls\u001b[0m\u001b[1;33m=\u001b[0m\u001b[0mcls\u001b[0m\u001b[1;33m,\u001b[0m \u001b[0mobject_hook\u001b[0m\u001b[1;33m=\u001b[0m\u001b[0mobject_hook\u001b[0m\u001b[1;33m,\u001b[0m\u001b[1;33m\u001b[0m\u001b[1;33m\u001b[0m\u001b[0m\n\u001b[0;32m    295\u001b[0m         \u001b[0mparse_float\u001b[0m\u001b[1;33m=\u001b[0m\u001b[0mparse_float\u001b[0m\u001b[1;33m,\u001b[0m \u001b[0mparse_int\u001b[0m\u001b[1;33m=\u001b[0m\u001b[0mparse_int\u001b[0m\u001b[1;33m,\u001b[0m\u001b[1;33m\u001b[0m\u001b[1;33m\u001b[0m\u001b[0m\n\u001b[1;32m--> 296\u001b[1;33m         parse_constant=parse_constant, object_pairs_hook=object_pairs_hook, **kw)\n\u001b[0m\u001b[0;32m    297\u001b[0m \u001b[1;33m\u001b[0m\u001b[0m\n\u001b[0;32m    298\u001b[0m \u001b[1;33m\u001b[0m\u001b[0m\n",
      "\u001b[1;32mC:\\ProgramData\\Anaconda3\\lib\\json\\__init__.py\u001b[0m in \u001b[0;36mloads\u001b[1;34m(s, encoding, cls, object_hook, parse_float, parse_int, parse_constant, object_pairs_hook, **kw)\u001b[0m\n\u001b[0;32m    346\u001b[0m             \u001b[0mparse_int\u001b[0m \u001b[1;32mis\u001b[0m \u001b[1;32mNone\u001b[0m \u001b[1;32mand\u001b[0m \u001b[0mparse_float\u001b[0m \u001b[1;32mis\u001b[0m \u001b[1;32mNone\u001b[0m \u001b[1;32mand\u001b[0m\u001b[1;33m\u001b[0m\u001b[1;33m\u001b[0m\u001b[0m\n\u001b[0;32m    347\u001b[0m             parse_constant is None and object_pairs_hook is None and not kw):\n\u001b[1;32m--> 348\u001b[1;33m         \u001b[1;32mreturn\u001b[0m \u001b[0m_default_decoder\u001b[0m\u001b[1;33m.\u001b[0m\u001b[0mdecode\u001b[0m\u001b[1;33m(\u001b[0m\u001b[0ms\u001b[0m\u001b[1;33m)\u001b[0m\u001b[1;33m\u001b[0m\u001b[1;33m\u001b[0m\u001b[0m\n\u001b[0m\u001b[0;32m    349\u001b[0m     \u001b[1;32mif\u001b[0m \u001b[0mcls\u001b[0m \u001b[1;32mis\u001b[0m \u001b[1;32mNone\u001b[0m\u001b[1;33m:\u001b[0m\u001b[1;33m\u001b[0m\u001b[1;33m\u001b[0m\u001b[0m\n\u001b[0;32m    350\u001b[0m         \u001b[0mcls\u001b[0m \u001b[1;33m=\u001b[0m \u001b[0mJSONDecoder\u001b[0m\u001b[1;33m\u001b[0m\u001b[1;33m\u001b[0m\u001b[0m\n",
      "\u001b[1;32mC:\\ProgramData\\Anaconda3\\lib\\json\\decoder.py\u001b[0m in \u001b[0;36mdecode\u001b[1;34m(self, s, _w)\u001b[0m\n\u001b[0;32m    338\u001b[0m         \u001b[0mend\u001b[0m \u001b[1;33m=\u001b[0m \u001b[0m_w\u001b[0m\u001b[1;33m(\u001b[0m\u001b[0ms\u001b[0m\u001b[1;33m,\u001b[0m \u001b[0mend\u001b[0m\u001b[1;33m)\u001b[0m\u001b[1;33m.\u001b[0m\u001b[0mend\u001b[0m\u001b[1;33m(\u001b[0m\u001b[1;33m)\u001b[0m\u001b[1;33m\u001b[0m\u001b[1;33m\u001b[0m\u001b[0m\n\u001b[0;32m    339\u001b[0m         \u001b[1;32mif\u001b[0m \u001b[0mend\u001b[0m \u001b[1;33m!=\u001b[0m \u001b[0mlen\u001b[0m\u001b[1;33m(\u001b[0m\u001b[0ms\u001b[0m\u001b[1;33m)\u001b[0m\u001b[1;33m:\u001b[0m\u001b[1;33m\u001b[0m\u001b[1;33m\u001b[0m\u001b[0m\n\u001b[1;32m--> 340\u001b[1;33m             \u001b[1;32mraise\u001b[0m \u001b[0mJSONDecodeError\u001b[0m\u001b[1;33m(\u001b[0m\u001b[1;34m\"Extra data\"\u001b[0m\u001b[1;33m,\u001b[0m \u001b[0ms\u001b[0m\u001b[1;33m,\u001b[0m \u001b[0mend\u001b[0m\u001b[1;33m)\u001b[0m\u001b[1;33m\u001b[0m\u001b[1;33m\u001b[0m\u001b[0m\n\u001b[0m\u001b[0;32m    341\u001b[0m         \u001b[1;32mreturn\u001b[0m \u001b[0mobj\u001b[0m\u001b[1;33m\u001b[0m\u001b[1;33m\u001b[0m\u001b[0m\n\u001b[0;32m    342\u001b[0m \u001b[1;33m\u001b[0m\u001b[0m\n",
      "\u001b[1;31mJSONDecodeError\u001b[0m: Extra data: line 1 column 16 (char 15)"
     ]
    }
   ],
   "source": [
    "with open(\"DataFile.json\") as FileHandler:\n",
    "    data = json.load(FileHandler)\n",
    "    print(data)"
   ]
  },
  {
   "cell_type": "markdown",
   "metadata": {},
   "source": [
    "Now we have got error that json wasn't able to decode data from file as it has more than one object. *Even though we still can read data from json file in this condition, but let us first see the recommended method and get to this point later.*\n",
    "\n",
    "## So how should data be appended into json file.\n",
    "\n",
    "It recommended to first *load* data from our json file, and then *concatenate, append, update* the required data depending of the data type of our object, then *dump* it back to json file. Since we will be writing to and reading from file again and again, we will define two methods."
   ]
  },
  {
   "cell_type": "code",
   "execution_count": 25,
   "metadata": {},
   "outputs": [],
   "source": [
    "filepath = \"DataFile.json\""
   ]
  },
  {
   "cell_type": "code",
   "execution_count": 29,
   "metadata": {},
   "outputs": [],
   "source": [
    "def write(data):\n",
    "    with open(filepath, \"w\") as FileHandler:\n",
    "        json.dump(data, FileHandler)"
   ]
  },
  {
   "cell_type": "code",
   "execution_count": 37,
   "metadata": {},
   "outputs": [],
   "source": [
    "def read():\n",
    "    with open(filepath, \"r\") as FileHandler:\n",
    "        data = json.load(FileHandler)\n",
    "    return data"
   ]
  },
  {
   "cell_type": "markdown",
   "metadata": {},
   "source": [
    "### Start with a string\n",
    "\n",
    "**step 1:** Write a string"
   ]
  },
  {
   "cell_type": "code",
   "execution_count": 40,
   "metadata": {},
   "outputs": [],
   "source": [
    "write(\"Harry Potter series is good.\")"
   ]
  },
  {
   "cell_type": "markdown",
   "metadata": {},
   "source": [
    "**Step 2:** Read It back from file"
   ]
  },
  {
   "cell_type": "code",
   "execution_count": 41,
   "metadata": {},
   "outputs": [
    {
     "name": "stdout",
     "output_type": "stream",
     "text": [
      "Harry Potter series is good.\n"
     ]
    }
   ],
   "source": [
    "StringFromFile = read()\n",
    "print(StringFromFile)"
   ]
  },
  {
   "cell_type": "markdown",
   "metadata": {},
   "source": [
    "**Step 3:** Concatenate the required string:"
   ]
  },
  {
   "cell_type": "code",
   "execution_count": 42,
   "metadata": {},
   "outputs": [],
   "source": [
    "NewString = StringFromFile + \"\\nSherlock is best season\""
   ]
  },
  {
   "cell_type": "markdown",
   "metadata": {},
   "source": [
    "**step 4:** dump it back"
   ]
  },
  {
   "cell_type": "code",
   "execution_count": 43,
   "metadata": {},
   "outputs": [],
   "source": [
    "write(NewString)"
   ]
  },
  {
   "cell_type": "markdown",
   "metadata": {},
   "source": [
    "let's if we can really read it back normally."
   ]
  },
  {
   "cell_type": "code",
   "execution_count": 44,
   "metadata": {},
   "outputs": [
    {
     "data": {
      "text/plain": [
       "'Harry Potter series is good.\\nSherlock is best season'"
      ]
     },
     "execution_count": 44,
     "metadata": {},
     "output_type": "execute_result"
    }
   ],
   "source": [
    "read()"
   ]
  },
  {
   "cell_type": "markdown",
   "metadata": {},
   "source": [
    "Now we have no error, and data it *loaded* back properly"
   ]
  },
  {
   "cell_type": "markdown",
   "metadata": {},
   "source": [
    "### Example with a list\n",
    "\n",
    "**step 1:** Write a list"
   ]
  },
  {
   "cell_type": "code",
   "execution_count": 45,
   "metadata": {},
   "outputs": [],
   "source": [
    "write([\"Harry\", \"Ron\", \"Hermione\", \"Neville\", \"George\", \"Severus\", \"Albus\", \"Delphi\"])"
   ]
  },
  {
   "cell_type": "markdown",
   "metadata": {},
   "source": [
    "**Step 2:** Read It back from file"
   ]
  },
  {
   "cell_type": "code",
   "execution_count": 49,
   "metadata": {},
   "outputs": [
    {
     "name": "stdout",
     "output_type": "stream",
     "text": [
      "['Harry', 'Ron', 'Hermione', 'Neville', 'George', 'Severus', 'Albus', 'Delphi']\n"
     ]
    }
   ],
   "source": [
    "ListFromFile = read()\n",
    "print(ListFromFile)"
   ]
  },
  {
   "cell_type": "markdown",
   "metadata": {},
   "source": [
    "**Step 3:** Append or extend the required list:"
   ]
  },
  {
   "cell_type": "code",
   "execution_count": 51,
   "metadata": {},
   "outputs": [],
   "source": [
    "new_list = [\"Tom\", \"Seamus\", \"Ginny\", \"Minerva\", \"Seamus\", \"Luna\", \"Fred\", \"Percy\"]\n",
    "ListFromFile.extend(new_list)\n"
   ]
  },
  {
   "cell_type": "markdown",
   "metadata": {},
   "source": [
    "**step 4:** dump it back"
   ]
  },
  {
   "cell_type": "code",
   "execution_count": 52,
   "metadata": {},
   "outputs": [],
   "source": [
    "write(ListFromFile)"
   ]
  },
  {
   "cell_type": "markdown",
   "metadata": {},
   "source": [
    "let's if we can really read it back normally."
   ]
  },
  {
   "cell_type": "code",
   "execution_count": 53,
   "metadata": {},
   "outputs": [
    {
     "data": {
      "text/plain": [
       "['Harry',\n",
       " 'Ron',\n",
       " 'Hermione',\n",
       " 'Neville',\n",
       " 'George',\n",
       " 'Severus',\n",
       " 'Albus',\n",
       " 'Delphi',\n",
       " 'Tom',\n",
       " 'Seamus',\n",
       " 'Ginny',\n",
       " 'Minerva',\n",
       " 'Seamus',\n",
       " 'Luna',\n",
       " 'Fred',\n",
       " 'Percy',\n",
       " 'Tom',\n",
       " 'Seamus',\n",
       " 'Ginny',\n",
       " 'Minerva',\n",
       " 'Seamus',\n",
       " 'Luna',\n",
       " 'Fred',\n",
       " 'Percy']"
      ]
     },
     "execution_count": 53,
     "metadata": {},
     "output_type": "execute_result"
    }
   ],
   "source": [
    "read()"
   ]
  },
  {
   "cell_type": "markdown",
   "metadata": {},
   "source": [
    "### Example with a dictionary\n",
    "\n",
    "**step 1:** Write a dictionary"
   ]
  },
  {
   "cell_type": "code",
   "execution_count": 54,
   "metadata": {},
   "outputs": [],
   "source": [
    "write({\"Harry Potter Series\": [\"Harry\", \"Ron\", \"Hermione\", \"Neville\", \"George\", \"Severus\", \"Albus\", \"Delphi\"]})"
   ]
  },
  {
   "cell_type": "markdown",
   "metadata": {},
   "source": [
    "**Step 2:** Read It back from file"
   ]
  },
  {
   "cell_type": "code",
   "execution_count": 57,
   "metadata": {
    "scrolled": true
   },
   "outputs": [
    {
     "name": "stdout",
     "output_type": "stream",
     "text": [
      "{'Harry Potter Series': ['Harry', 'Ron', 'Hermione', 'Neville', 'George', 'Severus', 'Albus', 'Delphi']}\n"
     ]
    }
   ],
   "source": [
    "DictFromFile = read()\n",
    "print(DictFromFile)"
   ]
  },
  {
   "cell_type": "markdown",
   "metadata": {},
   "source": [
    "**Step 3:** Update with the required Dictionary:"
   ]
  },
  {
   "cell_type": "code",
   "execution_count": 61,
   "metadata": {},
   "outputs": [
    {
     "data": {
      "text/plain": [
       "{'Harry Potter Series': ['Harry',\n",
       "  'Ron',\n",
       "  'Hermione',\n",
       "  'Neville',\n",
       "  'George',\n",
       "  'Severus',\n",
       "  'Albus',\n",
       "  'Delphi'],\n",
       " 'Sherlock TV Series': ['Sherlock',\n",
       "  'John',\n",
       "  'Mycroft',\n",
       "  'Jim',\n",
       "  'Greg',\n",
       "  'Molly',\n",
       "  'Mrs. Hudson',\n",
       "  'Irene']}"
      ]
     },
     "execution_count": 61,
     "metadata": {},
     "output_type": "execute_result"
    }
   ],
   "source": [
    "new_dict = {\"Sherlock TV Series\":[\"Sherlock\", \"John\", \"Mycroft\", \"Jim\", \"Greg\", \"Molly\", \"Mrs. Hudson\", \"Irene\"]}\n",
    "DictFromFile.update(new_dict)\n",
    "DictFromFile"
   ]
  },
  {
   "cell_type": "markdown",
   "metadata": {},
   "source": [
    "**step 4:** dump it back"
   ]
  },
  {
   "cell_type": "code",
   "execution_count": 63,
   "metadata": {},
   "outputs": [],
   "source": [
    "write(DictFromFile)"
   ]
  },
  {
   "cell_type": "markdown",
   "metadata": {},
   "source": [
    "let's if we can really read it back normally."
   ]
  },
  {
   "cell_type": "code",
   "execution_count": 64,
   "metadata": {},
   "outputs": [
    {
     "data": {
      "text/plain": [
       "{'Harry Potter Series': ['Harry',\n",
       "  'Ron',\n",
       "  'Hermione',\n",
       "  'Neville',\n",
       "  'George',\n",
       "  'Severus',\n",
       "  'Albus',\n",
       "  'Delphi'],\n",
       " 'Sherlock TV Series': ['Sherlock',\n",
       "  'John',\n",
       "  'Mycroft',\n",
       "  'Jim',\n",
       "  'Greg',\n",
       "  'Molly',\n",
       "  'Mrs. Hudson',\n",
       "  'Irene']}"
      ]
     },
     "execution_count": 64,
     "metadata": {},
     "output_type": "execute_result"
    }
   ],
   "source": [
    "read()"
   ]
  },
  {
   "cell_type": "markdown",
   "metadata": {},
   "source": [
    "In short, we need to keep a single object into our json file."
   ]
  },
  {
   "cell_type": "markdown",
   "metadata": {},
   "source": [
    "# Reading json file with more then one object\n",
    "\n",
    "In case we have more than one object in our json file, we can not simply load the object. In order to get how we can do this, let us first us understand two more methods:\n",
    "1. ``dumps()``\n",
    "2. ``loads()``\n"
   ]
  },
  {
   "cell_type": "markdown",
   "metadata": {},
   "source": [
    "## ``json.dumps()``\n",
    "\n",
    "This method ecodes python object and returns the equivalent json object. it doesn't write to any file. For example,"
   ]
  },
  {
   "cell_type": "code",
   "execution_count": 66,
   "metadata": {},
   "outputs": [
    {
     "data": {
      "text/plain": [
       "str"
      ]
     },
     "execution_count": 66,
     "metadata": {},
     "output_type": "execute_result"
    }
   ],
   "source": [
    "AString = \"This is python string.\"\n",
    "type(AString)"
   ]
  },
  {
   "cell_type": "code",
   "execution_count": 71,
   "metadata": {
    "scrolled": true
   },
   "outputs": [
    {
     "name": "stdout",
     "output_type": "stream",
     "text": [
      "This is python string.\n",
      "\"This is python string.\"\n"
     ]
    }
   ],
   "source": [
    "AJsonStr = json.dumps(AString)\n",
    "print(AString)\n",
    "print(AJsonStr)"
   ]
  },
  {
   "cell_type": "markdown",
   "metadata": {},
   "source": [
    "In above example, Notice the difference the between the printing of both variable. One is simple string while the other is json string."
   ]
  },
  {
   "cell_type": "code",
   "execution_count": 72,
   "metadata": {},
   "outputs": [],
   "source": [
    "List1 = [2,5,7,2,3]\n",
    "AJsonArray = json.dumps(List1)"
   ]
  },
  {
   "cell_type": "code",
   "execution_count": 75,
   "metadata": {},
   "outputs": [
    {
     "name": "stdout",
     "output_type": "stream",
     "text": [
      "[2, 5, 7, 2, 3]\n"
     ]
    }
   ],
   "source": [
    "print(AJsonArray)"
   ]
  },
  {
   "cell_type": "code",
   "execution_count": 76,
   "metadata": {},
   "outputs": [
    {
     "name": "stdout",
     "output_type": "stream",
     "text": [
      "[2, 5, 7, 2, 3]\n"
     ]
    }
   ],
   "source": [
    "print(List1)"
   ]
  },
  {
   "cell_type": "markdown",
   "metadata": {},
   "source": [
    "Now even though both of these appears to be list but.\n"
   ]
  },
  {
   "cell_type": "code",
   "execution_count": 91,
   "metadata": {},
   "outputs": [
    {
     "name": "stdout",
     "output_type": "stream",
     "text": [
      "<class 'str'>\n"
     ]
    }
   ],
   "source": [
    "print(type(AJsonArray))"
   ]
  },
  {
   "cell_type": "code",
   "execution_count": 92,
   "metadata": {},
   "outputs": [
    {
     "name": "stdout",
     "output_type": "stream",
     "text": [
      "<class 'list'>\n"
     ]
    }
   ],
   "source": [
    "print(type(List1))"
   ]
  },
  {
   "cell_type": "markdown",
   "metadata": {},
   "source": [
    "Now both are of ifferent types as ``dumps`` returned the encoded string."
   ]
  },
  {
   "cell_type": "markdown",
   "metadata": {},
   "source": [
    "## ``json.loads()``\n",
    "\n",
    "This method takes json encoded object and then decode it into a python object. Using the above encoded strings, we will try to decode those objects."
   ]
  },
  {
   "cell_type": "code",
   "execution_count": 93,
   "metadata": {},
   "outputs": [],
   "source": [
    "APyStr = json.loads(AJsonStr) "
   ]
  },
  {
   "cell_type": "code",
   "execution_count": 94,
   "metadata": {},
   "outputs": [
    {
     "data": {
      "text/plain": [
       "'This is python string.'"
      ]
     },
     "execution_count": 94,
     "metadata": {},
     "output_type": "execute_result"
    }
   ],
   "source": [
    "APyStr"
   ]
  },
  {
   "cell_type": "code",
   "execution_count": 96,
   "metadata": {},
   "outputs": [],
   "source": [
    "APyList = json.loads(AJsonArray)"
   ]
  },
  {
   "cell_type": "code",
   "execution_count": 97,
   "metadata": {},
   "outputs": [
    {
     "data": {
      "text/plain": [
       "[2, 5, 7, 2, 3]"
      ]
     },
     "execution_count": 97,
     "metadata": {},
     "output_type": "execute_result"
    }
   ],
   "source": [
    "APyList"
   ]
  },
  {
   "cell_type": "markdown",
   "metadata": {},
   "source": [
    "### Let us append multiple objects now.\n",
    "\n",
    "While appending to a json file, we cannot simply use ``dump()`` method. We need to first need to encode our python object into a json object. and then use ``FileHandler.write()`` mehtod to append this object into json file. We have, therfore, lost automaticity of ``dump()`` method. Let us first write something to our json file.\n"
   ]
  },
  {
   "cell_type": "code",
   "execution_count": 129,
   "metadata": {},
   "outputs": [],
   "source": [
    "with open(\"DataFile.json\", \"w\") as FileHandler:\n",
    "    json.dump([1,2,3,4,5], FileHandler)"
   ]
  },
  {
   "cell_type": "markdown",
   "metadata": {},
   "source": [
    "Now our json file carries a single *json array* Now in order to append further objects:"
   ]
  },
  {
   "cell_type": "code",
   "execution_count": 130,
   "metadata": {},
   "outputs": [],
   "source": [
    "with open(\"DataFile.json\", \"a\") as FileHandler:\n",
    "    jsonObj = json.dumps([6,7,8,9,10])\n",
    "    FileHandler.write(\"\\n\" + jsonObj)"
   ]
  },
  {
   "cell_type": "markdown",
   "metadata": {},
   "source": [
    "The above code works in following manner:\n",
    "1. Line 1: Open file in append mode, and assign a file handler.\n",
    "2. Line 2: Encode the Python Object to be written into json file.\n",
    "3. Lin3 3: write to file, *not dump*, using filehandler and append a new line character."
   ]
  },
  {
   "cell_type": "markdown",
   "metadata": {},
   "source": [
    "### Reading back the file with multiple objects\n",
    "\n",
    "When we load a sinlge json object from file, it is decoded back to python object but when it has multiple object, the can't be decoded by ``load()`` method as it can decode a very single object. We have to *read* using file handler, not *load*, each object and *decode* each object manually. Now let us use the read the file creared above."
   ]
  },
  {
   "cell_type": "code",
   "execution_count": 141,
   "metadata": {},
   "outputs": [
    {
     "name": "stdout",
     "output_type": "stream",
     "text": [
      "[[1, 2, 3, 4, 5], [6, 7, 8, 9, 10]]\n"
     ]
    }
   ],
   "source": [
    "MultipleObjFromJSON = []\n",
    "with open(\"DataFile.json\", \"r\") as FileHandler:\n",
    "    for each_Obj in FileHandler:\n",
    "        DecodedObj = json.loads(each_Obj)\n",
    "        MultipleObjFromJSON.append(DecodedObj)\n",
    "print(MultipleObjFromJSON)"
   ]
  },
  {
   "cell_type": "markdown",
   "metadata": {},
   "source": [
    "The above code works in following manner.\n",
    "\n",
    "1. Line 1: A list to store all object read from file.\n",
    "2. Line 2: Open File in read mode.\n",
    "3. Line 3: ``each_Obj`` iterates over all objects in file using ``FileHandler``.\n",
    "4. Line 4: ``each_Obj`` in file is decoded individually by ``loads()`` methods.\n",
    "5. Line 5: ``DecodedObj`` is appened into list."
   ]
  },
  {
   "cell_type": "code",
   "execution_count": null,
   "metadata": {},
   "outputs": [],
   "source": []
  }
 ],
 "metadata": {
  "kernelspec": {
   "display_name": "Python 3",
   "language": "python",
   "name": "python3"
  },
  "language_info": {
   "codemirror_mode": {
    "name": "ipython",
    "version": 3
   },
   "file_extension": ".py",
   "mimetype": "text/x-python",
   "name": "python",
   "nbconvert_exporter": "python",
   "pygments_lexer": "ipython3",
   "version": "3.7.6"
  }
 },
 "nbformat": 4,
 "nbformat_minor": 4
}
