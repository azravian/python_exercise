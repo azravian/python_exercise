{
 "cells": [
  {
   "cell_type": "markdown",
   "metadata": {},
   "source": [
    "# Modules\n",
    "\n",
    "as we keep writing code in single file, the file keep getting long and long, it is difficult to read code in a such long file. One may distirbute this code into multiple file, each file carrying some code. These files are called ``module``, which can be then imported then used in program.\n",
    "<br>\n",
    "another advantage of creating a module is the portability of the code. suppose we have a function, that we need to use in three different programs. We create a module with this function and this module is then imported in these programs. "
   ]
  },
  {
   "cell_type": "markdown",
   "metadata": {},
   "source": [
    "# What a module is?\n",
    "\n",
    "A module is simply a ``.py`` file which carry the funcation(s), class(es) or statement(s). This file can also called ``script``. The module name which is used when importing it, is same as the file name.<br>\n",
    "_Note: Jupyter notebook file ``.ipynb`` cannot be used as module._"
   ]
  },
  {
   "cell_type": "markdown",
   "metadata": {},
   "source": [
    "# Some useful jupyter magic command\n",
    "\n",
    "before jumping into modules, let me explain a few magic commands which are not necessary but will be helpful if we are to use jupyter notebook. For now we'll discuss four ``magic commands`` that are ``%pwd`` ``%%writefile``, ``%load`` and ``%run``.\n",
    "\n",
    "## ``%pwd``: \n",
    "\n",
    "This magic command would give the current working directory:"
   ]
  },
  {
   "cell_type": "code",
   "execution_count": 13,
   "metadata": {},
   "outputs": [
    {
     "data": {
      "text/plain": [
       "'C:\\\\Users\\\\azrav'"
      ]
     },
     "execution_count": 13,
     "metadata": {},
     "output_type": "execute_result"
    }
   ],
   "source": [
    "%pwd"
   ]
  },
  {
   "cell_type": "markdown",
   "metadata": {},
   "source": [
    "## ``%%writefile``:\n",
    "\n",
    "syntax: <br>\n",
    "``%%writefile [-a] filname``\n",
    "<br>\n",
    "It save the content of cell in file named ``filename`` in current working directory.\n",
    "\n",
    "where ``[-a]`` is optional which is to be used if one want to append the existing file. For example, ``%%writefile WrittenFile.py`` would write the content of cell in ``WrittenFile.py`` in my current directory."
   ]
  },
  {
   "cell_type": "code",
   "execution_count": 19,
   "metadata": {},
   "outputs": [
    {
     "name": "stdout",
     "output_type": "stream",
     "text": [
      "Writing WrittenFile.py\n"
     ]
    }
   ],
   "source": [
    "%%writefile WrittenFile.py\n",
    "\n",
    "def func(a,b):\n",
    "    return a + b\n",
    "\n",
    "c = func(2,4)\n",
    "print(c)"
   ]
  },
  {
   "cell_type": "markdown",
   "metadata": {},
   "source": [
    "The above code have created file ``WrittenFile.py`` in working directory. It's would be shorter and effective way while creating modules.\n",
    "<img src=\"py file.png\" alt=\"File not found\" title=\".py file created\" />"
   ]
  },
  {
   "cell_type": "markdown",
   "metadata": {},
   "source": [
    "## ``%load``\n",
    "\n",
    "syntax: <br>\n",
    "``%load filename``\n",
    "<br><br>\n",
    "This magic command will load the contents of a file in a jupyer cell, not be confused with ``import``. it would be usefule if we wanna check the content of script without opening that file. For example let's load our created file back into a cell."
   ]
  },
  {
   "cell_type": "code",
   "execution_count": 20,
   "metadata": {},
   "outputs": [],
   "source": [
    "# %load WrittenFile.py\n",
    "\n",
    "def func(a,b):\n",
    "    return a + b\n",
    "\n",
    "c = func(2,4)\n"
   ]
  },
  {
   "cell_type": "markdown",
   "metadata": {},
   "source": [
    "## ``%run``\n",
    "syntax: ``%run filename``\n",
    "<br>\n",
    "runs a python script file ``.py`` file(not ``.ipynb`` file) in the given cell without loading code in the file. "
   ]
  },
  {
   "cell_type": "code",
   "execution_count": 21,
   "metadata": {},
   "outputs": [
    {
     "name": "stdout",
     "output_type": "stream",
     "text": [
      "6\n"
     ]
    }
   ],
   "source": [
    "%run WrittenFile.py"
   ]
  },
  {
   "cell_type": "markdown",
   "metadata": {},
   "source": [
    "# Creating a module.\n",
    "As discussed earlier, module is simply a .py file that contains python code. We must create module before importing it.\n",
    "We can create a module file by two mthods, \n",
    "1. using text or code editor.\n",
    "2. using %%writefile magic command.\n",
    "\n",
    "## Using text or Code editor:\n",
    "\n",
    "one may simply open a text editor, for example notepad for windows or TextEdit for Mac OS, or a code editor such as VS Code. just follow the following steps:\n",
    "1. Open text/Code editor.\n",
    "2. Paste or write your code.\n",
    "3. Save this file as ``ModuleName.py``\n",
    "\n",
    "for example, copy paste following code in a text/code editor and saved it as ``ModuleA.py`` in working directory which is ``C:\\users\\azrav`` for me.\n",
    "````python\n",
    "def function():\n",
    "    print(\"This is a function imported from moduleA.\")\n",
    "````\n",
    "\n",
    "<img src=\"moduleA.png\" alt=\"File not found\" title=\".py file created\" />"
   ]
  },
  {
   "cell_type": "markdown",
   "metadata": {},
   "source": [
    "## Using %%writefile magic command\n",
    "\n",
    "Using this command we can export our cell into a script file. The details were already discussed previously. so let's create a ``ModuleB`` using this magic command."
   ]
  },
  {
   "cell_type": "code",
   "execution_count": 23,
   "metadata": {},
   "outputs": [
    {
     "name": "stdout",
     "output_type": "stream",
     "text": [
      "Writing ModuleB.py\n"
     ]
    }
   ],
   "source": [
    "%%writefile ModuleB.py\n",
    "\n",
    "def function():\n",
    "    print(\"This is a function imported from ModuleB.\")\n",
    "\n",
    "def function1():\n",
    "    print(\"This is a function1 imported from ModuleB.\")\n",
    "\n",
    "def function2():\n",
    "    print(\"This is a function2 imported from ModuleB.\")\n",
    "\n"
   ]
  },
  {
   "cell_type": "markdown",
   "metadata": {},
   "source": [
    "Now I have two modules in working directory.\n",
    "<img src=\"module.png\" alt=\"File not found\" title=\"Modules in directory\" />"
   ]
  },
  {
   "cell_type": "markdown",
   "metadata": {},
   "source": [
    "# Importing a Module\n",
    "\n",
    "a module is imported by using ``import`` keyword followed by module name. let's first import out ``moduleA`` we created earlier.\n"
   ]
  },
  {
   "cell_type": "code",
   "execution_count": 24,
   "metadata": {},
   "outputs": [],
   "source": [
    "import moduleA"
   ]
  },
  {
   "cell_type": "markdown",
   "metadata": {},
   "source": [
    "Now ``moduleA`` has been imported. Notice that while importing we don't need to give ``.py`` with module name. Now let's import our other module ``moduleB``"
   ]
  },
  {
   "cell_type": "code",
   "execution_count": 27,
   "metadata": {},
   "outputs": [],
   "source": [
    "import ModuleB"
   ]
  },
  {
   "cell_type": "markdown",
   "metadata": {},
   "source": [
    "# Calling a function from the module.\n",
    "\n",
    "Once a module has been imported, we can use ``dot notation`` to call a fucntion in this module. for example we have a function named ``function`` in ``moduleA``, in order to call this function."
   ]
  },
  {
   "cell_type": "code",
   "execution_count": 51,
   "metadata": {},
   "outputs": [
    {
     "name": "stdout",
     "output_type": "stream",
     "text": [
      "This is a function imported from moduleA.\n"
     ]
    }
   ],
   "source": [
    "moduleA.function()"
   ]
  },
  {
   "cell_type": "markdown",
   "metadata": {},
   "source": [
    "similarly to call functions from ``ModuleB``"
   ]
  },
  {
   "cell_type": "code",
   "execution_count": 29,
   "metadata": {},
   "outputs": [
    {
     "name": "stdout",
     "output_type": "stream",
     "text": [
      "This is a function imported from ModuleB.\n"
     ]
    }
   ],
   "source": [
    "ModuleB.function()"
   ]
  },
  {
   "cell_type": "code",
   "execution_count": 30,
   "metadata": {},
   "outputs": [
    {
     "name": "stdout",
     "output_type": "stream",
     "text": [
      "This is a function1 imported from ModuleB.\n"
     ]
    }
   ],
   "source": [
    "ModuleB.function1()"
   ]
  },
  {
   "cell_type": "code",
   "execution_count": 31,
   "metadata": {},
   "outputs": [
    {
     "name": "stdout",
     "output_type": "stream",
     "text": [
      "This is a function1 imported from ModuleB.\n"
     ]
    }
   ],
   "source": [
    "ModuleB.function1()"
   ]
  },
  {
   "cell_type": "markdown",
   "metadata": {},
   "source": [
    "# Importing specific function from a module.\n",
    "\n",
    "we can import one or some function(s) from a module instead of importing whole module. let us create another module named ``MathMod``"
   ]
  },
  {
   "cell_type": "code",
   "execution_count": 71,
   "metadata": {},
   "outputs": [
    {
     "name": "stdout",
     "output_type": "stream",
     "text": [
      "Overwriting MathMod.py\n"
     ]
    }
   ],
   "source": [
    "%%writefile MathMod.py\n",
    "\n",
    "def div(num1, num2):\n",
    "    \"\"\" divides two numbers \"\"\"\n",
    "    return num1/num2\n",
    "\n",
    "def fdiv(num1,num2):\n",
    "    \"\"\" floor division of two numbers \"\"\"\n",
    "    return num1 // num2\n",
    "\n",
    "def add(*argv):\n",
    "    \"\"\" add n numbers \"\"\"\n",
    "    return sum(argv)\n",
    "\n",
    "def avg(*argv):\n",
    "    \"\"\" returns the average of numbers \"\"\"\n",
    "    return sum(argv) / len(argv)\n",
    "\n"
   ]
  },
  {
   "cell_type": "markdown",
   "metadata": {},
   "source": [
    "Now let us only ``avg()`` function from this module. for this purpose we use following syntax:<br>\n",
    "``from ModuleName import FunctionName`` <br>\n",
    "for our example"
   ]
  },
  {
   "cell_type": "code",
   "execution_count": 66,
   "metadata": {},
   "outputs": [],
   "source": [
    "from MathMod import avg"
   ]
  },
  {
   "cell_type": "code",
   "execution_count": 67,
   "metadata": {},
   "outputs": [
    {
     "data": {
      "text/plain": [
       "4.0"
      ]
     },
     "execution_count": 67,
     "metadata": {},
     "output_type": "execute_result"
    }
   ],
   "source": [
    "avg(3,5)"
   ]
  },
  {
   "cell_type": "markdown",
   "metadata": {},
   "source": [
    "Now since we have imported a single function, we don't need to use module name with function name. \n",
    "in order to import more than one function:"
   ]
  },
  {
   "cell_type": "code",
   "execution_count": 72,
   "metadata": {},
   "outputs": [],
   "source": [
    "from MathMod import avg, fdiv"
   ]
  },
  {
   "cell_type": "code",
   "execution_count": 73,
   "metadata": {},
   "outputs": [
    {
     "data": {
      "text/plain": [
       "13.0"
      ]
     },
     "execution_count": 73,
     "metadata": {},
     "output_type": "execute_result"
    }
   ],
   "source": [
    "avg(14, 8, 10, 20)"
   ]
  },
  {
   "cell_type": "markdown",
   "metadata": {},
   "source": [
    "Invoking function with module name would generate an error now because whole module is not being imported. "
   ]
  },
  {
   "cell_type": "code",
   "execution_count": 75,
   "metadata": {},
   "outputs": [
    {
     "ename": "NameError",
     "evalue": "name 'MathMod' is not defined",
     "output_type": "error",
     "traceback": [
      "\u001b[1;31m---------------------------------------------------------------------------\u001b[0m",
      "\u001b[1;31mNameError\u001b[0m                                 Traceback (most recent call last)",
      "\u001b[1;32m<ipython-input-75-7c656ae0630a>\u001b[0m in \u001b[0;36m<module>\u001b[1;34m\u001b[0m\n\u001b[1;32m----> 1\u001b[1;33m \u001b[0mMathMod\u001b[0m\u001b[1;33m.\u001b[0m\u001b[0mfdiv\u001b[0m\u001b[1;33m(\u001b[0m\u001b[1;36m5\u001b[0m\u001b[1;33m,\u001b[0m\u001b[1;36m2\u001b[0m\u001b[1;33m)\u001b[0m\u001b[1;33m\u001b[0m\u001b[1;33m\u001b[0m\u001b[0m\n\u001b[0m",
      "\u001b[1;31mNameError\u001b[0m: name 'MathMod' is not defined"
     ]
    }
   ],
   "source": [
    "MathMod.fdiv(5,2)"
   ]
  },
  {
   "cell_type": "markdown",
   "metadata": {},
   "source": [
    "# Giving a Module an alias\n",
    "\n",
    "a module can be imported an with an alias, an alternatice shorter name which one can be used for this module. for example, let's import our ``MathMod`` and give it an alias ``md`` it can be done by"
   ]
  },
  {
   "cell_type": "code",
   "execution_count": 76,
   "metadata": {},
   "outputs": [],
   "source": [
    "import MathMod as md"
   ]
  },
  {
   "cell_type": "markdown",
   "metadata": {},
   "source": [
    "now throughout in our code, whenever we need to use this module, we would invoke it as ``md``. for example."
   ]
  },
  {
   "cell_type": "code",
   "execution_count": 77,
   "metadata": {},
   "outputs": [
    {
     "data": {
      "text/plain": [
       "26.0"
      ]
     },
     "execution_count": 77,
     "metadata": {},
     "output_type": "execute_result"
    }
   ],
   "source": [
    "md.avg(12,13,25,54)"
   ]
  },
  {
   "cell_type": "markdown",
   "metadata": {},
   "source": [
    "and ``MathMod`` would be unknown and error will be generated when used."
   ]
  },
  {
   "cell_type": "code",
   "execution_count": 78,
   "metadata": {},
   "outputs": [
    {
     "ename": "NameError",
     "evalue": "name 'MathMod' is not defined",
     "output_type": "error",
     "traceback": [
      "\u001b[1;31m---------------------------------------------------------------------------\u001b[0m",
      "\u001b[1;31mNameError\u001b[0m                                 Traceback (most recent call last)",
      "\u001b[1;32m<ipython-input-78-5f2e9fc55114>\u001b[0m in \u001b[0;36m<module>\u001b[1;34m\u001b[0m\n\u001b[1;32m----> 1\u001b[1;33m \u001b[0mMathMod\u001b[0m\u001b[1;33m.\u001b[0m\u001b[0mavg\u001b[0m\u001b[1;33m(\u001b[0m\u001b[1;36m12\u001b[0m\u001b[1;33m,\u001b[0m\u001b[1;36m51\u001b[0m\u001b[1;33m)\u001b[0m\u001b[1;33m\u001b[0m\u001b[1;33m\u001b[0m\u001b[0m\n\u001b[0m",
      "\u001b[1;31mNameError\u001b[0m: name 'MathMod' is not defined"
     ]
    }
   ],
   "source": [
    "MathMod.avg(12,51)"
   ]
  },
  {
   "cell_type": "markdown",
   "metadata": {},
   "source": [
    "# Giving an imported function an alias.\n",
    "\n",
    "Similar to a module a function can also be given aliases, this is crucial if we have functions with same names in two module. it can be done using: "
   ]
  },
  {
   "cell_type": "code",
   "execution_count": 80,
   "metadata": {},
   "outputs": [
    {
     "data": {
      "text/plain": [
       "2"
      ]
     },
     "execution_count": 80,
     "metadata": {},
     "output_type": "execute_result"
    }
   ],
   "source": [
    "from MathMod import fdiv as floorDiv\n",
    "\n",
    "floorDiv(9, 4)"
   ]
  },
  {
   "cell_type": "markdown",
   "metadata": {},
   "source": [
    "Notice that ``fdiv()`` is being given a name of ``floorDiv()`` reoughly that means\n",
    "<br>\n",
    "```` python\n",
    "floorDiv = mathMod.fdiv\n",
    "````"
   ]
  },
  {
   "cell_type": "markdown",
   "metadata": {},
   "source": [
    "# Class as Module.\n",
    "\n",
    "A module can house classes as well, let us create a module for complex number class we defined in ``Class Notes``"
   ]
  },
  {
   "cell_type": "code",
   "execution_count": 92,
   "metadata": {},
   "outputs": [
    {
     "name": "stdout",
     "output_type": "stream",
     "text": [
      "Writing ComplexNumModule.py\n"
     ]
    }
   ],
   "source": [
    "%%writefile ComplexNumModule.py\n",
    "\n",
    "class ComplexNum:\n",
    "    \n",
    "    def __init__(self, real = 0, img = 0):\n",
    "        self._real = real\n",
    "        self._img = img\n",
    "        \n",
    "    @property #set the following method as getter for real\n",
    "    def real(self):\n",
    "        return self._real\n",
    "    \n",
    "    @real.setter #sets the following methods as setter for real\n",
    "    def real(self, newreal):\n",
    "        self._real = newreal\n",
    "        \n",
    "    @real.deleter #sets the following method for attr. deletion for real\n",
    "    def real(self):\n",
    "        del self._real\n",
    "    \n",
    "    @property #set the following method as getter for img\n",
    "    def img(self):\n",
    "        return self._img\n",
    "    \n",
    "    @img.setter #sets the following methods as setter for img\n",
    "    def img(self, newImg):\n",
    "        self._img = newImg\n",
    "        \n",
    "    @img.deleter #sets the following method for attr. deletion for img\n",
    "    def img(self):\n",
    "        del self._img\n",
    "    \n",
    "    def modulus(self):\n",
    "        return (self.real**2 + self.img**2)**0.5\n",
    "    \n",
    "    def Conjugate(self):\n",
    "        #returns conjugate of complex number.\n",
    "        return ComplexNum(self.real, -self.img)\n",
    "    \n",
    "    # Overloading string\n",
    "    def __str__(self):\n",
    "        return f\"{self.real}+{self.img}j\"\n",
    "    \n",
    "    # Overloading + operator\n",
    "    def __add__(self, other):\n",
    "        NewReal = self.real + other.real\n",
    "        NewImg = self.img + other.img\n",
    "        SumCompNum = ComplexNum(NewReal, NewImg)\n",
    "        return SumCompNum\n",
    "    \n",
    "    # Overloading - operator\n",
    "    def __sub__(self, other):\n",
    "        NewReal = self.real - other.real\n",
    "        NewImg = self.img - other.img\n",
    "        SubCompNum = ComplexNum(NewReal, NewImg)\n",
    "        return SubCompNum\n",
    "    \n",
    "    # Overloading * operator \n",
    "    def __mul__(self, other):\n",
    "        # (a+bj) * (x+yj) = (a*x - b*y) + (a*y + b*x)j\n",
    "        NewReal = (self.real * other.real) - (self.img * other.img)\n",
    "        NewImg = (self.real * other.img) + (self.img * other.real)\n",
    "        return ComplexNum(NewReal, NewImg)\n",
    "    \n",
    "    # Overloading div / operator\n",
    "    def __truediv__(self, other):\n",
    "        NewReal = ((self.real * other.real) + (self.img * other.img)) / (other.real**2 + other.img**2)\n",
    "        NewImg = ((other.real * self.img) - (self.real * other.img)) / (other.real**2 + other.img**2)\n",
    "        return ComplexNum(NewReal, NewImg)\n",
    "    \n",
    "    # Overloading // operator for modulus division\n",
    "    def __floordiv__(self, other):\n",
    "        return self.modulus() / other.modulus()\n",
    "    \n",
    "    # Overload == operator\n",
    "    def __eq__(self, other):\n",
    "        if self.real == other.real and self.img == other.img:\n",
    "            return True\n",
    "        else:\n",
    "            return False\n",
    "    \n",
    "    #overload != Operator\n",
    "    def __ne__(self, other):\n",
    "        if self.real != other.real or self.img != other.img:\n",
    "            return True\n",
    "        else:\n",
    "            return False\n",
    "    \n",
    "    #Overload > Operator\n",
    "    def __gt__(self, other):\n",
    "        if self.modulus() > other.modulus():\n",
    "            return True\n",
    "        else:\n",
    "            return False\n",
    "    \n",
    "    #Overloads < operator\n",
    "    def __lt__(self, other):\n",
    "        if self.modulus() < other.modulus():\n",
    "            return True\n",
    "        else:\n",
    "            return False\n",
    "        \n",
    "    #Overload >= Operator\n",
    "    def __ge__(self, other):\n",
    "        # At this point we can use ==, !=, >, and < operators as thy are already defined above\n",
    "        if self > other and self == other:\n",
    "            return True\n",
    "        else:\n",
    "            return False\n",
    "    \n",
    "    #Overloads <= Operator\n",
    "    def __le__(self, other):\n",
    "        if self < other and self == other:\n",
    "            return True\n",
    "        else:\n",
    "            return False"
   ]
  },
  {
   "cell_type": "markdown",
   "metadata": {},
   "source": [
    "# Importing module with class\n",
    "\n",
    "importing a module is same as any other module."
   ]
  },
  {
   "cell_type": "code",
   "execution_count": 94,
   "metadata": {},
   "outputs": [],
   "source": [
    "import ComplexNumModule"
   ]
  },
  {
   "cell_type": "markdown",
   "metadata": {},
   "source": [
    "# Using class module.\n",
    "\n",
    "Now in order to create an object with this we follow the following syntax:"
   ]
  },
  {
   "cell_type": "code",
   "execution_count": 100,
   "metadata": {},
   "outputs": [
    {
     "data": {
      "text/plain": [
       "5.0"
      ]
     },
     "execution_count": 100,
     "metadata": {},
     "output_type": "execute_result"
    }
   ],
   "source": [
    "CompNum1 = ComplexNumModule.ComplexNum(4, 3)\n",
    "CompNum1.modulus()"
   ]
  },
  {
   "cell_type": "markdown",
   "metadata": {},
   "source": [
    "We used used ModuleName``.``ClassName, which for our example is ``ComplexNumModule.ComplexNum()`` <br>\n",
    "We can also import only class from a module, and an alias can be specified for this class. In such case we only need class name or alias and no need to specify module name in dot notation."
   ]
  },
  {
   "cell_type": "code",
   "execution_count": 102,
   "metadata": {},
   "outputs": [],
   "source": [
    "from ComplexNumModule import ComplexNum as CN"
   ]
  },
  {
   "cell_type": "code",
   "execution_count": 103,
   "metadata": {},
   "outputs": [],
   "source": [
    "CompNum2 = CN(5, 5)"
   ]
  },
  {
   "cell_type": "code",
   "execution_count": 104,
   "metadata": {},
   "outputs": [
    {
     "data": {
      "text/plain": [
       "7.0710678118654755"
      ]
     },
     "execution_count": 104,
     "metadata": {},
     "output_type": "execute_result"
    }
   ],
   "source": [
    "CompNum2.modulus()"
   ]
  },
  {
   "cell_type": "markdown",
   "metadata": {},
   "source": [
    "# Module with more than one Classes.\n",
    "\n",
    "Even though it is recommended to distribute each classes in separate modules, yet a module can have arbitrary numbers of class. let us create a module whcih contains multiple class and Name this module as MultipleClasses"
   ]
  },
  {
   "cell_type": "code",
   "execution_count": 106,
   "metadata": {},
   "outputs": [
    {
     "name": "stdout",
     "output_type": "stream",
     "text": [
      "Writing MultipleClasses.py\n"
     ]
    }
   ],
   "source": [
    "%%writefile MultipleClasses.py\n",
    "\n",
    "class ClassA():\n",
    "    def __init__(self):\n",
    "        self.a = \"This is class A\"\n",
    "    def show(self):\n",
    "        print(self.a)\n",
    "        \n",
    "class ClassB():\n",
    "    def __init__(self):\n",
    "        self.b = \"This is class B\"\n",
    "    def show(self):\n",
    "        print(self.b)\n",
    "        \n",
    "class ClassC():\n",
    "    def __init__(self):\n",
    "        self.c = \"This is class C\"\n",
    "    def show(self):\n",
    "        print(self.c)\n",
    "\n",
    "class ClassD():\n",
    "    def __init__(self):\n",
    "        self.d = \"This is class D\"\n",
    "    def show(self):\n",
    "        print(self.d)\n",
    "        \n",
    "class ClassE():\n",
    "    def __init__(self):\n",
    "        self.e = \"This is class E\"\n",
    "    def show(self):\n",
    "        print(self.e)"
   ]
  },
  {
   "cell_type": "markdown",
   "metadata": {},
   "source": [
    "## Importing module with multiple classes.\n",
    "\n",
    "such module is called same as any other module. It will import all classes in this module, and each class can be used using dot notation with module name. for example importing this module and creating instance of these classes."
   ]
  },
  {
   "cell_type": "code",
   "execution_count": 107,
   "metadata": {},
   "outputs": [],
   "source": [
    "import MultipleClasses"
   ]
  },
  {
   "cell_type": "code",
   "execution_count": 109,
   "metadata": {},
   "outputs": [
    {
     "name": "stdout",
     "output_type": "stream",
     "text": [
      "This is class A\n"
     ]
    }
   ],
   "source": [
    "classAInst = MultipleClasses.ClassA()\n",
    "classAInst.show()"
   ]
  },
  {
   "cell_type": "code",
   "execution_count": 110,
   "metadata": {},
   "outputs": [
    {
     "name": "stdout",
     "output_type": "stream",
     "text": [
      "This is class B\n"
     ]
    }
   ],
   "source": [
    "classBInst = MultipleClasses.ClassB()\n",
    "classBInst.show()"
   ]
  },
  {
   "cell_type": "code",
   "execution_count": 111,
   "metadata": {},
   "outputs": [
    {
     "name": "stdout",
     "output_type": "stream",
     "text": [
      "This is class D\n"
     ]
    }
   ],
   "source": [
    "classDInst = MultipleClasses.ClassD()\n",
    "classDInst.show()"
   ]
  },
  {
   "cell_type": "markdown",
   "metadata": {},
   "source": [
    "## Importing only one class from a module.\n",
    "\n",
    "One may import only one class from a module. for example,"
   ]
  },
  {
   "cell_type": "code",
   "execution_count": 112,
   "metadata": {},
   "outputs": [],
   "source": [
    "from MultipleClasses import ClassB"
   ]
  },
  {
   "cell_type": "markdown",
   "metadata": {},
   "source": [
    "will import only ``ClassB`` from module ``MultipleClasses``."
   ]
  },
  {
   "cell_type": "code",
   "execution_count": 114,
   "metadata": {},
   "outputs": [
    {
     "name": "stdout",
     "output_type": "stream",
     "text": [
      "This is class B\n"
     ]
    }
   ],
   "source": [
    "ClassBObj = ClassB()\n",
    "ClassBObj.show()"
   ]
  },
  {
   "cell_type": "markdown",
   "metadata": {},
   "source": [
    "and this class can be given aliases"
   ]
  },
  {
   "cell_type": "code",
   "execution_count": 115,
   "metadata": {},
   "outputs": [],
   "source": [
    "from MultipleClasses import ClassE as WorkingClass"
   ]
  },
  {
   "cell_type": "code",
   "execution_count": 117,
   "metadata": {},
   "outputs": [
    {
     "name": "stdout",
     "output_type": "stream",
     "text": [
      "This is class E\n"
     ]
    }
   ],
   "source": [
    "ClassEObj = WorkingClass()\n",
    "ClassEObj.show()"
   ]
  },
  {
   "cell_type": "markdown",
   "metadata": {},
   "source": [
    "## Import more than one classes from a Module\n",
    "\n",
    "we can import more than one classes from a module as below:\n"
   ]
  },
  {
   "cell_type": "code",
   "execution_count": 119,
   "metadata": {},
   "outputs": [],
   "source": [
    "from MultipleClasses import ClassE, ClassD, ClassC"
   ]
  },
  {
   "cell_type": "markdown",
   "metadata": {},
   "source": [
    "It will import only ``ClassE``, ``ClassD`` and ``ClassC``"
   ]
  },
  {
   "cell_type": "code",
   "execution_count": 120,
   "metadata": {},
   "outputs": [
    {
     "name": "stdout",
     "output_type": "stream",
     "text": [
      "This is class C\n"
     ]
    }
   ],
   "source": [
    "classCInst = ClassC()\n",
    "classCInst.show()"
   ]
  },
  {
   "cell_type": "code",
   "execution_count": 121,
   "metadata": {},
   "outputs": [
    {
     "name": "stdout",
     "output_type": "stream",
     "text": [
      "This is class D\n"
     ]
    }
   ],
   "source": [
    "classDInst = ClassD()\n",
    "classDInst.show()"
   ]
  },
  {
   "cell_type": "code",
   "execution_count": 122,
   "metadata": {},
   "outputs": [
    {
     "name": "stdout",
     "output_type": "stream",
     "text": [
      "This is class D\n"
     ]
    }
   ],
   "source": [
    "classEInst = ClassD()\n",
    "classDInst.show()"
   ]
  },
  {
   "cell_type": "markdown",
   "metadata": {},
   "source": [
    "## Giving aliases while importing multiple class\n",
    "\n",
    "multiple class can be given alias by using ``as`` keyword. an example is given below"
   ]
  },
  {
   "cell_type": "code",
   "execution_count": 123,
   "metadata": {},
   "outputs": [],
   "source": [
    "from MultipleClasses import ClassE as CE, ClassD as CD, ClassC as CC"
   ]
  },
  {
   "cell_type": "markdown",
   "metadata": {},
   "source": [
    "Now ``ClassE`` will be used with name ``CE``, ``ClassD`` will be used with name ``CD``, and ``ClassC`` will be used with name ``CC``"
   ]
  },
  {
   "cell_type": "code",
   "execution_count": 125,
   "metadata": {},
   "outputs": [
    {
     "name": "stdout",
     "output_type": "stream",
     "text": [
      "This is class C\n"
     ]
    }
   ],
   "source": [
    "classCInst = CC()\n",
    "classCInst.show()"
   ]
  },
  {
   "cell_type": "code",
   "execution_count": 126,
   "metadata": {},
   "outputs": [
    {
     "name": "stdout",
     "output_type": "stream",
     "text": [
      "This is class D\n"
     ]
    }
   ],
   "source": [
    "classDInst = CD()\n",
    "classDInst.show()"
   ]
  },
  {
   "cell_type": "code",
   "execution_count": 127,
   "metadata": {},
   "outputs": [
    {
     "name": "stdout",
     "output_type": "stream",
     "text": [
      "This is class E\n"
     ]
    }
   ],
   "source": [
    "classEInst = CE()\n",
    "classEInst.show()"
   ]
  },
  {
   "cell_type": "markdown",
   "metadata": {},
   "source": [
    "# importing a module with a wild card\n",
    "\n",
    "This wild card import have the following syntax.\n",
    "```` python\n",
    "from moduleName import *\n",
    "````\n",
    "\n",
    "when a module is imported like this, all functions or statement are improrted except for those whose name start with an underscore. let's first re-write our moduleB again and add some function:\n"
   ]
  },
  {
   "cell_type": "code",
   "execution_count": 1,
   "metadata": {},
   "outputs": [
    {
     "name": "stdout",
     "output_type": "stream",
     "text": [
      "Overwriting ModuleB.py\n"
     ]
    }
   ],
   "source": [
    "%%writefile ModuleB.py\n",
    "\n",
    "def function():\n",
    "    print(\"This is a function imported from ModuleB.\")\n",
    "\n",
    "def function1():\n",
    "    print(\"This is a function1 imported from ModuleB.\")\n",
    "\n",
    "def function2():\n",
    "    print(\"This is a function2 imported from ModuleB.\")\n",
    "\n",
    "def _function3():\n",
    "    print(\"This Function Name start with an underscore\")"
   ]
  },
  {
   "cell_type": "markdown",
   "metadata": {},
   "source": [
    "let's first import without wild card"
   ]
  },
  {
   "cell_type": "code",
   "execution_count": 2,
   "metadata": {},
   "outputs": [
    {
     "name": "stdout",
     "output_type": "stream",
     "text": [
      "This Function Name start with an underscore\n"
     ]
    }
   ],
   "source": [
    "import ModuleB as WithoutWC\n",
    "\n",
    "WithoutWC._function3()"
   ]
  },
  {
   "cell_type": "markdown",
   "metadata": {},
   "source": [
    "We could import and use ``_function()``. But now let's import with wild card:"
   ]
  },
  {
   "cell_type": "code",
   "execution_count": 3,
   "metadata": {},
   "outputs": [],
   "source": [
    "from ModuleB import *"
   ]
  },
  {
   "cell_type": "markdown",
   "metadata": {},
   "source": [
    "Now we have imported our ``ModuleB`` with a wild card. We don't have to give module name in order to invoke the functions in module. for example, to use ``function1()``"
   ]
  },
  {
   "cell_type": "code",
   "execution_count": 6,
   "metadata": {},
   "outputs": [
    {
     "name": "stdout",
     "output_type": "stream",
     "text": [
      "This is a function1 imported from ModuleB.\n"
     ]
    }
   ],
   "source": [
    "function1()"
   ]
  },
  {
   "cell_type": "markdown",
   "metadata": {},
   "source": [
    "However, when using wild card, methods and variables with thier names starting with an underscore are not imported ``_``. Now let's use ``_function3()`` "
   ]
  },
  {
   "cell_type": "code",
   "execution_count": 7,
   "metadata": {},
   "outputs": [
    {
     "ename": "NameError",
     "evalue": "name '_function3' is not defined",
     "output_type": "error",
     "traceback": [
      "\u001b[1;31m---------------------------------------------------------------------------\u001b[0m",
      "\u001b[1;31mNameError\u001b[0m                                 Traceback (most recent call last)",
      "\u001b[1;32m<ipython-input-7-5afa6451c774>\u001b[0m in \u001b[0;36m<module>\u001b[1;34m\u001b[0m\n\u001b[1;32m----> 1\u001b[1;33m \u001b[0m_function3\u001b[0m\u001b[1;33m(\u001b[0m\u001b[1;33m)\u001b[0m\u001b[1;33m\u001b[0m\u001b[1;33m\u001b[0m\u001b[0m\n\u001b[0m",
      "\u001b[1;31mNameError\u001b[0m: name '_function3' is not defined"
     ]
    }
   ],
   "source": [
    "_function3()"
   ]
  },
  {
   "cell_type": "markdown",
   "metadata": {},
   "source": [
    "Now we got error as if this ``_function()`` doesn't exist at all."
   ]
  },
  {
   "cell_type": "markdown",
   "metadata": {},
   "source": [
    "# ``__name__``== ``\"__main__\"`` \n",
    "\n",
    "``__main__`` is the name of the scope in which top-level code executes. A module’s ``__name__`` is set equal to ``__main__`` when read from standard input, a script, or from an interactive prompt.\n",
    "\n",
    "A module can discover whether or not it is running in the main scope by checking its own ``__name__``, which allows a common idiom for conditionally executing code in a module when it is run as a script or with python. Howerver this code won't execute if this script is being imported as module. for example, let us create a file with some code and save it as a script file."
   ]
  },
  {
   "cell_type": "code",
   "execution_count": 35,
   "metadata": {},
   "outputs": [
    {
     "name": "stdout",
     "output_type": "stream",
     "text": [
      "Overwriting TestMain.py\n"
     ]
    }
   ],
   "source": [
    "%%writefile TestMain.py\n",
    "\n",
    "print(\"this is outside \\\"__main__\\\"\")\n",
    "def MyDivider(n1, n2):\n",
    "    return n1 / n2\n",
    "\n",
    "def MyPow(n1,n2):\n",
    "    return n1**n2\n",
    "\n",
    "def MyProduct(n1,n2):\n",
    "    return n1*n2\n",
    "\n",
    "if __name__==\"__main__\":\n",
    "    print(\"this is inside \\\"__main__\\\"\")\n",
    "\n",
    "    def test_all_func():\n",
    "        print(MyDivider(10,5.0))\n",
    "        print(MyPow(2, 4))\n",
    "        print(MyProduct(2, 5))\n",
    "    \n",
    "    test_all_func()"
   ]
  },
  {
   "cell_type": "markdown",
   "metadata": {},
   "source": [
    "let's run this code, and see what is the output we get:"
   ]
  },
  {
   "cell_type": "code",
   "execution_count": 36,
   "metadata": {},
   "outputs": [
    {
     "name": "stdout",
     "output_type": "stream",
     "text": [
      "this is outside \"__main__\"\n",
      "this is inside \"__main__\"\n",
      "2.0\n",
      "16\n",
      "10\n"
     ]
    }
   ],
   "source": [
    "%run TestMain.py"
   ]
  },
  {
   "cell_type": "markdown",
   "metadata": {},
   "source": [
    "from above output of the execution we can see that we got the output in ``__name__==\"__main__\"`` block, which is:\n",
    "```` python\n",
    "if __name__==\"__main__\":\n",
    "    print(\"this is inside \\\"__main__\\\"\")\n",
    "\n",
    "    def test_all_func():\n",
    "        print(MyDivider(10,5.0))\n",
    "        print(MyPow(2, 4))\n",
    "        print(MyProduct(2, 5))\n",
    "    \n",
    "    test_all_func()\n",
    "````\n",
    "\n",
    "now let's see the behavior of this code when code in imported"
   ]
  },
  {
   "cell_type": "code",
   "execution_count": 38,
   "metadata": {},
   "outputs": [],
   "source": [
    "import TestMain"
   ]
  },
  {
   "cell_type": "markdown",
   "metadata": {},
   "source": [
    "let us call a function that is outside ``__name__==\"__main__\"`` block."
   ]
  },
  {
   "cell_type": "code",
   "execution_count": 39,
   "metadata": {},
   "outputs": [
    {
     "data": {
      "text/plain": [
       "5.0"
      ]
     },
     "execution_count": 39,
     "metadata": {},
     "output_type": "execute_result"
    }
   ],
   "source": [
    "TestMain.MyDivider(10,2)"
   ]
  },
  {
   "cell_type": "markdown",
   "metadata": {},
   "source": [
    "And now try to call ``test_all_func()`` which is inside ``__name__==\"__main__\"``"
   ]
  },
  {
   "cell_type": "code",
   "execution_count": 41,
   "metadata": {},
   "outputs": [
    {
     "ename": "AttributeError",
     "evalue": "module 'TestMain' has no attribute 'test_all_func'",
     "output_type": "error",
     "traceback": [
      "\u001b[1;31m---------------------------------------------------------------------------\u001b[0m",
      "\u001b[1;31mAttributeError\u001b[0m                            Traceback (most recent call last)",
      "\u001b[1;32m<ipython-input-41-cc9030f9ccfa>\u001b[0m in \u001b[0;36m<module>\u001b[1;34m\u001b[0m\n\u001b[1;32m----> 1\u001b[1;33m \u001b[0mTestMain\u001b[0m\u001b[1;33m.\u001b[0m\u001b[0mtest_all_func\u001b[0m\u001b[1;33m(\u001b[0m\u001b[1;33m)\u001b[0m\u001b[1;33m\u001b[0m\u001b[1;33m\u001b[0m\u001b[0m\n\u001b[0m",
      "\u001b[1;31mAttributeError\u001b[0m: module 'TestMain' has no attribute 'test_all_func'"
     ]
    }
   ],
   "source": [
    "TestMain.test_all_func()"
   ]
  },
  {
   "cell_type": "markdown",
   "metadata": {},
   "source": [
    "An error have been generated now as file is imported and in not a _Main script_ file"
   ]
  },
  {
   "cell_type": "code",
   "execution_count": null,
   "metadata": {},
   "outputs": [],
   "source": []
  }
 ],
 "metadata": {
  "kernelspec": {
   "display_name": "Python 3",
   "language": "python",
   "name": "python3"
  },
  "language_info": {
   "codemirror_mode": {
    "name": "ipython",
    "version": 3
   },
   "file_extension": ".py",
   "mimetype": "text/x-python",
   "name": "python",
   "nbconvert_exporter": "python",
   "pygments_lexer": "ipython3",
   "version": "3.7.6"
  }
 },
 "nbformat": 4,
 "nbformat_minor": 4
}
