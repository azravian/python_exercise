{
 "cells": [
  {
   "cell_type": "markdown",
   "metadata": {},
   "source": [
    "# txt file as Data File \n",
    "\n",
    "As all data is deleted once a program terminate, one may save data in txt file, and can than open the data from this file. In order to open a file, we need ``open()`` function. All variable are created in temporary memory, heap or RAM, and are destroyed as soon as the block for which this is defined completed. For example, we need to keep as track how many times our code have been executed. One may think following code might work:"
   ]
  },
  {
   "cell_type": "code",
   "execution_count": 12,
   "metadata": {},
   "outputs": [
    {
     "name": "stdout",
     "output_type": "stream",
     "text": [
      "0\n"
     ]
    }
   ],
   "source": [
    "RunFirstTime = True\n",
    "if RunFirstTime:\n",
    "    ExecutionNumer=0\n",
    "    RunFirstTime = False\n",
    "else:\n",
    "    ExecutionNumber += 1\n",
    "print(ExecutionNumber)"
   ]
  },
  {
   "cell_type": "markdown",
   "metadata": {},
   "source": [
    "but no matter how many times you run this code, ``ExecutionNumber`` will always be zero as all these variables will be deleted as soon as program complete this execution. We, therefore, need to store this on a permanent menory in order to keep this information intact. And here data file comes in play."
   ]
  },
  {
   "cell_type": "markdown",
   "metadata": {},
   "source": [
    "# Open Function:\n",
    "\n",
    "This ``open`` function have following syntax:"
   ]
  },
  {
   "cell_type": "code",
   "execution_count": 2,
   "metadata": {},
   "outputs": [
    {
     "name": "stdout",
     "output_type": "stream",
     "text": [
      "Help on built-in function open in module io:\n",
      "\n",
      "open(file, mode='r', buffering=-1, encoding=None, errors=None, newline=None, closefd=True, opener=None)\n",
      "    Open file and return a stream.  Raise OSError upon failure.\n",
      "    \n",
      "    file is either a text or byte string giving the name (and the path\n",
      "    if the file isn't in the current working directory) of the file to\n",
      "    be opened or an integer file descriptor of the file to be\n",
      "    wrapped. (If a file descriptor is given, it is closed when the\n",
      "    returned I/O object is closed, unless closefd is set to False.)\n",
      "    \n",
      "    mode is an optional string that specifies the mode in which the file\n",
      "    is opened. It defaults to 'r' which means open for reading in text\n",
      "    mode.  Other common values are 'w' for writing (truncating the file if\n",
      "    it already exists), 'x' for creating and writing to a new file, and\n",
      "    'a' for appending (which on some Unix systems, means that all writes\n",
      "    append to the end of the file regardless of the current seek position).\n",
      "    In text mode, if encoding is not specified the encoding used is platform\n",
      "    dependent: locale.getpreferredencoding(False) is called to get the\n",
      "    current locale encoding. (For reading and writing raw bytes use binary\n",
      "    mode and leave encoding unspecified.) The available modes are:\n",
      "    \n",
      "    ========= ===============================================================\n",
      "    Character Meaning\n",
      "    --------- ---------------------------------------------------------------\n",
      "    'r'       open for reading (default)\n",
      "    'w'       open for writing, truncating the file first\n",
      "    'x'       create a new file and open it for writing\n",
      "    'a'       open for writing, appending to the end of the file if it exists\n",
      "    'b'       binary mode\n",
      "    't'       text mode (default)\n",
      "    '+'       open a disk file for updating (reading and writing)\n",
      "    'U'       universal newline mode (deprecated)\n",
      "    ========= ===============================================================\n",
      "    \n",
      "    The default mode is 'rt' (open for reading text). For binary random\n",
      "    access, the mode 'w+b' opens and truncates the file to 0 bytes, while\n",
      "    'r+b' opens the file without truncation. The 'x' mode implies 'w' and\n",
      "    raises an `FileExistsError` if the file already exists.\n",
      "    \n",
      "    Python distinguishes between files opened in binary and text modes,\n",
      "    even when the underlying operating system doesn't. Files opened in\n",
      "    binary mode (appending 'b' to the mode argument) return contents as\n",
      "    bytes objects without any decoding. In text mode (the default, or when\n",
      "    't' is appended to the mode argument), the contents of the file are\n",
      "    returned as strings, the bytes having been first decoded using a\n",
      "    platform-dependent encoding or using the specified encoding if given.\n",
      "    \n",
      "    'U' mode is deprecated and will raise an exception in future versions\n",
      "    of Python.  It has no effect in Python 3.  Use newline to control\n",
      "    universal newlines mode.\n",
      "    \n",
      "    buffering is an optional integer used to set the buffering policy.\n",
      "    Pass 0 to switch buffering off (only allowed in binary mode), 1 to select\n",
      "    line buffering (only usable in text mode), and an integer > 1 to indicate\n",
      "    the size of a fixed-size chunk buffer.  When no buffering argument is\n",
      "    given, the default buffering policy works as follows:\n",
      "    \n",
      "    * Binary files are buffered in fixed-size chunks; the size of the buffer\n",
      "      is chosen using a heuristic trying to determine the underlying device's\n",
      "      \"block size\" and falling back on `io.DEFAULT_BUFFER_SIZE`.\n",
      "      On many systems, the buffer will typically be 4096 or 8192 bytes long.\n",
      "    \n",
      "    * \"Interactive\" text files (files for which isatty() returns True)\n",
      "      use line buffering.  Other text files use the policy described above\n",
      "      for binary files.\n",
      "    \n",
      "    encoding is the name of the encoding used to decode or encode the\n",
      "    file. This should only be used in text mode. The default encoding is\n",
      "    platform dependent, but any encoding supported by Python can be\n",
      "    passed.  See the codecs module for the list of supported encodings.\n",
      "    \n",
      "    errors is an optional string that specifies how encoding errors are to\n",
      "    be handled---this argument should not be used in binary mode. Pass\n",
      "    'strict' to raise a ValueError exception if there is an encoding error\n",
      "    (the default of None has the same effect), or pass 'ignore' to ignore\n",
      "    errors. (Note that ignoring encoding errors can lead to data loss.)\n",
      "    See the documentation for codecs.register or run 'help(codecs.Codec)'\n",
      "    for a list of the permitted encoding error strings.\n",
      "    \n",
      "    newline controls how universal newlines works (it only applies to text\n",
      "    mode). It can be None, '', '\\n', '\\r', and '\\r\\n'.  It works as\n",
      "    follows:\n",
      "    \n",
      "    * On input, if newline is None, universal newlines mode is\n",
      "      enabled. Lines in the input can end in '\\n', '\\r', or '\\r\\n', and\n",
      "      these are translated into '\\n' before being returned to the\n",
      "      caller. If it is '', universal newline mode is enabled, but line\n",
      "      endings are returned to the caller untranslated. If it has any of\n",
      "      the other legal values, input lines are only terminated by the given\n",
      "      string, and the line ending is returned to the caller untranslated.\n",
      "    \n",
      "    * On output, if newline is None, any '\\n' characters written are\n",
      "      translated to the system default line separator, os.linesep. If\n",
      "      newline is '' or '\\n', no translation takes place. If newline is any\n",
      "      of the other legal values, any '\\n' characters written are translated\n",
      "      to the given string.\n",
      "    \n",
      "    If closefd is False, the underlying file descriptor will be kept open\n",
      "    when the file is closed. This does not work when a file name is given\n",
      "    and must be True in that case.\n",
      "    \n",
      "    A custom opener can be used by passing a callable as *opener*. The\n",
      "    underlying file descriptor for the file object is then obtained by\n",
      "    calling *opener* with (*file*, *flags*). *opener* must return an open\n",
      "    file descriptor (passing os.open as *opener* results in functionality\n",
      "    similar to passing None).\n",
      "    \n",
      "    open() returns a file object whose type depends on the mode, and\n",
      "    through which the standard file operations such as reading and writing\n",
      "    are performed. When open() is used to open a file in a text mode ('w',\n",
      "    'r', 'wt', 'rt', etc.), it returns a TextIOWrapper. When used to open\n",
      "    a file in a binary mode, the returned class varies: in read binary\n",
      "    mode, it returns a BufferedReader; in write binary and append binary\n",
      "    modes, it returns a BufferedWriter, and in read/write mode, it returns\n",
      "    a BufferedRandom.\n",
      "    \n",
      "    It is also possible to use a string or bytearray as a file for both\n",
      "    reading and writing. For strings StringIO can be used like a file\n",
      "    opened in a text mode, and for bytes a BytesIO can be used like a file\n",
      "    opened in a binary mode.\n",
      "\n"
     ]
    }
   ],
   "source": [
    "help(open)"
   ]
  },
  {
   "cell_type": "markdown",
   "metadata": {},
   "source": [
    "The Parameter details of above function is given above. This ``open()`` method returns a file object, which can be used to write/read a file. The most widely used syntax for opening.\n",
    "```` python\n",
    "with open(filename.txt, open_mode) as file_alias:\n",
    "    # -- do stuff --\n",
    "````\n",
    "\n",
    "the arguments are discussed in documentation above. what ``with`` and ``file_alias`` are?\n",
    "\n",
    "## ``with``:\n",
    "\n",
    "this keyword is used to do file write/read operation cleanly. It help a user to affectively write a minimized code (details will be discussed later). Soon as a ``with`` block ends, a file is closed automatically.\n",
    "\n",
    "## ``as file_handler``:\n",
    "\n",
    "This statement assign the data file an alias, which we can use to write or read from txt file. \n",
    "\n",
    "## ``filename.txt``:\n",
    "\n",
    "should be a valid filename. If file doesn't exist in current working director, A complete file path to be given as string.\n",
    "\n",
    "# Writing a File:\n",
    "Let us start by opening as file for writing some data in this file. for this purpose"
   ]
  },
  {
   "cell_type": "code",
   "execution_count": 13,
   "metadata": {},
   "outputs": [],
   "source": [
    "with open(\"MyFile.txt\", \"w\") as DataFile:\n",
    "    DataFile.write(\"This is written by python code.\")"
   ]
  },
  {
   "cell_type": "markdown",
   "metadata": {},
   "source": [
    "Notice that previously we had no such file ``MyFile.txt``, the above code woudl do following things:\n",
    "1. Create ``MyFile.txt``, if it doesn't exist already.\n",
    "2. Clear all data in ``MyFile.txt`` if exists already.\n",
    "3. Write the string given in write function into ``MyFile.txt``.\n",
    "4. Closes ``MyFile.txt`` after the writing.\n",
    "<br><br>\n",
    "__Let's see if that file was written of or not?__ \n",
    "<br>\n",
    "One we can open working directory, and open the specified file.\n",
    "<img src=\"DataFile1.png\" alt=\"File not found\" title=\".txt created\" />"
   ]
  },
  {
   "cell_type": "markdown",
   "metadata": {},
   "source": [
    "or use ``%load`` command to load content of .txt file, and then convert cell into MarkdownCell as below(Which I will be doing throughout these notes):"
   ]
  },
  {
   "cell_type": "raw",
   "metadata": {},
   "source": [
    "# %load MyFile.txt\n",
    "This is written by python code."
   ]
  },
  {
   "cell_type": "markdown",
   "metadata": {},
   "source": [
    "Now since we were able to write a file succesfully, let us look into more optionor method we can use with this file."
   ]
  },
  {
   "cell_type": "code",
   "execution_count": 16,
   "metadata": {},
   "outputs": [
    {
     "name": "stdout",
     "output_type": "stream",
     "text": [
      "Help on TextIOWrapper object:\n",
      "\n",
      "class TextIOWrapper(_TextIOBase)\n",
      " |  TextIOWrapper(buffer, encoding=None, errors=None, newline=None, line_buffering=False, write_through=False)\n",
      " |  \n",
      " |  Character and line based layer over a BufferedIOBase object, buffer.\n",
      " |  \n",
      " |  encoding gives the name of the encoding that the stream will be\n",
      " |  decoded or encoded with. It defaults to locale.getpreferredencoding(False).\n",
      " |  \n",
      " |  errors determines the strictness of encoding and decoding (see\n",
      " |  help(codecs.Codec) or the documentation for codecs.register) and\n",
      " |  defaults to \"strict\".\n",
      " |  \n",
      " |  newline controls how line endings are handled. It can be None, '',\n",
      " |  '\\n', '\\r', and '\\r\\n'.  It works as follows:\n",
      " |  \n",
      " |  * On input, if newline is None, universal newlines mode is\n",
      " |    enabled. Lines in the input can end in '\\n', '\\r', or '\\r\\n', and\n",
      " |    these are translated into '\\n' before being returned to the\n",
      " |    caller. If it is '', universal newline mode is enabled, but line\n",
      " |    endings are returned to the caller untranslated. If it has any of\n",
      " |    the other legal values, input lines are only terminated by the given\n",
      " |    string, and the line ending is returned to the caller untranslated.\n",
      " |  \n",
      " |  * On output, if newline is None, any '\\n' characters written are\n",
      " |    translated to the system default line separator, os.linesep. If\n",
      " |    newline is '' or '\\n', no translation takes place. If newline is any\n",
      " |    of the other legal values, any '\\n' characters written are translated\n",
      " |    to the given string.\n",
      " |  \n",
      " |  If line_buffering is True, a call to flush is implied when a call to\n",
      " |  write contains a newline character.\n",
      " |  \n",
      " |  Method resolution order:\n",
      " |      TextIOWrapper\n",
      " |      _TextIOBase\n",
      " |      _IOBase\n",
      " |      builtins.object\n",
      " |  \n",
      " |  Methods defined here:\n",
      " |  \n",
      " |  __getstate__(...)\n",
      " |  \n",
      " |  __init__(self, /, *args, **kwargs)\n",
      " |      Initialize self.  See help(type(self)) for accurate signature.\n",
      " |  \n",
      " |  __next__(self, /)\n",
      " |      Implement next(self).\n",
      " |  \n",
      " |  __repr__(self, /)\n",
      " |      Return repr(self).\n",
      " |  \n",
      " |  close(self, /)\n",
      " |      Flush and close the IO object.\n",
      " |      \n",
      " |      This method has no effect if the file is already closed.\n",
      " |  \n",
      " |  detach(self, /)\n",
      " |      Separate the underlying buffer from the TextIOBase and return it.\n",
      " |      \n",
      " |      After the underlying buffer has been detached, the TextIO is in an\n",
      " |      unusable state.\n",
      " |  \n",
      " |  fileno(self, /)\n",
      " |      Returns underlying file descriptor if one exists.\n",
      " |      \n",
      " |      OSError is raised if the IO object does not use a file descriptor.\n",
      " |  \n",
      " |  flush(self, /)\n",
      " |      Flush write buffers, if applicable.\n",
      " |      \n",
      " |      This is not implemented for read-only and non-blocking streams.\n",
      " |  \n",
      " |  isatty(self, /)\n",
      " |      Return whether this is an 'interactive' stream.\n",
      " |      \n",
      " |      Return False if it can't be determined.\n",
      " |  \n",
      " |  read(self, size=-1, /)\n",
      " |      Read at most n characters from stream.\n",
      " |      \n",
      " |      Read from underlying buffer until we have n characters or we hit EOF.\n",
      " |      If n is negative or omitted, read until EOF.\n",
      " |  \n",
      " |  readable(self, /)\n",
      " |      Return whether object was opened for reading.\n",
      " |      \n",
      " |      If False, read() will raise OSError.\n",
      " |  \n",
      " |  readline(self, size=-1, /)\n",
      " |      Read until newline or EOF.\n",
      " |      \n",
      " |      Returns an empty string if EOF is hit immediately.\n",
      " |  \n",
      " |  reconfigure(self, /, *, encoding=None, errors=None, newline=None, line_buffering=None, write_through=None)\n",
      " |      Reconfigure the text stream with new parameters.\n",
      " |      \n",
      " |      This also does an implicit stream flush.\n",
      " |  \n",
      " |  seek(self, cookie, whence=0, /)\n",
      " |      Change stream position.\n",
      " |      \n",
      " |      Change the stream position to the given byte offset. The offset is\n",
      " |      interpreted relative to the position indicated by whence.  Values\n",
      " |      for whence are:\n",
      " |      \n",
      " |      * 0 -- start of stream (the default); offset should be zero or positive\n",
      " |      * 1 -- current stream position; offset may be negative\n",
      " |      * 2 -- end of stream; offset is usually negative\n",
      " |      \n",
      " |      Return the new absolute position.\n",
      " |  \n",
      " |  seekable(self, /)\n",
      " |      Return whether object supports random access.\n",
      " |      \n",
      " |      If False, seek(), tell() and truncate() will raise OSError.\n",
      " |      This method may need to do a test seek().\n",
      " |  \n",
      " |  tell(self, /)\n",
      " |      Return current stream position.\n",
      " |  \n",
      " |  truncate(self, pos=None, /)\n",
      " |      Truncate file to size bytes.\n",
      " |      \n",
      " |      File pointer is left unchanged.  Size defaults to the current IO\n",
      " |      position as reported by tell().  Returns the new size.\n",
      " |  \n",
      " |  writable(self, /)\n",
      " |      Return whether object was opened for writing.\n",
      " |      \n",
      " |      If False, write() will raise OSError.\n",
      " |  \n",
      " |  write(self, text, /)\n",
      " |      Write string to stream.\n",
      " |      Returns the number of characters written (which is always equal to\n",
      " |      the length of the string).\n",
      " |  \n",
      " |  ----------------------------------------------------------------------\n",
      " |  Static methods defined here:\n",
      " |  \n",
      " |  __new__(*args, **kwargs) from builtins.type\n",
      " |      Create and return a new object.  See help(type) for accurate signature.\n",
      " |  \n",
      " |  ----------------------------------------------------------------------\n",
      " |  Data descriptors defined here:\n",
      " |  \n",
      " |  buffer\n",
      " |  \n",
      " |  closed\n",
      " |  \n",
      " |  encoding\n",
      " |      Encoding of the text stream.\n",
      " |      \n",
      " |      Subclasses should override.\n",
      " |  \n",
      " |  errors\n",
      " |      The error setting of the decoder or encoder.\n",
      " |      \n",
      " |      Subclasses should override.\n",
      " |  \n",
      " |  line_buffering\n",
      " |  \n",
      " |  name\n",
      " |  \n",
      " |  newlines\n",
      " |      Line endings translated so far.\n",
      " |      \n",
      " |      Only line endings translated during reading are considered.\n",
      " |      \n",
      " |      Subclasses should override.\n",
      " |  \n",
      " |  write_through\n",
      " |  \n",
      " |  ----------------------------------------------------------------------\n",
      " |  Methods inherited from _IOBase:\n",
      " |  \n",
      " |  __del__(...)\n",
      " |  \n",
      " |  __enter__(...)\n",
      " |  \n",
      " |  __exit__(...)\n",
      " |  \n",
      " |  __iter__(self, /)\n",
      " |      Implement iter(self).\n",
      " |  \n",
      " |  readlines(self, hint=-1, /)\n",
      " |      Return a list of lines from the stream.\n",
      " |      \n",
      " |      hint can be specified to control the number of lines read: no more\n",
      " |      lines will be read if the total size (in bytes/characters) of all\n",
      " |      lines so far exceeds hint.\n",
      " |  \n",
      " |  writelines(self, lines, /)\n",
      " |      Write a list of lines to stream.\n",
      " |      \n",
      " |      Line separators are not added, so it is usual for each of the\n",
      " |      lines provided to have a line separator at the end.\n",
      " |  \n",
      " |  ----------------------------------------------------------------------\n",
      " |  Data descriptors inherited from _IOBase:\n",
      " |  \n",
      " |  __dict__\n",
      "\n"
     ]
    }
   ],
   "source": [
    "help(DataFile)"
   ]
  },
  {
   "cell_type": "markdown",
   "metadata": {},
   "source": [
    "## Check if file is actually Closed.\n",
    "\n",
    "As mentioned earlier that opening a file with a ``with`` keyword would close file as soon as ``with`` block completes. In order to check is file is closed we call use ``closed``attribute.<br>\n",
    "``closed`` returns True is file is closed and False otherwise."
   ]
  },
  {
   "cell_type": "code",
   "execution_count": 18,
   "metadata": {},
   "outputs": [
    {
     "data": {
      "text/plain": [
       "True"
      ]
     },
     "execution_count": 18,
     "metadata": {},
     "output_type": "execute_result"
    }
   ],
   "source": [
    "DataFile.closed"
   ]
  },
  {
   "cell_type": "markdown",
   "metadata": {},
   "source": [
    "## Writing Nothing to a File.\n",
    "\n",
    "if we open a file and do nothing in ``with`` body, all content in this file will be deleted. for example: "
   ]
  },
  {
   "cell_type": "code",
   "execution_count": 20,
   "metadata": {},
   "outputs": [],
   "source": [
    "with open(\"MyFile.txt\", \"w\") as DataFile:\n",
    "    pass # Do Nothing"
   ]
  },
  {
   "cell_type": "code",
   "execution_count": null,
   "metadata": {},
   "outputs": [],
   "source": [
    "# %load MyFile.txt\n"
   ]
  },
  {
   "cell_type": "markdown",
   "metadata": {},
   "source": [
    "Notice that the previous written data have been cleared by the above code."
   ]
  },
  {
   "cell_type": "markdown",
   "metadata": {},
   "source": [
    "## Writing Multiple line\n",
    "\n",
    "While a file is opened, multiple lines can be wrriten.\n"
   ]
  },
  {
   "cell_type": "code",
   "execution_count": null,
   "metadata": {},
   "outputs": [],
   "source": [
    "with open(\"MyFile.txt\", \"w\") as DataFile:\n",
    "    DataFile.write(\"This is written by python code.\")\n",
    "    DataFile.write(\"This is line2\")\n",
    "    DataFile.write(\"This is line3\")"
   ]
  },
  {
   "cell_type": "markdown",
   "metadata": {},
   "source": [
    "Now, our code data file would have following data. Even though we wrote in differennt write methods, data was written in same line in text file. It's because we haven't specified the end of line."
   ]
  },
  {
   "cell_type": "raw",
   "metadata": {},
   "source": [
    "# %load MyFile.txt\n",
    "This is written by python code.This is line2This is line3"
   ]
  },
  {
   "cell_type": "markdown",
   "metadata": {},
   "source": [
    "The proper distribution of lines can be made by using ``\\n`` at the end of string."
   ]
  },
  {
   "cell_type": "code",
   "execution_count": 26,
   "metadata": {},
   "outputs": [],
   "source": [
    "with open(\"MyFile.txt\", \"w\") as DataFile:\n",
    "    DataFile.write(\"This is written by python code.\\n\")\n",
    "    DataFile.write(\"This is line2\\n\")\n",
    "    DataFile.write(\"This is line3\\n\")"
   ]
  },
  {
   "cell_type": "raw",
   "metadata": {},
   "source": [
    "# %load MyFile.txt\n",
    "This is written by python code.\n",
    "This is line2\n",
    "This is line3\n"
   ]
  },
  {
   "cell_type": "markdown",
   "metadata": {},
   "source": [
    "But if data is ``written`` by two different block. The file will only have the data from the latter block. for example:"
   ]
  },
  {
   "cell_type": "code",
   "execution_count": 32,
   "metadata": {},
   "outputs": [],
   "source": [
    "with open(\"MyFile.txt\", \"w\") as DataFile:\n",
    "    DataFile.write(\"This is written by python code.\\n\")\n",
    "    DataFile.write(\"This is line2\\n\")\n",
    "    DataFile.write(\"This is line3\\n\")\n",
    "    \n",
    "with open(\"MyFile.txt\", \"w\") as DataFile:\n",
    "    DataFile.write(\"This is line4\\n\")\n",
    "    DataFile.write(\"This is line5\\n\")\n",
    "    "
   ]
  },
  {
   "cell_type": "raw",
   "metadata": {},
   "source": [
    "# %load MyFile.txt\n",
    "This is line4\n",
    "This is line5\n"
   ]
  },
  {
   "cell_type": "markdown",
   "metadata": {},
   "source": [
    "## Everything is written as string\n",
    "\n",
    "all data in text file is written in string format, so any data that has be written should be converted into a string first."
   ]
  },
  {
   "cell_type": "code",
   "execution_count": 31,
   "metadata": {},
   "outputs": [
    {
     "ename": "TypeError",
     "evalue": "write() argument must be str, not list",
     "output_type": "error",
     "traceback": [
      "\u001b[1;31m---------------------------------------------------------------------------\u001b[0m",
      "\u001b[1;31mTypeError\u001b[0m                                 Traceback (most recent call last)",
      "\u001b[1;32m<ipython-input-31-fb5900f7e8aa>\u001b[0m in \u001b[0;36m<module>\u001b[1;34m\u001b[0m\n\u001b[0;32m      1\u001b[0m \u001b[1;32mwith\u001b[0m \u001b[0mopen\u001b[0m\u001b[1;33m(\u001b[0m\u001b[1;34m\"MyFile.txt\"\u001b[0m\u001b[1;33m,\u001b[0m \u001b[1;34m\"w\"\u001b[0m\u001b[1;33m)\u001b[0m \u001b[1;32mas\u001b[0m \u001b[0mDataFile\u001b[0m\u001b[1;33m:\u001b[0m\u001b[1;33m\u001b[0m\u001b[1;33m\u001b[0m\u001b[0m\n\u001b[1;32m----> 2\u001b[1;33m     \u001b[0mDataFile\u001b[0m\u001b[1;33m.\u001b[0m\u001b[0mwrite\u001b[0m\u001b[1;33m(\u001b[0m\u001b[1;33m[\u001b[0m\u001b[1;36m1\u001b[0m\u001b[1;33m,\u001b[0m\u001b[1;36m2\u001b[0m\u001b[1;33m,\u001b[0m\u001b[1;36m3\u001b[0m\u001b[1;33m,\u001b[0m\u001b[1;36m4\u001b[0m\u001b[1;33m,\u001b[0m\u001b[1;36m4\u001b[0m\u001b[1;33m]\u001b[0m\u001b[1;33m)\u001b[0m\u001b[1;33m\u001b[0m\u001b[1;33m\u001b[0m\u001b[0m\n\u001b[0m",
      "\u001b[1;31mTypeError\u001b[0m: write() argument must be str, not list"
     ]
    }
   ],
   "source": [
    "with open(\"MyFile.txt\", \"w\") as DataFile:\n",
    "    DataFile.write([1,2,3,4,4])"
   ]
  },
  {
   "cell_type": "markdown",
   "metadata": {},
   "source": [
    "## ``wrtiable()``:\n",
    "\n",
    "this mehtod returns ``True`` when file is opened in ``Write`` mode."
   ]
  },
  {
   "cell_type": "code",
   "execution_count": 55,
   "metadata": {},
   "outputs": [
    {
     "name": "stdout",
     "output_type": "stream",
     "text": [
      "File is in write mode\n"
     ]
    }
   ],
   "source": [
    "with open(\"MyFile.txt\", \"w\") as DataFile:\n",
    "    if DataFile.writable():\n",
    "        print(\"File is in write mode\")\n",
    "    else:\n",
    "        print(\"File is not in write mode\")\n",
    "    DataFile.write(\"This is written by python code.\\n\")\n",
    "    DataFile.write(\"This is line2\\n\")\n",
    "    DataFile.write(\"This is line3\\n\")\n",
    "    DataFile.write(\"This is line4\\n\")\n",
    "    DataFile.write(\"This is line5\\n\")\n",
    "    DataFile.write(\"This is line6\\n\")\n",
    "    DataFile.write(\"This is line7\")"
   ]
  },
  {
   "cell_type": "markdown",
   "metadata": {},
   "source": [
    "# Reading a file.\n",
    "\n",
    "In order to read a file, we have two methods\n",
    "1. read()\n",
    "2. readline()\n",
    "<br>\n",
    "\n",
    "let us start with ``read()`` method."
   ]
  },
  {
   "cell_type": "markdown",
   "metadata": {},
   "source": [
    "## ``read()``\n",
    "This method reads all contentsof a text file store into a variable. All data is stored in string format. for example, reading our file created above: "
   ]
  },
  {
   "cell_type": "code",
   "execution_count": 1,
   "metadata": {},
   "outputs": [],
   "source": [
    "with open(\"MyFile.txt\") as DataFile:\n",
    "    contents = DataFile.read()"
   ]
  },
  {
   "cell_type": "code",
   "execution_count": 58,
   "metadata": {},
   "outputs": [
    {
     "name": "stdout",
     "output_type": "stream",
     "text": [
      "This is written by python code.\n",
      "This is line2\n",
      "This is line3\n",
      "This is line4\n",
      "This is line5\n",
      "This is line6\n",
      "This is line7\n",
      "Type of read data is: <class 'str'>\n"
     ]
    }
   ],
   "source": [
    "print(contents)\n",
    "print(f\"Type of read data is: {type(contents)}\")"
   ]
  },
  {
   "cell_type": "markdown",
   "metadata": {},
   "source": [
    "## Reading a file which doesn't exist:\n",
    "\n",
    "If we try reading a file with doesn't exist, we will get an error."
   ]
  },
  {
   "cell_type": "code",
   "execution_count": 59,
   "metadata": {},
   "outputs": [
    {
     "ename": "FileNotFoundError",
     "evalue": "[Errno 2] No such file or directory: 'MyFile1.txt'",
     "output_type": "error",
     "traceback": [
      "\u001b[1;31m---------------------------------------------------------------------------\u001b[0m",
      "\u001b[1;31mFileNotFoundError\u001b[0m                         Traceback (most recent call last)",
      "\u001b[1;32m<ipython-input-59-b8f66f7f692a>\u001b[0m in \u001b[0;36m<module>\u001b[1;34m\u001b[0m\n\u001b[1;32m----> 1\u001b[1;33m \u001b[1;32mwith\u001b[0m \u001b[0mopen\u001b[0m\u001b[1;33m(\u001b[0m\u001b[1;34m\"MyFile1.txt\"\u001b[0m\u001b[1;33m)\u001b[0m \u001b[1;32mas\u001b[0m \u001b[0mDataFile\u001b[0m\u001b[1;33m:\u001b[0m\u001b[1;33m\u001b[0m\u001b[1;33m\u001b[0m\u001b[0m\n\u001b[0m\u001b[0;32m      2\u001b[0m     \u001b[0mcontents\u001b[0m \u001b[1;33m=\u001b[0m \u001b[0mDataFile\u001b[0m\u001b[1;33m.\u001b[0m\u001b[0mread\u001b[0m\u001b[1;33m(\u001b[0m\u001b[1;33m)\u001b[0m\u001b[1;33m\u001b[0m\u001b[1;33m\u001b[0m\u001b[0m\n",
      "\u001b[1;31mFileNotFoundError\u001b[0m: [Errno 2] No such file or directory: 'MyFile1.txt'"
     ]
    }
   ],
   "source": [
    "with open(\"MyFile1.txt\") as DataFile:\n",
    "    contents = DataFile.read()"
   ]
  },
  {
   "cell_type": "markdown",
   "metadata": {},
   "source": [
    "## ``readable()``\n",
    "\n",
    "This method returns True if file is opened in read mode. e.g."
   ]
  },
  {
   "cell_type": "code",
   "execution_count": 2,
   "metadata": {},
   "outputs": [
    {
     "name": "stdout",
     "output_type": "stream",
     "text": [
      "File is open in read mode\n"
     ]
    }
   ],
   "source": [
    "with open(\"MyFile.txt\") as DataFile:\n",
    "    if DataFile.readable():\n",
    "        print(\"File is open in read mode\")\n",
    "    else:\n",
    "        print(\"File isn't open in read mode\")"
   ]
  },
  {
   "cell_type": "markdown",
   "metadata": {},
   "source": [
    "# Using ``readline()`` method\n",
    "\n",
    "This method reads single line. I string new line is consider after _new line escape character_ ``\\n``. As long as a file is kept open ``readline()`` would read the line next to previous one."
   ]
  },
  {
   "cell_type": "code",
   "execution_count": 7,
   "metadata": {},
   "outputs": [
    {
     "name": "stdout",
     "output_type": "stream",
     "text": [
      "This is written by python code.\n",
      "\n",
      "This is line2\n",
      "\n",
      "This is line3\n",
      "\n"
     ]
    }
   ],
   "source": [
    "with open(\"MyFile.txt\") as DataFile:\n",
    "    line1 = DataFile.readline()\n",
    "    line2 = DataFile.readline()\n",
    "    line3 = DataFile.readline()\n",
    "print(line1)\n",
    "print(line2)\n",
    "print(line3)"
   ]
  },
  {
   "cell_type": "markdown",
   "metadata": {},
   "source": [
    "Notice that we have each line different variable. but they also have a _newline_ escape character in the end, which can be removed using ``rstrip()`` method. for example.\n"
   ]
  },
  {
   "cell_type": "code",
   "execution_count": 9,
   "metadata": {},
   "outputs": [
    {
     "name": "stdout",
     "output_type": "stream",
     "text": [
      "This is written by python code.\n",
      "This is line2\n",
      "This is line3\n"
     ]
    }
   ],
   "source": [
    "print(line1.rstrip())\n",
    "print(line2.rstrip())\n",
    "print(line3.rstrip())"
   ]
  },
  {
   "cell_type": "markdown",
   "metadata": {},
   "source": [
    "# Reading lines directly from file handler.\n",
    "\n",
    "the data can be read from  file handler directly also. for this purpose:"
   ]
  },
  {
   "cell_type": "code",
   "execution_count": 25,
   "metadata": {},
   "outputs": [
    {
     "name": "stdout",
     "output_type": "stream",
     "text": [
      "This is written by python code\n",
      "This is line2\n",
      "This is line3\n",
      "This is line4\n",
      "This is line5\n",
      "This is line6\n",
      "This is line7\n"
     ]
    }
   ],
   "source": [
    "with open(\"MyFile.txt\") as DataFile:\n",
    "    for line in DataFile:\n",
    "        print(line.rstrip())\n"
   ]
  },
  {
   "cell_type": "markdown",
   "metadata": {},
   "source": [
    "Now we are making a loop to read each line from file handler named, ``DataFile``. Again ``restip()`` is used just to remove _newline_ character from end of string.\n"
   ]
  },
  {
   "cell_type": "markdown",
   "metadata": {},
   "source": [
    "## ``readlines()``\n",
    "\n",
    "This method read all data from a file and return a list where each line is distributed as single element of list."
   ]
  },
  {
   "cell_type": "code",
   "execution_count": 28,
   "metadata": {},
   "outputs": [],
   "source": [
    "with open(\"MyFile.txt\") as DataFile:\n",
    "    Lines = DataFile.readlines()"
   ]
  },
  {
   "cell_type": "code",
   "execution_count": 29,
   "metadata": {},
   "outputs": [
    {
     "data": {
      "text/plain": [
       "['This is written by python code\\n',\n",
       " 'This is line2\\n',\n",
       " 'This is line3\\n',\n",
       " 'This is line4\\n',\n",
       " 'This is line5\\n',\n",
       " 'This is line6\\n',\n",
       " 'This is line7\\n']"
      ]
     },
     "execution_count": 29,
     "metadata": {},
     "output_type": "execute_result"
    }
   ],
   "source": [
    "Lines"
   ]
  },
  {
   "cell_type": "markdown",
   "metadata": {},
   "source": [
    "# Appending Data\n",
    "\n",
    "data is appended into a file when it is opened in ``append`` mode. In append mode, the previous data is kept intact and new data is added in the last for file. For appending a file, ``wite()`` method is used."
   ]
  },
  {
   "cell_type": "code",
   "execution_count": 1,
   "metadata": {},
   "outputs": [],
   "source": [
    "with open(\"MyFile.txt\",\"a\") as DataFile:\n",
    "    DataFile.write(\"Appending Data. \\nLine1 After Appending\")"
   ]
  },
  {
   "cell_type": "raw",
   "metadata": {},
   "source": [
    "# %load MyFile.txt\n",
    "This is written by python code\n",
    "This is line2\n",
    "This is line3\n",
    "This is line4\n",
    "This is line5\n",
    "This is line6\n",
    "This is line7\n",
    "Appending Data. \n",
    "Line1 After Appending"
   ]
  },
  {
   "cell_type": "markdown",
   "metadata": {},
   "source": [
    "# Open in Read+Write mode.\n",
    "\n",
    "A file can be opened in read+write mode. It can be done by using \"w+\" for mode parameter. Once \"w+\" mode is used all previous data is cleared from file. "
   ]
  },
  {
   "cell_type": "code",
   "execution_count": 13,
   "metadata": {},
   "outputs": [],
   "source": [
    "with open(\"MyFile.txt\",\"w+\") as DataFile:\n",
    "    DataFile.write(\"Read+Write Mode.\")"
   ]
  },
  {
   "cell_type": "raw",
   "metadata": {},
   "source": [
    "# %load MyFile.txt\n",
    "Read+Write Mode. "
   ]
  },
  {
   "cell_type": "markdown",
   "metadata": {},
   "source": [
    "## Reading in \"w+\" Mode\n",
    "When a file is being written cursor moves along the text and when writing of file is completed the cursor is present in the end of file. For example, suppose we are writing \"Read+Write Mode.\" It will be written as, condiser | as cursor:<br>\n",
    "````\n",
    "R|\n",
    "Re|\n",
    "Rea|\n",
    "Read|\n",
    "Read+|\n",
    "Read+W|\n",
    "Read+Wr|\n",
    "Read+Wri|\n",
    "Read+Writ|\n",
    "Read+Write|\n",
    "Read+Write M|\n",
    "Read+Write Mo|\n",
    "Read+Write Mod|\n",
    "Read+Write Mode|\n",
    "Read+Write Mode.|\n",
    "````\n",
    "At this instance the cursor is in the end of file, after the ``.`` period. If we start reading from here, the cursor start reading from the very same position and since it's already int the end of file. it will read nothing. Now we need to bring our cursor into the beginning of our file.(or the point we want it to start reading.) It is done by using ``seek()`` method, which brings the cursor to desired location. it takes index as argument. for example <br>\n",
    "``seek(0)`` will bring the cursor in the start i.e.\n",
    "````\n",
    "|Read+Write Mode.\n",
    "````\n",
    "and ``seek(5)`` will move the cursor after first five letters. \n",
    "````\n",
    "Read+|Write Mode.\n",
    "````\n",
    "and only \"Write Mode\" will be read\n"
   ]
  },
  {
   "cell_type": "code",
   "execution_count": 10,
   "metadata": {},
   "outputs": [
    {
     "name": "stdout",
     "output_type": "stream",
     "text": [
      "\n"
     ]
    }
   ],
   "source": [
    "with open(\"MyFile.txt\",\"w+\") as DataFile:\n",
    "    DataFile.write(\"Read+Write Mode. \\nLine1 After Read+Write\")\n",
    "    contents = DataFile.read()\n",
    "    print(contents)"
   ]
  },
  {
   "cell_type": "markdown",
   "metadata": {},
   "source": [
    "now using seek method"
   ]
  },
  {
   "cell_type": "code",
   "execution_count": 15,
   "metadata": {},
   "outputs": [
    {
     "name": "stdout",
     "output_type": "stream",
     "text": [
      "Read+Write Mode.\n"
     ]
    }
   ],
   "source": [
    "with open(\"MyFile.txt\",\"w+\") as DataFile:\n",
    "    DataFile.write(\"Read+Write Mode.\")\n",
    "    DataFile.seek(0)\n",
    "    contents = DataFile.read()\n",
    "    print(contents)"
   ]
  },
  {
   "cell_type": "code",
   "execution_count": 26,
   "metadata": {},
   "outputs": [
    {
     "name": "stdout",
     "output_type": "stream",
     "text": [
      "Write Mode.\n"
     ]
    }
   ],
   "source": [
    "with open(\"MyFile.txt\",\"w+\") as DataFile:\n",
    "    DataFile.write(\"Read+Write Mode.\")\n",
    "    DataFile.seek(5)\n",
    "    contents = DataFile.read()\n",
    "    print(contents)"
   ]
  },
  {
   "cell_type": "markdown",
   "metadata": {},
   "source": [
    "# Keeping File opened as long as one wants.\n",
    "\n",
    "It is possible to keep file opened as long as one wants. it is done without using ``with`` keyword, and while doing that one must take care while trying to open a same file twice or not closing file after execution. such case our basic syntax is.\n",
    "```` python\n",
    "FileHandler = open(filepath, OpenMode)\n",
    "````\n",
    "once we have done our operation, file needs to be closed.\n",
    "```` python\n",
    "FileHandler.close()\n",
    "```` \n",
    "Now let's try this in our code.\n"
   ]
  },
  {
   "cell_type": "code",
   "execution_count": 22,
   "metadata": {},
   "outputs": [],
   "source": [
    "# open a file and assign it to a handle\n",
    "file = open(\"File1.txt\",\"w\")\n",
    "# write something to this file\n",
    "file.write(\"Let's write this file.\")\n",
    "# and close this file.\n",
    "file.close()"
   ]
  },
  {
   "cell_type": "markdown",
   "metadata": {},
   "source": [
    "Now reading the file back"
   ]
  },
  {
   "cell_type": "code",
   "execution_count": 23,
   "metadata": {},
   "outputs": [
    {
     "name": "stdout",
     "output_type": "stream",
     "text": [
      "Let's write this file.\n"
     ]
    }
   ],
   "source": [
    "# open a file and assign it to a handle\n",
    "file = open(\"File1.txt\",\"r\")\n",
    "# write something to this file\n",
    "DataFromFile =  file.read()\n",
    "# and close this file.\n",
    "file.close()\n",
    "\n",
    "print(DataFromFile)"
   ]
  },
  {
   "cell_type": "markdown",
   "metadata": {},
   "source": [
    "# Using in try, except, finally block \n",
    "\n",
    "while withoug using a file in such confition, it is suggested to use try, except, finally to properly open file, error handling and close a file effectively. it is done as follow:\n"
   ]
  },
  {
   "cell_type": "code",
   "execution_count": 28,
   "metadata": {},
   "outputs": [
    {
     "name": "stdout",
     "output_type": "stream",
     "text": [
      "Read+Write Mode.\n"
     ]
    }
   ],
   "source": [
    "try:\n",
    "    file = open(\"MyFile.txt\",\"r\")\n",
    "    content = file.read()\n",
    "    print(content)\n",
    "except:\n",
    "    print(\"Error Reading file\")\n",
    "finally:\n",
    "    file.close()"
   ]
  },
  {
   "cell_type": "markdown",
   "metadata": {},
   "source": [
    "## What if the file doesn't exist?\n",
    "Let's now try to open a file that doesn't exist:"
   ]
  },
  {
   "cell_type": "code",
   "execution_count": 29,
   "metadata": {},
   "outputs": [
    {
     "name": "stdout",
     "output_type": "stream",
     "text": [
      "Error Reading file\n"
     ]
    }
   ],
   "source": [
    "try:\n",
    "    file = open(\"MyFile1.txt\",\"r\")\n",
    "    content = file.read()\n",
    "    print(content)\n",
    "except:\n",
    "    print(\"Error Reading file\")\n",
    "finally:\n",
    "    file.close()"
   ]
  },
  {
   "cell_type": "markdown",
   "metadata": {},
   "source": [
    "Now see that our defined message have been generated"
   ]
  },
  {
   "cell_type": "code",
   "execution_count": null,
   "metadata": {},
   "outputs": [],
   "source": []
  }
 ],
 "metadata": {
  "kernelspec": {
   "display_name": "Python 3",
   "language": "python",
   "name": "python3"
  },
  "language_info": {
   "codemirror_mode": {
    "name": "ipython",
    "version": 3
   },
   "file_extension": ".py",
   "mimetype": "text/x-python",
   "name": "python",
   "nbconvert_exporter": "python",
   "pygments_lexer": "ipython3",
   "version": "3.7.6"
  }
 },
 "nbformat": 4,
 "nbformat_minor": 4
}
