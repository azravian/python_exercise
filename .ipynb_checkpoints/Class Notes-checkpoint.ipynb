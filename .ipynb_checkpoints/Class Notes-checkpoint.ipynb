{
 "cells": [
  {
   "cell_type": "markdown",
   "metadata": {},
   "source": [
    "# Class\n",
    "\n",
    "as we have studied previously that every variable or function is an object in python and owing to this fact, python is object-oriented programming language. Just like having predefined or premitive object-types, one may need and can create a new object type.<br>\n",
    "This object can be created using classes. In simple words, a class can be a template for user defined object. <br>\n",
    "when a class is created a new type is created. This class contains and specifies the behavior of the object of this type<br>\n",
    "\n",
    "A class definition have the follow syntax:\n",
    "```` python\n",
    "class AClass:\n",
    "    statement1\n",
    "    statement2\n",
    "    statement3\n",
    "    statement4\n",
    "    .\n",
    "    .\n",
    "    .\n",
    "    statementN\n",
    "````\n"
   ]
  },
  {
   "cell_type": "markdown",
   "metadata": {},
   "source": [
    "## Instantiation\n",
    "\n",
    "When a class is used to create an object, it is called ``instantiation`` and the object being created is called ``instance`` of the class.\n",
    "Let's create a simple class with have no attribute, or method anyhting. We define a class and wrtie a pass in body."
   ]
  },
  {
   "cell_type": "code",
   "execution_count": 6,
   "metadata": {},
   "outputs": [],
   "source": [
    "class MyClass:\n",
    "    pass"
   ]
  },
  {
   "cell_type": "markdown",
   "metadata": {},
   "source": [
    "Now let's create an instance of this class:"
   ]
  },
  {
   "cell_type": "code",
   "execution_count": 7,
   "metadata": {},
   "outputs": [],
   "source": [
    "Instance_of_MyClass = MyClass()"
   ]
  },
  {
   "cell_type": "code",
   "execution_count": 8,
   "metadata": {},
   "outputs": [
    {
     "data": {
      "text/plain": [
       "__main__.MyClass"
      ]
     },
     "execution_count": 8,
     "metadata": {},
     "output_type": "execute_result"
    }
   ],
   "source": [
    "type(Instance_of_MyClass)"
   ]
  },
  {
   "cell_type": "markdown",
   "metadata": {},
   "source": [
    "as above seen the type of ``Instance_of_MyClass`` is ``MyClass``"
   ]
  },
  {
   "cell_type": "markdown",
   "metadata": {},
   "source": [
    "# Initializer \n",
    "#### Also called constructor\n",
    "\n",
    "whenever instantiation is done, initializer is called automatically. It is a special method, named always as ``__init__`` (two leading and two trailing underscores). Now redefine the above class with an ``initializer``."
   ]
  },
  {
   "cell_type": "code",
   "execution_count": 9,
   "metadata": {},
   "outputs": [],
   "source": [
    "class MyClass:\n",
    "    # Initializer\n",
    "    def __init__(self):\n",
    "        print(\"Instantiation is done, and initializer is being called...\")\n"
   ]
  },
  {
   "cell_type": "code",
   "execution_count": 10,
   "metadata": {},
   "outputs": [
    {
     "name": "stdout",
     "output_type": "stream",
     "text": [
      "Instantiation is done, and initializer is being called...\n"
     ]
    }
   ],
   "source": [
    "Instance_of_MyClass = MyClass()"
   ]
  },
  {
   "cell_type": "markdown",
   "metadata": {},
   "source": [
    "Notice that print statement which is inside initializer is executed while object is being created. <br>\n",
    "The initializer must have ``self`` as it's argument, this ``self`` points to the instance of the class. it will become cleared when discussing class methods<br>\n",
    "In previous example there was no initializer, in such case an empty initializer is created by default."
   ]
  },
  {
   "cell_type": "markdown",
   "metadata": {},
   "source": [
    "# Attributes\n",
    "\n",
    "Attribute is a variable that is associated with class or instance of the class. The attributes can be of any datatypes. <br>\n",
    "There are two types of attributes.\n",
    "1. Instance attributes\n",
    "2. Class attributes\n",
    "\n"
   ]
  },
  {
   "cell_type": "markdown",
   "metadata": {},
   "source": [
    "## Instance attributes\n",
    "\n",
    "The attributes which are associated with instance of class are called ``instance attribute``. An instance can have an arbitrary number of attributes. These attribute are different for each instance of class. <br>\n",
    "These attributes are defined within iniatilizer. for eample, consider a class"
   ]
  },
  {
   "cell_type": "code",
   "execution_count": 11,
   "metadata": {},
   "outputs": [],
   "source": [
    "class Human:\n",
    "    #Initializer\n",
    "    def __init__(self, FirstName, LastName, Age):\n",
    "        #instance attributes\n",
    "        self.FirstName = FirstName\n",
    "        self.LastName = LastName\n",
    "        self.Age = Age"
   ]
  },
  {
   "cell_type": "markdown",
   "metadata": {},
   "source": [
    "Now our initializer have three more paramters, ``FirstName``, ``LastName``and ``Age``, and in ``__init__`` defintion, both variable are assigned to variables with same names except with ``self.`` in prefix. <br>\n",
    "these ``FirstName``, ``LastName``and ``Age`` are instance attribute. Notice the ``self`` with these three variables which associate these two variable with instance of class.<br>\n",
    "\n",
    "Now in order to create an object of this class we must give the value of these attributes."
   ]
  },
  {
   "cell_type": "code",
   "execution_count": 12,
   "metadata": {},
   "outputs": [],
   "source": [
    "Human_A = Human(\"Micheal\", \"Scofield\", 30)"
   ]
  },
  {
   "cell_type": "markdown",
   "metadata": {},
   "source": [
    "above example took positional arguments, we can also use keyword arguments."
   ]
  },
  {
   "cell_type": "code",
   "execution_count": 13,
   "metadata": {},
   "outputs": [],
   "source": [
    "Human_B = Human(LastName = \"Burrows\", FirstName = \"Lincoln\", Age = 35)"
   ]
  },
  {
   "cell_type": "markdown",
   "metadata": {},
   "source": [
    "## Accessing Attribute value\n",
    "\n",
    "The attribute value can be accessed by using attribute name, with instance name. The syntax is:\n",
    "``instanceName.attributeName``\n",
    "<br>\n",
    "in order to access the FirstName, LastName, Age of Person_A"
   ]
  },
  {
   "cell_type": "code",
   "execution_count": 14,
   "metadata": {},
   "outputs": [
    {
     "data": {
      "text/plain": [
       "30"
      ]
     },
     "execution_count": 14,
     "metadata": {},
     "output_type": "execute_result"
    }
   ],
   "source": [
    "Human_A.Age"
   ]
  },
  {
   "cell_type": "code",
   "execution_count": 15,
   "metadata": {},
   "outputs": [
    {
     "data": {
      "text/plain": [
       "'Micheal'"
      ]
     },
     "execution_count": 15,
     "metadata": {},
     "output_type": "execute_result"
    }
   ],
   "source": [
    "Human_A.FirstName"
   ]
  },
  {
   "cell_type": "code",
   "execution_count": 16,
   "metadata": {},
   "outputs": [
    {
     "data": {
      "text/plain": [
       "'Scofield'"
      ]
     },
     "execution_count": 16,
     "metadata": {},
     "output_type": "execute_result"
    }
   ],
   "source": [
    "Human_A.LastName"
   ]
  },
  {
   "cell_type": "markdown",
   "metadata": {},
   "source": [
    "Similarly for Human_B"
   ]
  },
  {
   "cell_type": "code",
   "execution_count": 17,
   "metadata": {},
   "outputs": [
    {
     "data": {
      "text/plain": [
       "'Lincoln'"
      ]
     },
     "execution_count": 17,
     "metadata": {},
     "output_type": "execute_result"
    }
   ],
   "source": [
    "Human_B.FirstName"
   ]
  },
  {
   "cell_type": "code",
   "execution_count": 18,
   "metadata": {},
   "outputs": [
    {
     "data": {
      "text/plain": [
       "'Burrows'"
      ]
     },
     "execution_count": 18,
     "metadata": {},
     "output_type": "execute_result"
    }
   ],
   "source": [
    "Human_B.LastName"
   ]
  },
  {
   "cell_type": "code",
   "execution_count": 19,
   "metadata": {},
   "outputs": [
    {
     "data": {
      "text/plain": [
       "35"
      ]
     },
     "execution_count": 19,
     "metadata": {},
     "output_type": "execute_result"
    }
   ],
   "source": [
    "Human_B.Age"
   ]
  },
  {
   "cell_type": "markdown",
   "metadata": {},
   "source": [
    "## Changing an instance attribute value\n",
    "\n",
    "An attribute can be assigned a new value using the same syntax. "
   ]
  },
  {
   "cell_type": "code",
   "execution_count": 20,
   "metadata": {},
   "outputs": [],
   "source": [
    "Human_B.age = 38"
   ]
  },
  {
   "cell_type": "code",
   "execution_count": 21,
   "metadata": {},
   "outputs": [
    {
     "data": {
      "text/plain": [
       "38"
      ]
     },
     "execution_count": 21,
     "metadata": {},
     "output_type": "execute_result"
    }
   ],
   "source": [
    "Human_B.age"
   ]
  },
  {
   "cell_type": "markdown",
   "metadata": {},
   "source": [
    "As it was mentioned above that instance attributes are linked to it's own instance, so changing attribute of one instance will not change the same attribute of other isntance. For example, we have changed the attribute value of ``Age`` of ``Human_B`` it should not change ``Human_A`` attribute ``Age`` value"
   ]
  },
  {
   "cell_type": "code",
   "execution_count": 22,
   "metadata": {},
   "outputs": [
    {
     "data": {
      "text/plain": [
       "30"
      ]
     },
     "execution_count": 22,
     "metadata": {},
     "output_type": "execute_result"
    }
   ],
   "source": [
    "Human_A.Age"
   ]
  },
  {
   "cell_type": "markdown",
   "metadata": {},
   "source": [
    "## Class Attribute\n",
    "\n",
    "These attributes are associated with class and is shared by all instance of these class. These attributes are defined in class main body and doesn't need ``self`` keyword with it. for example, extending above example."
   ]
  },
  {
   "cell_type": "code",
   "execution_count": 23,
   "metadata": {},
   "outputs": [],
   "source": [
    "class Human:\n",
    "    species = \"Homo Sapiens\"\n",
    "    def __init__(self, FirstName, LastName, Age):\n",
    "        self.FirstName = FirstName\n",
    "        self.LastName = LastName\n",
    "        self.Age = Age"
   ]
  },
  {
   "cell_type": "markdown",
   "metadata": {},
   "source": [
    "in this example, ``species`` is class attribute. One doesn't need to give value for this class attribute. Let's create instances with this class."
   ]
  },
  {
   "cell_type": "code",
   "execution_count": 24,
   "metadata": {},
   "outputs": [],
   "source": [
    "Human_A = Human(\"Micheal\", \"Scofield\", 30)\n",
    "Human_B = Human(\"Lincoln\", \"Burrows\", 38)"
   ]
  },
  {
   "cell_type": "markdown",
   "metadata": {},
   "source": [
    "### Accessing Class attribute\n",
    "\n",
    "class attribute can be accessed using class Name with attribute Name. for example"
   ]
  },
  {
   "cell_type": "code",
   "execution_count": 25,
   "metadata": {},
   "outputs": [
    {
     "data": {
      "text/plain": [
       "'Homo Sapiens'"
      ]
     },
     "execution_count": 25,
     "metadata": {},
     "output_type": "execute_result"
    }
   ],
   "source": [
    "Human.species"
   ]
  },
  {
   "cell_type": "markdown",
   "metadata": {},
   "source": [
    "this attribute can also be accessed with instance names. "
   ]
  },
  {
   "cell_type": "code",
   "execution_count": 26,
   "metadata": {},
   "outputs": [
    {
     "data": {
      "text/plain": [
       "'Homo Sapiens'"
      ]
     },
     "execution_count": 26,
     "metadata": {},
     "output_type": "execute_result"
    }
   ],
   "source": [
    "Human_A.species"
   ]
  },
  {
   "cell_type": "code",
   "execution_count": 27,
   "metadata": {},
   "outputs": [
    {
     "data": {
      "text/plain": [
       "'Homo Sapiens'"
      ]
     },
     "execution_count": 27,
     "metadata": {},
     "output_type": "execute_result"
    }
   ],
   "source": [
    "Human_B.species"
   ]
  },
  {
   "cell_type": "markdown",
   "metadata": {},
   "source": [
    "Notice that class attribute have the same values for both instances."
   ]
  },
  {
   "cell_type": "markdown",
   "metadata": {},
   "source": [
    "### Changing Class attribute\n",
    "\n",
    "A class attribute can be changed using only class name , however changing class attribute value will change it for all instances."
   ]
  },
  {
   "cell_type": "code",
   "execution_count": 28,
   "metadata": {},
   "outputs": [],
   "source": [
    "Human.species = \"Unknown\""
   ]
  },
  {
   "cell_type": "code",
   "execution_count": 29,
   "metadata": {},
   "outputs": [
    {
     "data": {
      "text/plain": [
       "'Unknown'"
      ]
     },
     "execution_count": 29,
     "metadata": {},
     "output_type": "execute_result"
    }
   ],
   "source": [
    "Human_A.species"
   ]
  },
  {
   "cell_type": "code",
   "execution_count": 30,
   "metadata": {},
   "outputs": [
    {
     "data": {
      "text/plain": [
       "'Unknown'"
      ]
     },
     "execution_count": 30,
     "metadata": {},
     "output_type": "execute_result"
    }
   ],
   "source": [
    "Human_A.species"
   ]
  },
  {
   "cell_type": "markdown",
   "metadata": {},
   "source": [
    "### Changing class attribute with Instance of a class\n",
    "\n",
    "When we try to change a class attribute with an instance object, class attribute isn't changed. Rather a new instance attribute with the same name is created for that instance. This new instance attribute overloads(shadows) class attribute for the given  and class instance value remains for other instances. For example, let's try to change class attribute with ``Person_A`` instance."
   ]
  },
  {
   "cell_type": "code",
   "execution_count": 31,
   "metadata": {},
   "outputs": [],
   "source": [
    "Human_A.species = \"Homo Sapiens\""
   ]
  },
  {
   "cell_type": "code",
   "execution_count": 32,
   "metadata": {},
   "outputs": [
    {
     "data": {
      "text/plain": [
       "'Homo Sapiens'"
      ]
     },
     "execution_count": 32,
     "metadata": {},
     "output_type": "execute_result"
    }
   ],
   "source": [
    "Human_A.species"
   ]
  },
  {
   "cell_type": "code",
   "execution_count": 33,
   "metadata": {},
   "outputs": [
    {
     "data": {
      "text/plain": [
       "'Unknown'"
      ]
     },
     "execution_count": 33,
     "metadata": {},
     "output_type": "execute_result"
    }
   ],
   "source": [
    "Human_B.species"
   ]
  },
  {
   "cell_type": "code",
   "execution_count": 34,
   "metadata": {},
   "outputs": [
    {
     "data": {
      "text/plain": [
       "'Unknown'"
      ]
     },
     "execution_count": 34,
     "metadata": {},
     "output_type": "execute_result"
    }
   ],
   "source": [
    "Human.species"
   ]
  },
  {
   "cell_type": "markdown",
   "metadata": {},
   "source": [
    "Notice that even though ``Human_A.species`` value is ``Homo Sapiens`` and class attribute ``species`` value is ``Unknown``. It is due to the fact the ``Human_A.species = \"Homo Sapiens\"`` have created a new instance attribute rather using the class attribute."
   ]
  },
  {
   "cell_type": "code",
   "execution_count": 35,
   "metadata": {},
   "outputs": [],
   "source": [
    "Human.species = \"Homo Sapiens\""
   ]
  },
  {
   "cell_type": "markdown",
   "metadata": {},
   "source": [
    "# Instance Methods\n",
    "\n",
    "Methods are simply functions which are defined inside a class. These methods are called using dot notication. i.e. ``InstanceName.MehodName()``. These methods can be parameterized, of return or None-Return type. <br>\n",
    "Whenever we need to define an instance method, we put ``self`` as first parameter. for example, let write a method that print person details. we will use the above used class for this purpose"
   ]
  },
  {
   "cell_type": "code",
   "execution_count": 36,
   "metadata": {},
   "outputs": [],
   "source": [
    "class Human:\n",
    "    \n",
    "    #class attribute\n",
    "    species = \"Homo Sapiens\"\n",
    "    \n",
    "    # class initializer\n",
    "    def __init__(self, FirstName, LastName, Age):\n",
    "        #instance attributes\n",
    "        self.FirstName = FirstName\n",
    "        self.LastName = LastName\n",
    "        self.Age = Age\n",
    "    \n",
    "    #instance methods None-Return Type\n",
    "    def show_details(self):\n",
    "        print(f\"Name: {self.FirstName} \\nLast Name:{self.LastName}\\nAge: {self.Age}\")\n"
   ]
  },
  {
   "cell_type": "code",
   "execution_count": 37,
   "metadata": {},
   "outputs": [],
   "source": [
    "Human_A = Human(\"Micheal\", \"Scofield\", 30)\n",
    "Human_B = Human(\"Lincoln\", \"Burrows\", 38)"
   ]
  },
  {
   "cell_type": "code",
   "execution_count": 38,
   "metadata": {},
   "outputs": [
    {
     "name": "stdout",
     "output_type": "stream",
     "text": [
      "Name: Micheal \n",
      "Last Name:Scofield\n",
      "Age: 30\n"
     ]
    }
   ],
   "source": [
    "Human_A.show_details()"
   ]
  },
  {
   "cell_type": "code",
   "execution_count": 39,
   "metadata": {},
   "outputs": [
    {
     "name": "stdout",
     "output_type": "stream",
     "text": [
      "Name: Lincoln \n",
      "Last Name:Burrows\n",
      "Age: 38\n"
     ]
    }
   ],
   "source": [
    "Human_B.show_details()"
   ]
  },
  {
   "cell_type": "markdown",
   "metadata": {},
   "source": [
    "### Breaking down method definition and  clearing what ``self`` is?\n"
   ]
  },
  {
   "cell_type": "markdown",
   "metadata": {},
   "source": [
    "```` python\n",
    "def show_details(self):    \n",
    "    print(f\"Name: {self.FirstName} \\nLast Name:{self.LastName}\\nAge: {self.Age}\")\n",
    "````\n",
    "when defining a method, first line is same a defining a function, except it takes self as first argument.This self refers to instance object of class. whenever this function is called the instance to be passed as passed into this function, which is done by using ``self`` in first parameter. So when this method is called, it calls method and put this instance object in the attribute. so ``Human_A.show_details()`` is equavalent to ``Human.show_details(Human_A)``"
   ]
  },
  {
   "cell_type": "code",
   "execution_count": 40,
   "metadata": {},
   "outputs": [
    {
     "name": "stdout",
     "output_type": "stream",
     "text": [
      "Name: Micheal \n",
      "Last Name:Scofield\n",
      "Age: 30\n"
     ]
    }
   ],
   "source": [
    "Human.show_details(Human_A)"
   ]
  },
  {
   "cell_type": "markdown",
   "metadata": {},
   "source": [
    "Notice that method is being called with class name, and the instance object is given as a parameter. So ``self = Human_A``. \n",
    "In general word, ``self``is like a person/object is refering to his ``own's self``."
   ]
  },
  {
   "cell_type": "markdown",
   "metadata": {},
   "source": [
    "similarly, in definition all instacnce attributes are used with dot notation with ``self`` again this refer to instance object. When ``Human_A.show_details()`` is invoked, ``Human_A`` becomes ``self`` and all these attributes are taken from given instance ``Human_A`` "
   ]
  },
  {
   "cell_type": "markdown",
   "metadata": {},
   "source": [
    "## Using Class attributes in method\n",
    "\n",
    "A method can also use class attributes in it's definition."
   ]
  },
  {
   "cell_type": "code",
   "execution_count": 41,
   "metadata": {},
   "outputs": [],
   "source": [
    "class Human:\n",
    "    \n",
    "    #class attribute\n",
    "    species = \"Homo Sapiens\"\n",
    "    \n",
    "    # class initializer\n",
    "    def __init__(self, FirstName, LastName, Age):\n",
    "        #instance attributes\n",
    "        self.FirstName = FirstName\n",
    "        self.LastName = LastName\n",
    "        self.Age = Age\n",
    "    \n",
    "    # Class instance inside a function\n",
    "    def show_species(self):\n",
    "        print(f\"Species is {Human.species}\")\n",
    "    \n",
    "    #instance methods None-Return Type\n",
    "    def show_details(self):\n",
    "        print(f\"Name: {self.FirstName} \\nLast Name:{self.LastName}\\nAge: {self.Age}\")\n",
    "        \n",
    "        \n",
    "Human_A = Human(\"Micheal\", \"Scofield\", 30)\n",
    "Human_B = Human(\"Lincoln\", \"Burrows\", 38)"
   ]
  },
  {
   "cell_type": "code",
   "execution_count": 42,
   "metadata": {},
   "outputs": [
    {
     "name": "stdout",
     "output_type": "stream",
     "text": [
      "Species is Homo Sapiens\n"
     ]
    }
   ],
   "source": [
    "Human_A.show_species()"
   ]
  },
  {
   "cell_type": "markdown",
   "metadata": {},
   "source": [
    "```` python\n",
    "def show_species(self):\n",
    "    print(f\"Species is {Human.species}\")\n",
    "````\n",
    "\n",
    "Notice that in order to use class attribute in isntance method. we used class name with attribute name, otherwise an error will be generated."
   ]
  },
  {
   "cell_type": "markdown",
   "metadata": {},
   "source": [
    "## Return Type instance method\n",
    "\n",
    "An instance can have return type function. let us define a function which returns ``True`` when a ``Human`` is minor. So extending above class."
   ]
  },
  {
   "cell_type": "code",
   "execution_count": 43,
   "metadata": {},
   "outputs": [],
   "source": [
    "class Human:\n",
    "    \n",
    "    #class attribute\n",
    "    species = \"Homo Sapiens\"\n",
    "    \n",
    "    # class initializer\n",
    "    def __init__(self, FirstName, LastName, Age):\n",
    "        #instance attributes\n",
    "        self.FirstName = FirstName\n",
    "        self.LastName = LastName\n",
    "        self.Age = Age\n",
    "    \n",
    "    #instance methods None-Return Type\n",
    "    def show_species(self):\n",
    "        print(f\"Species is {Human.species}\")\n",
    "    \n",
    "    def show_details(self):\n",
    "        print(f\"Name: {self.FirstName} \\nLast Name:{self.LastName}\\nAge: {self.Age}\")\n",
    "        \n",
    "    #instance methods Return Type\n",
    "    def is_minor(self):\n",
    "        if self.Age < 18:\n",
    "            return \"is a minor\"\n",
    "        else:\n",
    "            return \"Is not a Minor\"\n",
    "        \n",
    "        \n",
    "Human_A = Human(\"Micheal\", \"Scofield\", 30)\n",
    "Human_B = Human(\"Lincoln\", \"Burrows\", 38)"
   ]
  },
  {
   "cell_type": "code",
   "execution_count": 44,
   "metadata": {},
   "outputs": [
    {
     "name": "stdout",
     "output_type": "stream",
     "text": [
      "Is not a Minor\n"
     ]
    }
   ],
   "source": [
    "print(Human_A.is_minor())"
   ]
  },
  {
   "cell_type": "markdown",
   "metadata": {},
   "source": [
    "All this discussion done above can be summarized in following points:\n",
    "\n",
    "1. The class is made up of attributes (data) and methods (functions).\n",
    "2. Attributes and methods are simply defined as normal variables and functions.\n",
    "3. As noted in the corresponding docstring, the ``__init__()`` method is called the initializer. It's equivalent to the constructor in other object oriented languages, and is the method that is first run when you create a new object, or new instance of the class.\n",
    "4. Attributes that apply to the whole class are defined first, and are called class attributes.\n",
    "5. Attributes that apply to a specific instance of a class (an object) are called instance attributes. They are generally defined inside ``__init__()``; this is not necessary, but it is recommended (since attributes defined outside of ``__init__()`` run the risk of being accessed before they are defined).\n",
    "6. Every method, included in the class definition passes the object in question as its first parameter. The word self is used for this parameter (usage of self is actually by convention, as the word self has no inherent meaning in Python, but this is one of Python's most respected conventions, and you should always follow it)."
   ]
  },
  {
   "cell_type": "markdown",
   "metadata": {},
   "source": [
    "# Methods with default value."
   ]
  },
  {
   "cell_type": "markdown",
   "metadata": {},
   "source": [
    "## What is Overloading?\n",
    "\n",
    "in other programming languages such as C++, we need to create more than one definition for function with same names. For example we are creating the same ``Human`` class but for this purpose we are not bound to give infomration of all 3 parameter in a constuctor and rather use ``pre-defined values`` for example consider a C++ example:\n",
    "```` C++\n",
    "class MyClass\n",
    "{\n",
    "    int a, b;\n",
    "    \n",
    "    // Constructor 1\n",
    "    MyClass()\n",
    "    {\n",
    "        a = 0;\n",
    "        b = 0;\n",
    "    }\n",
    "    \n",
    "    // Constructor 2\n",
    "    MyClass(int par_a)\n",
    "    {\n",
    "        a = par_a;\n",
    "        b = 0;\n",
    "    }\n",
    "    \n",
    "    // Constructor 3\n",
    "    MyClass(int par_a, int par_b)\n",
    "    {\n",
    "        a = par_a;\n",
    "        b = par_b;\n",
    "    }\n",
    "};\n",
    "````\n",
    "\n",
    "Notice that constructors of this class ``MyClass`` are with the same name. In above example we have three constructor with three different definitions, this is called ``Overloading``. While creating an object, respective constructor is called based on argument passed to constructor. for example, \n",
    "\n",
    "```` C++\n",
    "ClassObj1 = MyClass();      // will call constructor no.1\n",
    "ClassObj2 = MyClass(5);     // will call constructor no.2\n",
    "ClassObj3 = MyClass(5, 8);  // will call constructor no.3\n",
    "````"
   ]
  },
  {
   "cell_type": "markdown",
   "metadata": {},
   "source": [
    "## Methods with default value (Python-way of overloading)\n",
    "\n",
    "Python language, however, doesn't have such faeture of overloading. Rather we can acheive this by assigning default value to a parameter. This reduce the amount of code to a greater extent. for example, using the same class as above, we can code is in python as."
   ]
  },
  {
   "cell_type": "code",
   "execution_count": 45,
   "metadata": {},
   "outputs": [],
   "source": [
    "class MyClass:\n",
    "    def __init__(self,a = 0, b = 0):\n",
    "        self.a = a\n",
    "        self.b = b     \n",
    "\n",
    "ClassObj1 = MyClass()\n",
    "ClassObj2 = MyClass(5)\n",
    "ClassObj3 = MyClass(5, 8)"
   ]
  },
  {
   "cell_type": "markdown",
   "metadata": {},
   "source": [
    "Notice the amount of code have been reduced significantly in python."
   ]
  },
  {
   "cell_type": "markdown",
   "metadata": {},
   "source": [
    "# Getting, Setting value and deleting attribute using built-in functions.\n",
    "\n",
    "even though attribute value can be accessed or change by using ``dot notation``, however it is not suggested, as little mistake in spelling may create a new attribute. It is better to use buitl-in function or user-defined method to change or access an attribute value. First we discuss built-in functions.\n",
    "\n",
    "## ``getattr()``\n",
    "\n",
    "This built in function is used to access an attribute value, the syntax of this function is"
   ]
  },
  {
   "cell_type": "code",
   "execution_count": 46,
   "metadata": {},
   "outputs": [
    {
     "name": "stdout",
     "output_type": "stream",
     "text": [
      "Help on built-in function getattr in module builtins:\n",
      "\n",
      "getattr(...)\n",
      "    getattr(object, name[, default]) -> value\n",
      "    \n",
      "    Get a named attribute from an object; getattr(x, 'y') is equivalent to x.y.\n",
      "    When a default argument is given, it is returned when the attribute doesn't\n",
      "    exist; without it, an exception is raised in that case.\n",
      "\n"
     ]
    }
   ],
   "source": [
    "help(getattr)"
   ]
  },
  {
   "cell_type": "code",
   "execution_count": 47,
   "metadata": {},
   "outputs": [
    {
     "data": {
      "text/plain": [
       "'Micheal'"
      ]
     },
     "execution_count": 47,
     "metadata": {},
     "output_type": "execute_result"
    }
   ],
   "source": [
    "getattr(Human_A, \"FirstName\")"
   ]
  },
  {
   "cell_type": "markdown",
   "metadata": {},
   "source": [
    "The above code is similar to "
   ]
  },
  {
   "cell_type": "code",
   "execution_count": 48,
   "metadata": {},
   "outputs": [
    {
     "data": {
      "text/plain": [
       "'Micheal'"
      ]
     },
     "execution_count": 48,
     "metadata": {},
     "output_type": "execute_result"
    }
   ],
   "source": [
    "Human_A.FirstName"
   ]
  },
  {
   "cell_type": "code",
   "execution_count": 49,
   "metadata": {},
   "outputs": [
    {
     "data": {
      "text/plain": [
       "\"It doesn't have this attribute\""
      ]
     },
     "execution_count": 49,
     "metadata": {},
     "output_type": "execute_result"
    }
   ],
   "source": [
    "getattr(Human_A, \"MiddleName\", \"It doesn't have this attribute\")"
   ]
  },
  {
   "cell_type": "markdown",
   "metadata": {},
   "source": [
    "when ooptional default parameter is provided, it is returned when attribute is not found."
   ]
  },
  {
   "cell_type": "markdown",
   "metadata": {},
   "source": [
    "## ``setattr()``\n",
    "\n",
    "this built-in function can be used to set a value to a given attribute"
   ]
  },
  {
   "cell_type": "code",
   "execution_count": 50,
   "metadata": {},
   "outputs": [
    {
     "name": "stdout",
     "output_type": "stream",
     "text": [
      "Help on built-in function setattr in module builtins:\n",
      "\n",
      "setattr(obj, name, value, /)\n",
      "    Sets the named attribute on the given object to the specified value.\n",
      "    \n",
      "    setattr(x, 'y', v) is equivalent to ``x.y = v''\n",
      "\n"
     ]
    }
   ],
   "source": [
    "help(setattr)"
   ]
  },
  {
   "cell_type": "code",
   "execution_count": 51,
   "metadata": {},
   "outputs": [],
   "source": [
    "setattr(Human_B, \"Age\", 40)"
   ]
  },
  {
   "cell_type": "markdown",
   "metadata": {},
   "source": [
    "The above code is similar to ``Human_B.Age``"
   ]
  },
  {
   "cell_type": "code",
   "execution_count": 52,
   "metadata": {},
   "outputs": [
    {
     "data": {
      "text/plain": [
       "40"
      ]
     },
     "execution_count": 52,
     "metadata": {},
     "output_type": "execute_result"
    }
   ],
   "source": [
    "getattr(Human_B, \"Age\")"
   ]
  },
  {
   "cell_type": "markdown",
   "metadata": {},
   "source": [
    "if attribute doesn't exist a new attirbute is created. for example:"
   ]
  },
  {
   "cell_type": "code",
   "execution_count": 53,
   "metadata": {},
   "outputs": [
    {
     "data": {
      "text/plain": [
       "45"
      ]
     },
     "execution_count": 53,
     "metadata": {},
     "output_type": "execute_result"
    }
   ],
   "source": [
    "setattr(Human_B, \"Age1\", 45)\n",
    "Human_B.Age1"
   ]
  },
  {
   "cell_type": "markdown",
   "metadata": {},
   "source": [
    "Notice that our original class had no instance attribute name ``Age1`` but now it has been created for instance objet ``Human_B`` and not such attribute  would exist for ``Human_A``"
   ]
  },
  {
   "cell_type": "code",
   "execution_count": 54,
   "metadata": {},
   "outputs": [
    {
     "ename": "AttributeError",
     "evalue": "'Human' object has no attribute 'Age1'",
     "output_type": "error",
     "traceback": [
      "\u001b[1;31m---------------------------------------------------------------------------\u001b[0m",
      "\u001b[1;31mAttributeError\u001b[0m                            Traceback (most recent call last)",
      "\u001b[1;32m<ipython-input-54-f0f1df5c3c00>\u001b[0m in \u001b[0;36m<module>\u001b[1;34m\u001b[0m\n\u001b[1;32m----> 1\u001b[1;33m \u001b[0mHuman_A\u001b[0m\u001b[1;33m.\u001b[0m\u001b[0mAge1\u001b[0m\u001b[1;33m\u001b[0m\u001b[1;33m\u001b[0m\u001b[0m\n\u001b[0m",
      "\u001b[1;31mAttributeError\u001b[0m: 'Human' object has no attribute 'Age1'"
     ]
    }
   ],
   "source": [
    "Human_A.Age1"
   ]
  },
  {
   "cell_type": "markdown",
   "metadata": {},
   "source": [
    "## ``delattr()``\n",
    "this built-in function is used to delete an attribute. for example let's delete ``Human_B.Age1`` attrtibute created in above example"
   ]
  },
  {
   "cell_type": "code",
   "execution_count": 55,
   "metadata": {},
   "outputs": [
    {
     "name": "stdout",
     "output_type": "stream",
     "text": [
      "Help on built-in function delattr in module builtins:\n",
      "\n",
      "delattr(obj, name, /)\n",
      "    Deletes the named attribute from the given object.\n",
      "    \n",
      "    delattr(x, 'y') is equivalent to ``del x.y''\n",
      "\n"
     ]
    }
   ],
   "source": [
    "help(delattr)"
   ]
  },
  {
   "cell_type": "code",
   "execution_count": 56,
   "metadata": {},
   "outputs": [],
   "source": [
    "delattr(Human_B, \"Age1\")"
   ]
  },
  {
   "cell_type": "code",
   "execution_count": 57,
   "metadata": {},
   "outputs": [
    {
     "ename": "AttributeError",
     "evalue": "'Human' object has no attribute 'Age1'",
     "output_type": "error",
     "traceback": [
      "\u001b[1;31m---------------------------------------------------------------------------\u001b[0m",
      "\u001b[1;31mAttributeError\u001b[0m                            Traceback (most recent call last)",
      "\u001b[1;32m<ipython-input-57-cb1c23a4090f>\u001b[0m in \u001b[0;36m<module>\u001b[1;34m\u001b[0m\n\u001b[1;32m----> 1\u001b[1;33m \u001b[0mHuman_B\u001b[0m\u001b[1;33m.\u001b[0m\u001b[0mAge1\u001b[0m\u001b[1;33m\u001b[0m\u001b[1;33m\u001b[0m\u001b[0m\n\u001b[0m",
      "\u001b[1;31mAttributeError\u001b[0m: 'Human' object has no attribute 'Age1'"
     ]
    }
   ],
   "source": [
    "Human_B.Age1"
   ]
  },
  {
   "cell_type": "markdown",
   "metadata": {},
   "source": [
    "# Getting and setting value of attribute using user defined methods.\n",
    "\n",
    "as seen above while using ``setattr()`` function or directly attribute, a slight change in spelling will create a new attribute. therefore it is suggested to have user defined mehod in order to update or access the value an attribute.\n",
    "These are also crucial when dealing with private attributes(To be discussed later) which cannot be accessed from outside class.<br>\n",
    "these methods can be names whatever a user want but a good practice to name them as \"get_\" or \"set_\" followed by the attribute name and are called setters and getters. For example, for our class Human, the method for setting ``FirstName`` we can write a method ``set_FirstName()`` and new value is passed by using arguments. so now our ``Human`` class definition will be extended as below:"
   ]
  },
  {
   "cell_type": "code",
   "execution_count": 58,
   "metadata": {},
   "outputs": [],
   "source": [
    "class Human:\n",
    "    \n",
    "    #class attribute\n",
    "    species = \"Homo Sapiens\"\n",
    "    \n",
    "    # class initializer\n",
    "    def __init__(self, FirstName, LastName, Age):\n",
    "        #instance attributes\n",
    "        self.FirstName = FirstName\n",
    "        self.LastName = LastName\n",
    "        self.Age = Age\n",
    "    \n",
    "    #instance methods None-Return Type\n",
    "    def show_species(self):\n",
    "        print(f\"Species is {Human.species}\")\n",
    "    \n",
    "    def show_details(self):\n",
    "        print(f\"Name: {self.FirstName} \\nLast Name:{self.LastName}\\nAge: {self.Age}\")\n",
    "        \n",
    "    #instance methods Return Type\n",
    "    def is_minor(self):\n",
    "        if self.Age < 18:\n",
    "            return \"is a minor\"\n",
    "        else:\n",
    "            return \"Is not a Minor\"\n",
    "    \n",
    "    # Setters\n",
    "    def set_FirstName(self, NewFirstName):\n",
    "        self.FirstName = NewFirstName\n",
    "    \n",
    "    def set_LastName(self, NewLastName):\n",
    "        self.LastName = NewLastName\n",
    "    \n",
    "    def set_Age(self, NewAge):\n",
    "        self.Age = NewAge\n",
    "        \n",
    "    # Getters\n",
    "\n",
    "    def get_FirstName(self):\n",
    "        return self.FirstName\n",
    "    \n",
    "    def get_LastName(self):\n",
    "        return self.LastName\n",
    "    \n",
    "    def get_Age(self):\n",
    "        return self.Age\n",
    "        \n",
    "Human_A = Human(\"Micheal\", \"Scofield\", 30)\n",
    "Human_B = Human(\"Lincoln\", \"Burrows\", 38)\n",
    "Human_C = Human(\"John\", \"Doe\", 25)"
   ]
  },
  {
   "cell_type": "code",
   "execution_count": 59,
   "metadata": {},
   "outputs": [
    {
     "name": "stdout",
     "output_type": "stream",
     "text": [
      "John\n",
      "Doe\n",
      "25\n"
     ]
    }
   ],
   "source": [
    "print(Human_C.get_FirstName())\n",
    "print(Human_C.get_LastName())\n",
    "print(Human_C.get_Age())"
   ]
  },
  {
   "cell_type": "markdown",
   "metadata": {},
   "source": [
    "Updating values using set methods"
   ]
  },
  {
   "cell_type": "code",
   "execution_count": 60,
   "metadata": {},
   "outputs": [],
   "source": [
    "Human_C.set_FirstName(\"Alex\")\n",
    "Human_C.set_LastName(\"Mahone\")\n",
    "Human_C.set_Age(35)"
   ]
  },
  {
   "cell_type": "code",
   "execution_count": 61,
   "metadata": {},
   "outputs": [
    {
     "name": "stdout",
     "output_type": "stream",
     "text": [
      "Alex\n",
      "Mahone\n",
      "35\n"
     ]
    }
   ],
   "source": [
    "print(Human_C.get_FirstName())\n",
    "print(Human_C.get_LastName())\n",
    "print(Human_C.get_Age())"
   ]
  },
  {
   "cell_type": "markdown",
   "metadata": {},
   "source": [
    "Notice that all attribute of ``Human_C`` have been updated. and using such methods have remvoed the risk of created new attributes."
   ]
  },
  {
   "cell_type": "markdown",
   "metadata": {},
   "source": [
    "# Inheritance\n",
    "\n",
    "Sometimes we need to create a class which have the some same features or properites as that of other class. For example we need to create a class for the students, and all students are essentially Human. In simple words, students are a subclass of human being and hence we can create a subclass ``students`` from ``Human``. The class which is used to create new class is called ``base class`` and the one being created is called ``derived class``.  In our example, ``Human`` is ``Base Class`` or ``parent class`` and ``student`` is ``derived class`` or ``child class``. "
   ]
  },
  {
   "cell_type": "code",
   "execution_count": 62,
   "metadata": {},
   "outputs": [],
   "source": [
    "class student(Human):\n",
    "    pass"
   ]
  },
  {
   "cell_type": "markdown",
   "metadata": {},
   "source": [
    "Notice that we have given no attribute, class or instance. <br>\n",
    "a derived class would ``inherit`` all members, attributes and methods, of base class (except for the private members)<br>\n",
    "let's create an instance."
   ]
  },
  {
   "cell_type": "code",
   "execution_count": 63,
   "metadata": {},
   "outputs": [],
   "source": [
    "student_A = student(\"Harry\", \"Potter\", 9)"
   ]
  },
  {
   "cell_type": "code",
   "execution_count": 64,
   "metadata": {},
   "outputs": [
    {
     "name": "stdout",
     "output_type": "stream",
     "text": [
      "Name: Harry \n",
      "Last Name:Potter\n",
      "Age: 9\n"
     ]
    }
   ],
   "source": [
    "student_A.show_details()"
   ]
  },
  {
   "cell_type": "markdown",
   "metadata": {},
   "source": [
    "As in above example, we had have not defined ``__init__`` or any other method, yet we can have attributes, method which are inheritted from the base class. And since a student would need more information than just name and age, we can write a new initializer, ``show_detail()``, getter, and setter methods."
   ]
  },
  {
   "cell_type": "code",
   "execution_count": 65,
   "metadata": {},
   "outputs": [],
   "source": [
    "class student(Human):\n",
    "    # class attribute\n",
    "    school = \"Hogwarts School of Witchcraft and Wizardry\"\n",
    "    \n",
    "    # Initializer\n",
    "    def __init__(self, ID, FirstName, LastName, Age, ClassYear, MiddleName = \"\"):\n",
    "        self.ID = ID\n",
    "        self.FirstName = FirstName\n",
    "        self.LastName = LastName\n",
    "        self.Age = Age\n",
    "        self.ClassYear = ClassYear\n",
    "        self.MiddleName = MiddleName\n",
    "        \n",
    "    def show_details(self):\n",
    "        print(f\"ID: {self.ID}\\nFirst Name: {self.FirstName} \\nMiddle Name: {self.MiddleName}\\nLast Name: {self.LastName}\")\n",
    "        print(f\"Year {self.ClassYear}, Age: {self.Age}\")\n",
    "              \n",
    "    \n",
    "    def show_school(self):\n",
    "        print(f\"School Name is {school}\")\n",
    "        \n",
    "    def get_MiddleName(self):\n",
    "        return self.MiddleName\n",
    "    \n",
    "    def get_ID(self):\n",
    "        return self.ID\n",
    "    \n",
    "    def get_ClassYear():\n",
    "        return ClassYear\n",
    "    \n",
    "    def set_MiddleName(self, NewMiddleName):\n",
    "        self.MiddleName = NewMiddleName\n",
    "    \n",
    "    def set_ID(self, ID):\n",
    "        self.ID = ID\n",
    "    \n",
    "    def set_ClassYear(self, NewClassYear):\n",
    "        self.ClassYear = NewClassYear\n",
    "              "
   ]
  },
  {
   "cell_type": "code",
   "execution_count": 66,
   "metadata": {},
   "outputs": [],
   "source": [
    "student_A = student(1,\"Harry\", \"Potter\", 9, 1)"
   ]
  },
  {
   "cell_type": "markdown",
   "metadata": {},
   "source": [
    "# Polymorphism -- Method Overriding in Subclass\n",
    "\n",
    "``show_details()`` was previously defined in ``Human`` class, and its definition was\n",
    "```` python\n",
    "def show_details(self):\n",
    "        print(f\"Name: {self.FirstName} \\nLast Name:{self.LastName}\\nAge: {self.Age}\")\n",
    "````\n",
    "and it is redefined in child-class ``student``, as below\n",
    "````python\n",
    "def show_details(self):\n",
    "        print(f\"ID: {self.ID}\\nFirst Name: {self.FirstName} \\nMiddle Name: {self.MiddleName}\\nLast Name: {self.LastName}\")\n",
    "        print(f\"Year {self.ClassYear}, Age: {self.Age}\")\n",
    "````\n",
    "\n",
    "hence the new definition ``overrides`` the previous definition of ``show_details()``. <br>\n",
    "This is called ``polymorphism`` i.e. a single object takes more than one form. "
   ]
  },
  {
   "cell_type": "code",
   "execution_count": 67,
   "metadata": {},
   "outputs": [
    {
     "name": "stdout",
     "output_type": "stream",
     "text": [
      "ID: 1\n",
      "First Name: Harry \n",
      "Middle Name: \n",
      "Last Name: Potter\n",
      "Year 1, Age: 9\n"
     ]
    }
   ],
   "source": [
    "student_A.show_details() "
   ]
  },
  {
   "cell_type": "markdown",
   "metadata": {},
   "source": [
    "## Using methods from parent class\n",
    "\n",
    "Notice that no getter or setter are defined for child-class ``student`` attributes ``FirstName``, ``LastName`` and ``Age``, this child class can inherit these methods from parent class ``Human``. Hence using these parent methods:\n"
   ]
  },
  {
   "cell_type": "code",
   "execution_count": 69,
   "metadata": {},
   "outputs": [],
   "source": [
    "student_A.set_Age(15)"
   ]
  },
  {
   "cell_type": "code",
   "execution_count": 70,
   "metadata": {},
   "outputs": [
    {
     "data": {
      "text/plain": [
       "15"
      ]
     },
     "execution_count": 70,
     "metadata": {},
     "output_type": "execute_result"
    }
   ],
   "source": [
    "student_A.get_Age()"
   ]
  },
  {
   "cell_type": "code",
   "execution_count": 72,
   "metadata": {},
   "outputs": [
    {
     "name": "stdout",
     "output_type": "stream",
     "text": [
      "Species is Homo Sapiens\n"
     ]
    }
   ],
   "source": [
    "student_A.show_species()"
   ]
  },
  {
   "cell_type": "markdown",
   "metadata": {},
   "source": [
    "## Super() method\n",
    "\n",
    "In inheritance, super() refers to ``base`` or ``parent`` class. Any parent class method can be called in child class using super(). In our example, ``Human`` is parent class and this ``super()`` refers to this class. <br>\n",
    "Let us recall ``__init__`` definition of our base class ``Human`` which is given below:\n",
    "```` python\n",
    "class Human:\n",
    "    .\n",
    "    .\n",
    "    .\n",
    "    \n",
    "    # class initializer\n",
    "    def __init__(self, FirstName, LastName, Age):\n",
    "        #instance attributes\n",
    "        self.FirstName = FirstName\n",
    "        self.LastName = LastName\n",
    "        self.Age = Age\n",
    "    .\n",
    "    .\n",
    "    .\n",
    "    .\n",
    "````\n",
    "\n",
    "and in child class our initializer was defined as below:\n",
    "\n",
    "```` python\n",
    "class student(Human):\n",
    "    .\n",
    "    .\n",
    "    .\n",
    "    # Initializer\n",
    "    def __init__(self, ID, FirstName, LastName, Age, ClassYear, MiddleName = \"\"):\n",
    "        self.ID = ID\n",
    "        self.FirstName = FirstName\n",
    "        self.LastName = LastName\n",
    "        self.Age = Age\n",
    "        self.ClassYear = ClassYear\n",
    "        self.MiddleName = MiddleName\n",
    "    .\n",
    "    .\n",
    "    .\n",
    "````\n",
    "\n",
    "Notice that ``FirstName``, ``LastName`` and ``Age`` are same in both class. Therefore we can use initializer of our base class to initialize these three attributes. in order to do that, the ``__init__`` definition is change to the following:\n",
    "\n",
    "```` python\n",
    "class student(Human):\n",
    "    .\n",
    "    .\n",
    "    .\n",
    "    # Initializer\n",
    "    def __init__(self, ID, FirstName, LastName, Age, ClassYear, MiddleName = \"\"):\n",
    "        super().__init__(FirstName, LastName, Age)\n",
    "        self.ID = ID\n",
    "        self.ClassYear = ClassYear\n",
    "        self.MiddleName = MiddleName\n",
    "    .\n",
    "    .\n",
    "    .\n",
    "````\n",
    "\n",
    "Now we are invoking the ``__init__`` of base class by using ``super()``. <br>\n",
    "``super().__init__()`` is essentially same as ```Human.__init__()```<br>\n",
    "Now let's redefine, our class ``student`` again."
   ]
  },
  {
   "cell_type": "code",
   "execution_count": 73,
   "metadata": {},
   "outputs": [],
   "source": [
    "class student(Human):\n",
    "    # class attribute\n",
    "    school = \"Hogwarts School of Witchcraft and Wizardry\"\n",
    "    \n",
    "    # Initializer\n",
    "    def __init__(self, ID, FirstName, LastName, Age, ClassYear, MiddleName = \"\"):\n",
    "        super().__init__(FirstName, LastName, Age)\n",
    "        self.ID = ID\n",
    "        self.ClassYear = ClassYear\n",
    "        self.MiddleName = MiddleName\n",
    "        \n",
    "    def show_details(self):\n",
    "        print(f\"ID: {self.ID}\\nFirst Name: {self.FirstName} \\nMiddle Name: {self.MiddleName}\\nLast Name: {self.LastName}\")\n",
    "        print(f\"Year {self.ClassYear}, Age: {self.Age}\")\n",
    "              \n",
    "    \n",
    "    def show_school(self):\n",
    "        print(f\"School Name is {school}\")\n",
    "        \n",
    "    def get_MiddleName(self):\n",
    "        return self.MiddleName\n",
    "    \n",
    "    def get_ID(self):\n",
    "        return self.ID\n",
    "    \n",
    "    def get_ClassYear():\n",
    "        return ClassYear\n",
    "    \n",
    "    def set_MiddleName(self, NewMiddleName):\n",
    "        self.MiddleName = NewMiddleName\n",
    "    \n",
    "    def set_ID(self, ID):\n",
    "        self.ID = ID\n",
    "    \n",
    "    def set_ClassYear(self, NewClassYear):\n",
    "        self.ClassYear = NewClassYear\n",
    "              "
   ]
  },
  {
   "cell_type": "code",
   "execution_count": 74,
   "metadata": {},
   "outputs": [],
   "source": [
    "student_B = student(2,\"Hermione\", \"Granger\", 9, 1 , MiddleName = \"Jean\")"
   ]
  },
  {
   "cell_type": "code",
   "execution_count": 75,
   "metadata": {},
   "outputs": [
    {
     "name": "stdout",
     "output_type": "stream",
     "text": [
      "ID: 2\n",
      "First Name: Hermione \n",
      "Middle Name: Jean\n",
      "Last Name: Granger\n",
      "Year 1, Age: 9\n"
     ]
    }
   ],
   "source": [
    "student_B.show_details()"
   ]
  },
  {
   "cell_type": "markdown",
   "metadata": {},
   "source": [
    "# Multiple inheritance\n",
    "\n",
    "python allows inheritance from more than one classes, for example, university student might have properties of both ``Human`` and ``student`` and hence can use these two classes as it's base class. a basic syntax is as below:\n",
    "````python\n",
    "class ChildClass(ParentClass1, ParentClass2, ParentClass3):\n",
    "    statement1\n",
    "    statement1\n",
    "    statement1\n",
    "    .\n",
    "    .\n",
    "    .\n",
    "    statementN\n",
    "````\n",
    "First an attribute is looked in ``ChildClass`` if not found, it will be looked for in ``ParentClass1``, then in ``ParentClass2`` and then in ``ParentClass3``.\n",
    "<br><br>\n",
    "Now let's create our class from ``student`` and ``Human``"
   ]
  },
  {
   "cell_type": "code",
   "execution_count": 83,
   "metadata": {},
   "outputs": [],
   "source": [
    "class UniversityStudent(student, Human):\n",
    "    \n",
    "    def __init__(self, ID, FirstName, LastName, Age, ClassYear, Majors,MiddleName = \"\"):\n",
    "        self.ID = ID\n",
    "        self.FirstName = FirstName\n",
    "        self.LastName = LastName\n",
    "        self.Age = Age\n",
    "        self.ClassYear = ClassYear\n",
    "        self.MiddleName = MiddleName\n",
    "        self.Majors = Majors\n",
    "        \n",
    "    def show_details(self):\n",
    "        print(f\"ID: {self.ID}\\nFirst Name: {self.FirstName} \\nMiddle Name: {self.MiddleName}\\nLast Name: {self.LastName}\")\n",
    "        print(f\"Year {self.ClassYear}, Age: {self.Age} \\nenrolled in {self.Majors}\")\n",
    "    \n",
    "    def get_Majors(self):\n",
    "        return self.Majors\n",
    "    \n",
    "    def set_Majors(self, NewMajors):\n",
    "        self.Majors = NewMajors "
   ]
  },
  {
   "cell_type": "code",
   "execution_count": 84,
   "metadata": {},
   "outputs": [],
   "source": [
    "UniversityStudentA = UniversityStudent(3, \"Harry\", \"Potter\", 9, 1, \"Defence Against dark arts\", MiddleName = \"James\")"
   ]
  },
  {
   "cell_type": "code",
   "execution_count": 85,
   "metadata": {},
   "outputs": [
    {
     "name": "stdout",
     "output_type": "stream",
     "text": [
      "ID: 3\n",
      "First Name: Harry \n",
      "Middle Name: James\n",
      "Last Name: Potter\n",
      "Year 1, Age: 9 \n",
      "enrolled in Defence Against dark arts\n"
     ]
    }
   ],
   "source": [
    "UniversityStudentA.show_details()"
   ]
  },
  {
   "cell_type": "markdown",
   "metadata": {},
   "source": [
    "# Using property method for getter and setter\n",
    "\n",
    "in our class we defined above, be it ``Human``, ``student`` or ``UniversityStudent`` we had defined getter and setter methods for each attribute. Whenever we need to access or change the value of an attribute, we need to call respective getter or setter.<br>\n",
    "We can however use property() class in order to call a getter or setter while accessing or changing an attribute value directly. This method has following syntax:\n",
    "```` python\n",
    "property(fget=None, fset=None, fdel=None, doc=None)\n",
    "````\n",
    "where,\n",
    "\n",
    "- ``fget`` is function to get value of the attribute\n",
    "- ``fset`` is function to set value of the attribute\n",
    "- ``fdel`` is function to delete the attribute\n",
    "- ``doc`` is a string (like a comment)\n",
    "<br>\n",
    "NOTE: PROPERTY NAME MUST NOT BE SAME AS ATTRIBUTE NAME.\n",
    "<br>\n",
    "Let us create a new class for better understanding"
   ]
  },
  {
   "cell_type": "code",
   "execution_count": 86,
   "metadata": {},
   "outputs": [
    {
     "name": "stdout",
     "output_type": "stream",
     "text": [
      "Help on class property in module builtins:\n",
      "\n",
      "class property(object)\n",
      " |  property(fget=None, fset=None, fdel=None, doc=None)\n",
      " |  \n",
      " |  Property attribute.\n",
      " |  \n",
      " |    fget\n",
      " |      function to be used for getting an attribute value\n",
      " |    fset\n",
      " |      function to be used for setting an attribute value\n",
      " |    fdel\n",
      " |      function to be used for del'ing an attribute\n",
      " |    doc\n",
      " |      docstring\n",
      " |  \n",
      " |  Typical use is to define a managed attribute x:\n",
      " |  \n",
      " |  class C(object):\n",
      " |      def getx(self): return self._x\n",
      " |      def setx(self, value): self._x = value\n",
      " |      def delx(self): del self._x\n",
      " |      x = property(getx, setx, delx, \"I'm the 'x' property.\")\n",
      " |  \n",
      " |  Decorators make defining new properties or modifying existing ones easy:\n",
      " |  \n",
      " |  class C(object):\n",
      " |      @property\n",
      " |      def x(self):\n",
      " |          \"I am the 'x' property.\"\n",
      " |          return self._x\n",
      " |      @x.setter\n",
      " |      def x(self, value):\n",
      " |          self._x = value\n",
      " |      @x.deleter\n",
      " |      def x(self):\n",
      " |          del self._x\n",
      " |  \n",
      " |  Methods defined here:\n",
      " |  \n",
      " |  __delete__(self, instance, /)\n",
      " |      Delete an attribute of instance.\n",
      " |  \n",
      " |  __get__(self, instance, owner, /)\n",
      " |      Return an attribute of instance, which is of type owner.\n",
      " |  \n",
      " |  __getattribute__(self, name, /)\n",
      " |      Return getattr(self, name).\n",
      " |  \n",
      " |  __init__(self, /, *args, **kwargs)\n",
      " |      Initialize self.  See help(type(self)) for accurate signature.\n",
      " |  \n",
      " |  __set__(self, instance, value, /)\n",
      " |      Set an attribute of instance to value.\n",
      " |  \n",
      " |  deleter(...)\n",
      " |      Descriptor to change the deleter on a property.\n",
      " |  \n",
      " |  getter(...)\n",
      " |      Descriptor to change the getter on a property.\n",
      " |  \n",
      " |  setter(...)\n",
      " |      Descriptor to change the setter on a property.\n",
      " |  \n",
      " |  ----------------------------------------------------------------------\n",
      " |  Static methods defined here:\n",
      " |  \n",
      " |  __new__(*args, **kwargs) from builtins.type\n",
      " |      Create and return a new object.  See help(type) for accurate signature.\n",
      " |  \n",
      " |  ----------------------------------------------------------------------\n",
      " |  Data descriptors defined here:\n",
      " |  \n",
      " |  __isabstractmethod__\n",
      " |  \n",
      " |  fdel\n",
      " |  \n",
      " |  fget\n",
      " |  \n",
      " |  fset\n",
      "\n"
     ]
    }
   ],
   "source": [
    "help(property)"
   ]
  },
  {
   "cell_type": "code",
   "execution_count": 11,
   "metadata": {},
   "outputs": [],
   "source": [
    "class randomClass:\n",
    "    \n",
    "    def __init__(self,Attr1):\n",
    "        self._Attr1 = Attr1\n",
    "        \n",
    "    def getAttr1(self):\n",
    "        print(\"getting Value of Attribute\")\n",
    "        return self._Attr1\n",
    "    \n",
    "    def setAttr1(self, newAttr1):\n",
    "        print(\"setting Value of Attribute\")\n",
    "        self._Attr1 = newAttr1\n",
    "        \n",
    "    def delAttr1(self):\n",
    "        print(\"deleting of Attribute\")\n",
    "        del self._Attr1\n",
    "    \n",
    "    Attr1 = property(getAttr1, setAttr1, delAttr1)\n",
    "    "
   ]
  },
  {
   "cell_type": "markdown",
   "metadata": {},
   "source": [
    "on line-18, ``getAttr`` is linked to ``Attr1`` as getter, ``setAttr1``as setter and ``delAttr`` as delete method for this attribute."
   ]
  },
  {
   "cell_type": "code",
   "execution_count": 12,
   "metadata": {},
   "outputs": [
    {
     "name": "stdout",
     "output_type": "stream",
     "text": [
      "getting Value of Attribute\n"
     ]
    },
    {
     "data": {
      "text/plain": [
       "15"
      ]
     },
     "execution_count": 12,
     "metadata": {},
     "output_type": "execute_result"
    }
   ],
   "source": [
    "RandomInst = randomClass(15)\n",
    "RandomInst.Attr1"
   ]
  },
  {
   "cell_type": "code",
   "execution_count": 14,
   "metadata": {},
   "outputs": [
    {
     "name": "stdout",
     "output_type": "stream",
     "text": [
      "setting Value of Attribute\n"
     ]
    }
   ],
   "source": [
    "RandomInst.Attr1 = 20"
   ]
  },
  {
   "cell_type": "markdown",
   "metadata": {},
   "source": [
    "# Using property decorators for getters and setter\n",
    "\n",
    "In example above, we have used property class in order to create a property and then specified the getters and setters for this property, another approach is using ``decorator`` for this purpose. We will use ``@property`` decorator for this purpose. Now let us first define a class."
   ]
  },
  {
   "cell_type": "code",
   "execution_count": 29,
   "metadata": {},
   "outputs": [],
   "source": [
    "class randomClass:\n",
    "    \n",
    "    def __init__(self,Attr1):\n",
    "        self._Attr1 = Attr1\n",
    "    \n",
    "    @property #set the following method as getter\n",
    "    def Attr1(self):\n",
    "        print(\"getting Value of Attribute\")\n",
    "        return self._Attr1\n",
    "    \n",
    "    @Attr1.setter #sets the following methods as setter\n",
    "    def Attr1(self, newAttr1):\n",
    "        print(\"setting Value of Attribute\")\n",
    "        self._Attr1 = newAttr1\n",
    "        \n",
    "    @Attr1.deleter #sets the following method for attr. deletion\n",
    "    def Attr1(self):\n",
    "        print(\"deleting Attribute\")\n",
    "        del self._Attr1\n",
    "    \n"
   ]
  },
  {
   "cell_type": "markdown",
   "metadata": {},
   "source": [
    "```` python\n",
    "@property #set the following method as getter\n",
    "def Attr1(self):\n",
    "    print(\"getting Value of Attribute\")\n",
    "    return self._Attr1\n",
    "````\n",
    "The above method creates a property. The name of this property is same as that of the following method. so above method will create a property named ``Attr1``\n",
    "\n",
    "```` python\n",
    "@Attr1.setter #sets the following methods as setter\n",
    "def Attr1(self, newAttr1):\n",
    "    print(\"setting Value of Attribute\")\n",
    "    self._Attr1 = newAttr1\n",
    "````\n",
    "The above code will create a setter for the ``Attr1``. Now notice in decorator rather than using ``@property`` we have used property name ``Attr1``\n",
    "\n",
    "```` python\n",
    "@Attr1.deleter #sets the following method for attr. deletion\n",
    "def Attr1(self):\n",
    "    print(\"deleting of Attribute\")\n",
    "    del self._Attr1\n",
    "````\n",
    "\n",
    "\n",
    "the above decorator will set the delAttr1 method for ``Attr1`` deletion. Also Notice that when using decorator getter, setter, and delete methods have same name as property name.\n",
    "<br>\n",
    "let's create an instance and check if we are getting desired result.\n"
   ]
  },
  {
   "cell_type": "code",
   "execution_count": 30,
   "metadata": {},
   "outputs": [],
   "source": [
    "InstanceObj = randomClass(10)"
   ]
  },
  {
   "cell_type": "markdown",
   "metadata": {},
   "source": [
    "The following line would invoke.\n",
    "```` python\n",
    "def Attr1(self):\n",
    "    print(\"getting Value of Attribute\")\n",
    "    return self._Attr1\n",
    "````"
   ]
  },
  {
   "cell_type": "code",
   "execution_count": 31,
   "metadata": {},
   "outputs": [
    {
     "name": "stdout",
     "output_type": "stream",
     "text": [
      "getting Value of Attribute\n"
     ]
    },
    {
     "data": {
      "text/plain": [
       "10"
      ]
     },
     "execution_count": 31,
     "metadata": {},
     "output_type": "execute_result"
    }
   ],
   "source": [
    "InstanceObj.Attr1"
   ]
  },
  {
   "cell_type": "markdown",
   "metadata": {},
   "source": [
    "Similary following would invoke setter."
   ]
  },
  {
   "cell_type": "code",
   "execution_count": 32,
   "metadata": {},
   "outputs": [
    {
     "name": "stdout",
     "output_type": "stream",
     "text": [
      "setting Value of Attribute\n"
     ]
    }
   ],
   "source": [
    "InstanceObj.Attr1 = 20"
   ]
  },
  {
   "cell_type": "markdown",
   "metadata": {},
   "source": [
    "and the following would invoke deleter."
   ]
  },
  {
   "cell_type": "code",
   "execution_count": 33,
   "metadata": {},
   "outputs": [
    {
     "name": "stdout",
     "output_type": "stream",
     "text": [
      "deleting Attribute\n"
     ]
    }
   ],
   "source": [
    "del InstanceObj.Attr1"
   ]
  },
  {
   "cell_type": "markdown",
   "metadata": {},
   "source": [
    "# Operator Overloading.\n",
    "\n",
    "We sometimes need to overload an operator in order to perform some tasks. Overloading an operator simply means that we make a operator do a task which it isn't programmed for.<br>\n",
    "for further elaboration of Overloading we can use a class of complex number. <br> \n",
    "A complex number is comprised of a real number, and an imaginary number and is represented as ``c=a+bj`` where ``c`` is complex number, ``a`` is a real part also represented as ``Re(c)`` and ``b`` is imaginary part also represented as ``im(c)``.\n",
    "<br>\n",
    "For the first step let's create this class without and operator overloading method. (we will use ComplexNum  for class name as complex is pre-defined class)"
   ]
  },
  {
   "cell_type": "code",
   "execution_count": 59,
   "metadata": {},
   "outputs": [],
   "source": [
    "class ComplexNum:\n",
    "    \n",
    "    def __init__(self, real = 0, img = 0):\n",
    "        self._real = real\n",
    "        self._img = img\n",
    "        \n",
    "    @property #set the following method as getter for real\n",
    "    def real(self):\n",
    "        return self._real\n",
    "    \n",
    "    @real.setter #sets the following methods as setter for real\n",
    "    def real(self, newreal):\n",
    "        self._real = newreal\n",
    "        \n",
    "    @real.deleter #sets the following method for attr. deletion for real\n",
    "    def real(self):\n",
    "        del self._real\n",
    "    \n",
    "    @property #set the following method as getter for img\n",
    "    def img(self):\n",
    "        return self._img\n",
    "    \n",
    "    @img.setter #sets the following methods as setter for img\n",
    "    def img(self, newImg):\n",
    "        self._img = newImg\n",
    "        \n",
    "    @img.deleter #sets the following method for attr. deletion for img\n",
    "    def img(self):\n",
    "        del self._img\n",
    "    \n",
    "    def modulus(self):\n",
    "        return (self.real**2 + self.img**2)**0.5"
   ]
  },
  {
   "cell_type": "code",
   "execution_count": 64,
   "metadata": {},
   "outputs": [],
   "source": [
    "CompNum1 = ComplexNum(real = 4, img = 3)"
   ]
  },
  {
   "cell_type": "code",
   "execution_count": 65,
   "metadata": {},
   "outputs": [
    {
     "data": {
      "text/plain": [
       "4"
      ]
     },
     "execution_count": 65,
     "metadata": {},
     "output_type": "execute_result"
    }
   ],
   "source": [
    "CompNum1.real"
   ]
  },
  {
   "cell_type": "code",
   "execution_count": 66,
   "metadata": {},
   "outputs": [
    {
     "data": {
      "text/plain": [
       "3"
      ]
     },
     "execution_count": 66,
     "metadata": {},
     "output_type": "execute_result"
    }
   ],
   "source": [
    "CompNum1.img"
   ]
  },
  {
   "cell_type": "code",
   "execution_count": 67,
   "metadata": {},
   "outputs": [
    {
     "data": {
      "text/plain": [
       "5.0"
      ]
     },
     "execution_count": 67,
     "metadata": {},
     "output_type": "execute_result"
    }
   ],
   "source": [
    "CompNum1.modulus()"
   ]
  },
  {
   "cell_type": "markdown",
   "metadata": {},
   "source": [
    "## Overloading string ``__str__``\n",
    "what if we want to print this complex number in terms of ``4+3j`` we will have to write our string in print function. for example"
   ]
  },
  {
   "cell_type": "code",
   "execution_count": 70,
   "metadata": {},
   "outputs": [
    {
     "name": "stdout",
     "output_type": "stream",
     "text": [
      "4+3j\n"
     ]
    }
   ],
   "source": [
    "print(f\"{CompNum1.real}+{CompNum1.img}j\")"
   ]
  },
  {
   "cell_type": "markdown",
   "metadata": {},
   "source": [
    "what if we wanna do this without a writing a string in print funtion and get the desired result with only following statement given below:\n",
    "```` python\n",
    "print(CompNum1)\n",
    "````\n",
    "For this purpose we need to overload our string method i.e ``__str__``."
   ]
  },
  {
   "cell_type": "code",
   "execution_count": 71,
   "metadata": {},
   "outputs": [],
   "source": [
    "class ComplexNum:\n",
    "    \n",
    "    def __init__(self, real = 0, img = 0):\n",
    "        self._real = real\n",
    "        self._img = img\n",
    "        \n",
    "    @property #set the following method as getter for real\n",
    "    def real(self):\n",
    "        return self._real\n",
    "    \n",
    "    @real.setter #sets the following methods as setter for real\n",
    "    def real(self, newreal):\n",
    "        self._real = newreal\n",
    "        \n",
    "    @real.deleter #sets the following method for attr. deletion for real\n",
    "    def real(self):\n",
    "        del self._real\n",
    "    \n",
    "    @property #set the following method as getter for img\n",
    "    def img(self):\n",
    "        return self._img\n",
    "    \n",
    "    @img.setter #sets the following methods as setter for img\n",
    "    def img(self, newImg):\n",
    "        self._img = newImg\n",
    "        \n",
    "    @img.deleter #sets the following method for attr. deletion for img\n",
    "    def img(self):\n",
    "        del self._img\n",
    "    \n",
    "    def modulus(self):\n",
    "        return (self.real**2 + self.img**2)**0.5\n",
    "    \n",
    "    # Overloading string\n",
    "    def __str__(self):\n",
    "        return f\"{self.real}+{self.img}j\""
   ]
  },
  {
   "cell_type": "code",
   "execution_count": 73,
   "metadata": {},
   "outputs": [],
   "source": [
    "CompNum1 = ComplexNum(real = 5, img = 3)"
   ]
  },
  {
   "cell_type": "code",
   "execution_count": 74,
   "metadata": {},
   "outputs": [
    {
     "name": "stdout",
     "output_type": "stream",
     "text": [
      "5+3j\n"
     ]
    }
   ],
   "source": [
    "print(CompNum1)"
   ]
  },
  {
   "cell_type": "markdown",
   "metadata": {},
   "source": [
    "Now notice ``CompNum1`` retruned ``5+3j`` as string which was done in ``__str__(self)`` method."
   ]
  },
  {
   "cell_type": "markdown",
   "metadata": {},
   "source": [
    "## Overloading ``+`` and ``-`` operator using ``__add__`` and ``__sub__`` method\n",
    "\n",
    "as we have overloaded our string in previous example, we can overload our other operators. let's create another complex number and try to add these."
   ]
  },
  {
   "cell_type": "code",
   "execution_count": 78,
   "metadata": {},
   "outputs": [],
   "source": [
    "CompNum2= ComplexNum(real = 10, img = 5)"
   ]
  },
  {
   "cell_type": "code",
   "execution_count": 79,
   "metadata": {},
   "outputs": [
    {
     "ename": "TypeError",
     "evalue": "unsupported operand type(s) for +: 'ComplexNum' and 'ComplexNum'",
     "output_type": "error",
     "traceback": [
      "\u001b[1;31m---------------------------------------------------------------------------\u001b[0m",
      "\u001b[1;31mTypeError\u001b[0m                                 Traceback (most recent call last)",
      "\u001b[1;32m<ipython-input-79-c607b09e9f0f>\u001b[0m in \u001b[0;36m<module>\u001b[1;34m\u001b[0m\n\u001b[1;32m----> 1\u001b[1;33m \u001b[0mCompNum1\u001b[0m \u001b[1;33m+\u001b[0m \u001b[0mCompNum2\u001b[0m\u001b[1;33m\u001b[0m\u001b[1;33m\u001b[0m\u001b[0m\n\u001b[0m",
      "\u001b[1;31mTypeError\u001b[0m: unsupported operand type(s) for +: 'ComplexNum' and 'ComplexNum'"
     ]
    }
   ],
   "source": [
    "CompNum1 + CompNum2"
   ]
  },
  {
   "cell_type": "markdown",
   "metadata": {},
   "source": [
    "Notice that two complex number couldn't be added as ``+`` is not supported for this class and same happens with ``-``. we can do this by by overloading ``+`` and ``-`` operator.<br> \n",
    "Two complex numbers ``m = a+bj`` and ``n=x+yj`` are added as follow:<br>\n",
    "``m + n = (a+x) + (b+y)j``\n",
    "<br>\n",
    "and subtraction is done by<br>\n",
    "``m - n = (a-x) + (b-y)j``\n",
    "\n",
    "Now Overloading ``+`` and ``-`` "
   ]
  },
  {
   "cell_type": "code",
   "execution_count": 93,
   "metadata": {},
   "outputs": [],
   "source": [
    "class ComplexNum:\n",
    "    \n",
    "    def __init__(self, real = 0, img = 0):\n",
    "        self._real = real\n",
    "        self._img = img\n",
    "        \n",
    "    @property #set the following method as getter for real\n",
    "    def real(self):\n",
    "        return self._real\n",
    "    \n",
    "    @real.setter #sets the following methods as setter for real\n",
    "    def real(self, newreal):\n",
    "        self._real = newreal\n",
    "        \n",
    "    @real.deleter #sets the following method for attr. deletion for real\n",
    "    def real(self):\n",
    "        del self._real\n",
    "    \n",
    "    @property #set the following method as getter for img\n",
    "    def img(self):\n",
    "        return self._img\n",
    "    \n",
    "    @img.setter #sets the following methods as setter for img\n",
    "    def img(self, newImg):\n",
    "        self._img = newImg\n",
    "        \n",
    "    @img.deleter #sets the following method for attr. deletion for img\n",
    "    def img(self):\n",
    "        del self._img\n",
    "    \n",
    "    def modulus(self):\n",
    "        return (self.real**2 + self.img**2)**0.5\n",
    "    \n",
    "    # Overloading string\n",
    "    def __str__(self):\n",
    "        return f\"{self.real}+{self.img}j\"\n",
    "    \n",
    "    # Overloading + operator\n",
    "    def __add__(self, other):\n",
    "        NewReal = self.real + other.real\n",
    "        NewImg = self.img + other.img\n",
    "        SumCompNum = ComplexNum(NewReal, NewImg)\n",
    "        return SumCompNum\n",
    "    \n",
    "    # Overloading - operator\n",
    "    def __sub__(self, other):\n",
    "        NewReal = self.real - other.real\n",
    "        NewImg = self.img - other.img\n",
    "        SubCompNum = ComplexNum(NewReal, NewImg)\n",
    "        return SubCompNum"
   ]
  },
  {
   "cell_type": "code",
   "execution_count": 94,
   "metadata": {},
   "outputs": [],
   "source": [
    "CompNum1 = ComplexNum(10, 7)\n",
    "CompNum2 = ComplexNum(5, 3)"
   ]
  },
  {
   "cell_type": "code",
   "execution_count": 95,
   "metadata": {},
   "outputs": [],
   "source": [
    "CompNum3 = CompNum1 + CompNum2 # Should print (10+5) + (7+3)j"
   ]
  },
  {
   "cell_type": "code",
   "execution_count": 96,
   "metadata": {},
   "outputs": [
    {
     "name": "stdout",
     "output_type": "stream",
     "text": [
      "15+10j\n"
     ]
    }
   ],
   "source": [
    "print(CompNum3)"
   ]
  },
  {
   "cell_type": "code",
   "execution_count": 97,
   "metadata": {},
   "outputs": [],
   "source": [
    "CompNum4 = CompNum1 - CompNum2 # Should print (10-5) + (7-3)j"
   ]
  },
  {
   "cell_type": "code",
   "execution_count": 98,
   "metadata": {},
   "outputs": [
    {
     "name": "stdout",
     "output_type": "stream",
     "text": [
      "5+4j\n"
     ]
    }
   ],
   "source": [
    "print(CompNum4)"
   ]
  },
  {
   "cell_type": "markdown",
   "metadata": {},
   "source": [
    "### Breakdown ``__add__`` operator overloading definition\n",
    "let us breakdown the operation overloading definition.\n",
    "<br>\n",
    "- Line-39 gives ``__add__`` as function name which refers to ``+``.\n",
    "- Line-39: we have two parameters, ``self`` and ``other``, ``self`` refers to the object on the left side of the operator and ``other`` refers to right side of the ``+`` operator. In short it can be summarized as ``self + other``\n",
    "- Line-40 adds both real parts.\n",
    "- Line-41 adds noth imaginary parts.\n",
    "- Line-42 creates a complex number from real number and imaginary parts\n",
    "- Line-43 returns this new Number\n",
    "\n",
    "<br>\n",
    "\n",
    "``-`` will be overloaded by ``__sub__`` mehtod similar to ``__add__`` method except it subtracts the two number.\n"
   ]
  },
  {
   "cell_type": "markdown",
   "metadata": {},
   "source": [
    "## Overloading ``*`` operator using ``__mul__``\n",
    "\n",
    "The multiplication operator can be overloaded by using ``__mul`` method. The multiplication of two complex number is done in following order.<br>\n",
    "\n",
    "``(a+bj) * (x+yj) = (a*x - b*y) + (a*y+ b*x)j``"
   ]
  },
  {
   "cell_type": "code",
   "execution_count": 99,
   "metadata": {},
   "outputs": [],
   "source": [
    "class ComplexNum:\n",
    "    \n",
    "    def __init__(self, real = 0, img = 0):\n",
    "        self._real = real\n",
    "        self._img = img\n",
    "        \n",
    "    @property #set the following method as getter for real\n",
    "    def real(self):\n",
    "        return self._real\n",
    "    \n",
    "    @real.setter #sets the following methods as setter for real\n",
    "    def real(self, newreal):\n",
    "        self._real = newreal\n",
    "        \n",
    "    @real.deleter #sets the following method for attr. deletion for real\n",
    "    def real(self):\n",
    "        del self._real\n",
    "    \n",
    "    @property #set the following method as getter for img\n",
    "    def img(self):\n",
    "        return self._img\n",
    "    \n",
    "    @img.setter #sets the following methods as setter for img\n",
    "    def img(self, newImg):\n",
    "        self._img = newImg\n",
    "        \n",
    "    @img.deleter #sets the following method for attr. deletion for img\n",
    "    def img(self):\n",
    "        del self._img\n",
    "    \n",
    "    def modulus(self):\n",
    "        return (self.real**2 + self.img**2)**0.5\n",
    "    \n",
    "    # Overloading string\n",
    "    def __str__(self):\n",
    "        return f\"{self.real}+{self.img}j\"\n",
    "    \n",
    "    # Overloading + operator\n",
    "    def __add__(self, other):\n",
    "        NewReal = self.real + other.real\n",
    "        NewImg = self.img + other.img\n",
    "        SumCompNum = ComplexNum(NewReal, NewImg)\n",
    "        return SumCompNum\n",
    "    \n",
    "    # Overloading - operator\n",
    "    def __sub__(self, other):\n",
    "        NewReal = self.real - other.real\n",
    "        NewImg = self.img - other.img\n",
    "        SubCompNum = ComplexNum(NewReal, NewImg)\n",
    "        return SubCompNum\n",
    "    \n",
    "    # Overloading * operator \n",
    "    def __mul__(self, other):\n",
    "        # (a+bj) * (x+yj) = (a*x - b*y) + (a*y + b*x)j\n",
    "        NewReal = (self.real * other.real) - (self.img * other.img)\n",
    "        NewImg = (self.real * other.img) + (self.img * other.real)\n",
    "        return ComplexNum(NewReal, NewImg)"
   ]
  },
  {
   "cell_type": "code",
   "execution_count": 100,
   "metadata": {},
   "outputs": [],
   "source": [
    "CompNum1 = ComplexNum(10, 7)\n",
    "CompNum2 = ComplexNum(5, 3)"
   ]
  },
  {
   "cell_type": "code",
   "execution_count": 101,
   "metadata": {},
   "outputs": [
    {
     "name": "stdout",
     "output_type": "stream",
     "text": [
      "29+65j\n"
     ]
    }
   ],
   "source": [
    "CompProduct = CompNum1 * CompNum2\n",
    "print(CompProduct)"
   ]
  },
  {
   "cell_type": "markdown",
   "metadata": {},
   "source": [
    "## Division ``\\`` overloading using ``__truediv__`` method\n",
    "\n",
    "Division operator is overloaded is done by using ``__truediv__``. Division of complex numbers is bit complicated for those who doesn't know mathematics. it can be done as follwing\n",
    "$$ \\frac{a+bj}{c+dj} = \\frac{(a+bj)(c-dj)}{(c+dj)(c-dj)} = \\frac{(ac+bd)+(cb-ad)j}{(c^2 + d^2)} = \\frac{(ac+bd)}{(c^2 + d^2)} + \\frac{(cb-ad)j}{(c^2 + d^2)} $$\n",
    "<br>\n",
    "using the equation above in program"
   ]
  },
  {
   "cell_type": "code",
   "execution_count": 110,
   "metadata": {},
   "outputs": [],
   "source": [
    "class ComplexNum:\n",
    "    \n",
    "    def __init__(self, real = 0, img = 0):\n",
    "        self._real = real\n",
    "        self._img = img\n",
    "        \n",
    "    @property #set the following method as getter for real\n",
    "    def real(self):\n",
    "        return self._real\n",
    "    \n",
    "    @real.setter #sets the following methods as setter for real\n",
    "    def real(self, newreal):\n",
    "        self._real = newreal\n",
    "        \n",
    "    @real.deleter #sets the following method for attr. deletion for real\n",
    "    def real(self):\n",
    "        del self._real\n",
    "    \n",
    "    @property #set the following method as getter for img\n",
    "    def img(self):\n",
    "        return self._img\n",
    "    \n",
    "    @img.setter #sets the following methods as setter for img\n",
    "    def img(self, newImg):\n",
    "        self._img = newImg\n",
    "        \n",
    "    @img.deleter #sets the following method for attr. deletion for img\n",
    "    def img(self):\n",
    "        del self._img\n",
    "    \n",
    "    def modulus(self):\n",
    "        return (self.real**2 + self.img**2)**0.5\n",
    "    \n",
    "    def Conjugate(self):\n",
    "        #returns conjugate of complex number.\n",
    "        return ComplexNum(self.real, -self.img)\n",
    "    \n",
    "    # Overloading string\n",
    "    def __str__(self):\n",
    "        return f\"{self.real}+{self.img}j\"\n",
    "    \n",
    "    # Overloading + operator\n",
    "    def __add__(self, other):\n",
    "        NewReal = self.real + other.real\n",
    "        NewImg = self.img + other.img\n",
    "        SumCompNum = ComplexNum(NewReal, NewImg)\n",
    "        return SumCompNum\n",
    "    \n",
    "    # Overloading - operator\n",
    "    def __sub__(self, other):\n",
    "        NewReal = self.real - other.real\n",
    "        NewImg = self.img - other.img\n",
    "        SubCompNum = ComplexNum(NewReal, NewImg)\n",
    "        return SubCompNum\n",
    "    \n",
    "    # Overloading * operator \n",
    "    def __mul__(self, other):\n",
    "        # (a+bj) * (x+yj) = (a*x - b*y) + (a*y + b*x)j\n",
    "        NewReal = (self.real * other.real) - (self.img * other.img)\n",
    "        NewImg = (self.real * other.img) + (self.img * other.real)\n",
    "        return ComplexNum(NewReal, NewImg)\n",
    "    \n",
    "    # Overloading div / operator\n",
    "    def __truediv__(self, other):\n",
    "        NewReal = ((self.real * other.real) + (self.img * other.img)) / (other.real**2 + other.img**2)\n",
    "        NewImg = ((other.real * self.img) - (self.real * other.img)) / (other.real**2 + other.img**2)\n",
    "        return ComplexNum(NewReal, NewImg)"
   ]
  },
  {
   "cell_type": "code",
   "execution_count": 111,
   "metadata": {},
   "outputs": [],
   "source": [
    "CompNum1 = ComplexNum(10, 7)\n",
    "CompNum2 = ComplexNum(5, 3)\n"
   ]
  },
  {
   "cell_type": "code",
   "execution_count": 112,
   "metadata": {},
   "outputs": [
    {
     "name": "stdout",
     "output_type": "stream",
     "text": [
      "2.088235294117647+0.14705882352941177j\n"
     ]
    }
   ],
   "source": [
    "CompDiv = CompNum1 / CompNum2\n",
    "print(CompDiv)"
   ]
  },
  {
   "cell_type": "markdown",
   "metadata": {},
   "source": [
    "## overloading ``//`` operator for modulus divison.\n",
    "\n",
    "Commonly ``//`` is used for floor division, but let us define this in order to get division of modulus of two complex numbers. that is ``A // B`` should be $$ \\frac{|A|}{|B|} $$ where ``A`` and ``B`` complex numbers. ``//`` operator can be overloaded using ``__floordiv__`` method"
   ]
  },
  {
   "cell_type": "code",
   "execution_count": 117,
   "metadata": {},
   "outputs": [],
   "source": [
    "class ComplexNum:\n",
    "    \n",
    "    def __init__(self, real = 0, img = 0):\n",
    "        self._real = real\n",
    "        self._img = img\n",
    "        \n",
    "    @property #set the following method as getter for real\n",
    "    def real(self):\n",
    "        return self._real\n",
    "    \n",
    "    @real.setter #sets the following methods as setter for real\n",
    "    def real(self, newreal):\n",
    "        self._real = newreal\n",
    "        \n",
    "    @real.deleter #sets the following method for attr. deletion for real\n",
    "    def real(self):\n",
    "        del self._real\n",
    "    \n",
    "    @property #set the following method as getter for img\n",
    "    def img(self):\n",
    "        return self._img\n",
    "    \n",
    "    @img.setter #sets the following methods as setter for img\n",
    "    def img(self, newImg):\n",
    "        self._img = newImg\n",
    "        \n",
    "    @img.deleter #sets the following method for attr. deletion for img\n",
    "    def img(self):\n",
    "        del self._img\n",
    "    \n",
    "    def modulus(self):\n",
    "        return (self.real**2 + self.img**2)**0.5\n",
    "    \n",
    "    def Conjugate(self):\n",
    "        #returns conjugate of complex number.\n",
    "        return ComplexNum(self.real, -self.img)\n",
    "    \n",
    "    # Overloading string\n",
    "    def __str__(self):\n",
    "        return f\"{self.real}+{self.img}j\"\n",
    "    \n",
    "    # Overloading + operator\n",
    "    def __add__(self, other):\n",
    "        NewReal = self.real + other.real\n",
    "        NewImg = self.img + other.img\n",
    "        SumCompNum = ComplexNum(NewReal, NewImg)\n",
    "        return SumCompNum\n",
    "    \n",
    "    # Overloading - operator\n",
    "    def __sub__(self, other):\n",
    "        NewReal = self.real - other.real\n",
    "        NewImg = self.img - other.img\n",
    "        SubCompNum = ComplexNum(NewReal, NewImg)\n",
    "        return SubCompNum\n",
    "    \n",
    "    # Overloading * operator \n",
    "    def __mul__(self, other):\n",
    "        # (a+bj) * (x+yj) = (a*x - b*y) + (a*y + b*x)j\n",
    "        NewReal = (self.real * other.real) - (self.img * other.img)\n",
    "        NewImg = (self.real * other.img) + (self.img * other.real)\n",
    "        return ComplexNum(NewReal, NewImg)\n",
    "    \n",
    "    # Overloading div / operator\n",
    "    def __truediv__(self, other):\n",
    "        NewReal = ((self.real * other.real) + (self.img * other.img)) / (other.real**2 + other.img**2)\n",
    "        NewImg = ((other.real * self.img) - (self.real * other.img)) / (other.real**2 + other.img**2)\n",
    "        return ComplexNum(NewReal, NewImg)\n",
    "    \n",
    "    # Overloading // operator for modulus division\n",
    "    def __floordiv__(self, other):\n",
    "        return self.modulus() / other.modulus()"
   ]
  },
  {
   "cell_type": "code",
   "execution_count": 118,
   "metadata": {},
   "outputs": [],
   "source": [
    "CompNum1 = ComplexNum(10, 7)\n",
    "CompNum2 = ComplexNum(5, 3)"
   ]
  },
  {
   "cell_type": "code",
   "execution_count": 119,
   "metadata": {},
   "outputs": [
    {
     "name": "stdout",
     "output_type": "stream",
     "text": [
      "2.0934070175616757\n"
     ]
    }
   ],
   "source": [
    "print(CompNum1 // CompNum2)"
   ]
  },
  {
   "cell_type": "markdown",
   "metadata": {},
   "source": [
    "the above is similar to"
   ]
  },
  {
   "cell_type": "code",
   "execution_count": 121,
   "metadata": {},
   "outputs": [
    {
     "name": "stdout",
     "output_type": "stream",
     "text": [
      "2.0934070175616757\n"
     ]
    }
   ],
   "source": [
    "print (CompNum1.modulus() / CompNum2.modulus())"
   ]
  },
  {
   "cell_type": "markdown",
   "metadata": {},
   "source": [
    "## Overloading Comparison operators\n",
    "\n",
    "Similarly Comparison operator can be defined, each comparision operator with it's methods name is given below:<br>\n",
    "``>`` =``__gt__``<br>\n",
    "``<`` =``__lt__``<br>\n",
    "``=>``=``__ge__``<br>\n",
    "``<=``=``__ge__``<br>\n",
    "``==`` =``__eq__``<br>\n",
    "``!=`` =``__ne__``<br>\n",
    "\n",
    "let's make some assumption for our code:\n",
    "\n",
    "``==``should return ``True`` if both imaginary and real parts are equal.<br>\n",
    "``!=``should return ``True`` if imaginary or real parts are not equal.<br>\n",
    "``>``should return ``True`` if $ |A|>|B| $ where ``A`` and ``B`` are complex numbers.<br>\n",
    "``<``should return ``True`` if $ |A|<|B| $ where ``A`` and ``B`` are complex numbers.<br>\n",
    "``>=``should return ``True`` if $|A|>|B|$ and both real and imaginary parts are equal.<br>\n",
    "``<=``should return ``True`` if $|A|<|B|$ and both real and imaginary parts are equal.<br>\n",
    "<br><br>\n",
    "Let us define all these operators methods."
   ]
  },
  {
   "cell_type": "code",
   "execution_count": 133,
   "metadata": {},
   "outputs": [],
   "source": [
    "class ComplexNum:\n",
    "    \n",
    "    def __init__(self, real = 0, img = 0):\n",
    "        self._real = real\n",
    "        self._img = img\n",
    "        \n",
    "    @property #set the following method as getter for real\n",
    "    def real(self):\n",
    "        return self._real\n",
    "    \n",
    "    @real.setter #sets the following methods as setter for real\n",
    "    def real(self, newreal):\n",
    "        self._real = newreal\n",
    "        \n",
    "    @real.deleter #sets the following method for attr. deletion for real\n",
    "    def real(self):\n",
    "        del self._real\n",
    "    \n",
    "    @property #set the following method as getter for img\n",
    "    def img(self):\n",
    "        return self._img\n",
    "    \n",
    "    @img.setter #sets the following methods as setter for img\n",
    "    def img(self, newImg):\n",
    "        self._img = newImg\n",
    "        \n",
    "    @img.deleter #sets the following method for attr. deletion for img\n",
    "    def img(self):\n",
    "        del self._img\n",
    "    \n",
    "    def modulus(self):\n",
    "        return (self.real**2 + self.img**2)**0.5\n",
    "    \n",
    "    def Conjugate(self):\n",
    "        #returns conjugate of complex number.\n",
    "        return ComplexNum(self.real, -self.img)\n",
    "    \n",
    "    # Overloading string\n",
    "    def __str__(self):\n",
    "        return f\"{self.real}+{self.img}j\"\n",
    "    \n",
    "    # Overloading + operator\n",
    "    def __add__(self, other):\n",
    "        NewReal = self.real + other.real\n",
    "        NewImg = self.img + other.img\n",
    "        SumCompNum = ComplexNum(NewReal, NewImg)\n",
    "        return SumCompNum\n",
    "    \n",
    "    # Overloading - operator\n",
    "    def __sub__(self, other):\n",
    "        NewReal = self.real - other.real\n",
    "        NewImg = self.img - other.img\n",
    "        SubCompNum = ComplexNum(NewReal, NewImg)\n",
    "        return SubCompNum\n",
    "    \n",
    "    # Overloading * operator \n",
    "    def __mul__(self, other):\n",
    "        # (a+bj) * (x+yj) = (a*x - b*y) + (a*y + b*x)j\n",
    "        NewReal = (self.real * other.real) - (self.img * other.img)\n",
    "        NewImg = (self.real * other.img) + (self.img * other.real)\n",
    "        return ComplexNum(NewReal, NewImg)\n",
    "    \n",
    "    # Overloading div / operator\n",
    "    def __truediv__(self, other):\n",
    "        NewReal = ((self.real * other.real) + (self.img * other.img)) / (other.real**2 + other.img**2)\n",
    "        NewImg = ((other.real * self.img) - (self.real * other.img)) / (other.real**2 + other.img**2)\n",
    "        return ComplexNum(NewReal, NewImg)\n",
    "    \n",
    "    # Overloading // operator for modulus division\n",
    "    def __floordiv__(self, other):\n",
    "        return self.modulus() / other.modulus()\n",
    "    \n",
    "    # Overload == operator\n",
    "    def __eq__(self, other):\n",
    "        if self.real == other.real and self.img == other.img:\n",
    "            return True\n",
    "        else:\n",
    "            return False\n",
    "    \n",
    "    #overload != Operator\n",
    "    def __ne__(self, other):\n",
    "        if self.real != other.real or self.img != other.img:\n",
    "            return True\n",
    "        else:\n",
    "            return False\n",
    "    \n",
    "    #Overload > Operator\n",
    "    def __gt__(self, other):\n",
    "        if self.modulus() > other.modulus():\n",
    "            return True\n",
    "        else:\n",
    "            return False\n",
    "    \n",
    "    #Overloads < operator\n",
    "    def __lt__(self, other):\n",
    "        if self.modulus() < other.modulus():\n",
    "            return True\n",
    "        else:\n",
    "            return False\n",
    "        \n",
    "    #Overload >= Operator\n",
    "    def __ge__(self, other):\n",
    "        # At this point we can use ==, !=, >, and < operators as thy are already defined above\n",
    "        if self > other and self == other:\n",
    "            return True\n",
    "        else:\n",
    "            return False\n",
    "    \n",
    "    #Overloads <= Operator\n",
    "    def __le__(self, other):\n",
    "        if self < other and self == other:\n",
    "            return True\n",
    "        else:\n",
    "            return False"
   ]
  },
  {
   "cell_type": "code",
   "execution_count": 146,
   "metadata": {},
   "outputs": [],
   "source": [
    "CompNum1 = ComplexNum(10, 5)\n",
    "CompNum2 = ComplexNum(10, 5)\n",
    "CompNum3 = ComplexNum(5, 10)\n",
    "CompNum4 = ComplexNum(30, 20)"
   ]
  },
  {
   "cell_type": "code",
   "execution_count": 147,
   "metadata": {},
   "outputs": [
    {
     "name": "stdout",
     "output_type": "stream",
     "text": [
      "10+5j\n",
      "10+5j\n",
      "5+10j\n"
     ]
    }
   ],
   "source": [
    "print(CompNum1)\n",
    "print(CompNum2)\n",
    "print(CompNum3)"
   ]
  },
  {
   "cell_type": "code",
   "execution_count": 148,
   "metadata": {},
   "outputs": [
    {
     "data": {
      "text/plain": [
       "True"
      ]
     },
     "execution_count": 148,
     "metadata": {},
     "output_type": "execute_result"
    }
   ],
   "source": [
    "CompNum1 == CompNum2 "
   ]
  },
  {
   "cell_type": "code",
   "execution_count": 149,
   "metadata": {},
   "outputs": [
    {
     "data": {
      "text/plain": [
       "False"
      ]
     },
     "execution_count": 149,
     "metadata": {},
     "output_type": "execute_result"
    }
   ],
   "source": [
    "CompNum1 == CompNum3"
   ]
  },
  {
   "cell_type": "code",
   "execution_count": 150,
   "metadata": {},
   "outputs": [
    {
     "data": {
      "text/plain": [
       "True"
      ]
     },
     "execution_count": 150,
     "metadata": {},
     "output_type": "execute_result"
    }
   ],
   "source": [
    "CompNum1 != CompNum3"
   ]
  },
  {
   "cell_type": "code",
   "execution_count": 151,
   "metadata": {},
   "outputs": [
    {
     "data": {
      "text/plain": [
       "False"
      ]
     },
     "execution_count": 151,
     "metadata": {},
     "output_type": "execute_result"
    }
   ],
   "source": [
    "CompNum1 != CompNum2"
   ]
  },
  {
   "cell_type": "code",
   "execution_count": 154,
   "metadata": {},
   "outputs": [
    {
     "data": {
      "text/plain": [
       "36.05551275463989"
      ]
     },
     "execution_count": 154,
     "metadata": {},
     "output_type": "execute_result"
    }
   ],
   "source": [
    "CompNum4.modulus()"
   ]
  },
  {
   "cell_type": "code",
   "execution_count": 155,
   "metadata": {},
   "outputs": [
    {
     "data": {
      "text/plain": [
       "11.180339887498949"
      ]
     },
     "execution_count": 155,
     "metadata": {},
     "output_type": "execute_result"
    }
   ],
   "source": [
    "CompNum1.modulus()"
   ]
  },
  {
   "cell_type": "markdown",
   "metadata": {},
   "source": [
    "hence ``CompNum4 > CompNum1 `` should be ``True``"
   ]
  },
  {
   "cell_type": "code",
   "execution_count": 156,
   "metadata": {},
   "outputs": [
    {
     "data": {
      "text/plain": [
       "True"
      ]
     },
     "execution_count": 156,
     "metadata": {},
     "output_type": "execute_result"
    }
   ],
   "source": [
    "CompNum4 > CompNum1 "
   ]
  },
  {
   "cell_type": "code",
   "execution_count": 157,
   "metadata": {},
   "outputs": [
    {
     "data": {
      "text/plain": [
       "False"
      ]
     },
     "execution_count": 157,
     "metadata": {},
     "output_type": "execute_result"
    }
   ],
   "source": [
    "CompNum1 > CompNum4 "
   ]
  },
  {
   "cell_type": "code",
   "execution_count": 158,
   "metadata": {},
   "outputs": [
    {
     "data": {
      "text/plain": [
       "False"
      ]
     },
     "execution_count": 158,
     "metadata": {},
     "output_type": "execute_result"
    }
   ],
   "source": [
    "CompNum1 >= CompNum2"
   ]
  },
  {
   "cell_type": "markdown",
   "metadata": {},
   "source": [
    "# Abstraction\n",
    "## public, protected, and private members of a class.\n",
    "\n",
    "Encapsulation is a technique to restrict the access f members, methods and attributes, of a class. In a programming language a member can have three level of access.\n",
    "1. Public Members\n",
    "2. Protected Member\n",
    "3. Private Member\n"
   ]
  },
  {
   "cell_type": "markdown",
   "metadata": {},
   "source": [
    "## Public Members:\n",
    "\n",
    "All previously discussed classes have members, which are ``public``. when we say it's a public member, it means it can be accessed outside the class. for example, let us define a simple class for explaining these members."
   ]
  },
  {
   "cell_type": "code",
   "execution_count": 167,
   "metadata": {},
   "outputs": [],
   "source": [
    "class MyClass:\n",
    "    \n",
    "    def __init__(self):\n",
    "        self.publicAttr = \"This is a public attribute\"\n",
    "    \n",
    "    def publicMethod(self):\n",
    "        print(\"This is a public method\")"
   ]
  },
  {
   "cell_type": "code",
   "execution_count": 168,
   "metadata": {},
   "outputs": [],
   "source": [
    "MyClassObj = MyClass()"
   ]
  },
  {
   "cell_type": "code",
   "execution_count": 169,
   "metadata": {},
   "outputs": [
    {
     "data": {
      "text/plain": [
       "'This is a public attribute'"
      ]
     },
     "execution_count": 169,
     "metadata": {},
     "output_type": "execute_result"
    }
   ],
   "source": [
    "MyClassObj.publicAttr"
   ]
  },
  {
   "cell_type": "code",
   "execution_count": 170,
   "metadata": {},
   "outputs": [
    {
     "name": "stdout",
     "output_type": "stream",
     "text": [
      "This is a public method\n"
     ]
    }
   ],
   "source": [
    "MyClassObj.publicMethod()"
   ]
  },
  {
   "cell_type": "markdown",
   "metadata": {},
   "source": [
    "In above example, we could use both ``publicAttr`` and ``publicMethod`` outside the class, both named so for better understanding."
   ]
  },
  {
   "cell_type": "markdown",
   "metadata": {},
   "source": [
    "## Protected Members:\n",
    "\n",
    "Protected members are those members which can be only accessed within same class or by child-class. <br>\n",
    "In python, there is no method to create a protected method. It is, However, made a convention by python community to specify a member as ``protected`` member by adding a leading underscore with name. for example, a ``_AttributeName`` to be considered a protected. When some other programmer uses a code and sees such member, he/she should consider it as protected. As specified above, it's just a convention and when such member accessed or changed no error would be generated. Now Adding a protected member in our class:\n"
   ]
  },
  {
   "cell_type": "code",
   "execution_count": 174,
   "metadata": {},
   "outputs": [],
   "source": [
    "class MyClass:\n",
    "    \n",
    "    def __init__(self):\n",
    "        self.publicAttr = \"This is a public attribute\"\n",
    "        self._protectedAttr = \"This is a protected attrbute\"\n",
    "        \n",
    "    def publicMethod(self):\n",
    "        print(\"This is a public method\")\n",
    "    \n",
    "    def _protectedMethod(self):\n",
    "        print(\"This is a protected method\")\n",
    "        "
   ]
  },
  {
   "cell_type": "code",
   "execution_count": 175,
   "metadata": {},
   "outputs": [],
   "source": [
    "MyClassObj = MyClass()"
   ]
  },
  {
   "cell_type": "code",
   "execution_count": 177,
   "metadata": {},
   "outputs": [
    {
     "data": {
      "text/plain": [
       "'This is a protected attrbute'"
      ]
     },
     "execution_count": 177,
     "metadata": {},
     "output_type": "execute_result"
    }
   ],
   "source": [
    "MyClassObj._protectedAttr"
   ]
  },
  {
   "cell_type": "code",
   "execution_count": 178,
   "metadata": {},
   "outputs": [
    {
     "name": "stdout",
     "output_type": "stream",
     "text": [
      "This is a protected method\n"
     ]
    }
   ],
   "source": [
    "MyClassObj._protectedMethod()"
   ]
  },
  {
   "cell_type": "code",
   "execution_count": 179,
   "metadata": {},
   "outputs": [],
   "source": [
    "MyClassObj._protectedAttr = \"Reassgining a protected attribute\""
   ]
  },
  {
   "cell_type": "code",
   "execution_count": 180,
   "metadata": {},
   "outputs": [
    {
     "data": {
      "text/plain": [
       "'Reassgining a protected attribute'"
      ]
     },
     "execution_count": 180,
     "metadata": {},
     "output_type": "execute_result"
    }
   ],
   "source": [
    "MyClassObj._protectedAttr"
   ]
  },
  {
   "cell_type": "markdown",
   "metadata": {},
   "source": [
    "Notice we could use so-called protected member same as a public member."
   ]
  },
  {
   "cell_type": "markdown",
   "metadata": {},
   "source": [
    "## Private Members:\n",
    "\n",
    "Private members are those attributes or methods, which can only be used within the same class and cannot be used outside the class. The private member is created by adding two leading underscores before name. for example, ``__Name`` would be a private member. if such member is called from outside the class, ``AttributeError`` would be generated as if this attribute doesn't exist. let's add Private members in our class: "
   ]
  },
  {
   "cell_type": "code",
   "execution_count": 181,
   "metadata": {},
   "outputs": [],
   "source": [
    "class MyClass:\n",
    "    \n",
    "    def __init__(self):\n",
    "        self.publicAttr = \"This is a public attribute\"\n",
    "        self._protectedAttr = \"This is a protected attrbute\"\n",
    "        self.__privateAttr = \"This is a private attribute\"\n",
    "    def publicMethod(self):\n",
    "        print(\"This is a public method\")\n",
    "    \n",
    "    def _protectedMethod(self):\n",
    "        print(\"This is a protected method\")\n",
    "        \n",
    "    def __privateMethod(self):\n",
    "        print(\"this is a private method\")"
   ]
  },
  {
   "cell_type": "code",
   "execution_count": 182,
   "metadata": {},
   "outputs": [],
   "source": [
    "MyClassObj = MyClass()"
   ]
  },
  {
   "cell_type": "code",
   "execution_count": 184,
   "metadata": {},
   "outputs": [
    {
     "ename": "AttributeError",
     "evalue": "'MyClass' object has no attribute '__privateAttr'",
     "output_type": "error",
     "traceback": [
      "\u001b[1;31m---------------------------------------------------------------------------\u001b[0m",
      "\u001b[1;31mAttributeError\u001b[0m                            Traceback (most recent call last)",
      "\u001b[1;32m<ipython-input-184-0a4db86acf6b>\u001b[0m in \u001b[0;36m<module>\u001b[1;34m\u001b[0m\n\u001b[1;32m----> 1\u001b[1;33m \u001b[0mMyClassObj\u001b[0m\u001b[1;33m.\u001b[0m\u001b[0m__privateAttr\u001b[0m\u001b[1;33m\u001b[0m\u001b[1;33m\u001b[0m\u001b[0m\n\u001b[0m",
      "\u001b[1;31mAttributeError\u001b[0m: 'MyClass' object has no attribute '__privateAttr'"
     ]
    }
   ],
   "source": [
    "MyClassObj.__privateAttr"
   ]
  },
  {
   "cell_type": "markdown",
   "metadata": {},
   "source": [
    "Now notice that when accessing a private attribute gave an error."
   ]
  },
  {
   "cell_type": "code",
   "execution_count": 185,
   "metadata": {},
   "outputs": [
    {
     "ename": "AttributeError",
     "evalue": "'MyClass' object has no attribute '__privateMethod'",
     "output_type": "error",
     "traceback": [
      "\u001b[1;31m---------------------------------------------------------------------------\u001b[0m",
      "\u001b[1;31mAttributeError\u001b[0m                            Traceback (most recent call last)",
      "\u001b[1;32m<ipython-input-185-65c7cfbafc59>\u001b[0m in \u001b[0;36m<module>\u001b[1;34m\u001b[0m\n\u001b[1;32m----> 1\u001b[1;33m \u001b[0mMyClassObj\u001b[0m\u001b[1;33m.\u001b[0m\u001b[0m__privateMethod\u001b[0m\u001b[1;33m(\u001b[0m\u001b[1;33m)\u001b[0m\u001b[1;33m\u001b[0m\u001b[1;33m\u001b[0m\u001b[0m\n\u001b[0m",
      "\u001b[1;31mAttributeError\u001b[0m: 'MyClass' object has no attribute '__privateMethod'"
     ]
    }
   ],
   "source": [
    "MyClassObj.__privateMethod()"
   ]
  },
  {
   "cell_type": "markdown",
   "metadata": {},
   "source": [
    "### How to use private attributes?\n",
    "\n",
    "as mentioned above, priavte attributes can only be used within a class. An private attribute can be accessed using getters and setter, and priavte methods can be used by other methods. For example:\n"
   ]
  },
  {
   "cell_type": "code",
   "execution_count": 201,
   "metadata": {},
   "outputs": [],
   "source": [
    "class MyClass:\n",
    "    \n",
    "    def __init__(self):\n",
    "        self.publicAttr = \"This is a public attribute\"\n",
    "        self._protectedAttr = \"This is a protected attrbute\"\n",
    "        self.__privateAttr = \"This is a private attribute\"\n",
    "    def publicMethod(self):\n",
    "        print(\"This is a public method\")\n",
    "    \n",
    "    def _protectedMethod(self):\n",
    "        print(\"This is a protected method\")\n",
    "        \n",
    "    def __privateMethod(self):\n",
    "        print(\"this is a private method\")\n",
    "    \n",
    "    def MethodThatCallPrivateMethod(self):\n",
    "        print(\"calling private method\")\n",
    "        self.__privateMethod()\n",
    "        \n",
    "    def getPrivateAttr(self):\n",
    "        print(\"Getting private attribute value\")\n",
    "        return self.__privateAttr\n",
    "    \n",
    "    def setPrivateAttr(self, Val):\n",
    "        print(\"Setting private attribute value\")\n",
    "        self.__privateAttr = Val"
   ]
  },
  {
   "cell_type": "code",
   "execution_count": 202,
   "metadata": {},
   "outputs": [],
   "source": [
    "MyClassObj = MyClass()"
   ]
  },
  {
   "cell_type": "code",
   "execution_count": 203,
   "metadata": {},
   "outputs": [
    {
     "name": "stdout",
     "output_type": "stream",
     "text": [
      "Getting private attribute value\n"
     ]
    },
    {
     "data": {
      "text/plain": [
       "'This is a private attribute'"
      ]
     },
     "execution_count": 203,
     "metadata": {},
     "output_type": "execute_result"
    }
   ],
   "source": [
    "## Get value of private attribute\n",
    "MyClassObj.getPrivateAttr()"
   ]
  },
  {
   "cell_type": "code",
   "execution_count": 204,
   "metadata": {},
   "outputs": [
    {
     "name": "stdout",
     "output_type": "stream",
     "text": [
      "Setting private attribute value\n"
     ]
    }
   ],
   "source": [
    "## Set value of private attribute\n",
    "MyClassObj.setPrivateAttr(\"The private attr. value have been changed\")"
   ]
  },
  {
   "cell_type": "code",
   "execution_count": 205,
   "metadata": {},
   "outputs": [
    {
     "name": "stdout",
     "output_type": "stream",
     "text": [
      "Getting private attribute value\n"
     ]
    },
    {
     "data": {
      "text/plain": [
       "'The private attr. value have been changed'"
      ]
     },
     "execution_count": 205,
     "metadata": {},
     "output_type": "execute_result"
    }
   ],
   "source": [
    "## Get changed value of private attribute\n",
    "MyClassObj.getPrivateAttr()"
   ]
  },
  {
   "cell_type": "code",
   "execution_count": 206,
   "metadata": {},
   "outputs": [
    {
     "name": "stdout",
     "output_type": "stream",
     "text": [
      "calling private method\n",
      "this is a private method\n"
     ]
    }
   ],
   "source": [
    "## Calling priate method with other public method\n",
    "MyClassObj.MethodThatCallPrivateMethod()"
   ]
  },
  {
   "cell_type": "markdown",
   "metadata": {},
   "source": [
    "### Name Mangling: How Private instance in created.\n",
    "\n",
    "In python, private member is created by using a technique called _``name magnling``_. when python interpreter see an attribute with two leading underscore, it adds the class name with a leading underscore before the private attibute name. \n",
    "and hence the name of this attribute name becomes ``_ClassName__AttributeName``. <br>\n",
    "for example, in our example class name was ``MyClass`` and attribute name are ``__privateAttr``. _Name mangling_ changes the this attribute to ``_MyClass__privateAttr``. So now for interpreter, ``MyClassObj.__privateAttr`` means nothings as the name have been changed. In order to see this we can use built-in function ``dir()``"
   ]
  },
  {
   "cell_type": "code",
   "execution_count": 208,
   "metadata": {},
   "outputs": [
    {
     "data": {
      "text/plain": [
       "['MethodThatCallPrivateMethod',\n",
       " '_MyClass__privateAttr',\n",
       " '_MyClass__privateMethod',\n",
       " '__class__',\n",
       " '__delattr__',\n",
       " '__dict__',\n",
       " '__dir__',\n",
       " '__doc__',\n",
       " '__eq__',\n",
       " '__format__',\n",
       " '__ge__',\n",
       " '__getattribute__',\n",
       " '__gt__',\n",
       " '__hash__',\n",
       " '__init__',\n",
       " '__init_subclass__',\n",
       " '__le__',\n",
       " '__lt__',\n",
       " '__module__',\n",
       " '__ne__',\n",
       " '__new__',\n",
       " '__reduce__',\n",
       " '__reduce_ex__',\n",
       " '__repr__',\n",
       " '__setattr__',\n",
       " '__sizeof__',\n",
       " '__str__',\n",
       " '__subclasshook__',\n",
       " '__weakref__',\n",
       " '_protectedAttr',\n",
       " '_protectedMethod',\n",
       " 'getPrivateAttr',\n",
       " 'publicAttr',\n",
       " 'publicMethod',\n",
       " 'setPrivateAttr']"
      ]
     },
     "execution_count": 208,
     "metadata": {},
     "output_type": "execute_result"
    }
   ],
   "source": [
    "dir(MyClassObj)"
   ]
  },
  {
   "cell_type": "markdown",
   "metadata": {},
   "source": [
    "Notice that both private members are there, So now the question is, Can we access this attribute with it's new name ``_MyClass__pivateAttr``?<br>\n",
    "The answer is yes, It can be. So"
   ]
  },
  {
   "cell_type": "code",
   "execution_count": 209,
   "metadata": {},
   "outputs": [
    {
     "data": {
      "text/plain": [
       "'The private attr. value have been changed'"
      ]
     },
     "execution_count": 209,
     "metadata": {},
     "output_type": "execute_result"
    }
   ],
   "source": [
    "MyClassObj._MyClass__privateAttr"
   ]
  },
  {
   "cell_type": "markdown",
   "metadata": {},
   "source": [
    "# Static Method\n",
    "\n",
    "Static methods are the method which can be called without creating an instance object. These methods are created using ``@staticmethod`` decorator, any method following would be a static method. a static method don't take ``self`` as parameter as they are not associated with any instance of class. let's just jump into creating a class with static method."
   ]
  },
  {
   "cell_type": "code",
   "execution_count": 210,
   "metadata": {},
   "outputs": [],
   "source": [
    "class AnotherClass():\n",
    "    def __init__(self):\n",
    "        self.attr = \"An attribute\"\n",
    "    \n",
    "    @staticmethod\n",
    "    def AStaticMethod(number):\n",
    "        print(\"Static method is called.\")\n",
    "        print(\"Parameter value given is: \", number)\n",
    "        "
   ]
  },
  {
   "cell_type": "code",
   "execution_count": 211,
   "metadata": {},
   "outputs": [
    {
     "name": "stdout",
     "output_type": "stream",
     "text": [
      "Static method is called.\n",
      "Parameter value given is:  5\n"
     ]
    }
   ],
   "source": [
    "AnotherClass.AStaticMethod(5)"
   ]
  },
  {
   "cell_type": "markdown",
   "metadata": {},
   "source": [
    "Notice that ``AStaticcMethod()`` is called without creating any instance and was called with class name ``AnotherClass``"
   ]
  },
  {
   "cell_type": "code",
   "execution_count": null,
   "metadata": {},
   "outputs": [],
   "source": []
  }
 ],
 "metadata": {
  "kernelspec": {
   "display_name": "Python 3",
   "language": "python",
   "name": "python3"
  },
  "language_info": {
   "codemirror_mode": {
    "name": "ipython",
    "version": 3
   },
   "file_extension": ".py",
   "mimetype": "text/x-python",
   "name": "python",
   "nbconvert_exporter": "python",
   "pygments_lexer": "ipython3",
   "version": "3.7.6"
  }
 },
 "nbformat": 4,
 "nbformat_minor": 4
}
