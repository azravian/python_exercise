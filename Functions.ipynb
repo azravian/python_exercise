{
 "cells": [
  {
   "cell_type": "markdown",
   "metadata": {},
   "source": [
    "# Chapter 41: Functions\n",
    "\n",
    "A function is a block of Python code that robotically does the same thing again\n",
    "and again, whenever you invoke its name. It saves you repetitive coding and\n",
    "makes your code easier to understand. <br>\n",
    "Python has many built-in functions like ``print(), input(), len()``. Besides built-ins you can also create your own\n",
    "functions to do more specific jobs—these are called user-defined functions. <br>\n",
    "<br>\n",
    "We'll start with a trivially simple example. Let's say you want to add two\n",
    "numbers and display the result:\n",
    "````python\n",
    "1 first_number = 2\n",
    "2 second_number = 3\n",
    "3 total = first_number + second_number\n",
    "````\n",
    "The code above assigns the integer 2 to the variable ``first_number`` and\n",
    "the integer 3 to the variable ``second_number``. Then it sums the values stored\n",
    "in the two variables and assigns the total to the third variable, ``total``.\n",
    "If you add this line…\n",
    "```` python\n",
    "4 print(total)\n",
    "````\n",
    "…Python displays the number ``5``, the sum of two numbers.<br>\n",
    "\n",
    "The same task can be incorporated in a function. The code below can also be called definition of a function."
   ]
  },
  {
   "cell_type": "code",
   "execution_count": 1,
   "metadata": {},
   "outputs": [],
   "source": [
    "def add_numbers():\n",
    "\tfirst_number = 2\n",
    "\tsecond_number = 3\n",
    "\ttotal = first_number + second_number\n",
    "\tprint(total)"
   ]
  },
  {
   "cell_type": "markdown",
   "metadata": {},
   "source": [
    "#### Function identifier and Function definition.\n",
    "\n",
    "In above example, we have created a function, which has a name ``add_numbers()`` which is also called ``function identifier``.\n",
    "a function identefier must follow a ``def`` which means a new function is being defined. slo notice that the instructions or code in a function is one ``tab indented`` (and other tab indentationsare to be added when and if required).\n",
    "<br><br>\n",
    "#### Calling a function\n",
    "a function can be called by entering the function name/identifier in code, e.g in order to call the above function write:\n",
    "````python\n",
    "add_number()\n",
    "````\n",
    "When Python sees this code, it runs all the code in the functionn amedd ``add_numbers``. The number ``5`` is displayed."
   ]
  },
  {
   "cell_type": "code",
   "execution_count": 4,
   "metadata": {},
   "outputs": [
    {
     "name": "stdout",
     "output_type": "stream",
     "text": [
      "5\n"
     ]
    }
   ],
   "source": [
    "add_numbers()"
   ]
  },
  {
   "cell_type": "markdown",
   "metadata": {},
   "source": [
    "### Things to remember:\n",
    "\n",
    "when working with function remember following points:\n",
    "1. A function must be defined and called.\n",
    "2. A function must be defined prior to being called.\n",
    "3. Calling Function that is not defined or defined after the statement that calls it, will generate error and break program.\n",
    "4. The definiton and function call need not be close in code and can be written anywhere in code as long as definition comes before function call.\n",
    "5. Function name must follow the naming rules same as those for naming variables. \n",
    "\n",
    "###### some more examples:\n"
   ]
  },
  {
   "cell_type": "code",
   "execution_count": 8,
   "metadata": {},
   "outputs": [
    {
     "name": "stdout",
     "output_type": "stream",
     "text": [
      "Hello World\n"
     ]
    }
   ],
   "source": [
    "# definition\n",
    "def greet():\n",
    "\tprint(\"Hello World\")\n",
    "    \n",
    "# Function call\n",
    "greet()"
   ]
  },
  {
   "cell_type": "code",
   "execution_count": 9,
   "metadata": {},
   "outputs": [
    {
     "ename": "NameError",
     "evalue": "name 'print_name' is not defined",
     "output_type": "error",
     "traceback": [
      "\u001b[1;31m---------------------------------------------------------------------------\u001b[0m",
      "\u001b[1;31mNameError\u001b[0m                                 Traceback (most recent call last)",
      "\u001b[1;32m<ipython-input-9-97ffa60b0d42>\u001b[0m in \u001b[0;36m<module>\u001b[1;34m\u001b[0m\n\u001b[0;32m      3\u001b[0m \u001b[1;31m# function call\u001b[0m\u001b[1;33m\u001b[0m\u001b[1;33m\u001b[0m\u001b[1;33m\u001b[0m\u001b[0m\n\u001b[0;32m      4\u001b[0m \u001b[1;33m\u001b[0m\u001b[0m\n\u001b[1;32m----> 5\u001b[1;33m \u001b[0mprint_name\u001b[0m\u001b[1;33m(\u001b[0m\u001b[1;33m)\u001b[0m\u001b[1;33m\u001b[0m\u001b[1;33m\u001b[0m\u001b[0m\n\u001b[0m\u001b[0;32m      6\u001b[0m \u001b[1;33m\u001b[0m\u001b[0m\n\u001b[0;32m      7\u001b[0m \u001b[1;31m# fucntion definition\u001b[0m\u001b[1;33m\u001b[0m\u001b[1;33m\u001b[0m\u001b[1;33m\u001b[0m\u001b[0m\n",
      "\u001b[1;31mNameError\u001b[0m: name 'print_name' is not defined"
     ]
    }
   ],
   "source": [
    "# following code would give you an error because function is called is before definition\n",
    "\n",
    "# function call\n",
    "\n",
    "print_name()\n",
    "\n",
    "# fucntion definition\n",
    "def print_name():\n",
    "\tprint(\"My name is XYZ.\")"
   ]
  },
  {
   "cell_type": "markdown",
   "metadata": {},
   "source": [
    "as mentioned above, a function name must follow the same rules as those of vraiables. \n",
    "- it cannot start with a number \n",
    "- cannot contain blank spaces or special charachters except ``_`` "
   ]
  },
  {
   "cell_type": "code",
   "execution_count": 2,
   "metadata": {},
   "outputs": [
    {
     "ename": "SyntaxError",
     "evalue": "invalid syntax (<ipython-input-2-954015cc71d8>, line 1)",
     "output_type": "error",
     "traceback": [
      "\u001b[1;36m  File \u001b[1;32m\"<ipython-input-2-954015cc71d8>\"\u001b[1;36m, line \u001b[1;32m1\u001b[0m\n\u001b[1;33m    def 1st_Fucntion():\u001b[0m\n\u001b[1;37m        ^\u001b[0m\n\u001b[1;31mSyntaxError\u001b[0m\u001b[1;31m:\u001b[0m invalid syntax\n"
     ]
    }
   ],
   "source": [
    "def 1st_Fucntion():\n",
    "    print(\"A first function\")"
   ]
  },
  {
   "cell_type": "code",
   "execution_count": 4,
   "metadata": {},
   "outputs": [
    {
     "ename": "SyntaxError",
     "evalue": "invalid syntax (<ipython-input-4-ab5d3a22a7ff>, line 1)",
     "output_type": "error",
     "traceback": [
      "\u001b[1;36m  File \u001b[1;32m\"<ipython-input-4-ab5d3a22a7ff>\"\u001b[1;36m, line \u001b[1;32m1\u001b[0m\n\u001b[1;33m    def first@python():\u001b[0m\n\u001b[1;37m             ^\u001b[0m\n\u001b[1;31mSyntaxError\u001b[0m\u001b[1;31m:\u001b[0m invalid syntax\n"
     ]
    }
   ],
   "source": [
    "def first@python():\n",
    "    print(\"fist python function\")"
   ]
  },
  {
   "cell_type": "markdown",
   "metadata": {},
   "source": [
    "Since a function can be called in multiple time let's try calling function defined in the beginning"
   ]
  },
  {
   "cell_type": "code",
   "execution_count": 12,
   "metadata": {},
   "outputs": [
    {
     "name": "stdout",
     "output_type": "stream",
     "text": [
      "5\n"
     ]
    }
   ],
   "source": [
    "# Recalling a function\n",
    "add_numbers()"
   ]
  },
  {
   "cell_type": "markdown",
   "metadata": {},
   "source": [
    "# 42. Functions: Passing them information\n",
    "\n",
    "In the previous example we created a function ``add_number`` that sum and print two numbers. However those two numbers were defined within the body of the function and no matter how many time that function is called the result will always be same. If we need to change the result we need to pass information to function.<br>\n",
    "The information can be passed to a fucntion using **Arguments** which are provided inside the *parenthesis* after function identifier. Suppose Now we want to create a function which add two number provided to a function. it will be like:\n",
    "```` python\n",
    "def add_numbers(first_number, second_number):\n",
    "    total = first_number + second_number\n",
    "    print(total)\n",
    "````\n",
    "\n",
    "now add_numbers have two arguments, i.e. `` first_number, second_number`` and in function definiton both numbers are being added and the total is being printed. These variable in parenthesis are called ``function parameters``. It can be any name but should be a legal python variable, each to be separated by a ``,``."
   ]
  },
  {
   "cell_type": "code",
   "execution_count": 5,
   "metadata": {},
   "outputs": [],
   "source": [
    "def add_numbers(first_number, second_number):\n",
    "    total = first_number + second_number\n",
    "    print(total)"
   ]
  },
  {
   "cell_type": "markdown",
   "metadata": {},
   "source": [
    "### Calling a function with arguments:\n",
    "\n",
    "in order to call such function, one needs to porvide argument values in the parenthesis in function call. for example, if one needs to sum and print the result of 53 and 109, this information is to be passed as argument in function call as given below:\n",
    "```` python\n",
    "add_numbers(53, 109)\n",
    "````\n",
    "\n",
    "when values are given to function arguments, the value is assigned to respective parameter variable. The parameter variables are then used in function definition body to accomplish a task, the sum of these two number in this example. <br>\n",
    "When function is called with above written code, 53 is assigned to parameter variable ``first_number`` and 109 is assigned to variable `` second_number``. In function body these two variables are added and result is printed."
   ]
  },
  {
   "cell_type": "code",
   "execution_count": 6,
   "metadata": {},
   "outputs": [
    {
     "name": "stdout",
     "output_type": "stream",
     "text": [
      "162\n"
     ]
    }
   ],
   "source": [
    "add_numbers(53, 109)"
   ]
  },
  {
   "cell_type": "markdown",
   "metadata": {},
   "source": [
    "### versatility of a function\n",
    "\n",
    "One of the advantage of using arguments in function is to make it versatile, so it can be used over and over again for different value without changing the definition of funtion. If we need to get the result of summation of two numbers say 105 and 256, we can use the same fucntion with new values given in arguments.\n",
    "e.g."
   ]
  },
  {
   "cell_type": "code",
   "execution_count": 17,
   "metadata": {},
   "outputs": [
    {
     "name": "stdout",
     "output_type": "stream",
     "text": [
      "361\n"
     ]
    }
   ],
   "source": [
    "add_numbers(105, 256)"
   ]
  },
  {
   "cell_type": "markdown",
   "metadata": {},
   "source": [
    "### Type of value in arguments\n",
    "\n",
    "Any type of vaue, be it ``int, string, float, list or any datatype``, can be passed to function using argument. For example let's create a function that takes a string and prints this string. e.g."
   ]
  },
  {
   "cell_type": "code",
   "execution_count": 18,
   "metadata": {},
   "outputs": [],
   "source": [
    "def print_greeting(greeting):\n",
    "    print(greeting)"
   ]
  },
  {
   "cell_type": "code",
   "execution_count": 19,
   "metadata": {},
   "outputs": [
    {
     "name": "stdout",
     "output_type": "stream",
     "text": [
      "Hello world\n"
     ]
    }
   ],
   "source": [
    "print_greeting(\"Hello world\")"
   ]
  },
  {
   "cell_type": "markdown",
   "metadata": {},
   "source": [
    "### Using a variable to pass value to function\n",
    "\n",
    "it is not necessary to pass a value dicrectly to a function, rather a variable can be used as an argument for a function. and the value of this variable is assigned to respective parameter variable of the function. for example\n",
    "````python\n",
    "A_Variable = \"Hello there!!!\"\n",
    "print_greeting(A_Variable)\n",
    "````\n",
    "\n",
    "which this function is called value of ``A_Variable`` is assigned to ``greeting`` paramter variable i.e. ``greeting = A_Variable``"
   ]
  },
  {
   "cell_type": "code",
   "execution_count": 20,
   "metadata": {},
   "outputs": [
    {
     "name": "stdout",
     "output_type": "stream",
     "text": [
      "Hello there!!!\n"
     ]
    }
   ],
   "source": [
    "\n",
    "A_Variable = \"Hello there!!!\"\n",
    "print_greeting(A_Variable)\n"
   ]
  },
  {
   "cell_type": "markdown",
   "metadata": {},
   "source": [
    "# 43. Functions: Passing information to them a different way"
   ]
  },
  {
   "cell_type": "markdown",
   "metadata": {},
   "source": [
    "### positional Arguments\n",
    "\n",
    "Previosuly we noticed that when a function arguments are given, they are loaded into respective parameter variable. This type of arguments are called positional arguments. For this type or arguments order of the values they are gieven does matters. \n",
    "for example consider a following function which divides two numbers and print result. "
   ]
  },
  {
   "cell_type": "code",
   "execution_count": 3,
   "metadata": {},
   "outputs": [],
   "source": [
    "def divide(numerator, denominator):\n",
    "    result = numerator / denominator\n",
    "    print(result)"
   ]
  },
  {
   "cell_type": "markdown",
   "metadata": {},
   "source": [
    "if we want to print the result of 15 divided by 5, we need to call function as given below. and it will assign 15 to numebrator and 3 to denominator, using the order of parameters in function defination."
   ]
  },
  {
   "cell_type": "code",
   "execution_count": 4,
   "metadata": {},
   "outputs": [
    {
     "name": "stdout",
     "output_type": "stream",
     "text": [
      "3.0\n"
     ]
    }
   ],
   "source": [
    "divide(15,5)"
   ]
  },
  {
   "cell_type": "markdown",
   "metadata": {},
   "source": [
    "however if we call function as\n",
    "```` python\n",
    "divide(3,15)\n",
    "````\n",
    "Now 3 would be assigned to numerator and 15 to denominator"
   ]
  },
  {
   "cell_type": "code",
   "execution_count": 5,
   "metadata": {},
   "outputs": [
    {
     "name": "stdout",
     "output_type": "stream",
     "text": [
      "0.2\n"
     ]
    }
   ],
   "source": [
    "divide(3,15)"
   ]
  },
  {
   "cell_type": "markdown",
   "metadata": {},
   "source": [
    "### Keyword Arguments\n",
    "\n",
    "When a user doesn't want to care about the order of arguments passed to a function, user need to use *keyword arguments* <br>\n",
    "\n",
    "now the order of the variable doesn't matter. In order to use keyword arguments one need to use the same parameter name as it is used while defining a function.\n",
    "<br><br>\n",
    "let's use the previously defined ``divide()`` function using keyword arguments\n"
   ]
  },
  {
   "cell_type": "code",
   "execution_count": 6,
   "metadata": {},
   "outputs": [
    {
     "name": "stdout",
     "output_type": "stream",
     "text": [
      "5.0\n"
     ]
    }
   ],
   "source": [
    "divide(denominator = 3, numerator = 15)"
   ]
  },
  {
   "cell_type": "markdown",
   "metadata": {},
   "source": [
    "Notice that in function definition numerator comes before denominator, but using keyword argument we can pass argument in any order. "
   ]
  },
  {
   "cell_type": "markdown",
   "metadata": {},
   "source": [
    "###### Example from book\n",
    "smarter way to learn python"
   ]
  },
  {
   "cell_type": "code",
   "execution_count": 7,
   "metadata": {},
   "outputs": [],
   "source": [
    "def say_names_of_couple(husband_name, wife_name):\n",
    "    print(\"The names of the couple are \" + husband_name + \" and \" + wife_name)"
   ]
  },
  {
   "cell_type": "code",
   "execution_count": 8,
   "metadata": {},
   "outputs": [
    {
     "name": "stdout",
     "output_type": "stream",
     "text": [
      "The names of the couple are Bill and Zelda\n"
     ]
    }
   ],
   "source": [
    "say_names_of_couple(husband_name=\"Bill\",wife_name=\"Zelda\")"
   ]
  },
  {
   "cell_type": "code",
   "execution_count": 9,
   "metadata": {},
   "outputs": [
    {
     "name": "stdout",
     "output_type": "stream",
     "text": [
      "The names of the couple are Bill and Zelda\n"
     ]
    }
   ],
   "source": [
    "say_names_of_couple(wife_name=\"Zelda\", husband_name=\"Bill\")"
   ]
  },
  {
   "cell_type": "markdown",
   "metadata": {},
   "source": []
  },
  {
   "cell_type": "markdown",
   "metadata": {},
   "source": [
    "# 44. Assigning a default value to a parameter"
   ]
  },
  {
   "cell_type": "markdown",
   "metadata": {},
   "source": [
    "in many cases there might be situation when an arguments value doesn't change. for example tax rate in a state will tend to be constant. Let consider a function that calculate and print the tax amount, when given tax rate and amount.\n"
   ]
  },
  {
   "cell_type": "code",
   "execution_count": 11,
   "metadata": {},
   "outputs": [],
   "source": [
    "def calc_tax(sales_total, tax_rate):\n",
    "    print(sales_total * tax_rate)"
   ]
  },
  {
   "cell_type": "code",
   "execution_count": 12,
   "metadata": {},
   "outputs": [
    {
     "name": "stdout",
     "output_type": "stream",
     "text": [
      "5.0685\n"
     ]
    }
   ],
   "source": [
    "calc_tax(sales_total=101.37, tax_rate=.05)"
   ]
  },
  {
   "cell_type": "markdown",
   "metadata": {},
   "source": [
    "But suppose 98 percent of your sales take place in your state. Your state has a tax rate of 4%. Python allows you to make that rate the default value for the key ``tax_rate``. Below is the example how it can be done."
   ]
  },
  {
   "cell_type": "code",
   "execution_count": 13,
   "metadata": {},
   "outputs": [],
   "source": [
    "def calc_tax(sales_total, tax_rate=.04):\n",
    "    print(sales_total * tax_rate)"
   ]
  },
  {
   "cell_type": "markdown",
   "metadata": {},
   "source": [
    "``tax_rate`` would have a default value of ``0.04`` unless specified otherwise.\n",
    "Once given a default value, this parameter needs not to be given unless it needs the other value other than the default value. Only keyword parameters can have a default value, positional parameters can't. Now the above function can be called using only one parameter."
   ]
  },
  {
   "cell_type": "code",
   "execution_count": 19,
   "metadata": {},
   "outputs": [
    {
     "name": "stdout",
     "output_type": "stream",
     "text": [
      "4.0\n"
     ]
    }
   ],
   "source": [
    "calc_tax(sales_total = 100)"
   ]
  },
  {
   "cell_type": "markdown",
   "metadata": {},
   "source": [
    "or this single paramter can also be a keyword argument."
   ]
  },
  {
   "cell_type": "code",
   "execution_count": 20,
   "metadata": {},
   "outputs": [
    {
     "name": "stdout",
     "output_type": "stream",
     "text": [
      "4.0548\n"
     ]
    }
   ],
   "source": [
    "calc_tax(sales_total=101.37)"
   ]
  },
  {
   "cell_type": "markdown",
   "metadata": {},
   "source": [
    "Should we need to need calculate a tax amount with a different tax rate, we can specify this rate using keyword argument"
   ]
  },
  {
   "cell_type": "code",
   "execution_count": 21,
   "metadata": {},
   "outputs": [
    {
     "name": "stdout",
     "output_type": "stream",
     "text": [
      "6.0\n"
     ]
    }
   ],
   "source": [
    "calc_tax(sales_total = 100, tax_rate = 0.06)"
   ]
  },
  {
   "cell_type": "markdown",
   "metadata": {},
   "source": [
    "# 45. Mixing positional and keyword arguments"
   ]
  },
  {
   "cell_type": "markdown",
   "metadata": {},
   "source": [
    "In the above example we either used poisitonal arguments or keyword arguments, however one may use both types of argument in function definition or function call. for example consider following fucntion,\n"
   ]
  },
  {
   "cell_type": "code",
   "execution_count": 25,
   "metadata": {},
   "outputs": [],
   "source": [
    "def give_greeting(greeting, first_name):\n",
    "    print(greeting + \", \" + first_name)"
   ]
  },
  {
   "cell_type": "markdown",
   "metadata": {},
   "source": [
    "and this function can be called as\n",
    "```` python\n",
    "give_greeting(\"Hello there\", first_name=\"Al\")\n",
    "````\n",
    "\n",
    "The first argument is positional, because there's no keyword. The second argument is a keyword argument, because it pairs the keyword first_name with the value \"Al.\""
   ]
  },
  {
   "cell_type": "code",
   "execution_count": 26,
   "metadata": {},
   "outputs": [
    {
     "name": "stdout",
     "output_type": "stream",
     "text": [
      "Hello there, Al\n"
     ]
    }
   ],
   "source": [
    "give_greeting(\"Hello there\", first_name=\"Al\")"
   ]
  },
  {
   "cell_type": "markdown",
   "metadata": {},
   "source": [
    "Now modify this function a little:"
   ]
  },
  {
   "cell_type": "code",
   "execution_count": 150,
   "metadata": {},
   "outputs": [],
   "source": [
    "def give_greeting(greeting, first_name, flattering_nickname=\" the wonder boy\"):\n",
    "    print(greeting + \", \" + first_name + \" \"+ flattering_nickname)"
   ]
  },
  {
   "cell_type": "markdown",
   "metadata": {},
   "source": [
    "```` python\n",
    "give_greeting(\"Hello there\", first_name=\"Al\")\n",
    "````\n",
    "for tha above calling code if will add ``the woder boy`` as ``flattering_nickname`` as it is not specified in fucntion call."
   ]
  },
  {
   "cell_type": "code",
   "execution_count": 147,
   "metadata": {},
   "outputs": [
    {
     "name": "stdout",
     "output_type": "stream",
     "text": [
      "Hello there, Al the wonder boy\n"
     ]
    }
   ],
   "source": [
    "give_greeting(\"Hello there\", first_name=\"Al\")"
   ]
  },
  {
   "cell_type": "markdown",
   "metadata": {},
   "source": [
    "**Note** : Positional arguments and parameters always come first, keyword parameters without defaults always come second, and keyword parameters with defaults always come last. <br>\n",
    "so let's call the above function in a different fashion"
   ]
  },
  {
   "cell_type": "code",
   "execution_count": 148,
   "metadata": {},
   "outputs": [
    {
     "ename": "SyntaxError",
     "evalue": "positional argument follows keyword argument (<ipython-input-148-6941e82300e3>, line 1)",
     "output_type": "error",
     "traceback": [
      "\u001b[1;36m  File \u001b[1;32m\"<ipython-input-148-6941e82300e3>\"\u001b[1;36m, line \u001b[1;32m1\u001b[0m\n\u001b[1;33m    give_greeting(flattering_nickname=\"The boy who lived.\", first_name = \"Harry\", \"Welcome to Hogwarts\")\u001b[0m\n\u001b[1;37m                                                                                 ^\u001b[0m\n\u001b[1;31mSyntaxError\u001b[0m\u001b[1;31m:\u001b[0m positional argument follows keyword argument\n"
     ]
    }
   ],
   "source": [
    "give_greeting(flattering_nickname=\"The boy who lived.\", first_name = \"Harry\", \"Welcome to Hogwarts\")"
   ]
  },
  {
   "cell_type": "markdown",
   "metadata": {},
   "source": [
    "In order to fix this"
   ]
  },
  {
   "cell_type": "code",
   "execution_count": 151,
   "metadata": {},
   "outputs": [
    {
     "name": "stdout",
     "output_type": "stream",
     "text": [
      "Welcome to Hogwarts, Harry The boy who lived.\n"
     ]
    }
   ],
   "source": [
    "give_greeting(\"Welcome to Hogwarts\",flattering_nickname=\"The boy who lived.\", first_name = \"Harry\")"
   ]
  },
  {
   "cell_type": "markdown",
   "metadata": {},
   "source": [
    "### Things to remember:\n",
    "\n",
    "1. Order of arguments matters in positional arguments.\n",
    "2. Order of arguments doesn't matter in keyword arguments.\n",
    "3. When you use keyword arguments, be sure to use the exact names of the parameters in the function’s definition.\n",
    "4. Only keyword parameters can have a default value, positional parameters can't\n",
    "5. Positional arguments and parameters always come first, keyword parameters without defaults always come second, and keyword parameters with defaults always come last."
   ]
  },
  {
   "cell_type": "markdown",
   "metadata": {},
   "source": [
    "### Dictionaries, list and other datatypes as function arguments"
   ]
  },
  {
   "cell_type": "markdown",
   "metadata": {},
   "source": [
    "Lists and dictionaries, as well as strings and numbers, can be arguments\n",
    "passed to a function. Here's our customers dictionary, a dictionary that\n",
    "contains a dictionary:"
   ]
  },
  {
   "cell_type": "code",
   "execution_count": 37,
   "metadata": {},
   "outputs": [],
   "source": [
    "customers = {\n",
    "    0: \n",
    "    {\n",
    "        \"first name\":\"John\",\n",
    "        \"last name\": \"Ogden\",\n",
    "        \"address\": \"301 Arbor Rd.\"\n",
    "    },\n",
    "    1: \n",
    "    {\n",
    "        \"first name\":\"Ann\",\n",
    "        \"last name\": \"Sattermyer\",\n",
    "        \"address\": \"PO Box 1145\"\n",
    "    },\n",
    "    2: \n",
    "    {\n",
    "        \"first name\":\"Jill\",\n",
    "        \"last name\": \"Somers\",\n",
    "        \"address\": \"3 Main St.\"\n",
    "    }\n",
    "}\n"
   ]
  },
  {
   "cell_type": "markdown",
   "metadata": {},
   "source": [
    "let us define a function which finds and print some value provide by the user."
   ]
  },
  {
   "cell_type": "code",
   "execution_count": 40,
   "metadata": {},
   "outputs": [],
   "source": [
    "def find_something(dict_par, inner_dict, target):\n",
    "    print(dict_par[inner_dict][target])"
   ]
  },
  {
   "cell_type": "markdown",
   "metadata": {},
   "source": [
    "```` python\n",
    "find_something(customers, 2, \"last name\")\n",
    "````\n",
    "would print a the ``\"last name\"`` in sub dictionary with a key equal to 2, which should be ``Somers``"
   ]
  },
  {
   "cell_type": "code",
   "execution_count": 41,
   "metadata": {},
   "outputs": [
    {
     "name": "stdout",
     "output_type": "stream",
     "text": [
      "Somers\n"
     ]
    }
   ],
   "source": [
    "find_something(customers, 2, \"last name\")"
   ]
  },
  {
   "cell_type": "markdown",
   "metadata": {},
   "source": [
    "# 46. Dealing with an unknown number of arguments"
   ]
  },
  {
   "cell_type": "markdown",
   "metadata": {},
   "source": [
    "Consider a following function which prints result of a match"
   ]
  },
  {
   "cell_type": "code",
   "execution_count": 43,
   "metadata": {},
   "outputs": [],
   "source": [
    "def display_result(winner, score):\n",
    "    print(\"The winner was \" + winner)\n",
    "    print(\"The score was \" + score)"
   ]
  },
  {
   "cell_type": "markdown",
   "metadata": {},
   "source": [
    "If you call the function with these arguments…"
   ]
  },
  {
   "cell_type": "code",
   "execution_count": 44,
   "metadata": {},
   "outputs": [
    {
     "name": "stdout",
     "output_type": "stream",
     "text": [
      "The winner was Real Madrid\n",
      "The score was 1-0\n"
     ]
    }
   ],
   "source": [
    "display_result(winner=\"Real Madrid\", score=\"1-0\")"
   ]
  },
  {
   "cell_type": "markdown",
   "metadata": {},
   "source": [
    "sometime, it is required to print some additional but optional infomation and it is neither required always nor the amount of information is always specified. In order to deal with such scenarios we use optional parameters.<br>\n",
    "These optional parameter can be keyword argument and positional arguments both.<br>\n",
    "let us discuss keyword arguments.\n",
    "\n",
    "### Unknown Number of Keyword Arguments\n",
    "\n",
    "these arguments can be specified using ``**`` before functiom parameter name. for example, in the example above we printed only winner and score in case we need to add some more information for example, information about injuries and overtime which is optional and amount of information is not specified, we need to modify our function definition as given below."
   ]
  },
  {
   "cell_type": "code",
   "execution_count": 54,
   "metadata": {},
   "outputs": [],
   "source": [
    "def display_result(winner, score, **other_info):\n",
    "    print(\"The winner was \" + winner)\n",
    "    print(\"The score was \" + score)\n",
    "    for key, value in other_info.items():\n",
    "        print(key + \": \" + value)"
   ]
  },
  {
   "cell_type": "code",
   "execution_count": 53,
   "metadata": {},
   "outputs": [
    {
     "name": "stdout",
     "output_type": "stream",
     "text": [
      "The winner was Real Madrid\n",
      "The score was 1-0\n",
      "the type of other_info is <class 'dict'>\n",
      "overtime: yes\n",
      "injuries: none\n",
      "hattricks: None\n"
     ]
    }
   ],
   "source": [
    "display_result(winner=\"Real Madrid\", score=\"1-0\", overtime =\"yes\", injuries=\"none\")"
   ]
  },
  {
   "cell_type": "code",
   "execution_count": null,
   "metadata": {},
   "outputs": [],
   "source": [
    "display_result(winner=\"Real Madrid\", score=\"1-0\", overtime =\"yes\", injuries=\"none\", hattricks = \"None\")"
   ]
  },
  {
   "cell_type": "code",
   "execution_count": 57,
   "metadata": {},
   "outputs": [
    {
     "name": "stdout",
     "output_type": "stream",
     "text": [
      "The winner was Real Madrid\n",
      "The score was 1-0\n",
      "Opponent: Juventus FC\n",
      "injuries: none\n",
      "Man_of_Match: Cristiano Ronaldo\n"
     ]
    }
   ],
   "source": [
    "display_result(winner=\"Real Madrid\", score=\"1-0\", Opponent =\"Juventus FC\", injuries=\"none\", Man_of_Match = \"Cristiano Ronaldo\")"
   ]
  },
  {
   "cell_type": "markdown",
   "metadata": {},
   "source": [
    "As the code in function suggest that optional keyword argument are converted into a dictionary (key-value) pair. in order to check we redefine and recall the above function.\n"
   ]
  },
  {
   "cell_type": "code",
   "execution_count": 58,
   "metadata": {},
   "outputs": [
    {
     "name": "stdout",
     "output_type": "stream",
     "text": [
      "The winner was Real Madrid\n",
      "The score was 1-0\n",
      "the type of other_info is <class 'dict'>\n",
      "overtime: yes\n",
      "injuries: none\n"
     ]
    }
   ],
   "source": [
    "def display_result(winner, score, **other_info):\n",
    "    print(\"The winner was \" + winner)\n",
    "    print(\"The score was \" + score)\n",
    "    print(f\"the type of other_info is {type(other_info)}\")\n",
    "    for key, value in other_info.items():\n",
    "        print(key + \": \" + value)\n",
    "\n",
    "\n",
    "display_result(winner=\"Real Madrid\", score=\"1-0\", overtime =\"yes\", injuries=\"none\")"
   ]
  },
  {
   "cell_type": "markdown",
   "metadata": {},
   "source": [
    "### Unknown number of position arguments\n",
    "\n",
    "The optional unknown arguments are not necessarily be keyword arguments and can be positional arugments. lets assume we want to create a function that add numbers. For addition, there must be at least 2 numbers and there can be more than two number. for this task we use optional positional argument. These are specified using ``*`` before the name of parameter. for example:\n"
   ]
  },
  {
   "cell_type": "code",
   "execution_count": 59,
   "metadata": {},
   "outputs": [],
   "source": [
    "def add_nums(num1, num2, *other_nums):\n",
    "    total = num1 + num2 + sum(other_nums)\n",
    "    print(total)"
   ]
  },
  {
   "cell_type": "code",
   "execution_count": 60,
   "metadata": {},
   "outputs": [
    {
     "name": "stdout",
     "output_type": "stream",
     "text": [
      "6\n"
     ]
    }
   ],
   "source": [
    "add_nums(2,4)"
   ]
  },
  {
   "cell_type": "code",
   "execution_count": 61,
   "metadata": {},
   "outputs": [
    {
     "name": "stdout",
     "output_type": "stream",
     "text": [
      "11\n"
     ]
    }
   ],
   "source": [
    "add_nums(5,3,2,1)"
   ]
  },
  {
   "cell_type": "code",
   "execution_count": 62,
   "metadata": {},
   "outputs": [
    {
     "name": "stdout",
     "output_type": "stream",
     "text": [
      "57\n"
     ]
    }
   ],
   "source": [
    "add_nums(2,5,8,1,9,2,6,7,3,6,8)"
   ]
  },
  {
   "cell_type": "markdown",
   "metadata": {},
   "source": [
    "optional parameters, which are defined here are taken as tuple and are used in function body. for another example."
   ]
  },
  {
   "cell_type": "code",
   "execution_count": 14,
   "metadata": {},
   "outputs": [
    {
     "name": "stdout",
     "output_type": "stream",
     "text": [
      "Type of optinoal positional argument is: <class 'tuple'>\n",
      "\n",
      "Making a pizza with the following toppings:\n",
      "- pepperoni\n",
      "Type of optinoal positional argument is: <class 'tuple'>\n",
      "\n",
      "Making a pizza with the following toppings:\n",
      "- mushrooms\n",
      "- green peppers\n",
      "- extra cheese\n"
     ]
    }
   ],
   "source": [
    "def make_pizza(*toppings):\n",
    "    print(f\"Type of optinoal positional argument is: {type(toppings)}\")\n",
    "    print(\"\\nMaking a pizza with the following toppings:\")\n",
    "    #since toppings is a tuple\n",
    "    for topping in toppings:\n",
    "        print(f\"- {topping}\")\n",
    "\n",
    "make_pizza('pepperoni')\n",
    "make_pizza('mushrooms', 'green peppers', 'extra cheese')"
   ]
  },
  {
   "cell_type": "markdown",
   "metadata": {},
   "source": [
    "# 47 Passing information back from them"
   ]
  },
  {
   "cell_type": "markdown",
   "metadata": {},
   "source": [
    "Until now we have been printing information inside function. we can, however, get value back from a function. such function which can pass a value back is called ``return type function`` and value being sent back from function is called ``return value``. all previously discussed function are ``Non-Return Type``Function.\n",
    "<br><br>\n",
    "As we had defined a function previously to calculate tax:"
   ]
  },
  {
   "cell_type": "code",
   "execution_count": 2,
   "metadata": {},
   "outputs": [],
   "source": [
    "def calc_tax(sales_total, tax_rate):\n",
    "    print(sales_total * tax_rate)"
   ]
  },
  {
   "cell_type": "markdown",
   "metadata": {},
   "source": [
    "in order to call this function."
   ]
  },
  {
   "cell_type": "code",
   "execution_count": 3,
   "metadata": {},
   "outputs": [
    {
     "name": "stdout",
     "output_type": "stream",
     "text": [
      "4.0\n"
     ]
    }
   ],
   "source": [
    "calc_tax(100, 0.04)"
   ]
  },
  {
   "cell_type": "markdown",
   "metadata": {},
   "source": [
    "when called it prints tax amount, and print statement is inside function. If we need information back from a function we use ``return`` keyword. So in order to change above code into a ``return type`` function we write following definition."
   ]
  },
  {
   "cell_type": "code",
   "execution_count": 4,
   "metadata": {},
   "outputs": [],
   "source": [
    "def calc_tax(sales_total, tax_rate):\n",
    "    tax = sales_total * tax_rate\n",
    "    return tax"
   ]
  },
  {
   "cell_type": "markdown",
   "metadata": {},
   "source": [
    "The return value of a fucntion can be assigned to a variables, such as"
   ]
  },
  {
   "cell_type": "code",
   "execution_count": 8,
   "metadata": {},
   "outputs": [
    {
     "name": "stdout",
     "output_type": "stream",
     "text": [
      "5.0685\n"
     ]
    }
   ],
   "source": [
    "sales_tax = calc_tax(sales_total=101.37, tax_rate=.05)\n",
    "\n",
    "print(sales_tax)"
   ]
  },
  {
   "cell_type": "markdown",
   "metadata": {},
   "source": [
    "or we can use this return function directly into a print statement."
   ]
  },
  {
   "cell_type": "code",
   "execution_count": 10,
   "metadata": {},
   "outputs": [
    {
     "name": "stdout",
     "output_type": "stream",
     "text": [
      "5.0685\n"
     ]
    }
   ],
   "source": [
    "print(calc_tax(sales_total=101.37, tax_rate=.05))"
   ]
  },
  {
   "cell_type": "markdown",
   "metadata": {},
   "source": [
    "it is not necessary for a return statement to have a variable, rather it can have any expression. for example, lets assume a function that returns a formatted name"
   ]
  },
  {
   "cell_type": "code",
   "execution_count": 13,
   "metadata": {},
   "outputs": [],
   "source": [
    "def Name(First_Name, Last_Name, Prefix= \"\"):\n",
    "    return f\"{Prefix} {First_Name} {Last_Name}\"\n",
    "    # Similar to above code\n",
    "    #return Prefix + \" \" + First_Name + \" \" + Last_Name"
   ]
  },
  {
   "cell_type": "code",
   "execution_count": 14,
   "metadata": {},
   "outputs": [
    {
     "name": "stdout",
     "output_type": "stream",
     "text": [
      "Mr. John Doe\n"
     ]
    }
   ],
   "source": [
    "print(Name(\"John\",\"Doe\",\"Mr.\"))"
   ]
  },
  {
   "cell_type": "markdown",
   "metadata": {},
   "source": [
    "as any datatype can be passed into a function, any datatype can be returned from a function. be it a list, dictionary, or tuple. For example"
   ]
  },
  {
   "cell_type": "code",
   "execution_count": 20,
   "metadata": {},
   "outputs": [
    {
     "name": "stdout",
     "output_type": "stream",
     "text": [
      "<class 'dict'>\n",
      "{0: 0, 1: 1, 2: 8, 3: 27, 4: 64}\n"
     ]
    }
   ],
   "source": [
    "def A_Func_That_returns_dict():\n",
    "    a_Dict = {i: i**3 for i in range(5)}\n",
    "    return a_Dict\n",
    "\n",
    "\n",
    "returned_dict = A_Func_That_returns_dict()\n",
    "print(type(returned_dict))\n",
    "print(returned_dict)"
   ]
  },
  {
   "cell_type": "code",
   "execution_count": 19,
   "metadata": {},
   "outputs": [
    {
     "name": "stdout",
     "output_type": "stream",
     "text": [
      "<class 'list'>\n",
      "[0, 1, 8, 27, 64]\n"
     ]
    }
   ],
   "source": [
    "def A_Func_That_returns_list():\n",
    "    a_List = [i**3 for i in range(5)]\n",
    "    return a_List\n",
    "\n",
    "\n",
    "returned_list = A_Func_That_returns_list()\n",
    "print(type(returned_list))\n",
    "print(returned_list)"
   ]
  },
  {
   "cell_type": "markdown",
   "metadata": {},
   "source": [
    "# 48 Using functions as variables \n",
    "##### (which is what they really are)\n",
    "\n",
    "As we used function inside a print function, just like we use it to print a variable value.\n",
    "```` python\n",
    "print(calc_tax(sales_total=101.37, tax_rate=.05))\n",
    "\n",
    "````\n",
    "\n",
    "as we can see that a function is being used a variable. Which infers that ``a function is a variable in python``<br>\n",
    "for another example, let's write a function that add two numbers\n"
   ]
  },
  {
   "cell_type": "code",
   "execution_count": 22,
   "metadata": {},
   "outputs": [],
   "source": [
    "def add_numbers(first_number, second_number):\n",
    "    return first_number + second_number"
   ]
  },
  {
   "cell_type": "markdown",
   "metadata": {},
   "source": [
    "And another function that subtacts two numbers,"
   ]
  },
  {
   "cell_type": "code",
   "execution_count": 23,
   "metadata": {},
   "outputs": [],
   "source": [
    "def subtract_numbers(first_number, second_number):\n",
    "    return first_number - second_number"
   ]
  },
  {
   "cell_type": "code",
   "execution_count": 25,
   "metadata": {},
   "outputs": [
    {
     "name": "stdout",
     "output_type": "stream",
     "text": [
      "4\n"
     ]
    }
   ],
   "source": [
    "result_of_adding = add_numbers(1, 2)\n",
    "result_of_subtracting = subtract_numbers(3, 2)\n",
    "sum_of_results = result_of_adding + result_of_subtracting\n",
    "\n",
    "print(sum_of_results)"
   ]
  },
  {
   "cell_type": "markdown",
   "metadata": {},
   "source": [
    "The execution of the above code is done following steps:\n",
    "- Line 1 calls the first function. The result, 3, is returned and placed in result_of_adding.\n",
    "- Line 2 calls the second function. The result, 1, is returned and placed in result_of_subtracting.\n",
    "- Line 3 totals the values stored in the two variables, 4, and assigns the sum to sum_of_results.\n",
    "\n",
    "the above code can be shortened by using function instead of variables,"
   ]
  },
  {
   "cell_type": "code",
   "execution_count": 26,
   "metadata": {},
   "outputs": [
    {
     "name": "stdout",
     "output_type": "stream",
     "text": [
      "4\n"
     ]
    }
   ],
   "source": [
    "sum_of_results = add_numbers(1, 2) + subtract_numbers(3, 2)\n",
    "print(sum_of_results)"
   ]
  },
  {
   "cell_type": "markdown",
   "metadata": {},
   "source": [
    "# 49 Local vs. global variables"
   ]
  },
  {
   "cell_type": "markdown",
   "metadata": {},
   "source": [
    "Now we come to the subject of ``variable scope``. In simple words, ``scope`` can be defined as the place where a variable can be used.<br>\n",
    "Some variables have global scope, which makes them global variables. <br>\n",
    "Other variables have local scope, which makes them local variables.\n",
    "\n",
    "scope of a variable defines the life cycle of this variable."
   ]
  },
  {
   "cell_type": "markdown",
   "metadata": {},
   "source": [
    "### Local Variables\n",
    "\n",
    "A variable that is defined inside a function or method body is called ``Local Variabel``. A local variable can only be use within same routine of function. The scope of  scope is only that function body.\n",
    "- Using Local variable outside it's scope, i.e. outside the function it was defined in, will generate an error.\n",
    "- Is deleted as soon as function terminates.\n",
    "- Cannot be used to pass information between different block of code\n",
    "- Function parameters are also local variables.\n",
    "\n",
    "Consider following code:\n"
   ]
  },
  {
   "cell_type": "code",
   "execution_count": null,
   "metadata": {},
   "outputs": [],
   "source": [
    "def say_something():\n",
    "    what_to_say = \"Hi\"\n",
    "    print(what_to_say)"
   ]
  },
  {
   "cell_type": "markdown",
   "metadata": {},
   "source": [
    "In the code above ``what_to_say`` is a local variable defined in function say_something(). if this variable is to be accessed outised this function, it will give ``NameError``."
   ]
  },
  {
   "cell_type": "code",
   "execution_count": 27,
   "metadata": {},
   "outputs": [
    {
     "ename": "NameError",
     "evalue": "name 'what_to_say' is not defined",
     "output_type": "error",
     "traceback": [
      "\u001b[1;31m---------------------------------------------------------------------------\u001b[0m",
      "\u001b[1;31mNameError\u001b[0m                                 Traceback (most recent call last)",
      "\u001b[1;32m<ipython-input-27-dae1543825f2>\u001b[0m in \u001b[0;36m<module>\u001b[1;34m\u001b[0m\n\u001b[0;32m      3\u001b[0m \u001b[1;33m\u001b[0m\u001b[0m\n\u001b[0;32m      4\u001b[0m \u001b[1;31m# End of function body\u001b[0m\u001b[1;33m\u001b[0m\u001b[1;33m\u001b[0m\u001b[1;33m\u001b[0m\u001b[0m\n\u001b[1;32m----> 5\u001b[1;33m \u001b[0mprint\u001b[0m\u001b[1;33m(\u001b[0m\u001b[0mwhat_to_say\u001b[0m\u001b[1;33m)\u001b[0m\u001b[1;33m\u001b[0m\u001b[1;33m\u001b[0m\u001b[0m\n\u001b[0m",
      "\u001b[1;31mNameError\u001b[0m: name 'what_to_say' is not defined"
     ]
    }
   ],
   "source": [
    "def say_something():\n",
    "    what_to_say = \"Hi\"\n",
    "    \n",
    "# End of function body\n",
    "print(what_to_say)"
   ]
  },
  {
   "cell_type": "markdown",
   "metadata": {},
   "source": [
    "For another example."
   ]
  },
  {
   "cell_type": "code",
   "execution_count": 30,
   "metadata": {
    "scrolled": true
   },
   "outputs": [
    {
     "name": "stdout",
     "output_type": "stream",
     "text": [
      "15\n"
     ]
    },
    {
     "ename": "NameError",
     "evalue": "name 'a' is not defined",
     "output_type": "error",
     "traceback": [
      "\u001b[1;31m---------------------------------------------------------------------------\u001b[0m",
      "\u001b[1;31mNameError\u001b[0m                                 Traceback (most recent call last)",
      "\u001b[1;32m<ipython-input-30-a13b7fe3b285>\u001b[0m in \u001b[0;36m<module>\u001b[1;34m\u001b[0m\n\u001b[0;32m      4\u001b[0m \u001b[1;33m\u001b[0m\u001b[0m\n\u001b[0;32m      5\u001b[0m \u001b[0mprint\u001b[0m\u001b[1;33m(\u001b[0m\u001b[0mwhatever\u001b[0m\u001b[1;33m(\u001b[0m\u001b[1;36m5\u001b[0m\u001b[1;33m,\u001b[0m\u001b[1;36m10\u001b[0m\u001b[1;33m)\u001b[0m\u001b[1;33m)\u001b[0m\u001b[1;33m\u001b[0m\u001b[1;33m\u001b[0m\u001b[0m\n\u001b[1;32m----> 6\u001b[1;33m \u001b[0mprint\u001b[0m\u001b[1;33m(\u001b[0m\u001b[0ma\u001b[0m\u001b[1;33m)\u001b[0m\u001b[1;33m\u001b[0m\u001b[1;33m\u001b[0m\u001b[0m\n\u001b[0m",
      "\u001b[1;31mNameError\u001b[0m: name 'a' is not defined"
     ]
    }
   ],
   "source": [
    "def whatever(a,b):\n",
    "    total = a + b\n",
    "    return total\n",
    "\n",
    "print(whatever(5,10))\n",
    "print(a)"
   ]
  },
  {
   "cell_type": "markdown",
   "metadata": {},
   "source": [
    "### Global variable\n",
    "\n",
    "a variable is said to be a ``global variable`` if it defined in the main body of a code (don't confuse if with main() of C/C++) that is outside any fucntion, routine or method. <br>\n",
    "- A global variable is accessible to all functions and methods.<br>\n",
    "- Life Span of a global variable is as long as a program/code is running, unless deleted otherwise.\n",
    "- Can pass value between different methods/functions without being passed as an argument.\n",
    "- The use of a global variable in a function is however not suggested, even it can be, to avoid confusions and an uexpected change in value.\n",
    "\n",
    "Consider the following example:\n"
   ]
  },
  {
   "cell_type": "code",
   "execution_count": 125,
   "metadata": {},
   "outputs": [
    {
     "name": "stdout",
     "output_type": "stream",
     "text": [
      "Printing a variable defined outside function body but it's possible because it's a global variable\n"
     ]
    }
   ],
   "source": [
    "A_Global_Variable = \"it's a global variable\"\n",
    "\n",
    "def A_Function():\n",
    "    print(f\"Printing a variable defined outside function body but it's possible because {A_Global_Variable}\")\n",
    "    \n",
    "    \n",
    "A_Function()"
   ]
  },
  {
   "cell_type": "markdown",
   "metadata": {},
   "source": [
    "for another example,"
   ]
  },
  {
   "cell_type": "code",
   "execution_count": 35,
   "metadata": {},
   "outputs": [
    {
     "name": "stdout",
     "output_type": "stream",
     "text": [
      "2\n"
     ]
    }
   ],
   "source": [
    "a = 2\n",
    "\n",
    "def display_number():\n",
    "    print(a)\n",
    "    \n",
    "display_number()"
   ]
  },
  {
   "cell_type": "markdown",
   "metadata": {},
   "source": [
    "#### Shadowing a Global Variable.\n",
    "\n",
    "it is possible for a local variable and a global variable to have a same name. Even though they have same name, but these are two different variables. For example for a following code.\n",
    "```python\n",
    "def whatever():\n",
    "    y = 2\n",
    "    print(y)\n",
    "y = 1 \n",
    "whatever()\n",
    "print(y)\n",
    "````\n",
    "\n",
    "One might expect the output to be \n",
    "````\n",
    "2\n",
    "2\n",
    "````\n",
    "However it is not the case, the actual output will be"
   ]
  },
  {
   "cell_type": "code",
   "execution_count": 46,
   "metadata": {},
   "outputs": [
    {
     "name": "stdout",
     "output_type": "stream",
     "text": [
      "2\n",
      "1\n"
     ]
    }
   ],
   "source": [
    "def whatever():\n",
    "    y = 2\n",
    "    print(y)\n",
    "y=1\n",
    "whatever()\n",
    "print(y)"
   ]
  },
  {
   "cell_type": "markdown",
   "metadata": {},
   "source": [
    "let's breakdown this code:\n",
    "\n",
    "1. Line 4: the main code defines y as 1. \n",
    "3. Line 5: calls the function. \n",
    "4. Line 2: y is assigned to a value of 2 , \n",
    "5. Line 3: the function displays the value of y as it's defined inside the function—the value 2.\n",
    "6. Fucntion body is finished, and hence the local variable is no more valid.\n",
    "7. Variable outside function body retains it's value.\n",
    "6. Line 6: The main body print the value of y 1, that was assigned to it in main body.\n",
    "<br><br>\n",
    "After the function runs, one might think that line 6 of the main code would display y as 2 also, because, after all, the function assigned y the value 2, and it did this after the main code assigned y the value 1. But that's not what happens. The function displays the value 2, and then the main code displays the value 1. <br>\n",
    "\n",
    "**This is because y is two different variables that (confusingly) happen to have the same name. Inside the function, y is a local variable because the function assigns it a value. This variable called y is unknown outside the function. What happens to the local variable y inside the function doesn't affect the global variable y outside the function. The global variable retains the value of 1 that it was assigned on line 4.**\n",
    "\n",
    "*Hence The value of global variable is shadowed by local variable in function body*"
   ]
  },
  {
   "cell_type": "markdown",
   "metadata": {},
   "source": [
    "# 50: Functions within functions\n",
    "\n",
    "A funtion can be called within a function. for example let's define two functions"
   ]
  },
  {
   "cell_type": "code",
   "execution_count": 51,
   "metadata": {},
   "outputs": [
    {
     "ename": "NameError",
     "evalue": "name 'what_to_say' is not defined",
     "output_type": "error",
     "traceback": [
      "\u001b[1;31m---------------------------------------------------------------------------\u001b[0m",
      "\u001b[1;31mNameError\u001b[0m                                 Traceback (most recent call last)",
      "\u001b[1;32m<ipython-input-51-460223afed4b>\u001b[0m in \u001b[0;36m<module>\u001b[1;34m\u001b[0m\n\u001b[0;32m      8\u001b[0m \u001b[1;33m\u001b[0m\u001b[0m\n\u001b[0;32m      9\u001b[0m \u001b[1;33m\u001b[0m\u001b[0m\n\u001b[1;32m---> 10\u001b[1;33m \u001b[0msay_something\u001b[0m\u001b[1;33m(\u001b[0m\u001b[1;33m)\u001b[0m\u001b[1;33m\u001b[0m\u001b[1;33m\u001b[0m\u001b[0m\n\u001b[0m",
      "\u001b[1;32m<ipython-input-51-460223afed4b>\u001b[0m in \u001b[0;36msay_something\u001b[1;34m()\u001b[0m\n\u001b[0;32m      5\u001b[0m \u001b[1;32mdef\u001b[0m \u001b[0msay_something\u001b[0m\u001b[1;33m(\u001b[0m\u001b[1;33m)\u001b[0m\u001b[1;33m:\u001b[0m\u001b[1;33m\u001b[0m\u001b[1;33m\u001b[0m\u001b[0m\n\u001b[0;32m      6\u001b[0m     \u001b[0mwhat_to_say\u001b[0m \u001b[1;33m=\u001b[0m \u001b[1;34m\"Hi\"\u001b[0m\u001b[1;33m\u001b[0m\u001b[1;33m\u001b[0m\u001b[0m\n\u001b[1;32m----> 7\u001b[1;33m     \u001b[0mnow_say_it\u001b[0m\u001b[1;33m(\u001b[0m\u001b[1;33m)\u001b[0m\u001b[1;33m\u001b[0m\u001b[1;33m\u001b[0m\u001b[0m\n\u001b[0m\u001b[0;32m      8\u001b[0m \u001b[1;33m\u001b[0m\u001b[0m\n\u001b[0;32m      9\u001b[0m \u001b[1;33m\u001b[0m\u001b[0m\n",
      "\u001b[1;32m<ipython-input-51-460223afed4b>\u001b[0m in \u001b[0;36mnow_say_it\u001b[1;34m()\u001b[0m\n\u001b[0;32m      1\u001b[0m \u001b[1;32mdef\u001b[0m \u001b[0mnow_say_it\u001b[0m\u001b[1;33m(\u001b[0m\u001b[1;33m)\u001b[0m\u001b[1;33m:\u001b[0m\u001b[1;33m\u001b[0m\u001b[1;33m\u001b[0m\u001b[0m\n\u001b[1;32m----> 2\u001b[1;33m     \u001b[0mprint\u001b[0m\u001b[1;33m(\u001b[0m\u001b[0mwhat_to_say\u001b[0m\u001b[1;33m)\u001b[0m\u001b[1;33m\u001b[0m\u001b[1;33m\u001b[0m\u001b[0m\n\u001b[0m\u001b[0;32m      3\u001b[0m \u001b[1;33m\u001b[0m\u001b[0m\n\u001b[0;32m      4\u001b[0m \u001b[1;33m\u001b[0m\u001b[0m\n\u001b[0;32m      5\u001b[0m \u001b[1;32mdef\u001b[0m \u001b[0msay_something\u001b[0m\u001b[1;33m(\u001b[0m\u001b[1;33m)\u001b[0m\u001b[1;33m:\u001b[0m\u001b[1;33m\u001b[0m\u001b[1;33m\u001b[0m\u001b[0m\n",
      "\u001b[1;31mNameError\u001b[0m: name 'what_to_say' is not defined"
     ]
    }
   ],
   "source": [
    "\n",
    "def now_say_it():\n",
    "    print(what_to_say)\n",
    "    \n",
    "\n",
    "def say_something():\n",
    "    what_to_say = \"Hi\"\n",
    "    now_say_it()\n",
    "    \n",
    "\n",
    "say_something()"
   ]
  },
  {
   "cell_type": "markdown",
   "metadata": {},
   "source": [
    "The above code generate an error as ``what_to_say`` is local to function ``say_something()`` and out of scope for the function ``now_say_it()`` <br>\n",
    "\n",
    "In order to get rid of this error, we can pass information as parameter."
   ]
  },
  {
   "cell_type": "code",
   "execution_count": 57,
   "metadata": {},
   "outputs": [
    {
     "name": "stdout",
     "output_type": "stream",
     "text": [
      "Hi\n"
     ]
    }
   ],
   "source": [
    "def now_say_it(content):\n",
    "    print(content)\n",
    "\n",
    "def say_something():\n",
    "    what_to_say = \"Hi\"\n",
    "    now_say_it(what_to_say)\n",
    "    \n",
    "\n",
    "say_something()"
   ]
  },
  {
   "cell_type": "markdown",
   "metadata": {},
   "source": [
    "Also notice the order of the function definitions, the function (``now_say_it()``) which is being called by other function (``say_something()``) is defined prior to the calling function (``say_something()``), if we change the order of definition we'll get an error,"
   ]
  },
  {
   "cell_type": "markdown",
   "metadata": {},
   "source": [
    "# Topics Not discussed in book"
   ]
  },
  {
   "cell_type": "markdown",
   "metadata": {},
   "source": [
    "## Built-in Functions\n",
    "\n",
    "All the discussion was made about the function we defined by ourselves, these functions are called ``user defined functions`` however many functions are already defined to perform basic operations. The list of built in fucntions can be found with a command ``dir(__builtins__)``"
   ]
  },
  {
   "cell_type": "code",
   "execution_count": 59,
   "metadata": {},
   "outputs": [
    {
     "data": {
      "text/plain": [
       "['ArithmeticError',\n",
       " 'AssertionError',\n",
       " 'AttributeError',\n",
       " 'BaseException',\n",
       " 'BlockingIOError',\n",
       " 'BrokenPipeError',\n",
       " 'BufferError',\n",
       " 'BytesWarning',\n",
       " 'ChildProcessError',\n",
       " 'ConnectionAbortedError',\n",
       " 'ConnectionError',\n",
       " 'ConnectionRefusedError',\n",
       " 'ConnectionResetError',\n",
       " 'DeprecationWarning',\n",
       " 'EOFError',\n",
       " 'Ellipsis',\n",
       " 'EnvironmentError',\n",
       " 'Exception',\n",
       " 'False',\n",
       " 'FileExistsError',\n",
       " 'FileNotFoundError',\n",
       " 'FloatingPointError',\n",
       " 'FutureWarning',\n",
       " 'GeneratorExit',\n",
       " 'IOError',\n",
       " 'ImportError',\n",
       " 'ImportWarning',\n",
       " 'IndentationError',\n",
       " 'IndexError',\n",
       " 'InterruptedError',\n",
       " 'IsADirectoryError',\n",
       " 'KeyError',\n",
       " 'KeyboardInterrupt',\n",
       " 'LookupError',\n",
       " 'MemoryError',\n",
       " 'ModuleNotFoundError',\n",
       " 'NameError',\n",
       " 'None',\n",
       " 'NotADirectoryError',\n",
       " 'NotImplemented',\n",
       " 'NotImplementedError',\n",
       " 'OSError',\n",
       " 'OverflowError',\n",
       " 'PendingDeprecationWarning',\n",
       " 'PermissionError',\n",
       " 'ProcessLookupError',\n",
       " 'RecursionError',\n",
       " 'ReferenceError',\n",
       " 'ResourceWarning',\n",
       " 'RuntimeError',\n",
       " 'RuntimeWarning',\n",
       " 'StopAsyncIteration',\n",
       " 'StopIteration',\n",
       " 'SyntaxError',\n",
       " 'SyntaxWarning',\n",
       " 'SystemError',\n",
       " 'SystemExit',\n",
       " 'TabError',\n",
       " 'TimeoutError',\n",
       " 'True',\n",
       " 'TypeError',\n",
       " 'UnboundLocalError',\n",
       " 'UnicodeDecodeError',\n",
       " 'UnicodeEncodeError',\n",
       " 'UnicodeError',\n",
       " 'UnicodeTranslateError',\n",
       " 'UnicodeWarning',\n",
       " 'UserWarning',\n",
       " 'ValueError',\n",
       " 'Warning',\n",
       " 'WindowsError',\n",
       " 'ZeroDivisionError',\n",
       " '__IPYTHON__',\n",
       " '__build_class__',\n",
       " '__debug__',\n",
       " '__doc__',\n",
       " '__import__',\n",
       " '__loader__',\n",
       " '__name__',\n",
       " '__package__',\n",
       " '__spec__',\n",
       " 'abs',\n",
       " 'all',\n",
       " 'any',\n",
       " 'ascii',\n",
       " 'bin',\n",
       " 'bool',\n",
       " 'breakpoint',\n",
       " 'bytearray',\n",
       " 'bytes',\n",
       " 'callable',\n",
       " 'chr',\n",
       " 'classmethod',\n",
       " 'compile',\n",
       " 'complex',\n",
       " 'copyright',\n",
       " 'credits',\n",
       " 'delattr',\n",
       " 'dict',\n",
       " 'dir',\n",
       " 'display',\n",
       " 'divmod',\n",
       " 'enumerate',\n",
       " 'eval',\n",
       " 'exec',\n",
       " 'filter',\n",
       " 'float',\n",
       " 'format',\n",
       " 'frozenset',\n",
       " 'get_ipython',\n",
       " 'getattr',\n",
       " 'globals',\n",
       " 'hasattr',\n",
       " 'hash',\n",
       " 'help',\n",
       " 'hex',\n",
       " 'id',\n",
       " 'input',\n",
       " 'int',\n",
       " 'isinstance',\n",
       " 'issubclass',\n",
       " 'iter',\n",
       " 'len',\n",
       " 'license',\n",
       " 'list',\n",
       " 'locals',\n",
       " 'map',\n",
       " 'max',\n",
       " 'memoryview',\n",
       " 'min',\n",
       " 'next',\n",
       " 'object',\n",
       " 'oct',\n",
       " 'open',\n",
       " 'ord',\n",
       " 'pow',\n",
       " 'print',\n",
       " 'property',\n",
       " 'range',\n",
       " 'repr',\n",
       " 'reversed',\n",
       " 'round',\n",
       " 'set',\n",
       " 'setattr',\n",
       " 'slice',\n",
       " 'sorted',\n",
       " 'staticmethod',\n",
       " 'str',\n",
       " 'sum',\n",
       " 'super',\n",
       " 'tuple',\n",
       " 'type',\n",
       " 'vars',\n",
       " 'zip']"
      ]
     },
     "execution_count": 59,
     "metadata": {},
     "output_type": "execute_result"
    }
   ],
   "source": [
    "dir(__builtins__)"
   ]
  },
  {
   "cell_type": "markdown",
   "metadata": {},
   "source": [
    "details of single function can be obtained using interospection; by using ``help(Name)`` or ``func??`` or ``func?`` or ``?func``, for example"
   ]
  },
  {
   "cell_type": "code",
   "execution_count": 61,
   "metadata": {},
   "outputs": [
    {
     "name": "stdout",
     "output_type": "stream",
     "text": [
      "Help on built-in function sum in module builtins:\n",
      "\n",
      "sum(iterable, start=0, /)\n",
      "    Return the sum of a 'start' value (default: 0) plus an iterable of numbers\n",
      "    \n",
      "    When the iterable is empty, return the start value.\n",
      "    This function is intended specifically for use with numeric values and may\n",
      "    reject non-numeric types.\n",
      "\n"
     ]
    }
   ],
   "source": [
    "help(sum)"
   ]
  },
  {
   "cell_type": "code",
   "execution_count": 77,
   "metadata": {},
   "outputs": [
    {
     "data": {
      "text/plain": [
       "15"
      ]
     },
     "execution_count": 77,
     "metadata": {},
     "output_type": "execute_result"
    }
   ],
   "source": [
    "# iterable can be list or tuple\n",
    "sum([1,2,3,4,5]) # = 1+2+3+4+5 = 15"
   ]
  },
  {
   "cell_type": "code",
   "execution_count": 76,
   "metadata": {},
   "outputs": [
    {
     "data": {
      "text/plain": [
       "25"
      ]
     },
     "execution_count": 76,
     "metadata": {},
     "output_type": "execute_result"
    }
   ],
   "source": [
    "sum([1,2,3,4,5], 10)   # = 1+2+3+4+5 + 10 = 25"
   ]
  },
  {
   "cell_type": "code",
   "execution_count": 78,
   "metadata": {},
   "outputs": [
    {
     "name": "stdout",
     "output_type": "stream",
     "text": [
      "Help on built-in function abs in module builtins:\n",
      "\n",
      "abs(x, /)\n",
      "    Return the absolute value of the argument.\n",
      "\n"
     ]
    }
   ],
   "source": [
    "help(abs)"
   ]
  },
  {
   "cell_type": "markdown",
   "metadata": {},
   "source": [
    "absolute value of an negative value x ``|x|`` is a positive value"
   ]
  },
  {
   "cell_type": "code",
   "execution_count": 79,
   "metadata": {},
   "outputs": [
    {
     "data": {
      "text/plain": [
       "30"
      ]
     },
     "execution_count": 79,
     "metadata": {},
     "output_type": "execute_result"
    }
   ],
   "source": [
    "abs(-30)"
   ]
  },
  {
   "cell_type": "markdown",
   "metadata": {},
   "source": [
    "absolute value of a complex number ``a+bj`` is $ \\sqrt{{a}^2+b^2} $"
   ]
  },
  {
   "cell_type": "code",
   "execution_count": 83,
   "metadata": {},
   "outputs": [
    {
     "data": {
      "text/plain": [
       "5.0"
      ]
     },
     "execution_count": 83,
     "metadata": {},
     "output_type": "execute_result"
    }
   ],
   "source": [
    "abs(4 + 3j)"
   ]
  },
  {
   "cell_type": "code",
   "execution_count": 84,
   "metadata": {},
   "outputs": [
    {
     "name": "stdout",
     "output_type": "stream",
     "text": [
      "Help on built-in function bin in module builtins:\n",
      "\n",
      "bin(number, /)\n",
      "    Return the binary representation of an integer.\n",
      "    \n",
      "    >>> bin(2796202)\n",
      "    '0b1010101010101010101010'\n",
      "\n"
     ]
    }
   ],
   "source": [
    "help(bin)"
   ]
  },
  {
   "cell_type": "code",
   "execution_count": 86,
   "metadata": {},
   "outputs": [
    {
     "data": {
      "text/plain": [
       "'0b1111'"
      ]
     },
     "execution_count": 86,
     "metadata": {},
     "output_type": "execute_result"
    }
   ],
   "source": [
    "bin(15) # return type is string"
   ]
  },
  {
   "cell_type": "code",
   "execution_count": 87,
   "metadata": {},
   "outputs": [
    {
     "name": "stdout",
     "output_type": "stream",
     "text": [
      "Help on built-in function hex in module builtins:\n",
      "\n",
      "hex(number, /)\n",
      "    Return the hexadecimal representation of an integer.\n",
      "    \n",
      "    >>> hex(12648430)\n",
      "    '0xc0ffee'\n",
      "\n"
     ]
    }
   ],
   "source": [
    "help(hex)"
   ]
  },
  {
   "cell_type": "code",
   "execution_count": 90,
   "metadata": {},
   "outputs": [
    {
     "data": {
      "text/plain": [
       "'0xf'"
      ]
     },
     "execution_count": 90,
     "metadata": {},
     "output_type": "execute_result"
    }
   ],
   "source": [
    "hex(15)"
   ]
  },
  {
   "cell_type": "code",
   "execution_count": 96,
   "metadata": {},
   "outputs": [
    {
     "name": "stdout",
     "output_type": "stream",
     "text": [
      "Help on built-in function all in module builtins:\n",
      "\n",
      "all(iterable, /)\n",
      "    Return True if bool(x) is True for all values x in the iterable.\n",
      "    \n",
      "    If the iterable is empty, return True.\n",
      "\n"
     ]
    }
   ],
   "source": [
    "help(all)"
   ]
  },
  {
   "cell_type": "code",
   "execution_count": 97,
   "metadata": {},
   "outputs": [
    {
     "data": {
      "text/plain": [
       "True"
      ]
     },
     "execution_count": 97,
     "metadata": {},
     "output_type": "execute_result"
    }
   ],
   "source": [
    "all([True, True, True]) "
   ]
  },
  {
   "cell_type": "code",
   "execution_count": 98,
   "metadata": {},
   "outputs": [
    {
     "data": {
      "text/plain": [
       "False"
      ]
     },
     "execution_count": 98,
     "metadata": {},
     "output_type": "execute_result"
    }
   ],
   "source": [
    "all([True, True, False]) "
   ]
  },
  {
   "cell_type": "code",
   "execution_count": 99,
   "metadata": {},
   "outputs": [
    {
     "data": {
      "text/plain": [
       "True"
      ]
     },
     "execution_count": 99,
     "metadata": {},
     "output_type": "execute_result"
    }
   ],
   "source": [
    "all([1,6,2,44])"
   ]
  },
  {
   "cell_type": "code",
   "execution_count": 100,
   "metadata": {},
   "outputs": [
    {
     "data": {
      "text/plain": [
       "False"
      ]
     },
     "execution_count": 100,
     "metadata": {},
     "output_type": "execute_result"
    }
   ],
   "source": [
    "all([0,1,3,5]) # 0 is False"
   ]
  },
  {
   "cell_type": "code",
   "execution_count": 101,
   "metadata": {},
   "outputs": [
    {
     "name": "stdout",
     "output_type": "stream",
     "text": [
      "Help on built-in function any in module builtins:\n",
      "\n",
      "any(iterable, /)\n",
      "    Return True if bool(x) is True for any x in the iterable.\n",
      "    \n",
      "    If the iterable is empty, return False.\n",
      "\n"
     ]
    }
   ],
   "source": [
    "help(any)"
   ]
  },
  {
   "cell_type": "code",
   "execution_count": 102,
   "metadata": {},
   "outputs": [
    {
     "data": {
      "text/plain": [
       "False"
      ]
     },
     "execution_count": 102,
     "metadata": {},
     "output_type": "execute_result"
    }
   ],
   "source": [
    "any([False, False, False]) "
   ]
  },
  {
   "cell_type": "code",
   "execution_count": 103,
   "metadata": {},
   "outputs": [
    {
     "data": {
      "text/plain": [
       "True"
      ]
     },
     "execution_count": 103,
     "metadata": {},
     "output_type": "execute_result"
    }
   ],
   "source": [
    "any([False, True, True])"
   ]
  },
  {
   "cell_type": "markdown",
   "metadata": {},
   "source": [
    "Similarly try other other builtin functions."
   ]
  },
  {
   "cell_type": "markdown",
   "metadata": {},
   "source": [
    "## Return Terminates a program\n",
    "\n",
    "In a return type function, whenever a return statement is executed, function terminate. if a function to be called again it will start execution from the beginning, for example"
   ]
  },
  {
   "cell_type": "code",
   "execution_count": 106,
   "metadata": {},
   "outputs": [
    {
     "name": "stdout",
     "output_type": "stream",
     "text": [
      "before returning value.\n",
      "11\n",
      "before returning value.\n",
      "10\n"
     ]
    }
   ],
   "source": [
    "def a_random_return_func(num1,num2):\n",
    "    print(\"before returning value.\")\n",
    "    return num1 + num2\n",
    "    print(\"after returning a value.\")\n",
    "    \n",
    "print(a_random_return_func(5,6))\n",
    "\n",
    "print(a_random_return_func(2,8))"
   ]
  },
  {
   "cell_type": "markdown",
   "metadata": {},
   "source": [
    "in above example, no matter how many times the function in being called, the print statement on line4 will never be executed as it's after a return statement"
   ]
  },
  {
   "cell_type": "markdown",
   "metadata": {},
   "source": [
    "## returning a value with if-else condition\n",
    "\n",
    "we can evaluate our values in a function body using if else block and can return the values from if-else block. let's assume a function that find the max of two numbers"
   ]
  },
  {
   "cell_type": "code",
   "execution_count": 107,
   "metadata": {},
   "outputs": [
    {
     "data": {
      "text/plain": [
       "10"
      ]
     },
     "execution_count": 107,
     "metadata": {},
     "output_type": "execute_result"
    }
   ],
   "source": [
    "def find_max(num1, num2):\n",
    "    if num1 > num2:\n",
    "        return num1\n",
    "    else:\n",
    "        return num2\n",
    "    \n",
    "find_max(10,5)"
   ]
  },
  {
   "cell_type": "markdown",
   "metadata": {},
   "source": [
    "## using pass keyword in function\n",
    " \n",
    "if we need a function name in our code, the definition of which is yet to be decided, it's body can't be left blank as it will generate an error. e.g.\n"
   ]
  },
  {
   "cell_type": "code",
   "execution_count": 110,
   "metadata": {},
   "outputs": [
    {
     "ename": "SyntaxError",
     "evalue": "unexpected EOF while parsing (<ipython-input-110-debbc7a69d39>, line 2)",
     "output_type": "error",
     "traceback": [
      "\u001b[1;36m  File \u001b[1;32m\"<ipython-input-110-debbc7a69d39>\"\u001b[1;36m, line \u001b[1;32m2\u001b[0m\n\u001b[1;33m    \u001b[0m\n\u001b[1;37m    ^\u001b[0m\n\u001b[1;31mSyntaxError\u001b[0m\u001b[1;31m:\u001b[0m unexpected EOF while parsing\n"
     ]
    }
   ],
   "source": [
    "def a_func_which_does_nothing():\n",
    "    \n"
   ]
  },
  {
   "cell_type": "markdown",
   "metadata": {},
   "source": [
    "should we face such condition we can use ``pass`` keyword in function.\n"
   ]
  },
  {
   "cell_type": "code",
   "execution_count": 111,
   "metadata": {},
   "outputs": [],
   "source": [
    "def a_func_which_does_nothing():\n",
    "    pass\n"
   ]
  },
  {
   "cell_type": "markdown",
   "metadata": {},
   "source": [
    "## Lambda Function\n",
    "\n",
    "lambda function are also called annonymous functions and don't have a name.<br>\n",
    "while a normal fucntion is defined using ``def`` keyword, these functions are defined using ``lambda``.\n",
    "A lambda function can have multiple numbers of arguments but always a single expression.\n",
    "This expression value is returned when lambda function is used. The basic syntax is \n",
    "````\n",
    "lambda arguments: expression\n",
    "````\n",
    "\n",
    "for exapmle"
   ]
  },
  {
   "cell_type": "code",
   "execution_count": 1,
   "metadata": {},
   "outputs": [
    {
     "data": {
      "text/plain": [
       "4"
      ]
     },
     "execution_count": 1,
     "metadata": {},
     "output_type": "execute_result"
    }
   ],
   "source": [
    "doubles = lambda a: a*2\n",
    "doubles(2)"
   ]
  },
  {
   "cell_type": "markdown",
   "metadata": {},
   "source": [
    "The above code is equavalent to the following code:"
   ]
  },
  {
   "cell_type": "code",
   "execution_count": 116,
   "metadata": {},
   "outputs": [
    {
     "data": {
      "text/plain": [
       "4"
      ]
     },
     "execution_count": 116,
     "metadata": {},
     "output_type": "execute_result"
    }
   ],
   "source": [
    "def doubles(a):\n",
    "    return a*2\n",
    "\n",
    "doubles(2)"
   ]
  },
  {
   "cell_type": "markdown",
   "metadata": {},
   "source": [
    "## Function Address\n",
    "\n",
    "as discussed earlier a function is just a variable, so it must have an address in memory. when a function name is given to print without parenthesis, the address of function is printed.\n"
   ]
  },
  {
   "cell_type": "code",
   "execution_count": 117,
   "metadata": {},
   "outputs": [
    {
     "name": "stdout",
     "output_type": "stream",
     "text": [
      "<function doubles at 0x0000022978AFB0D8>\n"
     ]
    }
   ],
   "source": [
    "print(doubles)"
   ]
  },
  {
   "cell_type": "markdown",
   "metadata": {},
   "source": [
    "## Assigning value of non-return type to a variable.\n",
    "\n",
    "When a non-return function is assigned to a variable, the variable gets assigned to ``None``. It happens because when a return statement is missing from function in python, a default ``None`` value is returned. for example:"
   ]
  },
  {
   "cell_type": "code",
   "execution_count": 2,
   "metadata": {},
   "outputs": [
    {
     "name": "stdout",
     "output_type": "stream",
     "text": [
      "it returns nothing\n",
      "None\n"
     ]
    }
   ],
   "source": [
    "def a_func_that_returns_nothing():\n",
    "    print(\"it returns nothing\")\n",
    "    \n",
    "a = a_func_that_returns_nothing()\n",
    "print(a)"
   ]
  },
  {
   "cell_type": "markdown",
   "metadata": {},
   "source": [
    "even when a function is returning nothing, yet the code withing function body will execute normally. Such Functions can also be called within print fucntion just like a return-type function. first the function is called and code in function body is executed and then after the fucntion body has been executed, ``None`` would be printed as reuturned by this function."
   ]
  },
  {
   "cell_type": "code",
   "execution_count": 8,
   "metadata": {},
   "outputs": [
    {
     "name": "stdout",
     "output_type": "stream",
     "text": [
      "it returns nothing\n"
     ]
    },
    {
     "data": {
      "text/plain": [
       "NoneType"
      ]
     },
     "execution_count": 8,
     "metadata": {},
     "output_type": "execute_result"
    }
   ],
   "source": [
    "type(a_func_that_returns_nothing())"
   ]
  },
  {
   "cell_type": "code",
   "execution_count": 120,
   "metadata": {},
   "outputs": [
    {
     "name": "stdout",
     "output_type": "stream",
     "text": [
      "it returns nothing\n",
      "None\n"
     ]
    }
   ],
   "source": [
    "print(a_func_that_returns_nothing())"
   ]
  },
  {
   "cell_type": "markdown",
   "metadata": {},
   "source": [
    "## Calling a function in another function argument.\n",
    "\n",
    "as we have seen we can call a function in print statement, and ``print()`` is nothing but a function. this suggest that a function can also be called within function arguments. let's create two functions."
   ]
  },
  {
   "cell_type": "code",
   "execution_count": 122,
   "metadata": {},
   "outputs": [
    {
     "name": "stdout",
     "output_type": "stream",
     "text": [
      "Adding numbers: \n",
      "dividing two numbers\n",
      "5.0\n"
     ]
    }
   ],
   "source": [
    "def Argument_Function_that_add_nums(num1, num2):\n",
    "    print(\"Adding numbers...\")\n",
    "    return num1 + num2\n",
    "\n",
    "def Another_div_function(Num1, Num2):\n",
    "    print(\"dividing two numbers\")\n",
    "    return Num1 / Num2\n",
    "\n",
    "result = Another_div_function(Argument_Function_that_add_nums(10,5), 3)\n",
    "print(result)"
   ]
  },
  {
   "cell_type": "markdown",
   "metadata": {},
   "source": [
    "- line 9: Argument_Function_that_add_nums() is given as argument to Another_div_function.\n",
    "- when line 9 is executed, it first calls function, Argument_Function_that_add_nums()\n",
    "- then function, Another_div_function() is called and result is stored in result"
   ]
  },
  {
   "cell_type": "markdown",
   "metadata": {},
   "source": [
    "## Changing the value of global variable inside a function\n",
    "\n",
    "we had sees we can access value of a global variable in function, for example:\n"
   ]
  },
  {
   "cell_type": "code",
   "execution_count": 127,
   "metadata": {},
   "outputs": [
    {
     "name": "stdout",
     "output_type": "stream",
     "text": [
      "10\n",
      "10\n"
     ]
    }
   ],
   "source": [
    "a = 10\n",
    "def print_a():\n",
    "    print(a)\n",
    "    \n",
    "print_a()\n",
    "print(a)"
   ]
  },
  {
   "cell_type": "markdown",
   "metadata": {},
   "source": [
    "but if we want to reassign a value to this variable, a new local variable with same name is created, and value of global variable a remains same"
   ]
  },
  {
   "cell_type": "code",
   "execution_count": 129,
   "metadata": {},
   "outputs": [
    {
     "name": "stdout",
     "output_type": "stream",
     "text": [
      "20\n",
      "10\n"
     ]
    }
   ],
   "source": [
    "a = 10\n",
    "def print_a():\n",
    "    a = 20\n",
    "    print(a)\n",
    "    \n",
    "print_a()\n",
    "print(a)"
   ]
  },
  {
   "cell_type": "markdown",
   "metadata": {},
   "source": [
    "should we need to change the variable name in function we use ``global`` keyword with variable name inside function, now this variable value can be changed inside a function."
   ]
  },
  {
   "cell_type": "code",
   "execution_count": 131,
   "metadata": {},
   "outputs": [
    {
     "name": "stdout",
     "output_type": "stream",
     "text": [
      "20\n",
      "20\n"
     ]
    }
   ],
   "source": [
    "a = 10\n",
    "def print_a():\n",
    "    global a\n",
    "    a = 20\n",
    "    print(a)\n",
    "    \n",
    "print_a()\n",
    "print(a)"
   ]
  },
  {
   "cell_type": "markdown",
   "metadata": {},
   "source": [
    "Notice in line 3, we have specified ``global a`` so the interpreter use the global variable ``a`` instead of creating a local variable with the same name. Now value of global variable is change inside the function. for another example:\n"
   ]
  },
  {
   "cell_type": "code",
   "execution_count": 133,
   "metadata": {},
   "outputs": [
    {
     "ename": "UnboundLocalError",
     "evalue": "local variable 'count' referenced before assignment",
     "output_type": "error",
     "traceback": [
      "\u001b[1;31m---------------------------------------------------------------------------\u001b[0m",
      "\u001b[1;31mUnboundLocalError\u001b[0m                         Traceback (most recent call last)",
      "\u001b[1;32m<ipython-input-133-26ea322b6ea4>\u001b[0m in \u001b[0;36m<module>\u001b[1;34m\u001b[0m\n\u001b[0;32m      5\u001b[0m     \u001b[0mprint\u001b[0m\u001b[1;33m(\u001b[0m\u001b[1;34mf\"The function is being called {count} times\"\u001b[0m\u001b[1;33m)\u001b[0m\u001b[1;33m\u001b[0m\u001b[1;33m\u001b[0m\u001b[0m\n\u001b[0;32m      6\u001b[0m \u001b[1;33m\u001b[0m\u001b[0m\n\u001b[1;32m----> 7\u001b[1;33m \u001b[0mjust_a_fucntion\u001b[0m\u001b[1;33m(\u001b[0m\u001b[1;33m)\u001b[0m\u001b[1;33m\u001b[0m\u001b[1;33m\u001b[0m\u001b[0m\n\u001b[0m\u001b[0;32m      8\u001b[0m \u001b[1;33m\u001b[0m\u001b[0m\n\u001b[0;32m      9\u001b[0m \u001b[0mjust_a_fucntion\u001b[0m\u001b[1;33m(\u001b[0m\u001b[1;33m)\u001b[0m\u001b[1;33m\u001b[0m\u001b[1;33m\u001b[0m\u001b[0m\n",
      "\u001b[1;32m<ipython-input-133-26ea322b6ea4>\u001b[0m in \u001b[0;36mjust_a_fucntion\u001b[1;34m()\u001b[0m\n\u001b[0;32m      2\u001b[0m \u001b[1;33m\u001b[0m\u001b[0m\n\u001b[0;32m      3\u001b[0m \u001b[1;32mdef\u001b[0m \u001b[0mjust_a_fucntion\u001b[0m\u001b[1;33m(\u001b[0m\u001b[1;33m)\u001b[0m\u001b[1;33m:\u001b[0m\u001b[1;33m\u001b[0m\u001b[1;33m\u001b[0m\u001b[0m\n\u001b[1;32m----> 4\u001b[1;33m     \u001b[0mcount\u001b[0m \u001b[1;33m+=\u001b[0m \u001b[1;36m1\u001b[0m\u001b[1;33m\u001b[0m\u001b[1;33m\u001b[0m\u001b[0m\n\u001b[0m\u001b[0;32m      5\u001b[0m     \u001b[0mprint\u001b[0m\u001b[1;33m(\u001b[0m\u001b[1;34mf\"The function is being called {count} times\"\u001b[0m\u001b[1;33m)\u001b[0m\u001b[1;33m\u001b[0m\u001b[1;33m\u001b[0m\u001b[0m\n\u001b[0;32m      6\u001b[0m \u001b[1;33m\u001b[0m\u001b[0m\n",
      "\u001b[1;31mUnboundLocalError\u001b[0m: local variable 'count' referenced before assignment"
     ]
    }
   ],
   "source": [
    "count = 0\n",
    "\n",
    "def just_a_fucntion():\n",
    "    count += 1\n",
    "    print(f\"The function is being called {count} times\")\n",
    "    \n",
    "just_a_fucntion()\n",
    "\n",
    "just_a_fucntion()\n",
    "\n",
    "just_a_fucntion()\n",
    "\n",
    "just_a_fucntion()"
   ]
  },
  {
   "cell_type": "markdown",
   "metadata": {},
   "source": [
    "as expected we have got an error we have used ``count`` out of it's scope. In order to fix this, we use global keyword"
   ]
  },
  {
   "cell_type": "code",
   "execution_count": 144,
   "metadata": {},
   "outputs": [
    {
     "name": "stdout",
     "output_type": "stream",
     "text": [
      "The function is being called 1 times\n",
      "The function is being called 2 times\n",
      "The function is being called 3 times\n",
      "The function is being called 4 times\n"
     ]
    }
   ],
   "source": [
    "count = 0\n",
    "\n",
    "def just_a_fucntion():\n",
    "    global count \n",
    "    count += 1\n",
    "    print(f\"The function is being called {count} times\")\n",
    "    \n",
    "just_a_fucntion()\n",
    "\n",
    "just_a_fucntion()\n",
    "\n",
    "just_a_fucntion()\n",
    "\n",
    "just_a_fucntion()"
   ]
  },
  {
   "cell_type": "markdown",
   "metadata": {},
   "source": [
    "## Passing function name into other function.\n",
    "\n",
    "A function name can be passed into a function and that name can be used to call the that function. for example "
   ]
  },
  {
   "cell_type": "code",
   "execution_count": 3,
   "metadata": {},
   "outputs": [
    {
     "name": "stdout",
     "output_type": "stream",
     "text": [
      "2.0\n"
     ]
    }
   ],
   "source": [
    "def div2Num(N1, N2):\n",
    "    print(N1 / N2)\n",
    "\n",
    "def A_function(FunctionName, Num1, Num2):\n",
    "    FunctionName(Num1, Num2)\n",
    "    \n",
    "A_function(div2Num, 10, 5)"
   ]
  },
  {
   "cell_type": "markdown",
   "metadata": {},
   "source": [
    "The above code is executed in following sequence:\n",
    "- function ``A_function`` is called on line 7.\n",
    "- ``FunctionName`` provided in function call is ``div2Num``, and other parameters are ``Num1=10, Num=2``\n",
    "- using parameters above, line 5 for this particular fucntion becomes, ``div2Num(Num1, Num2)``\n",
    "- when line-5 is executed, ``div2Num`` is called and result is printed.\n",
    "\n",
    "for another example we can use built in ``sum`` function."
   ]
  },
  {
   "cell_type": "code",
   "execution_count": 5,
   "metadata": {},
   "outputs": [
    {
     "name": "stdout",
     "output_type": "stream",
     "text": [
      "9\n"
     ]
    }
   ],
   "source": [
    "def Another_Function(function, iterable):\n",
    "    print(function(iterable))\n",
    "    \n",
    "Another_Function(sum, [1,2,6])"
   ]
  },
  {
   "cell_type": "markdown",
   "metadata": {},
   "source": [
    "## Keeping a list from being changed inside function.\n",
    "\n",
    "when a list is given as an argument, and any assigment is made in the function to this list element, it changes the list being passed to function. For Example,"
   ]
  },
  {
   "cell_type": "code",
   "execution_count": 11,
   "metadata": {},
   "outputs": [],
   "source": [
    "def function_for_list(List_Arg, index, Value):\n",
    "    List_Arg[index] = Value\n",
    "    print(\"List inside fucntion after reassignment: \", List_Arg)"
   ]
  },
  {
   "cell_type": "code",
   "execution_count": 17,
   "metadata": {},
   "outputs": [
    {
     "name": "stdout",
     "output_type": "stream",
     "text": [
      "list before being passed into function:  [1, 2, 3, 4, 5, 7, 8, 9]\n",
      "List inside fucntion after reassignment:  [1, 2, 3, 4, 10, 7, 8, 9]\n",
      "List after being passed into function:  [1, 2, 3, 4, 10, 7, 8, 9]\n"
     ]
    }
   ],
   "source": [
    "list_A = [1,2,3,4,5,7,8,9]\n",
    "print(f\"list before being passed into function: \", list_A)\n",
    "\n",
    "function_for_list(list_A, 4, 10)\n",
    "\n",
    "print(\"List after being passed into function: \", list_A)"
   ]
  },
  {
   "cell_type": "markdown",
   "metadata": {},
   "source": [
    "One might have expected that the ``list_A`` won't change it's value as it is not inside the scope of function. But the value is being change because the list is being copied by reference in parameter  of function, any change to this list will, therefore, affect the list outside fucntion.<br>\n",
    "In order to keep list from being changed, we need to pass list copy inside function. This can be done by either using ``.copy()`` method or adding ``[:]`` at the end of list identifier. Now a copy will passed and list will not affected by function.\n",
    "\n"
   ]
  },
  {
   "cell_type": "code",
   "execution_count": 21,
   "metadata": {},
   "outputs": [
    {
     "name": "stdout",
     "output_type": "stream",
     "text": [
      "list before being passed into function:  [1, 2, 3, 4, 5, 7, 8, 9]\n",
      "List inside fucntion after reassignment:  [1, 2, 3, 4, 10, 7, 8, 9]\n",
      "List after being passed into function:  [1, 2, 3, 4, 5, 7, 8, 9]\n"
     ]
    }
   ],
   "source": [
    "list_A = [1,2,3,4,5,7,8,9]\n",
    "print(f\"list before being passed into function: \", list_A)\n",
    "\n",
    "function_for_list(list_A.copy(), 4, 10)\n",
    "\n",
    "print(\"List after being passed into function: \", list_A)"
   ]
  },
  {
   "cell_type": "code",
   "execution_count": 22,
   "metadata": {},
   "outputs": [
    {
     "name": "stdout",
     "output_type": "stream",
     "text": [
      "list before being passed into function:  [1, 2, 3, 4, 5, 7, 8, 9]\n",
      "List inside fucntion after reassignment:  [1, 2, 3, 4, 10, 7, 8, 9]\n",
      "List after being passed into function:  [1, 2, 3, 4, 5, 7, 8, 9]\n"
     ]
    }
   ],
   "source": [
    "list_A = [1,2,3,4,5,7,8,9]\n",
    "print(f\"list before being passed into function: \", list_A)\n",
    "\n",
    "function_for_list(list_A[:], 4, 10)\n",
    "\n",
    "print(\"List after being passed into function: \", list_A)"
   ]
  },
  {
   "cell_type": "markdown",
   "metadata": {},
   "source": [
    "## Recursion:\n",
    "\n",
    "when a function is being called by the same function, it is called recursion. <br>\n",
    "It is crucial to have a break or termination point in recursion, otherwise an infinite calls to function will be made. for a very basic example:"
   ]
  },
  {
   "cell_type": "code",
   "execution_count": 27,
   "metadata": {},
   "outputs": [
    {
     "name": "stdout",
     "output_type": "stream",
     "text": [
      "2\n",
      "1\n",
      "Terminated\n"
     ]
    }
   ],
   "source": [
    "def simple_recursion(Num):\n",
    "    if Num <= 0:\n",
    "        print(\"Terminated\")\n",
    "        return\n",
    "    else:\n",
    "        print(Num)\n",
    "        Num -= 1\n",
    "        simple_recursion(Num)\n",
    "\n",
    "simple_recursion(2)"
   ]
  },
  {
   "cell_type": "markdown",
   "metadata": {},
   "source": [
    "when the above function is called using function call: ``simple_recursion(2)``, the was executed in following sequence\n",
    "\n",
    "1. first call ``simple_recursion(2)``\n",
    "    * if condition is checked, i.e 2<=0 == False, so else block will be executed.\n",
    "    * ``print(2)`` will print 2.\n",
    "    * Num is decremented by 1, so Num = 1,\n",
    "    * Same function ``simple_recursion`` is called again(recursive call), ``simple_recursion(1)``\n",
    "    <br><br>\n",
    "2. second (recursive) call: ``simple_recursion(1)``\n",
    "    * if condition is checked, i.e 1<=0 == False, so else block will be executed.\n",
    "    * ``print(1)`` will print 1.\n",
    "    * Num is decremented by 1, so Num = 0,\n",
    "    * Same function ``simple_recursion`` is called again(recursive call), ``simple_recursion(0)``\n",
    "    <br><br>\n",
    "3. third (recursive) call: ``simple_recursion(0)``\n",
    "    * if condition is checked, i.e 0<=0 == True, so if block will be executed.\n",
    "    * ``print(\"Terminated\")`` will print \"Terminated\".\n",
    "    * return statement will be called and function will be terminated. No more recursive calls will be made\n",
    "    "
   ]
  },
  {
   "cell_type": "markdown",
   "metadata": {},
   "source": [
    "#### Factorial of a Number:\n",
    "\n",
    "a very common example of recursive function is factorial of a number. In mathematics, factorial of a number ``n`` is <br>\n",
    "$ n! = (n-1) \\times (n-2) \\times (n-3) \\times ..... \\times 2 \\times 1 $. for example\n",
    "<br>factorial of 4 will be $ 4 \\times 3 \\times 2 \\times 1 = 24 $ <br>\n",
    "this can be coded as:"
   ]
  },
  {
   "cell_type": "code",
   "execution_count": 28,
   "metadata": {},
   "outputs": [],
   "source": [
    "def factorial(Num):\n",
    "    if Num > 1:\n",
    "        return Num * factorial(Num - 1)\n",
    "    else:\n",
    "        return 1"
   ]
  },
  {
   "cell_type": "code",
   "execution_count": 30,
   "metadata": {},
   "outputs": [
    {
     "data": {
      "text/plain": [
       "24"
      ]
     },
     "execution_count": 30,
     "metadata": {},
     "output_type": "execute_result"
    }
   ],
   "source": [
    "factorial(4)"
   ]
  },
  {
   "cell_type": "markdown",
   "metadata": {},
   "source": [
    "The flow of this code is shown below:\n",
    "<img src=\"recursion.png\" alt=\"a\" title=\"Factorial using recursion\" />"
   ]
  },
  {
   "cell_type": "markdown",
   "metadata": {},
   "source": [
    "## Documenting your code\n",
    "\n",
    "a function must be documented in order to make easy for other to know what a function does, what arguments means and what value does it return.\n",
    "each function should be properly documented to make it user friendly.\n",
    "There are two standard for documentations:\n",
    "1. Sphinx\n",
    "2. Google python style\n"
   ]
  },
  {
   "cell_type": "markdown",
   "metadata": {},
   "source": [
    "#### sphinx style documentation example is given below"
   ]
  },
  {
   "cell_type": "code",
   "execution_count": 15,
   "metadata": {},
   "outputs": [],
   "source": [
    "def Say_Greetings(Name, Greetings=\"Hello\"):\n",
    "    '''Says greetings to a person\n",
    "    \n",
    "    :param Name: Name of the person\n",
    "    :type Name : str\n",
    "    :pram Lanuage: Word for greeatings\n",
    "    :Language Type: str\n",
    "    :Return: greertings with name\n",
    "    :rtype: str\n",
    "    '''\n",
    "    return Greetings + \" \" + Name"
   ]
  },
  {
   "cell_type": "markdown",
   "metadata": {},
   "source": [
    "#### Google python style docstring is given below:"
   ]
  },
  {
   "cell_type": "code",
   "execution_count": 16,
   "metadata": {},
   "outputs": [],
   "source": [
    "# Google python style\n",
    "\n",
    "def Say_Greetings_again(Name, Greetings=\"Hello\"):\n",
    "    '''\n",
    "    Say hello to a person.\n",
    "    Args:\n",
    "        Name: the name of the person as string\n",
    "        Greetings: the greetings as string (Default Value \"Hello\")\n",
    "    Returns:\n",
    "        Greeting with name, as a sting\n",
    "    Raises:\n",
    "        None\n",
    "    '''\n",
    "    return Greetings + \" \" + Name\n"
   ]
  },
  {
   "cell_type": "markdown",
   "metadata": {},
   "source": [
    "a docstring can be accessed using either of the following commands:"
   ]
  },
  {
   "cell_type": "code",
   "execution_count": 17,
   "metadata": {},
   "outputs": [
    {
     "name": "stdout",
     "output_type": "stream",
     "text": [
      "Help on function Say_Greetings in module __main__:\n",
      "\n",
      "Say_Greetings(Name, Greetings='Hello')\n",
      "    Says greetings to a person\n",
      "    \n",
      "    :param Name: Name of the person\n",
      "    :type Name : str\n",
      "    :pram Lanuage: Word for greeatings\n",
      "    :Language Type: str\n",
      "    :Return: greertings with name\n",
      "    :rtype: str\n",
      "\n"
     ]
    }
   ],
   "source": [
    "help(Say_Greetings)"
   ]
  },
  {
   "cell_type": "code",
   "execution_count": 21,
   "metadata": {},
   "outputs": [
    {
     "name": "stdout",
     "output_type": "stream",
     "text": [
      "Says greetings to a person\n",
      "    \n",
      "    :param Name: Name of the person\n",
      "    :type Name : str\n",
      "    :pram Lanuage: Word for greeatings\n",
      "    :Language Type: str\n",
      "    :Return: greertings with name\n",
      "    :rtype: str\n",
      "    \n"
     ]
    }
   ],
   "source": [
    "print(Say_Greetings.__doc__)"
   ]
  },
  {
   "cell_type": "code",
   "execution_count": 19,
   "metadata": {},
   "outputs": [],
   "source": [
    "Say_Greetings??"
   ]
  },
  {
   "cell_type": "code",
   "execution_count": 20,
   "metadata": {},
   "outputs": [
    {
     "name": "stdout",
     "output_type": "stream",
     "text": [
      "Help on function Say_Greetings_again in module __main__:\n",
      "\n",
      "Say_Greetings_again(Name, Greetings='Hello')\n",
      "    Say hello to a person.\n",
      "    Args:\n",
      "        Name: the name of the person as string\n",
      "        Greetings: the greetings as string (Default Value \"Hello\")\n",
      "    Returns:\n",
      "        Greeting with name, as a sting\n",
      "    Raises:\n",
      "        None\n",
      "\n"
     ]
    }
   ],
   "source": [
    "help(Say_Greetings_again) "
   ]
  },
  {
   "cell_type": "code",
   "execution_count": 23,
   "metadata": {},
   "outputs": [
    {
     "name": "stdout",
     "output_type": "stream",
     "text": [
      "\n",
      "    Say hello to a person.\n",
      "    Args:\n",
      "        Name: the name of the person as string\n",
      "        Greetings: the greetings as string (Default Value \"Hello\")\n",
      "    Returns:\n",
      "        Greeting with name, as a sting\n",
      "    Raises:\n",
      "        None\n",
      "    \n"
     ]
    }
   ],
   "source": [
    "print(Say_Greetings_again.__doc__)"
   ]
  },
  {
   "cell_type": "code",
   "execution_count": 24,
   "metadata": {},
   "outputs": [],
   "source": [
    "Say_Greetings_again??"
   ]
  }
 ],
 "metadata": {
  "kernelspec": {
   "display_name": "Python 3",
   "language": "python",
   "name": "python3"
  },
  "language_info": {
   "codemirror_mode": {
    "name": "ipython",
    "version": 3
   },
   "file_extension": ".py",
   "mimetype": "text/x-python",
   "name": "python",
   "nbconvert_exporter": "python",
   "pygments_lexer": "ipython3",
   "version": "3.7.6"
  }
 },
 "nbformat": 4,
 "nbformat_minor": 4
}